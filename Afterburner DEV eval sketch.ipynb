{
 "cells": [
  {
   "cell_type": "markdown",
   "metadata": {},
   "source": [
    "# Afterburner DEV eval"
   ]
  },
  {
   "cell_type": "code",
   "execution_count": 11,
   "metadata": {},
   "outputs": [
    {
     "data": {
      "text/html": [
       "<style>.container { width:100% !important; }</style>"
      ],
      "text/plain": [
       "<IPython.core.display.HTML object>"
      ]
     },
     "metadata": {},
     "output_type": "display_data"
    },
    {
     "name": "stdout",
     "output_type": "stream",
     "text": [
      "The autoreload extension is already loaded. To reload it, use:\n",
      "  %reload_ext autoreload\n",
      "The model has 4,281,440 trainable parameters\n",
      "Reloaded trained model\n"
     ]
    },
    {
     "data": {
      "text/plain": [
       "'em chưa nhưng mà tại vì là em phải hơn một tháng nữa em mới chuyển mà với cả bây giờ gọi thì thì người ta lại chửi cho bảo mày một tháng nữa mày mới chuyển mày hỏi sớm làm gì'"
      ]
     },
     "execution_count": 11,
     "metadata": {},
     "output_type": "execute_result"
    }
   ],
   "source": [
    "from IPython.core.display import display, HTML\n",
    "display(HTML(\"<style>.container { width:100% !important; }</style>\"))\n",
    "%load_ext autoreload\n",
    "%autoreload 2\n",
    "\n",
    "import warnings\n",
    "warnings.filterwarnings(\"ignore\")\n",
    "\n",
    "import os\n",
    "os.environ['CUDA_VISIBLE_DEVICES']='1'\n",
    "\n",
    "from afterburner_pretrained_model import afterburner_pretrained_model\n",
    "from seq_to_seq import translate_sentence\n",
    "\n",
    "language='vietnamese'\n",
    "phase='build'\n",
    "release='b30'\n",
    "model_fn='save/new_afterburner/afterburner_301.pt'\n",
    "\n",
    "C, model, SRC, TRG, device, train_iterator, batch_size = afterburner_pretrained_model(language, phase, release, model_fn)\n",
    "model.eval();\n",
    "\n",
    "sentence='em chưa nhưng mà tại vì là em phải hơn một tháng nữa em mới chuyển mà với cả bây giờ gọi thì thì người ta lại chửi cho bảo mày một tháng nữa mày mới chuyển mày hỏi sớm làm gì'\n",
    "\n",
    "pred=translate_sentence(sentence, SRC, TRG, model, device, max_len = len(sentence))\n",
    "\n",
    "pred"
   ]
  },
  {
   "cell_type": "code",
   "execution_count": null,
   "metadata": {},
   "outputs": [],
   "source": []
  }
 ],
 "metadata": {
  "kernelspec": {
   "display_name": "nemo",
   "language": "python",
   "name": "nemo"
  },
  "language_info": {
   "codemirror_mode": {
    "name": "ipython",
    "version": 3
   },
   "file_extension": ".py",
   "mimetype": "text/x-python",
   "name": "python",
   "nbconvert_exporter": "python",
   "pygments_lexer": "ipython3",
   "version": "3.7.9"
  }
 },
 "nbformat": 4,
 "nbformat_minor": 4
}
