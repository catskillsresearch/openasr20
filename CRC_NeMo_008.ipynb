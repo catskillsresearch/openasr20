{
 "cells": [
  {
   "cell_type": "code",
   "execution_count": 33,
   "metadata": {},
   "outputs": [
    {
     "data": {
      "text/html": [
       "<style>.container { width:100% !important; }</style>"
      ],
      "text/plain": [
       "<IPython.core.display.HTML object>"
      ]
     },
     "metadata": {},
     "output_type": "display_data"
    },
    {
     "name": "stdout",
     "output_type": "stream",
     "text": [
      "The autoreload extension is already loaded. To reload it, use:\n",
      "  %reload_ext autoreload\n"
     ]
    }
   ],
   "source": [
    "from IPython.core.display import display, HTML\n",
    "display(HTML(\"<style>.container { width:100% !important; }</style>\"))\n",
    "%load_ext autoreload\n",
    "%autoreload 2"
   ]
  },
  {
   "cell_type": "markdown",
   "metadata": {},
   "source": [
    "## Problem"
   ]
  },
  {
   "cell_type": "code",
   "execution_count": 43,
   "metadata": {},
   "outputs": [],
   "source": [
    "fn='NIST/openasr20_amharic/dev/audio/BABEL_OP3_307_60498_20140823_192847_outLine.wav'"
   ]
  },
  {
   "cell_type": "code",
   "execution_count": 45,
   "metadata": {},
   "outputs": [],
   "source": [
    "from Cfg import Cfg\n",
    "C = Cfg('NIST', 16000, 'amharic', 'dev') "
   ]
  },
  {
   "cell_type": "code",
   "execution_count": 46,
   "metadata": {},
   "outputs": [],
   "source": [
    "import soundfile as sf\n",
    "import pyAudioAnalysis.audioSegmentation as aS\n",
    "from normalize import normalize\n",
    "from split_on_silence import split_on_silence"
   ]
  },
  {
   "cell_type": "code",
   "execution_count": 47,
   "metadata": {},
   "outputs": [],
   "source": [
    "(audio,Fs) = sf.read(fn)\n",
    "audio = normalize(audio)"
   ]
  },
  {
   "cell_type": "code",
   "execution_count": 86,
   "metadata": {},
   "outputs": [
    {
     "data": {
      "text/plain": [
       "[0.75,\n",
       " 2.35,\n",
       " 0.75,\n",
       " 1.4,\n",
       " 1.9,\n",
       " 5.55,\n",
       " 2.65,\n",
       " 0.6,\n",
       " 1.0,\n",
       " 1.7,\n",
       " 0.25,\n",
       " 2.05,\n",
       " 3.1,\n",
       " 2.25,\n",
       " 2.55,\n",
       " 0.2,\n",
       " 1.35,\n",
       " 1.35,\n",
       " 0.8,\n",
       " 1.05,\n",
       " 1.45,\n",
       " 0.95,\n",
       " 1.35,\n",
       " 4.4,\n",
       " 5.15,\n",
       " 6.15,\n",
       " 0.4,\n",
       " 3.1,\n",
       " 4.1,\n",
       " 1.2,\n",
       " 1.65,\n",
       " 2.7,\n",
       " 12.65,\n",
       " 5.7,\n",
       " 0.95,\n",
       " 1.55,\n",
       " 0.55,\n",
       " 0.55,\n",
       " 2.75,\n",
       " 5.5,\n",
       " 4.9,\n",
       " 8.75,\n",
       " 4.8,\n",
       " 3.55,\n",
       " 5.25,\n",
       " 3.1,\n",
       " 0.2,\n",
       " 5.8,\n",
       " 3.35,\n",
       " 7.05,\n",
       " 7.05,\n",
       " 5.8,\n",
       " 2.6,\n",
       " 21.65,\n",
       " 5.25,\n",
       " 4.6,\n",
       " 4.8,\n",
       " 12.1,\n",
       " 2.5,\n",
       " 1.4,\n",
       " 11.8,\n",
       " 28.1,\n",
       " 1.3,\n",
       " 2.7,\n",
       " 9.75,\n",
       " 49.25,\n",
       " 29.6,\n",
       " 5.05,\n",
       " 0.75,\n",
       " 0.45,\n",
       " 0.75,\n",
       " 1.85,\n",
       " 0.85,\n",
       " 6.0,\n",
       " 20.35]"
      ]
     },
     "execution_count": 86,
     "metadata": {},
     "output_type": "execute_result"
    }
   ],
   "source": [
    "(st_win, st_step) = 0.05, 0.05\n",
    "smoothWindow = 1\n",
    "weight = 0.5\n",
    "segments = aS.silence_removal(audio, Fs, st_win, st_step, smoothWindow, weight)\n",
    "min_length=0.185\n",
    "regions=[(int(C.sample_rate*x), int(C.sample_rate*y)) for x,y in segments] # if y-x >= min_length]\n",
    "\n",
    "[(y-x)/16000 for x,y in regions]"
   ]
  },
  {
   "cell_type": "code",
   "execution_count": 59,
   "metadata": {},
   "outputs": [],
   "source": [
    "too_short = 0.2\n",
    "for start, end in regions:\n",
    "    goal_length_in_seconds = 16.5\n",
    "    seconds = (end-start)/C.sample_rate\n",
    "    if seconds > goal_length_in_seconds:\n",
    "        break"
   ]
  },
  {
   "cell_type": "code",
   "execution_count": 78,
   "metadata": {},
   "outputs": [],
   "source": [
    "clip = audio[start:end]\n",
    "t_lower=0.3\n",
    "t_upper=0.8\n",
    "Window = 500\n",
    "min_gap = 10\n",
    "A=split_on_silence(audio, t_lower, t_upper, Window, min_gap, C.sample_rate, 16.5)"
   ]
  },
  {
   "cell_type": "code",
   "execution_count": 79,
   "metadata": {},
   "outputs": [
    {
     "data": {
      "text/plain": [
       "53"
      ]
     },
     "execution_count": 79,
     "metadata": {},
     "output_type": "execute_result"
    }
   ],
   "source": [
    "len(A)"
   ]
  },
  {
   "cell_type": "code",
   "execution_count": 62,
   "metadata": {},
   "outputs": [
    {
     "data": {
      "text/plain": [
       "[<matplotlib.lines.Line2D at 0x7f9f241430d0>]"
      ]
     },
     "execution_count": 62,
     "metadata": {},
     "output_type": "execute_result"
    },
    {
     "data": {
      "image/png": "[encoded data removed]",
      "text/plain": [
       "<Figure size 432x288 with 1 Axes>"
      ]
     },
     "metadata": {
      "needs_background": "light"
     },
     "output_type": "display_data"
    }
   ],
   "source": [
    "%matplotlib inline\n",
    "import matplotlib.pylab as plt\n",
    "plt.plot(clip)"
   ]
  },
  {
   "cell_type": "markdown",
   "metadata": {},
   "source": [
    "## Check clip sizes"
   ]
  },
  {
   "cell_type": "code",
   "execution_count": 87,
   "metadata": {},
   "outputs": [],
   "source": [
    "from Cfg import Cfg\n",
    "C = Cfg('NIST', 16000, 'amharic', 'dev') "
   ]
  },
  {
   "cell_type": "code",
   "execution_count": 88,
   "metadata": {},
   "outputs": [],
   "source": [
    "splits=C.split_files()"
   ]
  },
  {
   "cell_type": "code",
   "execution_count": 89,
   "metadata": {},
   "outputs": [],
   "source": [
    "L=[x['t_seconds'] for x in splits]"
   ]
  },
  {
   "cell_type": "code",
   "execution_count": 93,
   "metadata": {},
   "outputs": [
    {
     "data": {
      "text/plain": [
       "(0.2, 16.4, 2.503844414292162)"
      ]
     },
     "execution_count": 93,
     "metadata": {},
     "output_type": "execute_result"
    }
   ],
   "source": [
    "min(L),max(L),sum(L)/len(L)"
   ]
  },
  {
   "cell_type": "code",
   "execution_count": 90,
   "metadata": {},
   "outputs": [
    {
     "data": {
      "text/plain": [
       "[]"
      ]
     },
     "execution_count": 90,
     "metadata": {},
     "output_type": "execute_result"
    }
   ],
   "source": [
    "[x for x in splits if x['t_seconds']>16.5]"
   ]
  },
  {
   "cell_type": "markdown",
   "metadata": {},
   "source": [
    "## Add vocoder clips to training set"
   ]
  },
  {
   "cell_type": "markdown",
   "metadata": {},
   "source": [
    "## Train step 1: Bootstrap from pretrained model"
   ]
  },
  {
   "cell_type": "code",
   "execution_count": null,
   "metadata": {},
   "outputs": [],
   "source": [
    "from Cfg import Cfg\n",
    "C = Cfg('NIST', 16000, 'amharic', 'build') "
   ]
  },
  {
   "cell_type": "code",
   "execution_count": null,
   "metadata": {},
   "outputs": [],
   "source": [
    "from load_pretrained_amharic_model import load_pretrained_amharic_model\n",
    "model = load_pretrained_amharic_model(C, 0)"
   ]
  },
  {
   "cell_type": "code",
   "execution_count": null,
   "metadata": {},
   "outputs": [],
   "source": [
    "import pytorch_lightning as pl\n",
    "import os, datetime\n",
    "\n",
    "model_save_dir='save/nemo_amharic'\n",
    "\n",
    "class ModelCheckpointAtEpochEnd(pl.callbacks.ModelCheckpoint):\n",
    "    def on_epoch_end(self, trainer, pl_module):\n",
    "        metrics = trainer.callback_metrics\n",
    "        metrics['epoch'] = trainer.current_epoch\n",
    "        trainer.checkpoint_callback.on_validation_end(trainer, pl_module)\n",
    "\n",
    "pid=os.getpid()\n",
    "dt=datetime.datetime.now().strftime(\"%Y%m%d_%H%M%S\")\n",
    "\n",
    "checkpoint_callback = ModelCheckpointAtEpochEnd(\n",
    "    filepath=model_save_dir+'/amharic_'+f'{dt}_{pid}'+'_{epoch:02d}',\n",
    "    verbose=True,\n",
    "    save_top_k=-1,\n",
    "    save_weights_only=False,\n",
    "    period=1)\n",
    "\n",
    "trainer = pl.Trainer(gpus=[0], max_epochs=200, amp_level='O1', precision=16, checkpoint_callback=checkpoint_callback)"
   ]
  },
  {
   "cell_type": "code",
   "execution_count": null,
   "metadata": {
    "scrolled": true
   },
   "outputs": [],
   "source": [
    "from ruamel.yaml import YAML\n",
    "from omegaconf import DictConfig\n",
    "config_path = 'amharic_16000.yaml'\n",
    "yaml = YAML(typ='safe')\n",
    "with open(config_path) as f:\n",
    "    params = yaml.load(f)\n",
    "train_manifest=f'{C.build_dir}/train_manifest.json'\n",
    "test_manifest=f'{C.build_dir}/test_manifest.json'\n",
    "params['model']['train_ds']['manifest_filepath'] = train_manifest\n",
    "params['model']['validation_ds']['manifest_filepath'] = test_manifest\n",
    "model.set_trainer(trainer)\n",
    "model.setup_training_data(train_data_config=params['model']['train_ds'])\n",
    "model.setup_validation_data(val_data_config=params['model']['validation_ds'])\n",
    "model.setup_optimization(optim_config=DictConfig(params['model']['optim']))"
   ]
  },
  {
   "cell_type": "code",
   "execution_count": null,
   "metadata": {},
   "outputs": [],
   "source": [
    "from reshuffle_samples import reshuffle_samples\n",
    "reshuffle_samples(C)"
   ]
  },
  {
   "cell_type": "code",
   "execution_count": null,
   "metadata": {},
   "outputs": [],
   "source": [
    "trainer.fit(model)"
   ]
  },
  {
   "cell_type": "markdown",
   "metadata": {},
   "source": [
    "## Apply vocoder filter to DEV"
   ]
  },
  {
   "cell_type": "markdown",
   "metadata": {},
   "source": [
    "## DEV translation"
   ]
  },
  {
   "cell_type": "code",
   "execution_count": null,
   "metadata": {},
   "outputs": [],
   "source": [
    "from Cfg import Cfg\n",
    "from glob import glob\n",
    "from package_DEV import package_DEV\n",
    "from load_pretrained_amharic_model import load_pretrained_amharic_model\n",
    "version='113'\n",
    "C = Cfg('NIST', 16000, 'amharic', 'dev', version)\n",
    "model = load_pretrained_amharic_model(C, 0)\n",
    "files=list(sorted(glob(f'{C.audio_split_dir}/*.wav')))\n",
    "translations=model.transcribe(paths2audio_files=files, batch_size=32)\n"
   ]
  },
  {
   "cell_type": "raw",
   "metadata": {},
   "source": [
    "from package_DEV import package_DEV\n",
    "package_DEV(C1, files, translations)"
   ]
  }
 ],
 "metadata": {
  "accelerator": "GPU",
  "colab": {
   "collapsed_sections": [],
   "name": "ASR_with_NeMo.ipynb",
   "provenance": [],
   "toc_visible": true
  },
  "kernelspec": {
   "display_name": "nemo",
   "language": "python",
   "name": "nemo"
  },
  "language_info": {
   "codemirror_mode": {
    "name": "ipython",
    "version": 3
   },
   "file_extension": ".py",
   "mimetype": "text/x-python",
   "name": "python",
   "nbconvert_exporter": "python",
   "pygments_lexer": "ipython3",
   "version": "3.7.9"
  },
  "pycharm": {
   "stem_cell": {
    "cell_type": "raw",
    "metadata": {
     "collapsed": false
    },
    "source": []
   }
  }
 },
 "nbformat": 4,
 "nbformat_minor": 1
}
