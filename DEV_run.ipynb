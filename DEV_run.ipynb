{
 "cells": [
  {
   "cell_type": "markdown",
   "metadata": {},
   "source": [
    "# DEV run"
   ]
  },
  {
   "cell_type": "code",
   "execution_count": null,
   "metadata": {},
   "outputs": [],
   "source": [
    "from Cfg import Cfg\n",
    "from glob import glob\n",
    "from package_DEV import package_DEV\n",
    "from load_pretrained_amharic_model import load_pretrained_amharic_model\n",
    "C = Cfg('NIST', 16000, 'amharic', 'dev', '102') \n",
    "model = load_pretrained_amharic_model(C, 1)\n",
    "files=list(sorted(glob(f'{C.audio_split_dir}/*.wav')))\n",
    "\n",
    "len(files), model.device\n",
    "\n",
    "translations=model.transcribe(paths2audio_files=files, batch_size=8)\n",
    "\n",
    "package_DEV(C, files, translations)"
   ]
  }
 ],
 "metadata": {
  "kernelspec": {
   "display_name": "nemo",
   "language": "python",
   "name": "nemo"
  },
  "language_info": {
   "codemirror_mode": {
    "name": "ipython",
    "version": 3
   },
   "file_extension": ".py",
   "mimetype": "text/x-python",
   "name": "python",
   "nbconvert_exporter": "python",
   "pygments_lexer": "ipython3",
   "version": "3.7.9"
  }
 },
 "nbformat": 4,
 "nbformat_minor": 4
}
