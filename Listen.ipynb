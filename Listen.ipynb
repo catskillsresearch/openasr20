{
 "cells": [
  {
   "cell_type": "code",
   "execution_count": 1,
   "metadata": {},
   "outputs": [
    {
     "data": {
      "text/html": [
       "<style>.container { width:100% !important; }</style>"
      ],
      "text/plain": [
       "<IPython.core.display.HTML object>"
      ]
     },
     "metadata": {},
     "output_type": "display_data"
    }
   ],
   "source": [
    "from IPython.core.display import display, HTML\n",
    "display(HTML(\"<style>.container { width:100% !important; }</style>\"))\n",
    "%load_ext autoreload\n",
    "%autoreload 2"
   ]
  },
  {
   "cell_type": "markdown",
   "metadata": {},
   "source": [
    "## Load language model"
   ]
  },
  {
   "cell_type": "code",
   "execution_count": 2,
   "metadata": {},
   "outputs": [],
   "source": [
    "import os"
   ]
  },
  {
   "cell_type": "code",
   "execution_count": 3,
   "metadata": {},
   "outputs": [],
   "source": [
    "os.environ['CUDA_VISIBLE_DEVICES']='1'"
   ]
  },
  {
   "cell_type": "code",
   "execution_count": 4,
   "metadata": {},
   "outputs": [],
   "source": [
    "from Cfg import Cfg\n",
    "C = Cfg('NIST', 16000, 'vietnamese', 'build') "
   ]
  },
  {
   "cell_type": "code",
   "execution_count": 5,
   "metadata": {},
   "outputs": [
    {
     "name": "stderr",
     "output_type": "stream",
     "text": [
      "100%|██████████| 126/126 [00:07<00:00, 17.92it/s]\n"
     ]
    }
   ],
   "source": [
    "from RecordingCorpus import RecordingCorpus\n",
    "from multiprocessing import Pool\n",
    "import sys, pickle, os, warnings\n",
    "warnings.filterwarnings(\"ignore\")\n",
    "\n",
    "if __name__ == '__main__':   \n",
    "    with Pool(16) as pool:\n",
    "        recordings = RecordingCorpus(C, pool)"
   ]
  },
  {
   "cell_type": "code",
   "execution_count": 6,
   "metadata": {},
   "outputs": [],
   "source": [
    "import pandas as pd"
   ]
  },
  {
   "cell_type": "code",
   "execution_count": 7,
   "metadata": {},
   "outputs": [],
   "source": [
    "pred=pd.read_csv('./ship/vietnamese/build/b04/BABEL_BP_107_54621_20120421_132410_outLine.ctm', sep='\\t', header=None)\n",
    "pred.columns=['file', 'channel', 'start', 'dur', 'word']"
   ]
  },
  {
   "cell_type": "code",
   "execution_count": 8,
   "metadata": {},
   "outputs": [],
   "source": [
    "pred=pred[['start', 'word']].values"
   ]
  },
  {
   "cell_type": "code",
   "execution_count": 9,
   "metadata": {},
   "outputs": [],
   "source": [
    "artifacts=recordings.artifacts"
   ]
  },
  {
   "cell_type": "code",
   "execution_count": 10,
   "metadata": {},
   "outputs": [],
   "source": [
    "artifact=[x for x in artifacts if x.key[1]=='BABEL_BP_107_54621_20120421_132410_outLine'][0]"
   ]
  },
  {
   "cell_type": "code",
   "execution_count": 11,
   "metadata": {},
   "outputs": [],
   "source": [
    "Y=artifact.source.value"
   ]
  },
  {
   "cell_type": "code",
   "execution_count": 12,
   "metadata": {},
   "outputs": [
    {
     "data": {
      "text/plain": [
       "(11.335, 'a lô')"
      ]
     },
     "execution_count": 12,
     "metadata": {},
     "output_type": "execute_result"
    }
   ],
   "source": [
    "gold=[x[3:] for x in artifact.target.value if len(x)==6]\n",
    "gold=[(float(start), words) for start, finish, words in gold]\n",
    "gold[0]"
   ]
  },
  {
   "cell_type": "code",
   "execution_count": 13,
   "metadata": {},
   "outputs": [],
   "source": [
    "import numpy as np\n",
    "T=np.arange(Y.shape[0])/C.sample_rate"
   ]
  },
  {
   "cell_type": "code",
   "execution_count": 14,
   "metadata": {},
   "outputs": [],
   "source": [
    "%matplotlib inline\n",
    "from matplotlib.pyplot import *"
   ]
  },
  {
   "cell_type": "code",
   "execution_count": 15,
   "metadata": {},
   "outputs": [
    {
     "name": "stderr",
     "output_type": "stream",
     "text": [
      "[NeMo W 2020-10-29 12:07:29 experimental:28] Module <class 'nemo.collections.asr.data.audio_to_text.AudioToCharDataset'> is experimental, not ready for production and is not fully supported. Use at your own risk.\n",
      "[NeMo W 2020-10-29 12:07:29 experimental:28] Module <class 'nemo.collections.asr.data.audio_to_text.AudioToBPEDataset'> is experimental, not ready for production and is not fully supported. Use at your own risk.\n",
      "[NeMo W 2020-10-29 12:07:29 experimental:28] Module <class 'nemo.collections.asr.data.audio_to_text.AudioLabelDataset'> is experimental, not ready for production and is not fully supported. Use at your own risk.\n",
      "[NeMo W 2020-10-29 12:07:29 experimental:28] Module <class 'nemo.collections.asr.data.audio_to_text._TarredAudioToTextDataset'> is experimental, not ready for production and is not fully supported. Use at your own risk.\n",
      "[NeMo W 2020-10-29 12:07:29 experimental:28] Module <class 'nemo.collections.asr.data.audio_to_text.TarredAudioToCharDataset'> is experimental, not ready for production and is not fully supported. Use at your own risk.\n",
      "[NeMo W 2020-10-29 12:07:29 experimental:28] Module <class 'nemo.collections.asr.data.audio_to_text.TarredAudioToBPEDataset'> is experimental, not ready for production and is not fully supported. Use at your own risk.\n",
      "\u001b[34m\u001b[1mwandb\u001b[0m: \u001b[33mWARNING\u001b[0m W&B installed but not logged in.  Run `wandb login` or set the WANDB_API_KEY env variable.\n",
      "[NeMo W 2020-10-29 12:07:30 experimental:28] Module <class 'nemo.collections.asr.losses.ctc.CTCLoss'> is experimental, not ready for production and is not fully supported. Use at your own risk.\n",
      "################################################################################\n",
      "### WARNING, path does not exist: KALDI_ROOT=/mnt/matylda5/iveselyk/Tools/kaldi-trunk\n",
      "###          (please add 'export KALDI_ROOT=<your_path>' in your $HOME/.profile)\n",
      "###          (or run as: KALDI_ROOT=<your_path> python <your_script>.py)\n",
      "################################################################################\n",
      "\n"
     ]
    }
   ],
   "source": [
    "from load_pretrained_model import load_pretrained_model"
   ]
  },
  {
   "cell_type": "code",
   "execution_count": 16,
   "metadata": {},
   "outputs": [
    {
     "name": "stdout",
     "output_type": "stream",
     "text": [
      "searching save/nemo_vietnamese/*.ckpt\n"
     ]
    },
    {
     "name": "stderr",
     "output_type": "stream",
     "text": [
      "[NeMo W 2020-10-29 12:07:33 modelPT:102] Please call the ModelPT.setup_training_data() method and provide a valid configuration file to setup the train data loader.\n",
      "    Train config : \n",
      "    manifest_filepath: NIST/openasr20_vietnamese/build/train_manifest.json\n",
      "    sample_rate: 16000\n",
      "    labels:\n",
      "    - ' '\n",
      "    - ''''\n",
      "    - '-'\n",
      "    - A\n",
      "    - B\n",
      "    - C\n",
      "    - D\n",
      "    - E\n",
      "    - F\n",
      "    - G\n",
      "    - H\n",
      "    - I\n",
      "    - J\n",
      "    - K\n",
      "    - L\n",
      "    - M\n",
      "    - 'N'\n",
      "    - O\n",
      "    - P\n",
      "    - Q\n",
      "    - R\n",
      "    - S\n",
      "    - T\n",
      "    - U\n",
      "    - V\n",
      "    - W\n",
      "    - X\n",
      "    - 'Y'\n",
      "    - Z\n",
      "    - a\n",
      "    - b\n",
      "    - c\n",
      "    - d\n",
      "    - e\n",
      "    - f\n",
      "    - g\n",
      "    - h\n",
      "    - i\n",
      "    - j\n",
      "    - k\n",
      "    - l\n",
      "    - m\n",
      "    - 'n'\n",
      "    - o\n",
      "    - p\n",
      "    - q\n",
      "    - r\n",
      "    - s\n",
      "    - t\n",
      "    - u\n",
      "    - v\n",
      "    - w\n",
      "    - x\n",
      "    - 'y'\n",
      "    - z\n",
      "    - Á\n",
      "    - Â\n",
      "    - Ú\n",
      "    - à\n",
      "    - á\n",
      "    - â\n",
      "    - ã\n",
      "    - è\n",
      "    - é\n",
      "    - ê\n",
      "    - ì\n",
      "    - í\n",
      "    - ò\n",
      "    - ó\n",
      "    - ô\n",
      "    - õ\n",
      "    - ù\n",
      "    - ú\n",
      "    - ý\n",
      "    - ă\n",
      "    - Đ\n",
      "    - đ\n",
      "    - ĩ\n",
      "    - ũ\n",
      "    - ơ\n",
      "    - ư\n",
      "    - ạ\n",
      "    - Ả\n",
      "    - ả\n",
      "    - ấ\n",
      "    - ầ\n",
      "    - ẩ\n",
      "    - ẫ\n",
      "    - ậ\n",
      "    - ắ\n",
      "    - ằ\n",
      "    - ẳ\n",
      "    - ẵ\n",
      "    - ặ\n",
      "    - ẹ\n",
      "    - ẻ\n",
      "    - ẽ\n",
      "    - ế\n",
      "    - ề\n",
      "    - ể\n",
      "    - ễ\n",
      "    - ệ\n",
      "    - ỉ\n",
      "    - ị\n",
      "    - ọ\n",
      "    - ỏ\n",
      "    - ố\n",
      "    - ồ\n",
      "    - ổ\n",
      "    - ỗ\n",
      "    - ộ\n",
      "    - ớ\n",
      "    - ờ\n",
      "    - ở\n",
      "    - ỡ\n",
      "    - ợ\n",
      "    - ụ\n",
      "    - ủ\n",
      "    - ứ\n",
      "    - ừ\n",
      "    - ử\n",
      "    - ữ\n",
      "    - ự\n",
      "    - ỳ\n",
      "    - ỷ\n",
      "    - ỹ\n",
      "    batch_size: 20\n",
      "    trim_silence: true\n",
      "    max_duration: 24.0\n",
      "    shuffle: true\n",
      "    is_tarred: false\n",
      "    tarred_audio_filepaths: null\n",
      "    num_workers: 16\n",
      "    \n",
      "[NeMo W 2020-10-29 12:07:33 modelPT:109] Please call the ModelPT.setup_validation_data() or ModelPT.setup_multiple_validation_data() method and provide a valid configuration file to setup the validation data loader(s). \n",
      "    Validation config : \n",
      "    manifest_filepath: NIST/openasr20_vietnamese/build/test_manifest.json\n",
      "    sample_rate: 16000\n",
      "    labels:\n",
      "    - ' '\n",
      "    - ''''\n",
      "    - '-'\n",
      "    - A\n",
      "    - B\n",
      "    - C\n",
      "    - D\n",
      "    - E\n",
      "    - F\n",
      "    - G\n",
      "    - H\n",
      "    - I\n",
      "    - J\n",
      "    - K\n",
      "    - L\n",
      "    - M\n",
      "    - 'N'\n",
      "    - O\n",
      "    - P\n",
      "    - Q\n",
      "    - R\n",
      "    - S\n",
      "    - T\n",
      "    - U\n",
      "    - V\n",
      "    - W\n",
      "    - X\n",
      "    - 'Y'\n",
      "    - Z\n",
      "    - a\n",
      "    - b\n",
      "    - c\n",
      "    - d\n",
      "    - e\n",
      "    - f\n",
      "    - g\n",
      "    - h\n",
      "    - i\n",
      "    - j\n",
      "    - k\n",
      "    - l\n",
      "    - m\n",
      "    - 'n'\n",
      "    - o\n",
      "    - p\n",
      "    - q\n",
      "    - r\n",
      "    - s\n",
      "    - t\n",
      "    - u\n",
      "    - v\n",
      "    - w\n",
      "    - x\n",
      "    - 'y'\n",
      "    - z\n",
      "    - Á\n",
      "    - Â\n",
      "    - Ú\n",
      "    - à\n",
      "    - á\n",
      "    - â\n",
      "    - ã\n",
      "    - è\n",
      "    - é\n",
      "    - ê\n",
      "    - ì\n",
      "    - í\n",
      "    - ò\n",
      "    - ó\n",
      "    - ô\n",
      "    - õ\n",
      "    - ù\n",
      "    - ú\n",
      "    - ý\n",
      "    - ă\n",
      "    - Đ\n",
      "    - đ\n",
      "    - ĩ\n",
      "    - ũ\n",
      "    - ơ\n",
      "    - ư\n",
      "    - ạ\n",
      "    - Ả\n",
      "    - ả\n",
      "    - ấ\n",
      "    - ầ\n",
      "    - ẩ\n",
      "    - ẫ\n",
      "    - ậ\n",
      "    - ắ\n",
      "    - ằ\n",
      "    - ẳ\n",
      "    - ẵ\n",
      "    - ặ\n",
      "    - ẹ\n",
      "    - ẻ\n",
      "    - ẽ\n",
      "    - ế\n",
      "    - ề\n",
      "    - ể\n",
      "    - ễ\n",
      "    - ệ\n",
      "    - ỉ\n",
      "    - ị\n",
      "    - ọ\n",
      "    - ỏ\n",
      "    - ố\n",
      "    - ồ\n",
      "    - ổ\n",
      "    - ỗ\n",
      "    - ộ\n",
      "    - ớ\n",
      "    - ờ\n",
      "    - ở\n",
      "    - ỡ\n",
      "    - ợ\n",
      "    - ụ\n",
      "    - ủ\n",
      "    - ứ\n",
      "    - ừ\n",
      "    - ử\n",
      "    - ữ\n",
      "    - ự\n",
      "    - ỳ\n",
      "    - ỷ\n",
      "    - ỹ\n",
      "    batch_size: 22\n",
      "    shuffle: false\n",
      "    num_workers: 16\n",
      "    \n"
     ]
    },
    {
     "name": "stdout",
     "output_type": "stream",
     "text": [
      "[NeMo I 2020-10-29 12:07:33 features:241] PADDING: 16\n",
      "[NeMo I 2020-10-29 12:07:33 features:258] STFT using torch\n",
      "loaded save/nemo_vietnamese/vietnamese_20201029_001215_628009_epoch=99.ckpt\n"
     ]
    }
   ],
   "source": [
    "model = load_pretrained_model(C, 0)"
   ]
  },
  {
   "cell_type": "code",
   "execution_count": 17,
   "metadata": {},
   "outputs": [],
   "source": [
    "max_duration=20"
   ]
  },
  {
   "cell_type": "code",
   "execution_count": 18,
   "metadata": {},
   "outputs": [],
   "source": [
    "import numpy as np\n",
    "import librosa\n",
    "import matplotlib.pylab as plt\n",
    "from transcribe import transcribe\n",
    "from collect_false import collect_false"
   ]
  },
  {
   "cell_type": "code",
   "execution_count": 19,
   "metadata": {},
   "outputs": [],
   "source": [
    "audio=Y\n",
    "T=audio.shape[0]/C.sample_rate\n",
    "\n",
    "X=np.arange(audio.shape[0])/C.sample_rate\n",
    "\n",
    "S = librosa.feature.melspectrogram(y=audio, sr=C.sample_rate, n_mels=64, fmax=8000)\n",
    "\n",
    "dt_S=T/S.shape[1]\n",
    "dt_S\n",
    "\n",
    "samples_per_spect=int(dt_S*C.sample_rate)\n",
    "samples_per_spect\n",
    "\n",
    "S_dB = librosa.power_to_db(S, ref=np.max)\n",
    "s_dB_mean=np.mean(S_dB,axis=0)\n",
    "\n",
    "size=audio.shape[0]\n",
    "max_samples=int(max_duration/dt_S)\n",
    "min_samples=1"
   ]
  },
  {
   "cell_type": "code",
   "execution_count": 20,
   "metadata": {},
   "outputs": [],
   "source": [
    "pred=[]"
   ]
  },
  {
   "cell_type": "code",
   "execution_count": 21,
   "metadata": {},
   "outputs": [
    {
     "name": "stdout",
     "output_type": "stream",
     "text": [
      "READ_HEAD 0\n",
      "cutoff -80.0 #silences 0: []\n",
      "cutoff -79.68844221105527 #silences 1: [(0, 87)]\n",
      "advance past silence 87 87\n",
      "cutoff -79.37688442211055 #silences 0: []\n",
      "cutoff -79.06532663316582 #silences 0: []\n",
      "cutoff -78.7537688442211 #silences 1: [(17339, 3)]\n",
      "cutoff -78.44221105527639 #silences 29: [(0, 2), (1107, 2), (1124, 2), (1136, 4)]\n",
      "advance past silence 89 2\n",
      "cutoff -78.13065326633166 #silences 106: [(468, 2), (486, 2), (491, 3), (535, 2)]\n",
      "stop to read 89 557\n"
     ]
    },
    {
     "data": {
      "text/plain": [
       "[<matplotlib.lines.Line2D at 0x7f10fe256e90>]"
      ]
     },
     "execution_count": 21,
     "metadata": {},
     "output_type": "execute_result"
    },
    {
     "data": {
      "image/png": "[encoded data removed]",
      "text/plain": [
       "<Figure size 1440x432 with 1 Axes>"
      ]
     },
     "metadata": {
      "needs_background": "light"
     },
     "output_type": "display_data"
    }
   ],
   "source": [
    "cutoffs = np.linspace(-80,-18,200)\n",
    "\n",
    "read_head=0\n",
    "max_read_head=s_dB_mean.shape[0]\n",
    "finished=False\n",
    "transcriptions=[]\n",
    "while not finished and read_head < max_read_head:\n",
    "    print(f\"READ_HEAD {read_head}\")\n",
    "    for cutoff in cutoffs:\n",
    "        speech_q=(s_dB_mean[read_head:]>cutoff)\n",
    "        silences=collect_false(speech_q)\n",
    "        silences=[(x,y) for x,y in silences if x != y and y-x > min_samples]\n",
    "        n_silences = len(silences)\n",
    "        print(f'cutoff {cutoff} #silences {n_silences}: {[(x[0], x[1]-x[0]) for x in silences[0:4]] if n_silences else []}')\n",
    "        if n_silences==0:\n",
    "            continue\n",
    "        elif silences[0][0] == 0 and silences[0][1] != 0:\n",
    "            read_head +=silences[0][1]\n",
    "            print(\"advance past silence\", read_head, silences[0][1])\n",
    "            continue\n",
    "        elif silences[0][0] > max_samples:\n",
    "            continue\n",
    "        else:\n",
    "            silences=[(x,y) for x,y in silences if y <= max_samples]\n",
    "            start_at = read_head\n",
    "            stop_at= read_head + silences[-0][0]\n",
    "            read_head = stop_at\n",
    "            print(\"stop to read\", start_at, stop_at)\n",
    "            finished = True\n",
    "            break\n",
    "    read_head += max_samples\n",
    "\n",
    "start=start_at*samples_per_spect\n",
    "end=start_at+stop_at*samples_per_spect\n",
    "start,end\n",
    "\n",
    "figure(figsize=(20,6))\n",
    "display_end=end+10*C.sample_rate\n",
    "plot(X[0:display_end],audio[0:display_end])\n",
    "plot([start/C.sample_rate,end/C.sample_rate],[0,0],color='red',linewidth=3)"
   ]
  },
  {
   "cell_type": "code",
   "execution_count": 346,
   "metadata": {},
   "outputs": [],
   "source": [
    "from predicted_segment_transcript import predicted_segment_transcript"
   ]
  },
  {
   "cell_type": "code",
   "execution_count": 348,
   "metadata": {},
   "outputs": [
    {
     "name": "stdout",
     "output_type": "stream",
     "text": [
      "[NeMo I 2020-10-29 18:36:27 collections:173] Dataset loaded with 1 files totalling 27.78 hours\n",
      "[NeMo I 2020-10-29 18:36:27 collections:174] 0 files were filtered totalling 0.00 hours\n"
     ]
    }
   ],
   "source": [
    "segment_transcript=predicted_segment_transcript(C, model, audio, start, end, s_dB_mean, samples_per_spect, dt_S)"
   ]
  },
  {
   "cell_type": "code",
   "execution_count": 349,
   "metadata": {},
   "outputs": [
    {
     "data": {
      "text/plain": [
       "[(11.135554844899264, 0.47998081228014067, 'lô'),\n",
       " (11.615535657179404, 0.4479820914614646, 'ce'),\n",
       " (13.82344739366805, 0.3839846498241125, 'kỳ'),\n",
       " (14.207432043492163, 0.41598337064278856, 'ớ'),\n",
       " (14.623415414134952, 0.3839846498241125, 'cái'),\n",
       " (15.007400063959064, 0.41598337064278856, 'nó'),\n",
       " (15.423383434601854, 0.41598337064278856, 'chỳ'),\n",
       " (15.839366805244643, 0.3839846498241125, 'vậy'),\n",
       " (17.023319475535654, 0.3839846498241125, 'ờ'),\n",
       " (17.40730412535977, 0.3839846498241125, 'nờ')]"
      ]
     },
     "execution_count": 349,
     "metadata": {},
     "output_type": "execute_result"
    }
   ],
   "source": [
    "segment_transcript"
   ]
  },
  {
   "cell_type": "code",
   "execution_count": 333,
   "metadata": {},
   "outputs": [],
   "source": [
    "from plot_predicted_segments import plot_predicted_segments"
   ]
  },
  {
   "cell_type": "code",
   "execution_count": 338,
   "metadata": {},
   "outputs": [
    {
     "data": {
      "image/png": "[encoded data removed]",
      "text/plain": [
       "<Figure size 1728x432 with 1 Axes>"
      ]
     },
     "metadata": {
      "needs_background": "light"
     },
     "output_type": "display_data"
    }
   ],
   "source": [
    "plot_predicted_segments(timeline, normalized_power, speech_mask, segment_transcript, gold)"
   ]
  },
  {
   "cell_type": "code",
   "execution_count": null,
   "metadata": {},
   "outputs": [],
   "source": []
  }
 ],
 "metadata": {
  "kernelspec": {
   "display_name": "nemo",
   "language": "python",
   "name": "nemo"
  },
  "language_info": {
   "codemirror_mode": {
    "name": "ipython",
    "version": 3
   },
   "file_extension": ".py",
   "mimetype": "text/x-python",
   "name": "python",
   "nbconvert_exporter": "python",
   "pygments_lexer": "ipython3",
   "version": "3.7.9"
  }
 },
 "nbformat": 4,
 "nbformat_minor": 4
}
