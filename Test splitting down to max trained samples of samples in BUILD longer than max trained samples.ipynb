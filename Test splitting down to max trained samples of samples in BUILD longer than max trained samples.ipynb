{
 "cells": [
  {
   "cell_type": "markdown",
   "metadata": {},
   "source": [
    "# Low Resource Language ASR model\n",
    "### Lars Ericson, Catskills Research Company, OpenASR20"
   ]
  },
  {
   "cell_type": "code",
   "execution_count": 1,
   "metadata": {},
   "outputs": [
    {
     "data": {
      "text/html": [
       "<style>.container { width:100% !important; }</style>"
      ],
      "text/plain": [
       "<IPython.core.display.HTML object>"
      ]
     },
     "metadata": {},
     "output_type": "display_data"
    }
   ],
   "source": [
    "from IPython.core.display import display, HTML\n",
    "display(HTML(\"<style>.container { width:100% !important; }</style>\"))\n",
    "%load_ext autoreload\n",
    "%autoreload 2"
   ]
  },
  {
   "cell_type": "code",
   "execution_count": 2,
   "metadata": {},
   "outputs": [],
   "source": [
    "%matplotlib inline\n",
    "import matplotlib.pylab as plt"
   ]
  },
  {
   "cell_type": "code",
   "execution_count": 3,
   "metadata": {},
   "outputs": [],
   "source": [
    "from glob import glob\n",
    "import os, librosa\n",
    "from tqdm.notebook import tqdm\n",
    "from tokenizer import tokenizer\n",
    "import numpy as np"
   ]
  },
  {
   "cell_type": "markdown",
   "metadata": {},
   "source": [
    "## Language data"
   ]
  },
  {
   "cell_type": "code",
   "execution_count": 4,
   "metadata": {},
   "outputs": [],
   "source": [
    "def text_of_file(fn):\n",
    "    with open(fn, 'r', encoding='utf-8') as f:\n",
    "        return f.read()"
   ]
  },
  {
   "cell_type": "code",
   "execution_count": 5,
   "metadata": {},
   "outputs": [],
   "source": [
    "class Language:\n",
    "\n",
    "    def __init__(self, language):\n",
    "        self.stage='NIST'\n",
    "        self.sample_rate=8000\n",
    "        self.language=language\n",
    "        self.load_training_corpus()\n",
    "\n",
    "    def load_training_corpus(self):\n",
    "        self.data_dir=f'{self.stage}/openasr20_{self.language}'\n",
    "        self.build_dir=f'{self.data_dir}/build'\n",
    "        self.build_transcription_split_dir=f'{self.build_dir}/transcription_split'\n",
    "        self.build_transcription_split_filenames=glob(f'{self.build_transcription_split_dir}/*.txt')\n",
    "        self.build_split_targets = [text_of_file(x) for x in tqdm(self.build_transcription_split_filenames)]\n",
    "        self.build_split_roots = [os.path.basename(x)[0:-4] for x in self.build_transcription_split_filenames]\n",
    "        self.build_audio_split_nr_dir=f'{self.build_dir}/audio_split_{self.sample_rate}'\n",
    "        self.build_audio_split_nr_filenames=[f'{self.build_audio_split_nr_dir}/{x}.wav' for x in self.build_split_roots]\n",
    "        self.build_split_sources = [librosa.load(src_fn, sr=self.sample_rate)[0] for src_fn in tqdm(self.build_audio_split_nr_filenames)]\n",
    "        self.build_examples = list(zip(self.build_split_roots, self.build_split_sources, self.build_split_targets))"
   ]
  },
  {
   "cell_type": "code",
   "execution_count": 6,
   "metadata": {},
   "outputs": [
    {
     "data": {
      "application/vnd.jupyter.widget-view+json": {
       "model_id": "2fa97ff4b9374049a452e1abff22f7fd",
       "version_major": 2,
       "version_minor": 0
      },
      "text/plain": [
       "HBox(children=(FloatProgress(value=0.0, max=9842.0), HTML(value='')))"
      ]
     },
     "metadata": {},
     "output_type": "display_data"
    },
    {
     "name": "stdout",
     "output_type": "stream",
     "text": [
      "\n"
     ]
    },
    {
     "data": {
      "application/vnd.jupyter.widget-view+json": {
       "model_id": "c562ecca0ce8456c88f9b286105da380",
       "version_major": 2,
       "version_minor": 0
      },
      "text/plain": [
       "HBox(children=(FloatProgress(value=0.0, max=9842.0), HTML(value='')))"
      ]
     },
     "metadata": {},
     "output_type": "display_data"
    },
    {
     "name": "stdout",
     "output_type": "stream",
     "text": [
      "\n"
     ]
    }
   ],
   "source": [
    "L=Language('amharic')"
   ]
  },
  {
   "cell_type": "markdown",
   "metadata": {},
   "source": [
    "## Language Analysis"
   ]
  },
  {
   "cell_type": "markdown",
   "metadata": {},
   "source": [
    "### all recordings"
   ]
  },
  {
   "cell_type": "code",
   "execution_count": 7,
   "metadata": {},
   "outputs": [
    {
     "name": "stdout",
     "output_type": "stream",
     "text": [
      "# 10-minute training recordings 122\n"
     ]
    }
   ],
   "source": [
    "L.build_transcription_dir=f'{L.build_dir}/transcription'\n",
    "L.build_transcription_filenames=glob(f'{L.build_transcription_dir}/*.txt')\n",
    "L.N_recordings=len(L.build_transcription_filenames)\n",
    "print('# 10-minute training recordings', L.N_recordings)"
   ]
  },
  {
   "cell_type": "markdown",
   "metadata": {},
   "source": [
    "### splits per recording"
   ]
  },
  {
   "cell_type": "code",
   "execution_count": 8,
   "metadata": {},
   "outputs": [
    {
     "data": {
      "image/png": "[encoded data removed]",
      "text/plain": [
       "<Figure size 432x288 with 1 Axes>"
      ]
     },
     "metadata": {
      "needs_background": "light"
     },
     "output_type": "display_data"
    }
   ],
   "source": [
    "L.build_roots=[os.path.basename(x)[0:-4] for x in L.build_transcription_filenames]\n",
    "L.N_splits_per_root=[len([x for x in L.build_split_roots if x.startswith(y)]) for y in L.build_roots]\n",
    "plt.hist(L.N_splits_per_root,bins=L.N_recordings);\n",
    "plt.xlabel('# splits per recording')\n",
    "plt.ylabel('# recordings with this many splits');"
   ]
  },
  {
   "cell_type": "markdown",
   "metadata": {},
   "source": [
    "### all splits"
   ]
  },
  {
   "cell_type": "code",
   "execution_count": 9,
   "metadata": {},
   "outputs": [
    {
     "data": {
      "text/plain": [
       "9842"
      ]
     },
     "execution_count": 9,
     "metadata": {},
     "output_type": "execute_result"
    }
   ],
   "source": [
    "L.N_all_splits=len(L.build_split_roots)\n",
    "L.N_all_splits"
   ]
  },
  {
   "cell_type": "markdown",
   "metadata": {},
   "source": [
    "### tokenized splits"
   ]
  },
  {
   "cell_type": "code",
   "execution_count": 10,
   "metadata": {},
   "outputs": [
    {
     "data": {
      "text/plain": [
       "[['ነበር', 'እ', 'አዎ', 'እንዲው', 'ሳምንት', 'ነው', 'ያመመኝ', 'በቃ', 'በብሽቀት'], ['እሺ']]"
      ]
     },
     "execution_count": 10,
     "metadata": {},
     "output_type": "execute_result"
    }
   ],
   "source": [
    "L.build_split_targets_tokenized=[tokenizer(x) for x in L.build_split_targets]\n",
    "L.build_split_targets_tokenized[0:2]"
   ]
  },
  {
   "cell_type": "markdown",
   "metadata": {},
   "source": [
    "### split length in words"
   ]
  },
  {
   "cell_type": "code",
   "execution_count": 11,
   "metadata": {},
   "outputs": [
    {
     "data": {
      "image/png": "[encoded data removed]",
      "text/plain": [
       "<Figure size 432x288 with 1 Axes>"
      ]
     },
     "metadata": {
      "needs_background": "light"
     },
     "output_type": "display_data"
    }
   ],
   "source": [
    "L.split_length_in_words=[len(x) for x in L.build_split_targets_tokenized]\n",
    "plt.hist(L.split_length_in_words,bins=100);\n",
    "plt.xlabel('word length')\n",
    "plt.ylabel('splits')\n",
    "plt.yscale('log');"
   ]
  },
  {
   "cell_type": "markdown",
   "metadata": {},
   "source": [
    "### split length in graphemes"
   ]
  },
  {
   "cell_type": "code",
   "execution_count": 12,
   "metadata": {},
   "outputs": [
    {
     "data": {
      "image/png": "[encoded data removed]",
      "text/plain": [
       "<Figure size 432x288 with 1 Axes>"
      ]
     },
     "metadata": {
      "needs_background": "light"
     },
     "output_type": "display_data"
    }
   ],
   "source": [
    "L.split_length_in_graphemes=[len(x) for x in L.build_split_targets]\n",
    "plt.hist(L.split_length_in_graphemes,bins=100);\n",
    "plt.xlabel('grapheme length')\n",
    "plt.ylabel('splits')\n",
    "plt.yscale('log');"
   ]
  },
  {
   "cell_type": "markdown",
   "metadata": {},
   "source": [
    "### split length in audio samples and seconds"
   ]
  },
  {
   "cell_type": "code",
   "execution_count": 13,
   "metadata": {},
   "outputs": [
    {
     "data": {
      "image/png": "[encoded data removed]",
      "text/plain": [
       "<Figure size 432x288 with 1 Axes>"
      ]
     },
     "metadata": {
      "needs_background": "light"
     },
     "output_type": "display_data"
    }
   ],
   "source": [
    "L.split_length_in_samples=np.array([len(x) for x in L.build_split_sources])\n",
    "L.split_length_in_seconds=L.split_length_in_samples/L.sample_rate\n",
    "L.min_split_length_in_samples=min(L.split_length_in_samples)\n",
    "L.max_split_length_in_samples=max(L.split_length_in_samples)\n",
    "L.mean_split_length_in_samples=np.mean(L.split_length_in_samples)\n",
    "L.median_split_length_in_samples=np.median(L.split_length_in_samples)\n",
    "plt.hist(L.split_length_in_seconds,bins=100);\n",
    "plt.xlabel('sample length (seconds)')\n",
    "plt.ylabel('splits')\n",
    "plt.yscale('log');"
   ]
  },
  {
   "cell_type": "code",
   "execution_count": 18,
   "metadata": {},
   "outputs": [],
   "source": [
    "L.samples_per_grapheme = L.split_length_in_samples/L.split_length_in_graphemes"
   ]
  },
  {
   "cell_type": "markdown",
   "metadata": {},
   "source": [
    "### all words in examples"
   ]
  },
  {
   "cell_type": "code",
   "execution_count": 14,
   "metadata": {},
   "outputs": [
    {
     "data": {
      "text/plain": [
       "['ሀ', 'ሀላፊነቱን', 'ሀላፊነት', 'ሀላፊው', 'ሀል']"
      ]
     },
     "execution_count": 14,
     "metadata": {},
     "output_type": "execute_result"
    }
   ],
   "source": [
    "L.all_words=list(sorted(set([item for sublist in L.build_split_targets_tokenized for item in sublist])))\n",
    "L.all_words[0:5]"
   ]
  },
  {
   "cell_type": "markdown",
   "metadata": {},
   "source": [
    "### all graphemes in examples"
   ]
  },
  {
   "cell_type": "code",
   "execution_count": 15,
   "metadata": {},
   "outputs": [
    {
     "data": {
      "text/plain": [
       "['ሀ', 'ሁ', 'ሂ', 'ሃ', 'ሄ']"
      ]
     },
     "execution_count": 15,
     "metadata": {},
     "output_type": "execute_result"
    }
   ],
   "source": [
    "L.all_graphemes=list(sorted(set(''.join(L.all_words))))\n",
    "L.all_graphemes[0:5]"
   ]
  },
  {
   "cell_type": "markdown",
   "metadata": {},
   "source": [
    "### analysis prior to splitting"
   ]
  },
  {
   "cell_type": "code",
   "execution_count": 16,
   "metadata": {},
   "outputs": [
    {
     "name": "stdout",
     "output_type": "stream",
     "text": [
      "SPEECH\n",
      "hours of training speech 20.333333333333332\n",
      "\n",
      "WORDS\n",
      "words 11876\n",
      "mean word length in graphemes 4.554900639946109\n",
      "median word length in graphemes 4.0\n",
      "min word length in graphemes 1\n",
      "max word length in graphemes 12\n",
      "\n",
      "GRAPHEMES\n",
      "graphemes 234\n"
     ]
    },
    {
     "data": {
      "image/png": "[encoded data removed]",
      "text/plain": [
       "<Figure size 432x288 with 1 Axes>"
      ]
     },
     "metadata": {
      "needs_background": "light"
     },
     "output_type": "display_data"
    }
   ],
   "source": [
    "print('SPEECH')\n",
    "# N all speech in recordings\n",
    "L.hours_of_build_speech=10*L.N_recordings/60\n",
    "print('hours of training speech', L.hours_of_build_speech)\n",
    "print()\n",
    "print('WORDS')\n",
    "# N all words in examples\n",
    "L.N_all_words=len(L.all_words)\n",
    "print('words', L.N_all_words)\n",
    "# Word lengths\n",
    "L.word_lengths_in_graphemes=[len(x) for x in L.all_words]\n",
    "plt.hist(L.word_lengths_in_graphemes, bins=12)\n",
    "plt.xlabel('Graphemes/word')\n",
    "plt.ylabel('Words with this many graphemes')\n",
    "# Mean word length\n",
    "print('mean word length in graphemes', np.mean(L.word_lengths_in_graphemes))\n",
    "# Median word length\n",
    "print('median word length in graphemes', np.median(L.word_lengths_in_graphemes))\n",
    "# Min word length\n",
    "print('min word length in graphemes', min(L.word_lengths_in_graphemes))\n",
    "# Max word length\n",
    "print('max word length in graphemes', max(L.word_lengths_in_graphemes))\n",
    "print()\n",
    "print('GRAPHEMES')\n",
    "# N all graphemes in examples\n",
    "L.N_all_graphemes=len(L.all_graphemes)\n",
    "print('graphemes', L.N_all_graphemes)"
   ]
  },
  {
   "cell_type": "markdown",
   "metadata": {},
   "source": [
    "### Language analysis on splits"
   ]
  },
  {
   "cell_type": "code",
   "execution_count": 19,
   "metadata": {
    "scrolled": false
   },
   "outputs": [
    {
     "name": "stdout",
     "output_type": "stream",
     "text": [
      "SPEECH\n"
     ]
    },
    {
     "data": {
      "image/png": "[encoded data removed]",
      "text/plain": [
       "<Figure size 432x288 with 1 Axes>"
      ]
     },
     "metadata": {
      "needs_background": "light"
     },
     "output_type": "display_data"
    },
    {
     "name": "stdout",
     "output_type": "stream",
     "text": [
      "mean seconds/split 3.2513701483438324\n",
      "median seconds/split 2.2430624999999997\n",
      "min seconds/split 0.112125\n",
      "max seconds/split 32.288875\n",
      "\n",
      "WORDS\n"
     ]
    },
    {
     "data": {
      "image/png": "[encoded data removed]",
      "text/plain": [
       "<Figure size 432x288 with 1 Axes>"
      ]
     },
     "metadata": {
      "needs_background": "light"
     },
     "output_type": "display_data"
    },
    {
     "name": "stdout",
     "output_type": "stream",
     "text": [
      "mean words/split 6.447876447876448\n",
      "median words/split 5.0\n",
      "min words/split 1\n",
      "max words/split 62\n",
      "\n",
      "GRAPHEMES\n"
     ]
    },
    {
     "data": {
      "image/png": "[encoded data removed]",
      "text/plain": [
       "<Figure size 432x288 with 1 Axes>"
      ]
     },
     "metadata": {
      "needs_background": "light"
     },
     "output_type": "display_data"
    },
    {
     "name": "stdout",
     "output_type": "stream",
     "text": [
      "mean graphemes/split 26.27148953464743\n",
      "median graphemes/split 19.0\n",
      "min graphemes/split 1\n",
      "max graphemes/split 260\n",
      "\n",
      "AUDIO SAMPLES PER WORD\n"
     ]
    },
    {
     "data": {
      "image/png": "[encoded data removed]",
      "text/plain": [
       "<Figure size 432x288 with 1 Axes>"
      ]
     },
     "metadata": {
      "needs_background": "light"
     },
     "output_type": "display_data"
    },
    {
     "name": "stdout",
     "output_type": "stream",
     "text": [
      "min 277 (0.035 seconds/word)\n",
      "max 16005 (2.001 seconds/word)\n",
      "mean 4213 (0.527 seconds/word)\n",
      "median 3586 (0.448 seconds/word)\n",
      "\n",
      "AUDIO SAMPLES PER GRAPHEME\n"
     ]
    },
    {
     "data": {
      "image/png": "[encoded data removed]",
      "text/plain": [
       "<Figure size 432x288 with 1 Axes>"
      ]
     },
     "metadata": {
      "needs_background": "light"
     },
     "output_type": "display_data"
    },
    {
     "name": "stdout",
     "output_type": "stream",
     "text": [
      "min 67 (0.008 seconds/grapheme)\n",
      "max 14560 (1.820 seconds/grapheme)\n",
      "mean 1350 (0.169 seconds/grapheme)\n",
      "median 971 (0.121 seconds/grapheme)\n"
     ]
    }
   ],
   "source": [
    "print('SPEECH')\n",
    "plt.hist(L.split_length_in_seconds, bins=100)\n",
    "plt.xlabel('Seconds/split')\n",
    "plt.ylabel('Samples that are this long in seconds')\n",
    "plt.yscale('log')\n",
    "plt.show();\n",
    "# mean split speech length in seconds\n",
    "L.mean_split_speech_length_in_seconds=np.mean(L.split_length_in_seconds)\n",
    "print('mean seconds/split', L.mean_split_speech_length_in_seconds)\n",
    "# median split speech length\n",
    "L.median_split_speech_length_in_seconds=np.median(L.split_length_in_seconds)\n",
    "print('median seconds/split', L.median_split_speech_length_in_seconds)\n",
    "# min split speech length\n",
    "L.min_split_speech_length_in_seconds=min(L.split_length_in_seconds)\n",
    "print('min seconds/split', L.min_split_speech_length_in_seconds)\n",
    "# max split speech length\n",
    "L.max_split_speech_length_in_seconds=max(L.split_length_in_seconds)\n",
    "print('max seconds/split', L.max_split_speech_length_in_seconds)\n",
    "print()\n",
    "print('WORDS')\n",
    "plt.hist(L.split_length_in_words, bins=100)\n",
    "plt.xlabel('Words/split')\n",
    "plt.ylabel('Samples that are this long in words')\n",
    "plt.yscale('log')\n",
    "plt.show();\n",
    "# mean split word length\n",
    "L.mean_split_word_length=np.mean(L.split_length_in_words)\n",
    "print('mean words/split', L.mean_split_word_length)\n",
    "# median split word length\n",
    "L.median_split_word_length=np.median(L.split_length_in_words)\n",
    "print('median words/split', L.median_split_word_length)\n",
    "# min split word length\n",
    "L.min_split_word_length=min(L.split_length_in_words)\n",
    "print('min words/split', L.min_split_word_length)\n",
    "# max split word length\n",
    "L.max_split_word_length=max(L.split_length_in_words)\n",
    "print('max words/split', L.max_split_word_length)\n",
    "print()\n",
    "print('GRAPHEMES')\n",
    "plt.hist(L.split_length_in_graphemes, bins=100)\n",
    "plt.xlabel('Graphemes/split')\n",
    "plt.ylabel('Samples that are this long in words')\n",
    "plt.yscale('log')\n",
    "plt.show();\n",
    "# mean split grapheme length\n",
    "L.mean_split_grapheme_length=np.mean(L.split_length_in_graphemes)\n",
    "print('mean graphemes/split', L.mean_split_grapheme_length)\n",
    "# median split grapheme length\n",
    "L.median_split_grapheme_length=np.median(L.split_length_in_graphemes)\n",
    "print('median graphemes/split', L.median_split_grapheme_length)\n",
    "# min split graphemes length\n",
    "L.min_split_grapheme_length=min(L.split_length_in_graphemes)\n",
    "print('min graphemes/split', L.min_split_word_length)\n",
    "# max split graphemes length\n",
    "L.max_split_grapheme_length=max(L.split_length_in_graphemes)\n",
    "print('max graphemes/split', L.max_split_grapheme_length)\n",
    "print()\n",
    "print('AUDIO SAMPLES PER WORD')\n",
    "L.samples_per_word=L.split_length_in_samples/L.split_length_in_words\n",
    "plt.hist(L.samples_per_word, bins=100)\n",
    "plt.xlabel('Samples/word')\n",
    "plt.ylabel('Words that are this long in samples')\n",
    "plt.yscale('log')\n",
    "plt.show();\n",
    "L.min_samples_per_word=int(min(L.samples_per_word))\n",
    "L.max_samples_per_word=int(max(L.samples_per_word))\n",
    "L.mean_samples_per_word=int(np.mean(L.samples_per_word))\n",
    "L.median_samples_per_word=int(np.median(L.samples_per_word))\n",
    "print(f'min {L.min_samples_per_word} ({L.min_samples_per_word/L.sample_rate:.3f} seconds/word)')\n",
    "print(f'max {L.max_samples_per_word} ({L.max_samples_per_word/L.sample_rate:.3f} seconds/word)')\n",
    "print(f'mean {L.mean_samples_per_word} ({L.mean_samples_per_word/L.sample_rate:.3f} seconds/word)')\n",
    "print(f'median {L.median_samples_per_word} ({L.median_samples_per_word/L.sample_rate:.3f} seconds/word)')\n",
    "print()\n",
    "print('AUDIO SAMPLES PER GRAPHEME')\n",
    "plt.hist(L.samples_per_grapheme, bins=100)\n",
    "plt.xlabel('Samples/grapheme')\n",
    "plt.ylabel('Graphemes that are this long in samples')\n",
    "plt.yscale('log')\n",
    "plt.show();\n",
    "L.min_samples_per_grapheme=int(min(L.samples_per_grapheme))\n",
    "L.max_samples_per_grapheme=int(max(L.samples_per_grapheme))\n",
    "L.mean_samples_per_grapheme=int(np.mean(L.samples_per_grapheme))\n",
    "L.median_samples_per_grapheme=int(np.median(L.samples_per_grapheme))\n",
    "print(f'min {L.min_samples_per_grapheme} ({L.min_samples_per_grapheme/L.sample_rate:.3f} seconds/grapheme)')\n",
    "print(f'max {L.max_samples_per_grapheme} ({L.max_samples_per_grapheme/L.sample_rate:.3f} seconds/grapheme)')\n",
    "print(f'mean {L.mean_samples_per_grapheme} ({L.mean_samples_per_grapheme/L.sample_rate:.3f} seconds/grapheme)')\n",
    "print(f'median {L.median_samples_per_grapheme} ({L.median_samples_per_grapheme/L.sample_rate:.3f} seconds/grapheme)')"
   ]
  },
  {
   "cell_type": "markdown",
   "metadata": {},
   "source": [
    "## Sub splitting based on words per split and average samples per grapheme (imperfect, introduces error)"
   ]
  },
  {
   "cell_type": "markdown",
   "metadata": {},
   "source": [
    "### Start by visualizing and skipping single-word samples but also doing the language analysis on the set"
   ]
  },
  {
   "cell_type": "markdown",
   "metadata": {},
   "source": [
    "## Language analysis after sub-splitting"
   ]
  },
  {
   "cell_type": "markdown",
   "metadata": {},
   "source": [
    "## ASR end-to-end speech-to-grapheme model stacked on top of grapheme-to-grapheme corrector model"
   ]
  },
  {
   "cell_type": "code",
   "execution_count": null,
   "metadata": {},
   "outputs": [],
   "source": [
    "C.extension='_gradscaler'\n",
    "C.batch_size=12\n",
    "C.save_every = 5\n",
    "C.start_from = 246"
   ]
  },
  {
   "cell_type": "code",
   "execution_count": null,
   "metadata": {},
   "outputs": [],
   "source": [
    "\n",
    "import json, sys, os, librosa, random, math, time, torch\n",
    "sys.path.append('/home/catskills/Desktop/openasr20/end2end_asr_pytorch')\n",
    "os.environ['IN_JUPYTER']='True'\n",
    "import numpy as np\n",
    "import pandas as pd\n",
    "\n",
    "from itertools import groupby\n",
    "from operator import itemgetter\n",
    "import soundfile as sf\n",
    "from utils import constant\n",
    "from utils.functions import load_model\n",
    "from utils.data_loader import SpectrogramDataset, AudioDataLoader, BucketingSampler\n",
    "from clip_ends import clip_ends\n",
    "import torch.optim as optim\n",
    "import torchtext\n",
    "from torchtext.data import Field, BucketIterator\n",
    "from torchtext.data import TabularDataset\n",
    "import matplotlib.ticker as ticker\n",
    "from IPython.display import Audio\n",
    "from unidecode import unidecode\n",
    "from seq_to_seq import *"
   ]
  },
  {
   "cell_type": "code",
   "execution_count": null,
   "metadata": {},
   "outputs": [],
   "source": [
    "files=glob(f'{C.nr_dir}/*')\n",
    "n_samples=len(files)\n",
    "samples=list(sorted([(librosa.load(audio_file, sr=C.sample_rate)[0].shape[0], audio_file) for audio_file in files]))"
   ]
  },
  {
   "cell_type": "code",
   "execution_count": null,
   "metadata": {},
   "outputs": [],
   "source": [
    "samples[0]"
   ]
  },
  {
   "cell_type": "code",
   "execution_count": null,
   "metadata": {},
   "outputs": [],
   "source": [
    "long_samples=samples[4842:]"
   ]
  },
  {
   "cell_type": "code",
   "execution_count": null,
   "metadata": {},
   "outputs": [],
   "source": [
    "long_sample=long_samples[0][1]\n",
    "long_sample"
   ]
  },
  {
   "cell_type": "code",
   "execution_count": null,
   "metadata": {},
   "outputs": [],
   "source": [
    "tgt_fn=f\"{long_sample[0:-4].replace('/audio_split_8000','/transcription_split')}.txt\"\n",
    "tgt_fn"
   ]
  },
  {
   "cell_type": "code",
   "execution_count": null,
   "metadata": {},
   "outputs": [],
   "source": [
    "gold_tgt=open(tgt_fn).read()\n",
    "gold_tgt"
   ]
  },
  {
   "cell_type": "code",
   "execution_count": null,
   "metadata": {},
   "outputs": [],
   "source": [
    "sound=librosa.load(long_sample, sr=C.sample_rate)[0]"
   ]
  },
  {
   "cell_type": "code",
   "execution_count": null,
   "metadata": {},
   "outputs": [],
   "source": [
    "def split_on_longest_silence(sound, sample_rate, _cutoff = 0.0014, debug=None):\n",
    "    N=100\n",
    "    min_gap=0.04*sample_rate\n",
    "    audio_moving=np.convolve(sound**2, np.ones((N,))/N, mode='same') \n",
    "    if debug:\n",
    "        print(f'average energy over {N} sample window')\n",
    "        plt.figure(figsize=(40,4))\n",
    "        plt.plot(sound)\n",
    "        plt.plot(audio_moving);\n",
    "        plt.title(unidecode(debug))\n",
    "        plt.show()\n",
    "    if 0:\n",
    "        threshold=0.3\n",
    "        amplitudes=np.sort(audio_moving)\n",
    "        n_amp=audio_moving.shape[0]\n",
    "        cutoff=amplitudes[int(n_amp*threshold)]\n",
    "    else:\n",
    "        cutoff = _cutoff\n",
    "    if debug:\n",
    "        print('cutoff', cutoff)\n",
    "    silence_mask=audio_moving < cutoff\n",
    "    groups = [[i for i, _ in group] for key, group in groupby(enumerate(silence_mask), key=itemgetter(1)) if key]\n",
    "    boundaries=[(x[0],x[-1]) for x in groups]\n",
    "    silences=[(x,(y-N)) for x,y in boundaries if y-x > min_gap]\n",
    "    if not silences:\n",
    "        print('no silence')\n",
    "        display(Audio(sound, rate=C.sample_rate))\n",
    "        return (sound, None)\n",
    "    if debug:\n",
    "        print('#silences', len(silences))\n",
    "        plt.figure(figsize=(50,8))\n",
    "        plt.plot(sound);\n",
    "        plt.xlabel('seconds')\n",
    "        plt.ylabel('amplitude');\n",
    "        for (x1,x2) in silences:\n",
    "            plt.plot([x1,x2],[0,0],linewidth=5,color='red')\n",
    "        plt.title('sound and detected silence')\n",
    "        plt.show()\n",
    "    longest_silence=list(sorted([(y-x, (x,y)) for x,y in silences]))[-1][1]\n",
    "    midpoint_of_longest_silence=longest_silence[0]+((longest_silence[1]-longest_silence[0])//2)\n",
    "    speech=[(0,midpoint_of_longest_silence), (midpoint_of_longest_silence,sound.shape[0])]\n",
    "    sounds=[clip_ends(sound[a:b], 0.0008) for a,b in speech]\n",
    "    if debug:\n",
    "        spliced=np.hstack(sounds)\n",
    "        plt.figure(figsize=(50,8))\n",
    "        plt.plot(spliced);\n",
    "        plt.xlabel('seconds')\n",
    "        plt.ylabel('amplitude');\n",
    "        plt.title('spliced')\n",
    "        print(f'sound: {unidecode(debug)}')\n",
    "        display(Audio(sound, rate=C.sample_rate))\n",
    "        print('spliced')\n",
    "        display(Audio(spliced, rate=C.sample_rate))\n",
    "        for i, sound in enumerate(sounds):\n",
    "            print('segment', i)\n",
    "            display(Audio(sound, rate=C.sample_rate))\n",
    "            plt.figure(figsize=(50,8))\n",
    "            plt.plot(sound);\n",
    "            plt.xlabel('seconds')\n",
    "            plt.ylabel('amplitude');\n",
    "            plt.title(f\"segment {i}\")\n",
    "        plt.show()\n",
    "    return sounds"
   ]
  },
  {
   "cell_type": "code",
   "execution_count": null,
   "metadata": {
    "scrolled": false
   },
   "outputs": [],
   "source": [
    "s1,s2=split_on_longest_silence(sound, C.sample_rate, 0.001, gold_tgt)"
   ]
  },
  {
   "cell_type": "code",
   "execution_count": null,
   "metadata": {},
   "outputs": [],
   "source": [
    "s1a,s1b=split_on_longest_silence(s1, C.sample_rate, 0.001, gold_tgt)"
   ]
  },
  {
   "cell_type": "code",
   "execution_count": null,
   "metadata": {},
   "outputs": [],
   "source": [
    "s2a,s2b=split_on_longest_silence(s2, C.sample_rate, 0.001, gold_tgt)"
   ]
  },
  {
   "cell_type": "code",
   "execution_count": null,
   "metadata": {},
   "outputs": [],
   "source": [
    "s2b1,s2b2=split_on_longest_silence(s2b, C.sample_rate,  0.001, gold_tgt)"
   ]
  },
  {
   "cell_type": "code",
   "execution_count": null,
   "metadata": {},
   "outputs": [],
   "source": [
    "s2b1a,s2b1b=split_on_longest_silence(s2b1, C.sample_rate,  0.001, gold_tgt)"
   ]
  },
  {
   "cell_type": "code",
   "execution_count": null,
   "metadata": {},
   "outputs": [],
   "source": [
    "s2b2a,s2b2b=split_on_longest_silence(s2b2, C.sample_rate,  0.001, gold_tgt)"
   ]
  },
  {
   "cell_type": "code",
   "execution_count": null,
   "metadata": {},
   "outputs": [],
   "source": [
    "unidecode(gold_tgt)"
   ]
  },
  {
   "cell_type": "code",
   "execution_count": null,
   "metadata": {},
   "outputs": [],
   "source": [
    "!mkdir -p frob\n",
    "!rm frob/*"
   ]
  },
  {
   "cell_type": "code",
   "execution_count": null,
   "metadata": {},
   "outputs": [],
   "source": [
    "clips=[]\n",
    "for i, sound in enumerate(sounds):\n",
    "    fn=f\"frob/clip_{i}.wav\"\n",
    "    sf.write(fn, sound, C.sample_rate)\n",
    "    clips.append(fn)"
   ]
  },
  {
   "cell_type": "code",
   "execution_count": null,
   "metadata": {},
   "outputs": [],
   "source": [
    "text='infer.txt'\n",
    "manifest_fn='manifest.csv'\n",
    "manifest='\\n'.join([f'{audio},{text}' for audio in clips])\n",
    "with open(manifest_fn, 'w') as f:        plt.show()\n",
    "    f.write(manifest)"
   ]
  },
  {
   "cell_type": "code",
   "execution_count": null,
   "metadata": {},
   "outputs": [],
   "source": [
    "!cat manifest.csv"
   ]
  },
  {
   "cell_type": "code",
   "execution_count": null,
   "metadata": {},
   "outputs": [],
   "source": [
    "args=constant.args\n",
    "args.continue_from=None\n",
    "args.cuda = True\n",
    "args.labels_path = C.grapheme_dictionary_fn\n",
    "args.lr = 1e-4\n",
    "args.name = C.model_name\n",
    "args.save_folder = f'save'\n",
    "args.epochs = 1000\n",
    "args.save_every = 1\n",
    "args.feat_extractor = f'vgg_cnn'\n",
    "args.dropout = 0.1\n",
    "args.num_layers = 4\n",
    "args.num_heads = 8\n",
    "args.dim_model = 512\n",
    "args.dim_key = 64\n",
    "args.dim_value = 64\n",
    "args.dim_input = 161\n",
    "args.dim_inner = 2048\n",
    "args.dim_emb = 512\n",
    "args.shuffle=True\n",
    "args.min_lr = 1e-6\n",
    "args.k_lr = 1\n",
    "args.sample_rate=C.sample_rate\n",
    "args.continue_from=C.best_model\n",
    "args.augment=True\n",
    "audio_conf = dict(sample_rate=args.sample_rate,\n",
    "                  window_size=args.window_size,\n",
    "                  window_stride=args.window_stride,\n",
    "                  window=args.window,\n",
    "                  noise_dir=args.noise_dir,\n",
    "                  noise_prob=args.noise_prob,\n",
    "                  noise_levels=(args.noise_min, args.noise_max))"
   ]
  },
  {
   "cell_type": "code",
   "execution_count": null,
   "metadata": {},
   "outputs": [],
   "source": [
    "with open(args.labels_path, 'r') as label_file:\n",
    "    labels = str(''.join(json.load(label_file)))\n",
    "# add PAD_CHAR, SOS_CHAR, EOS_CHAR\n",
    "labels = constant.PAD_CHAR + constant.SOS_CHAR + constant.EOS_CHAR + labels\n",
    "label2id, id2label = {}, {}\n",
    "count = 0\n",
    "for i in range(len(labels)):\n",
    "    if labels[i] not in label2id:\n",
    "        label2id[labels[i]] = count\n",
    "        id2label[count] = labels[i]\n",
    "        count += 1\n",
    "    else:\n",
    "        print(\"multiple label: \", labels[i])\n",
    "\n",
    "model, opt, epoch, metrics, loaded_args, label2id, id2label = load_model(constant.args.continue_from)"
   ]
  },
  {
   "cell_type": "code",
   "execution_count": null,
   "metadata": {},
   "outputs": [],
   "source": [
    "train_data = SpectrogramDataset(audio_conf, manifest_filepath_list=[manifest_fn], \n",
    "                                label2id=label2id, normalize=True, augment=args.augment)\n",
    "args.batch_size=1\n",
    "train_sampler = BucketingSampler(train_data, batch_size=args.batch_size)\n",
    "train_loader = AudioDataLoader(train_data, num_workers=args.num_workers, batch_sampler=train_sampler)\n",
    "\n",
    "strs_hyps=[]\n",
    "for i, (data) in enumerate(tqdm(train_loader)):\n",
    "    src, tgt, _, src_lengths, tgt_lengths = data\n",
    "    src = src.cuda()\n",
    "    tgt = tgt.cuda()\n",
    "    pred, gold, hyp_seq, gold_seq = model(src, src_lengths, tgt, verbose=False)\n",
    "    seq_length = pred.size(1)\n",
    "    for ut_hyp in hyp_seq:\n",
    "        str_hyp = \"\"\n",
    "        for x in ut_hyp:\n",
    "            if int(x) == constant.PAD_TOKEN:\n",
    "                break\n",
    "            str_hyp = str_hyp + id2label[int(x)]\n",
    "        strs_hyps.append(str_hyp)\n",
    "for j in range(len(strs_hyps)):\n",
    "    strs_hyps[j] = strs_hyps[j].replace(constant.SOS_CHAR, '').replace(constant.EOS_CHAR, '')"
   ]
  },
  {
   "cell_type": "code",
   "execution_count": null,
   "metadata": {},
   "outputs": [],
   "source": [
    "gold_tgt = ' '.join([x.strip() for x in gold_tgt.split(' ') if x])\n",
    "gold_tgt"
   ]
  },
  {
   "cell_type": "code",
   "execution_count": null,
   "metadata": {},
   "outputs": [],
   "source": [
    "pred=' '.join(strs_hyps)\n",
    "pred"
   ]
  },
  {
   "cell_type": "code",
   "execution_count": null,
   "metadata": {},
   "outputs": [],
   "source": [
    "error_correction_training_fn='frob/pred_gold.tsv'\n",
    "with open(error_correction_training_fn, 'w', encoding='utf-8') as f:\n",
    "    f.write(f\"{gold_tgt}\\t{pred}\")"
   ]
  },
  {
   "cell_type": "code",
   "execution_count": null,
   "metadata": {},
   "outputs": [],
   "source": [
    "!cat frob/pred_gold.tsv"
   ]
  },
  {
   "cell_type": "code",
   "execution_count": null,
   "metadata": {},
   "outputs": [],
   "source": [
    "SEED = 1234\n",
    "random.seed(SEED)\n",
    "np.random.seed(SEED)\n",
    "torch.manual_seed(SEED)\n",
    "torch.cuda.manual_seed(SEED)\n",
    "torch.backends.cudnn.deterministic = True\n",
    "tokenize=lambda x: [y for y in x]\n",
    "\n",
    "SRC = Field(tokenize = tokenize, \n",
    "            init_token = '<sos>', \n",
    "            eos_token = '<eos>', \n",
    "            lower = True, \n",
    "            batch_first = True)\n",
    "\n",
    "TRG = Field(tokenize = tokenize, \n",
    "            init_token = '<sos>', \n",
    "            eos_token = '<eos>', \n",
    "            lower = True, \n",
    "            batch_first = True)"
   ]
  },
  {
   "cell_type": "code",
   "execution_count": null,
   "metadata": {},
   "outputs": [],
   "source": [
    "from torchtext.data import Iterator"
   ]
  },
  {
   "cell_type": "code",
   "execution_count": null,
   "metadata": {},
   "outputs": [],
   "source": [
    "train_data = TabularDataset(\n",
    "    path=error_correction_training_fn,\n",
    "    format='tsv',\n",
    "    fields=[('trg', TRG), ('src', SRC)])"
   ]
  },
  {
   "cell_type": "code",
   "execution_count": null,
   "metadata": {},
   "outputs": [],
   "source": [
    "train_iterator = Iterator(train_data, batch_size=1)"
   ]
  },
  {
   "cell_type": "code",
   "execution_count": null,
   "metadata": {},
   "outputs": [],
   "source": [
    "gold_fns=list(sorted(glob(f'{C.build_dir}/transcription_split/*.txt')))\n",
    "len(gold_fns)\n",
    "import os\n",
    "goldrows=[]\n",
    "for fn in gold_fns:\n",
    "    with open(fn, 'r', encoding='utf-8') as f:\n",
    "        goldrows.append(f.read())\n",
    "\n",
    "MAX_LENGTH=max(len(x) for x in goldrows)+10\n",
    "MAX_LENGTH\n",
    "\n",
    "graphemes=''.join([x for x in C.grapheme_dictionary])\n",
    "\n",
    "MIN_FREQ=1"
   ]
  },
  {
   "cell_type": "code",
   "execution_count": null,
   "metadata": {},
   "outputs": [],
   "source": [
    "SRC.build_vocab(graphemes, min_freq = MIN_FREQ)"
   ]
  },
  {
   "cell_type": "code",
   "execution_count": null,
   "metadata": {},
   "outputs": [],
   "source": [
    "TRG.build_vocab(graphemes, min_freq = MIN_FREQ)\n",
    "INPUT_DIM = len(SRC.vocab)\n",
    "OUTPUT_DIM = len(TRG.vocab)\n",
    "INPUT_DIM, OUTPUT_DIM\n",
    "device = torch.device('cuda' if torch.cuda.is_available() else 'cpu')\n",
    "BATCH_SIZE = 1\n",
    "HID_DIM = 256\n",
    "ENC_LAYERS = 3\n",
    "DEC_LAYERS = 3\n",
    "ENC_HEADS = 8\n",
    "DEC_HEADS = 8\n",
    "ENC_PF_DIM = 512\n",
    "DEC_PF_DIM = 512\n",
    "ENC_DROPOUT = 0.1\n",
    "DEC_DROPOUT = 0.1"
   ]
  },
  {
   "cell_type": "code",
   "execution_count": null,
   "metadata": {},
   "outputs": [],
   "source": [
    "enc = Encoder(INPUT_DIM, \n",
    "              HID_DIM, \n",
    "              ENC_LAYERS, \n",
    "              ENC_HEADS, \n",
    "              ENC_PF_DIM, \n",
    "              ENC_DROPOUT, \n",
    "              device,\n",
    "              MAX_LENGTH)"
   ]
  },
  {
   "cell_type": "code",
   "execution_count": null,
   "metadata": {},
   "outputs": [],
   "source": [
    "dec = Decoder(OUTPUT_DIM, \n",
    "              HID_DIM, \n",
    "              DEC_LAYERS, \n",
    "              DEC_HEADS, \n",
    "              DEC_PF_DIM, \n",
    "              DEC_DROPOUT, \n",
    "              device,\n",
    "              MAX_LENGTH)"
   ]
  },
  {
   "cell_type": "code",
   "execution_count": null,
   "metadata": {},
   "outputs": [],
   "source": [
    "SRC_PAD_IDX = SRC.vocab.stoi[SRC.pad_token]\n",
    "TRG_PAD_IDX = TRG.vocab.stoi[TRG.pad_token]"
   ]
  },
  {
   "cell_type": "code",
   "execution_count": null,
   "metadata": {},
   "outputs": [],
   "source": [
    "model = Seq2Seq(enc, dec, SRC_PAD_IDX, TRG_PAD_IDX, device).to(device)"
   ]
  },
  {
   "cell_type": "code",
   "execution_count": null,
   "metadata": {},
   "outputs": [],
   "source": [
    "model_fn='tut6-model.pt'\n",
    "\n",
    "def count_parameters(model):\n",
    "    return sum(p.numel() for p in model.parameters() if p.requires_grad)\n",
    "\n",
    "print(f'The model has {count_parameters(model):,} trainable parameters')"
   ]
  },
  {
   "cell_type": "code",
   "execution_count": null,
   "metadata": {},
   "outputs": [],
   "source": [
    "def initialize_weights(m):\n",
    "    if hasattr(m, 'weight') and m.weight.dim() > 1:\n",
    "        nn.init.xavier_uniform_(m.weight.data)\n",
    "\n",
    "model.apply(initialize_weights);\n",
    "\n",
    "if os.path.exists(model_fn):\n",
    "    model.load_state_dict(torch.load(model_fn))\n",
    "\n",
    "LEARNING_RATE = 0.0005\n",
    "\n",
    "optimizer = torch.optim.Adam(model.parameters(), lr = LEARNING_RATE)\n",
    "\n",
    "criterion = nn.CrossEntropyLoss(ignore_index = TRG_PAD_IDX)"
   ]
  },
  {
   "cell_type": "code",
   "execution_count": null,
   "metadata": {},
   "outputs": [],
   "source": [
    "model.train()"
   ]
  },
  {
   "cell_type": "code",
   "execution_count": null,
   "metadata": {},
   "outputs": [],
   "source": [
    "for j in range(100):\n",
    "    epoch_loss = 0\n",
    "    for i, batch in enumerate(train_iterator):\n",
    "\n",
    "        src = batch.src.to(device)\n",
    "        trg = batch.trg.to(device)\n",
    "\n",
    "        optimizer.zero_grad()\n",
    "\n",
    "        output, _ = model(src, trg[:,:-1])\n",
    "        output_dim = output.shape[-1]\n",
    "        output = output.contiguous().view(-1, output_dim)\n",
    "        trg = trg[:,1:].contiguous().view(-1)\n",
    "\n",
    "        loss = criterion(output, trg)\n",
    "\n",
    "        loss.backward()\n",
    "\n",
    "        torch.nn.utils.clip_grad_norm_(model.parameters(), 1)\n",
    "\n",
    "        optimizer.step()\n",
    "\n",
    "        epoch_loss += loss.item()\n",
    "        \n",
    "    print(j, epoch_loss)"
   ]
  },
  {
   "cell_type": "code",
   "execution_count": null,
   "metadata": {},
   "outputs": [],
   "source": [
    "pred=output.argmax(1).cpu().detach().numpy()\n",
    "pred"
   ]
  },
  {
   "cell_type": "code",
   "execution_count": null,
   "metadata": {},
   "outputs": [],
   "source": [
    "''.join([SRC.vocab.itos[x] for x in src.cpu().numpy()[0]])"
   ]
  },
  {
   "cell_type": "code",
   "execution_count": null,
   "metadata": {},
   "outputs": [],
   "source": [
    "silver=''.join([TRG.vocab.itos[x] for x in trg.cpu().numpy()]).split('<eos>')[0]\n",
    "silver"
   ]
  },
  {
   "cell_type": "code",
   "execution_count": null,
   "metadata": {},
   "outputs": [],
   "source": [
    "pred=''.join([TRG.vocab.itos[x] for x in pred]).split('<eos>')[0]\n",
    "pred"
   ]
  },
  {
   "cell_type": "code",
   "execution_count": null,
   "metadata": {},
   "outputs": [],
   "source": [
    "from utils.metrics import calculate_cer, calculate_wer"
   ]
  },
  {
   "cell_type": "code",
   "execution_count": null,
   "metadata": {},
   "outputs": [],
   "source": [
    "calculate_cer(pred, silver)"
   ]
  },
  {
   "cell_type": "code",
   "execution_count": null,
   "metadata": {},
   "outputs": [],
   "source": [
    "calculate_wer(pred, silver)"
   ]
  },
  {
   "cell_type": "code",
   "execution_count": null,
   "metadata": {},
   "outputs": [],
   "source": []
  }
 ],
 "metadata": {
  "kernelspec": {
   "display_name": "openasr",
   "language": "python",
   "name": "openasr"
  },
  "language_info": {
   "codemirror_mode": {
    "name": "ipython",
    "version": 3
   },
   "file_extension": ".py",
   "mimetype": "text/x-python",
   "name": "python",
   "nbconvert_exporter": "python",
   "pygments_lexer": "ipython3",
   "version": "3.8.5"
  }
 },
 "nbformat": 4,
 "nbformat_minor": 4
}
