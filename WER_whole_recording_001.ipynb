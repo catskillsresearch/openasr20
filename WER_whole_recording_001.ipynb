{
 "cells": [
  {
   "cell_type": "markdown",
   "metadata": {},
   "source": [
    "# WER on single recording end to end"
   ]
  },
  {
   "cell_type": "markdown",
   "metadata": {},
   "source": [
    "#### Common packages"
   ]
  },
  {
   "cell_type": "code",
   "execution_count": 1,
   "metadata": {},
   "outputs": [
    {
     "data": {
      "text/html": [
       "<style>.container { width:100% !important; }</style>"
      ],
      "text/plain": [
       "<IPython.core.display.HTML object>"
      ]
     },
     "metadata": {},
     "output_type": "display_data"
    }
   ],
   "source": [
    "from IPython.core.display import display, HTML\n",
    "display(HTML(\"<style>.container { width:100% !important; }</style>\"))"
   ]
  },
  {
   "cell_type": "code",
   "execution_count": 2,
   "metadata": {},
   "outputs": [],
   "source": [
    "%load_ext autoreload\n",
    "%autoreload 2"
   ]
  },
  {
   "cell_type": "code",
   "execution_count": 3,
   "metadata": {},
   "outputs": [],
   "source": [
    "%matplotlib notebook\n",
    "import matplotlib.pylab as plt\n",
    "import numpy as np\n",
    "import pickle\n",
    "import warnings\n",
    "warnings.filterwarnings(\"ignore\")\n",
    "from graphviz import Digraph\n",
    "import logging\n",
    "logger = logging.getLogger()\n",
    "logger.setLevel(logging.INFO)"
   ]
  },
  {
   "cell_type": "markdown",
   "metadata": {},
   "source": [
    "## Amharic"
   ]
  },
  {
   "cell_type": "code",
   "execution_count": 4,
   "metadata": {},
   "outputs": [],
   "source": [
    "from Cfg import Cfg\n",
    "C = Cfg('NIST', 8000, 'amharic') "
   ]
  },
  {
   "cell_type": "markdown",
   "metadata": {},
   "source": [
    "## Split Corpus into Recordings $\\langle A_i,T_i \\rangle$"
   ]
  },
  {
   "cell_type": "code",
   "execution_count": null,
   "metadata": {
    "scrolled": true
   },
   "outputs": [],
   "source": [
    "import split_corpus_into_recordings\n",
    "split_corpus_into_recordings.diagram(C)"
   ]
  },
  {
   "cell_type": "code",
   "execution_count": null,
   "metadata": {},
   "outputs": [],
   "source": [
    "from RecordingCorpus import RecordingCorpus\n",
    "from multiprocessing import Pool\n",
    "from contextlib import closing\n",
    "if __name__ == '__main__':\n",
    "    with closing(Pool(16)) as pool:\n",
    "        recordings = RecordingCorpus(C, pool)"
   ]
  },
  {
   "cell_type": "code",
   "execution_count": null,
   "metadata": {},
   "outputs": [],
   "source": [
    "id_recording={x.key:x for x in recordings.artifacts}"
   ]
  },
  {
   "cell_type": "markdown",
   "metadata": {},
   "source": [
    "## Split Recordings $\\langle A_i,T_i \\rangle$ into Splits $\\langle A_{i,j}, T_{i,j} \\rangle$ "
   ]
  },
  {
   "cell_type": "code",
   "execution_count": null,
   "metadata": {
    "scrolled": true
   },
   "outputs": [],
   "source": [
    "import split_recordings_into_splits\n",
    "split_recordings_into_splits.diagram(C)"
   ]
  },
  {
   "cell_type": "code",
   "execution_count": null,
   "metadata": {},
   "outputs": [],
   "source": [
    "from SplitCorpus import SplitCorpus\n",
    "splits=SplitCorpus.from_recordings(C, recordings)"
   ]
  },
  {
   "cell_type": "code",
   "execution_count": null,
   "metadata": {},
   "outputs": [],
   "source": [
    "id_splits={x.key:x for x in splits.artifacts}"
   ]
  },
  {
   "cell_type": "markdown",
   "metadata": {},
   "source": [
    "## Subsplit $A_{i,j}$ on silence and apportion text to trimmed chunks by word sizes in $T_{i,j} = \\langle w_{i,j,k} \\rangle$ where $w_{i,j,k}=\\langle g_{i,j,k,l} \\rangle$"
   ]
  },
  {
   "cell_type": "code",
   "execution_count": null,
   "metadata": {
    "scrolled": true
   },
   "outputs": [],
   "source": [
    "import subsplit_Aij_on_silence_and_apportion_text_by_size\n",
    "subsplit_Aij_on_silence_and_apportion_text_by_size.diagram"
   ]
  },
  {
   "cell_type": "code",
   "execution_count": null,
   "metadata": {},
   "outputs": [],
   "source": [
    "from SubSplitCorpus import SubSplitCorpus\n",
    "if __name__==\"__main__\":\n",
    "    if False:\n",
    "        with closing(Pool(16)) as pool:\n",
    "            subsplits=SubSplitCorpus(pool, splits, min_words=2)\n",
    "        with open('bfgpu.pkl', 'wb') as f:\n",
    "            pickle.dump(subsplits,f)\n",
    "    else:\n",
    "        with open('bfgpu.pkl', 'rb') as f:\n",
    "            subsplits=pickle.load(f)"
   ]
  },
  {
   "cell_type": "code",
   "execution_count": null,
   "metadata": {},
   "outputs": [],
   "source": [
    "id_subsplits={x.key:x for x in subsplits.artifacts}"
   ]
  },
  {
   "cell_type": "markdown",
   "metadata": {},
   "source": [
    "# Train ASR NN on subsplits $\\langle A_{i,j,k}, T_{i,j,k} \\rangle$ inferring $P_{i,j,k}$"
   ]
  },
  {
   "cell_type": "code",
   "execution_count": null,
   "metadata": {},
   "outputs": [],
   "source": [
    "import train_ASR_NN_on_subsplits\n",
    "train_ASR_NN_on_subsplits.diagram"
   ]
  },
  {
   "cell_type": "code",
   "execution_count": null,
   "metadata": {},
   "outputs": [],
   "source": [
    "import os\n",
    "os.environ['IN_JUPYTER']='True'"
   ]
  },
  {
   "cell_type": "code",
   "execution_count": null,
   "metadata": {},
   "outputs": [],
   "source": [
    "from ASR_NN import ASR_NN\n",
    "model_ASR = ASR_NN(C);\n",
    "model_ASR.load_model();\n",
    "model_ASR.load_training_set(subsplits, batch_size=24)\n",
    "ASR_output = model_ASR.infer()\n",
    "ASR_scores = model_ASR.score(ASR_output)"
   ]
  },
  {
   "cell_type": "markdown",
   "metadata": {},
   "source": [
    "Clean up GPU memory for next phase"
   ]
  },
  {
   "cell_type": "code",
   "execution_count": null,
   "metadata": {},
   "outputs": [],
   "source": [
    "import torch\n",
    "del model_ASR\n",
    "torch.cuda.empty_cache() "
   ]
  },
  {
   "cell_type": "markdown",
   "metadata": {},
   "source": [
    "## Concatenate $P_{i,j,k}$ giving $P_{i,j} = P_{i,j,1}\\|\\cdots\\|P_{i,j,-1}$"
   ]
  },
  {
   "cell_type": "code",
   "execution_count": null,
   "metadata": {},
   "outputs": [],
   "source": [
    "import concatenate_Pikj_giving_Pij\n",
    "concatenate_Pikj_giving_Pij.diagram"
   ]
  },
  {
   "cell_type": "code",
   "execution_count": null,
   "metadata": {},
   "outputs": [],
   "source": [
    "for order, hyp in ASR_scores[['order','hyp']].values:\n",
    "    subsplits.artifacts[order].P = hyp"
   ]
  },
  {
   "cell_type": "code",
   "execution_count": null,
   "metadata": {},
   "outputs": [],
   "source": [
    "Pij={x.key[0:-1]:{} for x in subsplits.artifacts}\n",
    "\n",
    "for x in subsplits.artifacts:\n",
    "    Pij[x.key[0:-1]][x.key[-1]] = x.P\n",
    "\n",
    "for key in Pij:\n",
    "    Pij[key] = ' '.join([y for x,y in Pij[key].items()])\n",
    "\n",
    "for key in Pij:\n",
    "    id_splits[key].P=Pij[key]"
   ]
  },
  {
   "cell_type": "markdown",
   "metadata": {},
   "source": [
    "## Join text corrector training sets $\\langle P_{i,j,k}, T_{i,j,k}\\rangle$ and $\\langle P_{i,j}, T_{i,j}\\rangle$ giving training set $\\langle P, T\\rangle$"
   ]
  },
  {
   "cell_type": "code",
   "execution_count": null,
   "metadata": {
    "scrolled": true
   },
   "outputs": [],
   "source": [
    "import join_Pijk_and_Pij_giving_P\n",
    "join_Pijk_and_Pij_giving_P.diagram"
   ]
  },
  {
   "cell_type": "code",
   "execution_count": null,
   "metadata": {},
   "outputs": [],
   "source": [
    "Pijk_Tijk=[(x.P, x.target.value, x) for x in subsplits.artifacts]\n",
    "In [ ]:\n",
    "￼\n",
    "import score_TiQi_using_sclite_on_all_recordings_together\n",
    "score_TiQi_using_sclite_on_all_recordings_together.diagram\n",
    "In [ ]:\n",
    "￼\n",
    "​\n"
   ]
  },
  {
   "cell_type": "code",
   "execution_count": null,
   "metadata": {},
   "outputs": [],
   "source": [
    "Pij_Tij=[(y.P, y.target.value, y) for x,y in id_splits.items() if 'P' in vars(y)]"
   ]
  },
  {
   "cell_type": "code",
   "execution_count": null,
   "metadata": {},
   "outputs": [],
   "source": [
    "P_T=Pijk_Tijk+Pij_Tij"
   ]
  },
  {
   "cell_type": "code",
   "execution_count": null,
   "metadata": {},
   "outputs": [],
   "source": [
    "!ls -l pt.pkl"
   ]
  },
  {
   "cell_type": "code",
   "execution_count": 5,
   "metadata": {},
   "outputs": [],
   "source": [
    "if False:\n",
    "    with open('pt.pkl', 'wb') as f:\n",
    "        pickle.dump(P_T, f)\n",
    "else:\n",
    "    with open('pt.pkl', 'rb') as f:\n",
    "        P_T = pickle.load(f)"
   ]
  },
  {
   "cell_type": "markdown",
   "metadata": {},
   "source": [
    "## Infer text-to-text corrector $P\\to Q\\approx T$ and score"
   ]
  },
  {
   "cell_type": "code",
   "execution_count": 6,
   "metadata": {
    "scrolled": false
   },
   "outputs": [
    {
     "data": {
      "image/svg+xml": [
       "<?xml version=\"1.0\" encoding=\"UTF-8\" standalone=\"no\"?>\n",
       "<!DOCTYPE svg PUBLIC \"-//W3C//DTD SVG 1.1//EN\"\n",
       " \"http://www.w3.org/Graphics/SVG/1.1/DTD/svg11.dtd\">\n",
       "<!-- Generated by graphviz version 2.43.0 (0)\n",
       " -->\n",
       "<!-- Title: %3 Pages: 1 -->\n",
       "<svg width=\"484pt\" height=\"340pt\"\n",
       " viewBox=\"0.00 0.00 483.83 340.00\" xmlns=\"http://www.w3.org/2000/svg\" xmlns:xlink=\"http://www.w3.org/1999/xlink\">\n",
       "<g id=\"graph0\" class=\"graph\" transform=\"scale(1 1) rotate(0) translate(4 336)\">\n",
       "<title>%3</title>\n",
       "<polygon fill=\"white\" stroke=\"transparent\" points=\"-4,4 -4,-336 479.83,-336 479.83,4 -4,4\"/>\n",
       "<!-- Training set &lt;P,T&gt; -->\n",
       "<g id=\"node1\" class=\"node\">\n",
       "<title>Training set &lt;P,T&gt;</title>\n",
       "<polygon fill=\"none\" stroke=\"black\" points=\"310,-328 164,-328 164,-292 316,-292 316,-322 310,-328\"/>\n",
       "<polyline fill=\"none\" stroke=\"black\" points=\"310,-328 310,-322 \"/>\n",
       "<polyline fill=\"none\" stroke=\"black\" points=\"316,-322 310,-322 \"/>\n",
       "<text text-anchor=\"middle\" x=\"240\" y=\"-306.3\" font-family=\"Times,serif\" font-size=\"14.00\">Training set &lt;P,T&gt;</text>\n",
       "</g>\n",
       "<!-- TTC NN Trainer -->\n",
       "<g id=\"node2\" class=\"node\">\n",
       "<title>TTC NN Trainer</title>\n",
       "<polygon fill=\"none\" stroke=\"black\" points=\"306,-252 178,-252 174,-248 174,-216 302,-216 306,-220 306,-252\"/>\n",
       "<polyline fill=\"none\" stroke=\"black\" points=\"302,-248 174,-248 \"/>\n",
       "<polyline fill=\"none\" stroke=\"black\" points=\"302,-248 302,-216 \"/>\n",
       "<polyline fill=\"none\" stroke=\"black\" points=\"302,-248 306,-252 \"/>\n",
       "<text text-anchor=\"middle\" x=\"240\" y=\"-230.3\" font-family=\"Times,serif\" font-size=\"14.00\">TTC NN Trainer</text>\n",
       "</g>\n",
       "<!-- Training set &lt;P,T&gt;&#45;&gt;TTC NN Trainer -->\n",
       "<g id=\"edge1\" class=\"edge\">\n",
       "<title>Training set &lt;P,T&gt;&#45;&gt;TTC NN Trainer</title>\n",
       "<path fill=\"none\" stroke=\"black\" d=\"M236,-291.84C236,-285.95 236,-279.12 236,-272.27\"/>\n",
       "<path fill=\"none\" stroke=\"transparent\" d=\"M238,-291.84C238,-285.95 238,-279.12 238,-272.27\"/>\n",
       "<path fill=\"none\" stroke=\"black\" d=\"M240,-291.84C240,-285.95 240,-279.12 240,-272.27\"/>\n",
       "<path fill=\"none\" stroke=\"transparent\" d=\"M242,-291.84C242,-285.95 242,-279.12 242,-272.27\"/>\n",
       "<path fill=\"none\" stroke=\"black\" d=\"M244,-291.84C244,-285.95 244,-279.12 244,-272.27\"/>\n",
       "<polygon fill=\"black\" stroke=\"black\" points=\"247,-272.07 240,-252.07 233,-272.07 247,-272.07\"/>\n",
       "</g>\n",
       "<!-- Model output &lt;Gold,Pred&gt;=&lt;T,Q&gt; -->\n",
       "<g id=\"node4\" class=\"node\">\n",
       "<title>Model output &lt;Gold,Pred&gt;=&lt;T,Q&gt;</title>\n",
       "<polygon fill=\"none\" stroke=\"black\" points=\"266,-180 0,-180 0,-144 272,-144 272,-174 266,-180\"/>\n",
       "<polyline fill=\"none\" stroke=\"black\" points=\"266,-180 266,-174 \"/>\n",
       "<polyline fill=\"none\" stroke=\"black\" points=\"272,-174 266,-174 \"/>\n",
       "<text text-anchor=\"middle\" x=\"136\" y=\"-158.3\" font-family=\"Times,serif\" font-size=\"14.00\">Model output &lt;Gold,Pred&gt;=&lt;T,Q&gt;</text>\n",
       "</g>\n",
       "<!-- TTC NN Trainer&#45;&gt;Model output &lt;Gold,Pred&gt;=&lt;T,Q&gt; -->\n",
       "<g id=\"edge3\" class=\"edge\">\n",
       "<title>TTC NN Trainer&#45;&gt;Model output &lt;Gold,Pred&gt;=&lt;T,Q&gt;</title>\n",
       "<path fill=\"none\" stroke=\"black\" d=\"M212.33,-219.19C201.37,-211.82 188.27,-203 175.93,-194.7\"/>\n",
       "<path fill=\"none\" stroke=\"transparent\" d=\"M213.44,-217.54C202.49,-210.16 189.38,-201.34 177.05,-193.04\"/>\n",
       "<path fill=\"none\" stroke=\"black\" d=\"M214.56,-215.88C203.6,-208.5 190.5,-199.68 178.16,-191.38\"/>\n",
       "<path fill=\"none\" stroke=\"transparent\" d=\"M215.68,-214.22C204.72,-206.84 191.62,-198.02 179.28,-189.72\"/>\n",
       "<path fill=\"none\" stroke=\"black\" d=\"M216.79,-212.56C205.84,-205.18 192.74,-196.37 180.4,-188.06\"/>\n",
       "<polygon fill=\"black\" stroke=\"black\" points=\"182.04,-185.55 161.54,-180.19 174.22,-197.16 182.04,-185.55\"/>\n",
       "</g>\n",
       "<!-- Model TT -->\n",
       "<g id=\"node7\" class=\"node\">\n",
       "<title>Model TT</title>\n",
       "<ellipse fill=\"none\" stroke=\"black\" cx=\"345\" cy=\"-162\" rx=\"55.49\" ry=\"18\"/>\n",
       "<text text-anchor=\"middle\" x=\"345\" y=\"-158.3\" font-family=\"Times,serif\" font-size=\"14.00\">Model TT</text>\n",
       "</g>\n",
       "<!-- TTC NN Trainer&#45;&gt;Model TT -->\n",
       "<g id=\"edge2\" class=\"edge\">\n",
       "<title>TTC NN Trainer&#45;&gt;Model TT</title>\n",
       "<path fill=\"none\" stroke=\"black\" d=\"M263.47,-212.55C275.24,-204.7 289.47,-195.21 302.6,-186.46\"/>\n",
       "<path fill=\"none\" stroke=\"transparent\" d=\"M264.58,-214.21C276.35,-206.36 290.58,-196.88 303.71,-188.12\"/>\n",
       "<path fill=\"none\" stroke=\"black\" d=\"M265.69,-215.88C277.46,-208.03 291.69,-198.54 304.82,-189.78\"/>\n",
       "<path fill=\"none\" stroke=\"transparent\" d=\"M266.8,-217.54C278.57,-209.69 292.79,-200.21 305.93,-191.45\"/>\n",
       "<path fill=\"none\" stroke=\"black\" d=\"M267.9,-219.2C279.68,-211.36 293.9,-201.87 307.04,-193.11\"/>\n",
       "<polygon fill=\"black\" stroke=\"black\" points=\"308.97,-195.43 321.73,-178.51 301.2,-183.78 308.97,-195.43\"/>\n",
       "</g>\n",
       "<!-- Model TTC -->\n",
       "<g id=\"node3\" class=\"node\">\n",
       "<title>Model TTC</title>\n",
       "<polygon fill=\"none\" stroke=\"black\" points=\"471.67,-302.54 471.67,-317.46 432.62,-328 377.38,-328 338.33,-317.46 338.33,-302.54 377.38,-292 432.62,-292 471.67,-302.54\"/>\n",
       "<polygon fill=\"none\" stroke=\"black\" points=\"475.66,-299.48 475.66,-320.52 433.15,-332 376.85,-332 334.34,-320.52 334.34,-299.48 376.85,-288 433.15,-288 475.66,-299.48\"/>\n",
       "<text text-anchor=\"middle\" x=\"405\" y=\"-306.3\" font-family=\"Times,serif\" font-size=\"14.00\">Model TTC</text>\n",
       "</g>\n",
       "<!-- Scoring function -->\n",
       "<g id=\"node5\" class=\"node\">\n",
       "<title>Scoring function</title>\n",
       "<polygon fill=\"none\" stroke=\"black\" points=\"203,-108 73,-108 69,-104 69,-72 199,-72 203,-76 203,-108\"/>\n",
       "<polyline fill=\"none\" stroke=\"black\" points=\"199,-104 69,-104 \"/>\n",
       "<polyline fill=\"none\" stroke=\"black\" points=\"199,-104 199,-72 \"/>\n",
       "<polyline fill=\"none\" stroke=\"black\" points=\"199,-104 203,-108 \"/>\n",
       "<text text-anchor=\"middle\" x=\"136\" y=\"-86.3\" font-family=\"Times,serif\" font-size=\"14.00\">Scoring function</text>\n",
       "</g>\n",
       "<!-- Model output &lt;Gold,Pred&gt;=&lt;T,Q&gt;&#45;&gt;Scoring function -->\n",
       "<g id=\"edge4\" class=\"edge\">\n",
       "<title>Model output &lt;Gold,Pred&gt;=&lt;T,Q&gt;&#45;&gt;Scoring function</title>\n",
       "<path fill=\"none\" stroke=\"black\" d=\"M132,-143.7C132,-138.95 132,-133.61 132,-128.21\"/>\n",
       "<path fill=\"none\" stroke=\"transparent\" d=\"M134,-143.7C134,-138.95 134,-133.61 134,-128.21\"/>\n",
       "<path fill=\"none\" stroke=\"black\" d=\"M136,-143.7C136,-138.95 136,-133.61 136,-128.21\"/>\n",
       "<path fill=\"none\" stroke=\"transparent\" d=\"M138,-143.7C138,-138.95 138,-133.61 138,-128.21\"/>\n",
       "<path fill=\"none\" stroke=\"black\" d=\"M140,-143.7C140,-138.95 140,-133.61 140,-128.21\"/>\n",
       "<polygon fill=\"black\" stroke=\"black\" points=\"143,-128.1 136,-108.1 129,-128.1 143,-128.1\"/>\n",
       "</g>\n",
       "<!-- Scores WER&lt;T,Q&gt;,CER&lt;T,Q&gt; -->\n",
       "<g id=\"node6\" class=\"node\">\n",
       "<title>Scores WER&lt;T,Q&gt;,CER&lt;T,Q&gt;</title>\n",
       "<polygon fill=\"none\" stroke=\"black\" points=\"247.5,-36 18.5,-36 18.5,0 253.5,0 253.5,-30 247.5,-36\"/>\n",
       "<polyline fill=\"none\" stroke=\"black\" points=\"247.5,-36 247.5,-30 \"/>\n",
       "<polyline fill=\"none\" stroke=\"black\" points=\"253.5,-30 247.5,-30 \"/>\n",
       "<text text-anchor=\"middle\" x=\"136\" y=\"-14.3\" font-family=\"Times,serif\" font-size=\"14.00\">Scores WER&lt;T,Q&gt;,CER&lt;T,Q&gt;</text>\n",
       "</g>\n",
       "<!-- Scoring function&#45;&gt;Scores WER&lt;T,Q&gt;,CER&lt;T,Q&gt; -->\n",
       "<g id=\"edge5\" class=\"edge\">\n",
       "<title>Scoring function&#45;&gt;Scores WER&lt;T,Q&gt;,CER&lt;T,Q&gt;</title>\n",
       "<path fill=\"none\" stroke=\"black\" d=\"M132,-71.7C132,-66.95 132,-61.61 132,-56.21\"/>\n",
       "<path fill=\"none\" stroke=\"transparent\" d=\"M134,-71.7C134,-66.95 134,-61.61 134,-56.21\"/>\n",
       "<path fill=\"none\" stroke=\"black\" d=\"M136,-71.7C136,-66.95 136,-61.61 136,-56.21\"/>\n",
       "<path fill=\"none\" stroke=\"transparent\" d=\"M138,-71.7C138,-66.95 138,-61.61 138,-56.21\"/>\n",
       "<path fill=\"none\" stroke=\"black\" d=\"M140,-71.7C140,-66.95 140,-61.61 140,-56.21\"/>\n",
       "<polygon fill=\"black\" stroke=\"black\" points=\"143,-56.1 136,-36.1 129,-56.1 143,-56.1\"/>\n",
       "</g>\n",
       "</g>\n",
       "</svg>\n"
      ],
      "text/plain": [
       "<graphviz.dot.Digraph at 0x7f8c10588340>"
      ]
     },
     "execution_count": 6,
     "metadata": {},
     "output_type": "execute_result"
    }
   ],
   "source": [
    "import train_text_to_text_corrector_on_PQT_score\n",
    "train_text_to_text_corrector_on_PQT_score.diagram"
   ]
  },
  {
   "cell_type": "code",
   "execution_count": 7,
   "metadata": {},
   "outputs": [],
   "source": [
    "from TTC_NN import TTC_NN"
   ]
  },
  {
   "cell_type": "code",
   "execution_count": 8,
   "metadata": {
    "scrolled": true
   },
   "outputs": [],
   "source": [
    "model_TTC = TTC_NN(C);"
   ]
  },
  {
   "cell_type": "code",
   "execution_count": 9,
   "metadata": {},
   "outputs": [
    {
     "name": "stderr",
     "output_type": "stream",
     "text": [
      "INFO:root:Batch size 64\n",
      "INFO:root:#Training examples 45208\n",
      "INFO:root:#graphemes 235\n"
     ]
    }
   ],
   "source": [
    "model_TTC.load_training_set(P_T, 64)"
   ]
  },
  {
   "cell_type": "code",
   "execution_count": 10,
   "metadata": {
    "scrolled": true
   },
   "outputs": [
    {
     "name": "stdout",
     "output_type": "stream",
     "text": [
      "The model has 4,399,599 trainable parameters\n"
     ]
    }
   ],
   "source": [
    "model_TTC.load_model('save/afterburner/afterburner_002_94804_9.pt');"
   ]
  },
  {
   "cell_type": "code",
   "execution_count": null,
   "metadata": {
    "scrolled": false
   },
   "outputs": [
    {
     "name": "stdout",
     "output_type": "stream",
     "text": [
      "707 batches / epoch\n"
     ]
    },
    {
     "data": {
      "application/javascript": [
       "/* Put everything inside the global mpl namespace */\n",
       "window.mpl = {};\n",
       "\n",
       "\n",
       "mpl.get_websocket_type = function() {\n",
       "    if (typeof(WebSocket) !== 'undefined') {\n",
       "        return WebSocket;\n",
       "    } else if (typeof(MozWebSocket) !== 'undefined') {\n",
       "        return MozWebSocket;\n",
       "    } else {\n",
       "        alert('Your browser does not have WebSocket support. ' +\n",
       "              'Please try Chrome, Safari or Firefox ≥ 6. ' +\n",
       "              'Firefox 4 and 5 are also supported but you ' +\n",
       "              'have to enable WebSockets in about:config.');\n",
       "    };\n",
       "}\n",
       "\n",
       "mpl.figure = function(figure_id, websocket, ondownload, parent_element) {\n",
       "    this.id = figure_id;\n",
       "\n",
       "    this.ws = websocket;\n",
       "\n",
       "    this.supports_binary = (this.ws.binaryType != undefined);\n",
       "\n",
       "    if (!this.supports_binary) {\n",
       "        var warnings = document.getElementById(\"mpl-warnings\");\n",
       "        if (warnings) {\n",
       "            warnings.style.display = 'block';\n",
       "            warnings.textContent = (\n",
       "                \"This browser does not support binary websocket messages. \" +\n",
       "                    \"Performance may be slow.\");\n",
       "        }\n",
       "    }\n",
       "\n",
       "    this.imageObj = new Image();\n",
       "\n",
       "    this.context = undefined;\n",
       "    this.message = undefined;\n",
       "    this.canvas = undefined;\n",
       "    this.rubberband_canvas = undefined;\n",
       "    this.rubberband_context = undefined;\n",
       "    this.format_dropdown = undefined;\n",
       "\n",
       "    this.image_mode = 'full';\n",
       "\n",
       "    this.root = $('<div/>');\n",
       "    this._root_extra_style(this.root)\n",
       "    this.root.attr('style', 'display: inline-block');\n",
       "\n",
       "    $(parent_element).append(this.root);\n",
       "\n",
       "    this._init_header(this);\n",
       "    this._init_canvas(this);\n",
       "    this._init_toolbar(this);\n",
       "\n",
       "    var fig = this;\n",
       "\n",
       "    this.waiting = false;\n",
       "\n",
       "    this.ws.onopen =  function () {\n",
       "            fig.send_message(\"supports_binary\", {value: fig.supports_binary});\n",
       "            fig.send_message(\"send_image_mode\", {});\n",
       "            if (mpl.ratio != 1) {\n",
       "                fig.send_message(\"set_dpi_ratio\", {'dpi_ratio': mpl.ratio});\n",
       "            }\n",
       "            fig.send_message(\"refresh\", {});\n",
       "        }\n",
       "\n",
       "    this.imageObj.onload = function() {\n",
       "            if (fig.image_mode == 'full') {\n",
       "                // Full images could contain transparency (where diff images\n",
       "                // almost always do), so we need to clear the canvas so that\n",
       "                // there is no ghosting.\n",
       "                fig.context.clearRect(0, 0, fig.canvas.width, fig.canvas.height);\n",
       "            }\n",
       "            fig.context.drawImage(fig.imageObj, 0, 0);\n",
       "        };\n",
       "\n",
       "    this.imageObj.onunload = function() {\n",
       "        fig.ws.close();\n",
       "    }\n",
       "\n",
       "    this.ws.onmessage = this._make_on_message_function(this);\n",
       "\n",
       "    this.ondownload = ondownload;\n",
       "}\n",
       "\n",
       "mpl.figure.prototype._init_header = function() {\n",
       "    var titlebar = $(\n",
       "        '<div class=\"ui-dialog-titlebar ui-widget-header ui-corner-all ' +\n",
       "        'ui-helper-clearfix\"/>');\n",
       "    var titletext = $(\n",
       "        '<div class=\"ui-dialog-title\" style=\"width: 100%; ' +\n",
       "        'text-align: center; padding: 3px;\"/>');\n",
       "    titlebar.append(titletext)\n",
       "    this.root.append(titlebar);\n",
       "    this.header = titletext[0];\n",
       "}\n",
       "\n",
       "\n",
       "\n",
       "mpl.figure.prototype._canvas_extra_style = function(canvas_div) {\n",
       "\n",
       "}\n",
       "\n",
       "\n",
       "mpl.figure.prototype._root_extra_style = function(canvas_div) {\n",
       "\n",
       "}\n",
       "\n",
       "mpl.figure.prototype._init_canvas = function() {\n",
       "    var fig = this;\n",
       "\n",
       "    var canvas_div = $('<div/>');\n",
       "\n",
       "    canvas_div.attr('style', 'position: relative; clear: both; outline: 0');\n",
       "\n",
       "    function canvas_keyboard_event(event) {\n",
       "        return fig.key_event(event, event['data']);\n",
       "    }\n",
       "\n",
       "    canvas_div.keydown('key_press', canvas_keyboard_event);\n",
       "    canvas_div.keyup('key_release', canvas_keyboard_event);\n",
       "    this.canvas_div = canvas_div\n",
       "    this._canvas_extra_style(canvas_div)\n",
       "    this.root.append(canvas_div);\n",
       "\n",
       "    var canvas = $('<canvas/>');\n",
       "    canvas.addClass('mpl-canvas');\n",
       "    canvas.attr('style', \"left: 0; top: 0; z-index: 0; outline: 0\")\n",
       "\n",
       "    this.canvas = canvas[0];\n",
       "    this.context = canvas[0].getContext(\"2d\");\n",
       "\n",
       "    var backingStore = this.context.backingStorePixelRatio ||\n",
       "\tthis.context.webkitBackingStorePixelRatio ||\n",
       "\tthis.context.mozBackingStorePixelRatio ||\n",
       "\tthis.context.msBackingStorePixelRatio ||\n",
       "\tthis.context.oBackingStorePixelRatio ||\n",
       "\tthis.context.backingStorePixelRatio || 1;\n",
       "\n",
       "    mpl.ratio = (window.devicePixelRatio || 1) / backingStore;\n",
       "\n",
       "    var rubberband = $('<canvas/>');\n",
       "    rubberband.attr('style', \"position: absolute; left: 0; top: 0; z-index: 1;\")\n",
       "\n",
       "    var pass_mouse_events = true;\n",
       "\n",
       "    canvas_div.resizable({\n",
       "        start: function(event, ui) {\n",
       "            pass_mouse_events = false;\n",
       "        },\n",
       "        resize: function(event, ui) {\n",
       "            fig.request_resize(ui.size.width, ui.size.height);\n",
       "        },\n",
       "        stop: function(event, ui) {\n",
       "            pass_mouse_events = true;\n",
       "            fig.request_resize(ui.size.width, ui.size.height);\n",
       "        },\n",
       "    });\n",
       "\n",
       "    function mouse_event_fn(event) {\n",
       "        if (pass_mouse_events)\n",
       "            return fig.mouse_event(event, event['data']);\n",
       "    }\n",
       "\n",
       "    rubberband.mousedown('button_press', mouse_event_fn);\n",
       "    rubberband.mouseup('button_release', mouse_event_fn);\n",
       "    // Throttle sequential mouse events to 1 every 20ms.\n",
       "    rubberband.mousemove('motion_notify', mouse_event_fn);\n",
       "\n",
       "    rubberband.mouseenter('figure_enter', mouse_event_fn);\n",
       "    rubberband.mouseleave('figure_leave', mouse_event_fn);\n",
       "\n",
       "    canvas_div.on(\"wheel\", function (event) {\n",
       "        event = event.originalEvent;\n",
       "        event['data'] = 'scroll'\n",
       "        if (event.deltaY < 0) {\n",
       "            event.step = 1;\n",
       "        } else {\n",
       "            event.step = -1;\n",
       "        }\n",
       "        mouse_event_fn(event);\n",
       "    });\n",
       "\n",
       "    canvas_div.append(canvas);\n",
       "    canvas_div.append(rubberband);\n",
       "\n",
       "    this.rubberband = rubberband;\n",
       "    this.rubberband_canvas = rubberband[0];\n",
       "    this.rubberband_context = rubberband[0].getContext(\"2d\");\n",
       "    this.rubberband_context.strokeStyle = \"#000000\";\n",
       "\n",
       "    this._resize_canvas = function(width, height) {\n",
       "        // Keep the size of the canvas, canvas container, and rubber band\n",
       "        // canvas in synch.\n",
       "        canvas_div.css('width', width)\n",
       "        canvas_div.css('height', height)\n",
       "\n",
       "        canvas.attr('width', width * mpl.ratio);\n",
       "        canvas.attr('height', height * mpl.ratio);\n",
       "        canvas.attr('style', 'width: ' + width + 'px; height: ' + height + 'px;');\n",
       "\n",
       "        rubberband.attr('width', width);\n",
       "        rubberband.attr('height', height);\n",
       "    }\n",
       "\n",
       "    // Set the figure to an initial 600x600px, this will subsequently be updated\n",
       "    // upon first draw.\n",
       "    this._resize_canvas(600, 600);\n",
       "\n",
       "    // Disable right mouse context menu.\n",
       "    $(this.rubberband_canvas).bind(\"contextmenu\",function(e){\n",
       "        return false;\n",
       "    });\n",
       "\n",
       "    function set_focus () {\n",
       "        canvas.focus();\n",
       "        canvas_div.focus();\n",
       "    }\n",
       "\n",
       "    window.setTimeout(set_focus, 100);\n",
       "}\n",
       "\n",
       "mpl.figure.prototype._init_toolbar = function() {\n",
       "    var fig = this;\n",
       "\n",
       "    var nav_element = $('<div/>');\n",
       "    nav_element.attr('style', 'width: 100%');\n",
       "    this.root.append(nav_element);\n",
       "\n",
       "    // Define a callback function for later on.\n",
       "    function toolbar_event(event) {\n",
       "        return fig.toolbar_button_onclick(event['data']);\n",
       "    }\n",
       "    function toolbar_mouse_event(event) {\n",
       "        return fig.toolbar_button_onmouseover(event['data']);\n",
       "    }\n",
       "\n",
       "    for(var toolbar_ind in mpl.toolbar_items) {\n",
       "        var name = mpl.toolbar_items[toolbar_ind][0];\n",
       "        var tooltip = mpl.toolbar_items[toolbar_ind][1];\n",
       "        var image = mpl.toolbar_items[toolbar_ind][2];\n",
       "        var method_name = mpl.toolbar_items[toolbar_ind][3];\n",
       "\n",
       "        if (!name) {\n",
       "            // put a spacer in here.\n",
       "            continue;\n",
       "        }\n",
       "        var button = $('<button/>');\n",
       "        button.addClass('ui-button ui-widget ui-state-default ui-corner-all ' +\n",
       "                        'ui-button-icon-only');\n",
       "        button.attr('role', 'button');\n",
       "        button.attr('aria-disabled', 'false');\n",
       "        button.click(method_name, toolbar_event);\n",
       "        button.mouseover(tooltip, toolbar_mouse_event);\n",
       "\n",
       "        var icon_img = $('<span/>');\n",
       "        icon_img.addClass('ui-button-icon-primary ui-icon');\n",
       "        icon_img.addClass(image);\n",
       "        icon_img.addClass('ui-corner-all');\n",
       "\n",
       "        var tooltip_span = $('<span/>');\n",
       "        tooltip_span.addClass('ui-button-text');\n",
       "        tooltip_span.html(tooltip);\n",
       "\n",
       "        button.append(icon_img);\n",
       "        button.append(tooltip_span);\n",
       "\n",
       "        nav_element.append(button);\n",
       "    }\n",
       "\n",
       "    var fmt_picker_span = $('<span/>');\n",
       "\n",
       "    var fmt_picker = $('<select/>');\n",
       "    fmt_picker.addClass('mpl-toolbar-option ui-widget ui-widget-content');\n",
       "    fmt_picker_span.append(fmt_picker);\n",
       "    nav_element.append(fmt_picker_span);\n",
       "    this.format_dropdown = fmt_picker[0];\n",
       "\n",
       "    for (var ind in mpl.extensions) {\n",
       "        var fmt = mpl.extensions[ind];\n",
       "        var option = $(\n",
       "            '<option/>', {selected: fmt === mpl.default_extension}).html(fmt);\n",
       "        fmt_picker.append(option);\n",
       "    }\n",
       "\n",
       "    // Add hover states to the ui-buttons\n",
       "    $( \".ui-button\" ).hover(\n",
       "        function() { $(this).addClass(\"ui-state-hover\");},\n",
       "        function() { $(this).removeClass(\"ui-state-hover\");}\n",
       "    );\n",
       "\n",
       "    var status_bar = $('<span class=\"mpl-message\"/>');\n",
       "    nav_element.append(status_bar);\n",
       "    this.message = status_bar[0];\n",
       "}\n",
       "\n",
       "mpl.figure.prototype.request_resize = function(x_pixels, y_pixels) {\n",
       "    // Request matplotlib to resize the figure. Matplotlib will then trigger a resize in the client,\n",
       "    // which will in turn request a refresh of the image.\n",
       "    this.send_message('resize', {'width': x_pixels, 'height': y_pixels});\n",
       "}\n",
       "\n",
       "mpl.figure.prototype.send_message = function(type, properties) {\n",
       "    properties['type'] = type;\n",
       "    properties['figure_id'] = this.id;\n",
       "    this.ws.send(JSON.stringify(properties));\n",
       "}\n",
       "\n",
       "mpl.figure.prototype.send_draw_message = function() {\n",
       "    if (!this.waiting) {\n",
       "        this.waiting = true;\n",
       "        this.ws.send(JSON.stringify({type: \"draw\", figure_id: this.id}));\n",
       "    }\n",
       "}\n",
       "\n",
       "\n",
       "mpl.figure.prototype.handle_save = function(fig, msg) {\n",
       "    var format_dropdown = fig.format_dropdown;\n",
       "    var format = format_dropdown.options[format_dropdown.selectedIndex].value;\n",
       "    fig.ondownload(fig, format);\n",
       "}\n",
       "\n",
       "\n",
       "mpl.figure.prototype.handle_resize = function(fig, msg) {\n",
       "    var size = msg['size'];\n",
       "    if (size[0] != fig.canvas.width || size[1] != fig.canvas.height) {\n",
       "        fig._resize_canvas(size[0], size[1]);\n",
       "        fig.send_message(\"refresh\", {});\n",
       "    };\n",
       "}\n",
       "\n",
       "mpl.figure.prototype.handle_rubberband = function(fig, msg) {\n",
       "    var x0 = msg['x0'] / mpl.ratio;\n",
       "    var y0 = (fig.canvas.height - msg['y0']) / mpl.ratio;\n",
       "    var x1 = msg['x1'] / mpl.ratio;\n",
       "    var y1 = (fig.canvas.height - msg['y1']) / mpl.ratio;\n",
       "    x0 = Math.floor(x0) + 0.5;\n",
       "    y0 = Math.floor(y0) + 0.5;\n",
       "    x1 = Math.floor(x1) + 0.5;\n",
       "    y1 = Math.floor(y1) + 0.5;\n",
       "    var min_x = Math.min(x0, x1);\n",
       "    var min_y = Math.min(y0, y1);\n",
       "    var width = Math.abs(x1 - x0);\n",
       "    var height = Math.abs(y1 - y0);\n",
       "\n",
       "    fig.rubberband_context.clearRect(\n",
       "        0, 0, fig.canvas.width / mpl.ratio, fig.canvas.height / mpl.ratio);\n",
       "\n",
       "    fig.rubberband_context.strokeRect(min_x, min_y, width, height);\n",
       "}\n",
       "\n",
       "mpl.figure.prototype.handle_figure_label = function(fig, msg) {\n",
       "    // Updates the figure title.\n",
       "    fig.header.textContent = msg['label'];\n",
       "}\n",
       "\n",
       "mpl.figure.prototype.handle_cursor = function(fig, msg) {\n",
       "    var cursor = msg['cursor'];\n",
       "    switch(cursor)\n",
       "    {\n",
       "    case 0:\n",
       "        cursor = 'pointer';\n",
       "        break;\n",
       "    case 1:\n",
       "        cursor = 'default';\n",
       "        break;\n",
       "    case 2:\n",
       "        cursor = 'crosshair';\n",
       "        break;\n",
       "    case 3:\n",
       "        cursor = 'move';\n",
       "        break;\n",
       "    }\n",
       "    fig.rubberband_canvas.style.cursor = cursor;\n",
       "}\n",
       "\n",
       "mpl.figure.prototype.handle_message = function(fig, msg) {\n",
       "    fig.message.textContent = msg['message'];\n",
       "}\n",
       "\n",
       "mpl.figure.prototype.handle_draw = function(fig, msg) {\n",
       "    // Request the server to send over a new figure.\n",
       "    fig.send_draw_message();\n",
       "}\n",
       "\n",
       "mpl.figure.prototype.handle_image_mode = function(fig, msg) {\n",
       "    fig.image_mode = msg['mode'];\n",
       "}\n",
       "\n",
       "mpl.figure.prototype.updated_canvas_event = function() {\n",
       "    // Called whenever the canvas gets updated.\n",
       "    this.send_message(\"ack\", {});\n",
       "}\n",
       "\n",
       "// A function to construct a web socket function for onmessage handling.\n",
       "// Called in the figure constructor.\n",
       "mpl.figure.prototype._make_on_message_function = function(fig) {\n",
       "    return function socket_on_message(evt) {\n",
       "        if (evt.data instanceof Blob) {\n",
       "            /* FIXME: We get \"Resource interpreted as Image but\n",
       "             * transferred with MIME type text/plain:\" errors on\n",
       "             * Chrome.  But how to set the MIME type?  It doesn't seem\n",
       "             * to be part of the websocket stream */\n",
       "            evt.data.type = \"image/png\";\n",
       "\n",
       "            /* Free the memory for the previous frames */\n",
       "            if (fig.imageObj.src) {\n",
       "                (window.URL || window.webkitURL).revokeObjectURL(\n",
       "                    fig.imageObj.src);\n",
       "            }\n",
       "\n",
       "            fig.imageObj.src = (window.URL || window.webkitURL).createObjectURL(\n",
       "                evt.data);\n",
       "            fig.updated_canvas_event();\n",
       "            fig.waiting = false;\n",
       "            return;\n",
       "        }\n",
       "        else if (typeof evt.data === 'string' && evt.data.slice(0, 21) == \"data:image/png;base64\") {\n",
       "            fig.imageObj.src = evt.data;\n",
       "            fig.updated_canvas_event();\n",
       "            fig.waiting = false;\n",
       "            return;\n",
       "        }\n",
       "\n",
       "        var msg = JSON.parse(evt.data);\n",
       "        var msg_type = msg['type'];\n",
       "\n",
       "        // Call the  \"handle_{type}\" callback, which takes\n",
       "        // the figure and JSON message as its only arguments.\n",
       "        try {\n",
       "            var callback = fig[\"handle_\" + msg_type];\n",
       "        } catch (e) {\n",
       "            console.log(\"No handler for the '\" + msg_type + \"' message type: \", msg);\n",
       "            return;\n",
       "        }\n",
       "\n",
       "        if (callback) {\n",
       "            try {\n",
       "                // console.log(\"Handling '\" + msg_type + \"' message: \", msg);\n",
       "                callback(fig, msg);\n",
       "            } catch (e) {\n",
       "                console.log(\"Exception inside the 'handler_\" + msg_type + \"' callback:\", e, e.stack, msg);\n",
       "            }\n",
       "        }\n",
       "    };\n",
       "}\n",
       "\n",
       "// from http://stackoverflow.com/questions/1114465/getting-mouse-location-in-canvas\n",
       "mpl.findpos = function(e) {\n",
       "    //this section is from http://www.quirksmode.org/js/events_properties.html\n",
       "    var targ;\n",
       "    if (!e)\n",
       "        e = window.event;\n",
       "    if (e.target)\n",
       "        targ = e.target;\n",
       "    else if (e.srcElement)\n",
       "        targ = e.srcElement;\n",
       "    if (targ.nodeType == 3) // defeat Safari bug\n",
       "        targ = targ.parentNode;\n",
       "\n",
       "    // jQuery normalizes the pageX and pageY\n",
       "    // pageX,Y are the mouse positions relative to the document\n",
       "    // offset() returns the position of the element relative to the document\n",
       "    var x = e.pageX - $(targ).offset().left;\n",
       "    var y = e.pageY - $(targ).offset().top;\n",
       "\n",
       "    return {\"x\": x, \"y\": y};\n",
       "};\n",
       "\n",
       "/*\n",
       " * return a copy of an object with only non-object keys\n",
       " * we need this to avoid circular references\n",
       " * http://stackoverflow.com/a/24161582/3208463\n",
       " */\n",
       "function simpleKeys (original) {\n",
       "  return Object.keys(original).reduce(function (obj, key) {\n",
       "    if (typeof original[key] !== 'object')\n",
       "        obj[key] = original[key]\n",
       "    return obj;\n",
       "  }, {});\n",
       "}\n",
       "\n",
       "mpl.figure.prototype.mouse_event = function(event, name) {\n",
       "    var canvas_pos = mpl.findpos(event)\n",
       "\n",
       "    if (name === 'button_press')\n",
       "    {\n",
       "        this.canvas.focus();\n",
       "        this.canvas_div.focus();\n",
       "    }\n",
       "\n",
       "    var x = canvas_pos.x * mpl.ratio;\n",
       "    var y = canvas_pos.y * mpl.ratio;\n",
       "\n",
       "    this.send_message(name, {x: x, y: y, button: event.button,\n",
       "                             step: event.step,\n",
       "                             guiEvent: simpleKeys(event)});\n",
       "\n",
       "    /* This prevents the web browser from automatically changing to\n",
       "     * the text insertion cursor when the button is pressed.  We want\n",
       "     * to control all of the cursor setting manually through the\n",
       "     * 'cursor' event from matplotlib */\n",
       "    event.preventDefault();\n",
       "    return false;\n",
       "}\n",
       "\n",
       "mpl.figure.prototype._key_event_extra = function(event, name) {\n",
       "    // Handle any extra behaviour associated with a key event\n",
       "}\n",
       "\n",
       "mpl.figure.prototype.key_event = function(event, name) {\n",
       "\n",
       "    // Prevent repeat events\n",
       "    if (name == 'key_press')\n",
       "    {\n",
       "        if (event.which === this._key)\n",
       "            return;\n",
       "        else\n",
       "            this._key = event.which;\n",
       "    }\n",
       "    if (name == 'key_release')\n",
       "        this._key = null;\n",
       "\n",
       "    var value = '';\n",
       "    if (event.ctrlKey && event.which != 17)\n",
       "        value += \"ctrl+\";\n",
       "    if (event.altKey && event.which != 18)\n",
       "        value += \"alt+\";\n",
       "    if (event.shiftKey && event.which != 16)\n",
       "        value += \"shift+\";\n",
       "\n",
       "    value += 'k';\n",
       "    value += event.which.toString();\n",
       "\n",
       "    this._key_event_extra(event, name);\n",
       "\n",
       "    this.send_message(name, {key: value,\n",
       "                             guiEvent: simpleKeys(event)});\n",
       "    return false;\n",
       "}\n",
       "\n",
       "mpl.figure.prototype.toolbar_button_onclick = function(name) {\n",
       "    if (name == 'download') {\n",
       "        this.handle_save(this, null);\n",
       "    } else {\n",
       "        this.send_message(\"toolbar_button\", {name: name});\n",
       "    }\n",
       "};\n",
       "\n",
       "mpl.figure.prototype.toolbar_button_onmouseover = function(tooltip) {\n",
       "    this.message.textContent = tooltip;\n",
       "};\n",
       "mpl.toolbar_items = [[\"Home\", \"Reset original view\", \"fa fa-home icon-home\", \"home\"], [\"Back\", \"Back to previous view\", \"fa fa-arrow-left icon-arrow-left\", \"back\"], [\"Forward\", \"Forward to next view\", \"fa fa-arrow-right icon-arrow-right\", \"forward\"], [\"\", \"\", \"\", \"\"], [\"Pan\", \"Pan axes with left mouse, zoom with right\", \"fa fa-arrows icon-move\", \"pan\"], [\"Zoom\", \"Zoom to rectangle\", \"fa fa-square-o icon-check-empty\", \"zoom\"], [\"\", \"\", \"\", \"\"], [\"Download\", \"Download plot\", \"fa fa-floppy-o icon-save\", \"download\"]];\n",
       "\n",
       "mpl.extensions = [\"eps\", \"jpeg\", \"pdf\", \"png\", \"ps\", \"raw\", \"svg\", \"tif\"];\n",
       "\n",
       "mpl.default_extension = \"png\";var comm_websocket_adapter = function(comm) {\n",
       "    // Create a \"websocket\"-like object which calls the given IPython comm\n",
       "    // object with the appropriate methods. Currently this is a non binary\n",
       "    // socket, so there is still some room for performance tuning.\n",
       "    var ws = {};\n",
       "\n",
       "    ws.close = function() {\n",
       "        comm.close()\n",
       "    };\n",
       "    ws.send = function(m) {\n",
       "        //console.log('sending', m);\n",
       "        comm.send(m);\n",
       "    };\n",
       "    // Register the callback with on_msg.\n",
       "    comm.on_msg(function(msg) {\n",
       "        //console.log('receiving', msg['content']['data'], msg);\n",
       "        // Pass the mpl event to the overridden (by mpl) onmessage function.\n",
       "        ws.onmessage(msg['content']['data'])\n",
       "    });\n",
       "    return ws;\n",
       "}\n",
       "\n",
       "mpl.mpl_figure_comm = function(comm, msg) {\n",
       "    // This is the function which gets called when the mpl process\n",
       "    // starts-up an IPython Comm through the \"matplotlib\" channel.\n",
       "\n",
       "    var id = msg.content.data.id;\n",
       "    // Get hold of the div created by the display call when the Comm\n",
       "    // socket was opened in Python.\n",
       "    var element = $(\"#\" + id);\n",
       "    var ws_proxy = comm_websocket_adapter(comm)\n",
       "\n",
       "    function ondownload(figure, format) {\n",
       "        window.open(figure.imageObj.src);\n",
       "    }\n",
       "\n",
       "    var fig = new mpl.figure(id, ws_proxy,\n",
       "                           ondownload,\n",
       "                           element.get(0));\n",
       "\n",
       "    // Call onopen now - mpl needs it, as it is assuming we've passed it a real\n",
       "    // web socket which is closed, not our websocket->open comm proxy.\n",
       "    ws_proxy.onopen();\n",
       "\n",
       "    fig.parent_element = element.get(0);\n",
       "    fig.cell_info = mpl.find_output_cell(\"<div id='\" + id + \"'></div>\");\n",
       "    if (!fig.cell_info) {\n",
       "        console.error(\"Failed to find cell for figure\", id, fig);\n",
       "        return;\n",
       "    }\n",
       "\n",
       "    var output_index = fig.cell_info[2]\n",
       "    var cell = fig.cell_info[0];\n",
       "\n",
       "};\n",
       "\n",
       "mpl.figure.prototype.handle_close = function(fig, msg) {\n",
       "    var width = fig.canvas.width/mpl.ratio\n",
       "    fig.root.unbind('remove')\n",
       "\n",
       "    // Update the output cell to use the data from the current canvas.\n",
       "    fig.push_to_output();\n",
       "    var dataURL = fig.canvas.toDataURL();\n",
       "    // Re-enable the keyboard manager in IPython - without this line, in FF,\n",
       "    // the notebook keyboard shortcuts fail.\n",
       "    IPython.keyboard_manager.enable()\n",
       "    $(fig.parent_element).html('<img src=\"' + dataURL + '\" width=\"' + width + '\">');\n",
       "    fig.close_ws(fig, msg);\n",
       "}\n",
       "\n",
       "mpl.figure.prototype.close_ws = function(fig, msg){\n",
       "    fig.send_message('closing', msg);\n",
       "    // fig.ws.close()\n",
       "}\n",
       "\n",
       "mpl.figure.prototype.push_to_output = function(remove_interactive) {\n",
       "    // Turn the data on the canvas into data in the output cell.\n",
       "    var width = this.canvas.width/mpl.ratio\n",
       "    var dataURL = this.canvas.toDataURL();\n",
       "    this.cell_info[1]['text/html'] = '<img src=\"' + dataURL + '\" width=\"' + width + '\">';\n",
       "}\n",
       "\n",
       "mpl.figure.prototype.updated_canvas_event = function() {\n",
       "    // Tell IPython that the notebook contents must change.\n",
       "    IPython.notebook.set_dirty(true);\n",
       "    this.send_message(\"ack\", {});\n",
       "    var fig = this;\n",
       "    // Wait a second, then push the new image to the DOM so\n",
       "    // that it is saved nicely (might be nice to debounce this).\n",
       "    setTimeout(function () { fig.push_to_output() }, 1000);\n",
       "}\n",
       "\n",
       "mpl.figure.prototype._init_toolbar = function() {\n",
       "    var fig = this;\n",
       "\n",
       "    var nav_element = $('<div/>');\n",
       "    nav_element.attr('style', 'width: 100%');\n",
       "    this.root.append(nav_element);\n",
       "\n",
       "    // Define a callback function for later on.\n",
       "    function toolbar_event(event) {\n",
       "        return fig.toolbar_button_onclick(event['data']);\n",
       "    }\n",
       "    function toolbar_mouse_event(event) {\n",
       "        return fig.toolbar_button_onmouseover(event['data']);\n",
       "    }\n",
       "\n",
       "    for(var toolbar_ind in mpl.toolbar_items){\n",
       "        var name = mpl.toolbar_items[toolbar_ind][0];\n",
       "        var tooltip = mpl.toolbar_items[toolbar_ind][1];\n",
       "        var image = mpl.toolbar_items[toolbar_ind][2];\n",
       "        var method_name = mpl.toolbar_items[toolbar_ind][3];\n",
       "\n",
       "        if (!name) { continue; };\n",
       "\n",
       "        var button = $('<button class=\"btn btn-default\" href=\"#\" title=\"' + name + '\"><i class=\"fa ' + image + ' fa-lg\"></i></button>');\n",
       "        button.click(method_name, toolbar_event);\n",
       "        button.mouseover(tooltip, toolbar_mouse_event);\n",
       "        nav_element.append(button);\n",
       "    }\n",
       "\n",
       "    // Add the status bar.\n",
       "    var status_bar = $('<span class=\"mpl-message\" style=\"text-align:right; float: right;\"/>');\n",
       "    nav_element.append(status_bar);\n",
       "    this.message = status_bar[0];\n",
       "\n",
       "    // Add the close button to the window.\n",
       "    var buttongrp = $('<div class=\"btn-group inline pull-right\"></div>');\n",
       "    var button = $('<button class=\"btn btn-mini btn-primary\" href=\"#\" title=\"Stop Interaction\"><i class=\"fa fa-power-off icon-remove icon-large\"></i></button>');\n",
       "    button.click(function (evt) { fig.handle_close(fig, {}); } );\n",
       "    button.mouseover('Stop Interaction', toolbar_mouse_event);\n",
       "    buttongrp.append(button);\n",
       "    var titlebar = this.root.find($('.ui-dialog-titlebar'));\n",
       "    titlebar.prepend(buttongrp);\n",
       "}\n",
       "\n",
       "mpl.figure.prototype._root_extra_style = function(el){\n",
       "    var fig = this\n",
       "    el.on(\"remove\", function(){\n",
       "\tfig.close_ws(fig, {});\n",
       "    });\n",
       "}\n",
       "\n",
       "mpl.figure.prototype._canvas_extra_style = function(el){\n",
       "    // this is important to make the div 'focusable\n",
       "    el.attr('tabindex', 0)\n",
       "    // reach out to IPython and tell the keyboard manager to turn it's self\n",
       "    // off when our div gets focus\n",
       "\n",
       "    // location in version 3\n",
       "    if (IPython.notebook.keyboard_manager) {\n",
       "        IPython.notebook.keyboard_manager.register_events(el);\n",
       "    }\n",
       "    else {\n",
       "        // location in version 2\n",
       "        IPython.keyboard_manager.register_events(el);\n",
       "    }\n",
       "\n",
       "}\n",
       "\n",
       "mpl.figure.prototype._key_event_extra = function(event, name) {\n",
       "    var manager = IPython.notebook.keyboard_manager;\n",
       "    if (!manager)\n",
       "        manager = IPython.keyboard_manager;\n",
       "\n",
       "    // Check for shift+enter\n",
       "    if (event.shiftKey && event.which == 13) {\n",
       "        this.canvas_div.blur();\n",
       "        // select the cell after this one\n",
       "        var index = IPython.notebook.find_cell_index(this.cell_info[0]);\n",
       "        IPython.notebook.select(index + 1);\n",
       "    }\n",
       "}\n",
       "\n",
       "mpl.figure.prototype.handle_save = function(fig, msg) {\n",
       "    fig.ondownload(fig, null);\n",
       "}\n",
       "\n",
       "\n",
       "mpl.find_output_cell = function(html_output) {\n",
       "    // Return the cell and output element which can be found *uniquely* in the notebook.\n",
       "    // Note - this is a bit hacky, but it is done because the \"notebook_saving.Notebook\"\n",
       "    // IPython event is triggered only after the cells have been serialised, which for\n",
       "    // our purposes (turning an active figure into a static one), is too late.\n",
       "    var cells = IPython.notebook.get_cells();\n",
       "    var ncells = cells.length;\n",
       "    for (var i=0; i<ncells; i++) {\n",
       "        var cell = cells[i];\n",
       "        if (cell.cell_type === 'code'){\n",
       "            for (var j=0; j<cell.output_area.outputs.length; j++) {\n",
       "                var data = cell.output_area.outputs[j];\n",
       "                if (data.data) {\n",
       "                    // IPython >= 3 moved mimebundle to data attribute of output\n",
       "                    data = data.data;\n",
       "                }\n",
       "                if (data['text/html'] == html_output) {\n",
       "                    return [cell, data, j];\n",
       "                }\n",
       "            }\n",
       "        }\n",
       "    }\n",
       "}\n",
       "\n",
       "// Register the function which deals with the matplotlib target/channel.\n",
       "// The kernel may be null if the page has been refreshed.\n",
       "if (IPython.notebook.kernel != null) {\n",
       "    IPython.notebook.kernel.comm_manager.register_target('matplotlib', mpl.mpl_figure_comm);\n",
       "}\n"
      ],
      "text/plain": [
       "<IPython.core.display.Javascript object>"
      ]
     },
     "metadata": {},
     "output_type": "display_data"
    },
    {
     "data": {
      "text/html": [
       "<img src=\"data:image/png;base64,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\" width=\"640\">"
      ],
      "text/plain": [
       "<IPython.core.display.HTML object>"
      ]
     },
     "metadata": {},
     "output_type": "display_data"
    },
    {
     "name": "stdout",
     "output_type": "stream",
     "text": [
      "saved save/afterburner/afterburner_002_96473_38.pt\n",
      "saved save/afterburner/afterburner_002_96473_39.pt\n",
      "saved save/afterburner/afterburner_002_96473_40.pt\n",
      "saved save/afterburner/afterburner_002_96473_41.pt\n",
      "saved save/afterburner/afterburner_002_96473_42.pt\n",
      "saved save/afterburner/afterburner_002_96473_43.pt\n",
      "saved save/afterburner/afterburner_002_96473_44.pt\n",
      "saved save/afterburner/afterburner_002_96473_45.pt\n",
      "saved save/afterburner/afterburner_002_96473_46.pt\n",
      "saved save/afterburner/afterburner_002_96473_47.pt\n",
      "saved save/afterburner/afterburner_002_96473_48.pt\n",
      "saved save/afterburner/afterburner_002_96473_49.pt\n",
      "saved save/afterburner/afterburner_002_96473_50.pt\n",
      "saved save/afterburner/afterburner_002_96473_51.pt\n",
      "saved save/afterburner/afterburner_002_96473_52.pt\n",
      "saved save/afterburner/afterburner_002_96473_53.pt\n",
      "saved save/afterburner/afterburner_002_96473_54.pt\n",
      "saved save/afterburner/afterburner_002_96473_55.pt\n",
      "saved save/afterburner/afterburner_002_96473_56.pt\n",
      "saved save/afterburner/afterburner_002_96473_57.pt\n",
      "saved save/afterburner/afterburner_002_96473_58.pt\n",
      "saved save/afterburner/afterburner_002_96473_59.pt\n",
      "saved save/afterburner/afterburner_002_96473_60.pt\n",
      "saved save/afterburner/afterburner_002_96473_61.pt\n",
      "saved save/afterburner/afterburner_002_96473_62.pt\n",
      "saved save/afterburner/afterburner_002_96473_63.pt\n",
      "saved save/afterburner/afterburner_002_96473_64.pt\n",
      "saved save/afterburner/afterburner_002_96473_65.pt\n"
     ]
    }
   ],
   "source": [
    "model_TTC.train(1)"
   ]
  },
  {
   "cell_type": "code",
   "execution_count": null,
   "metadata": {},
   "outputs": [],
   "source": [
    "TTC_output = model_TTC.infer()"
   ]
  },
  {
   "cell_type": "code",
   "execution_count": null,
   "metadata": {},
   "outputs": [],
   "source": [
    "TTC_scores = model_TTC.score(TTC_output)"
   ]
  },
  {
   "cell_type": "code",
   "execution_count": null,
   "metadata": {},
   "outputs": [],
   "source": [
    "model.graphemes"
   ]
  },
  {
   "cell_type": "code",
   "execution_count": null,
   "metadata": {},
   "outputs": [],
   "source": [
    "torch.cuda.empty_cache()"
   ]
  },
  {
   "cell_type": "markdown",
   "metadata": {},
   "source": [
    "## Subsplit $A_{i,j}$ on silence alone retaining timecode $(s_{i,j,k},e_{i,j,k})$ giving $A_{i,j} = \\langle (\\alpha_{i,j,k}, (s_{i,j,k},e_{i,j,k})) \\rangle$ so that $\\alpha_{i,j,k} = A_{i,j}[s_{i,j,k}:e_{i,j,k}]$"
   ]
  },
  {
   "cell_type": "code",
   "execution_count": null,
   "metadata": {},
   "outputs": [],
   "source": [
    "import subsplit_Aij_on_silence_retaining_timecode\n",
    "subsplit_Aij_on_silence_retaining_timecode.diagram"
   ]
  },
  {
   "cell_type": "markdown",
   "metadata": {},
   "source": [
    "## Infer $(\\alpha_{i,j,k}, (s_{i,j,k},e_{i,j,k})) \\xrightarrow{ASR} p_{i,j,k} $"
   ]
  },
  {
   "cell_type": "code",
   "execution_count": null,
   "metadata": {},
   "outputs": [],
   "source": [
    "import infer_aijk_giving_pijk\n",
    "infer_aijk_giving_pijk.diagram"
   ]
  },
  {
   "cell_type": "code",
   "execution_count": null,
   "metadata": {},
   "outputs": [],
   "source": [
    "torch.cuda.empty_cache() "
   ]
  },
  {
   "cell_type": "markdown",
   "metadata": {},
   "source": [
    "## Concatenate $p_{i,j,k} \\to p_{i,j}$"
   ]
  },
  {
   "cell_type": "code",
   "execution_count": null,
   "metadata": {},
   "outputs": [],
   "source": [
    "import concatenate_pikj_giving_pij\n",
    "concatenate_pikj_giving_pij.diagram"
   ]
  },
  {
   "cell_type": "markdown",
   "metadata": {},
   "source": [
    "## Infer $p_{i,j} \\xrightarrow{TT} (q_{i,j},(s_{i,j,0},e_{i,j,-1}))$ "
   ]
  },
  {
   "cell_type": "code",
   "execution_count": null,
   "metadata": {},
   "outputs": [],
   "source": [
    "import infer_pij_giving_qij\n",
    "infer_pij_giving_qij.diagram"
   ]
  },
  {
   "cell_type": "code",
   "execution_count": null,
   "metadata": {},
   "outputs": [],
   "source": [
    "torch.cuda.empty_cache() "
   ]
  },
  {
   "cell_type": "markdown",
   "metadata": {},
   "source": [
    "## Concatenate $\\langle \\langle (q_{i,j,k},(s_{i,j,k},e_{i,j,k})) \\rangle \\rangle $ giving transcript $Q_i = \\langle (q_{i,j}, (s_{i,j,0},e_{i,j,-1})) \\rangle$"
   ]
  },
  {
   "cell_type": "code",
   "execution_count": null,
   "metadata": {},
   "outputs": [],
   "source": [
    "import concatenate_qijk_giving_Qi\n",
    "concatenate_qijk_giving_Qi.diagram"
   ]
  },
  {
   "cell_type": "markdown",
   "metadata": {},
   "source": [
    "## Save transcript $Q_i$ in .CTM format"
   ]
  },
  {
   "cell_type": "code",
   "execution_count": null,
   "metadata": {},
   "outputs": [],
   "source": [
    "import save_transcript_Qi_in_CTM_format\n",
    "save_transcript_Qi_in_CTM_format.diagram"
   ]
  },
  {
   "cell_type": "markdown",
   "metadata": {},
   "source": [
    "## Score $\\langle T_i,Q_i\\rangle$ using `sclite` for each recording individually"
   ]
  },
  {
   "cell_type": "code",
   "execution_count": null,
   "metadata": {},
   "outputs": [],
   "source": [
    "import score_TiQi_using_sclite_per_recording\n",
    "score_TiQi_using_sclite_per_recording.diagram"
   ]
  },
  {
   "cell_type": "markdown",
   "metadata": {},
   "source": [
    "## Score $\\langle T_i,Q_i\\rangle$ using `sclite` collectively"
   ]
  },
  {
   "cell_type": "code",
   "execution_count": null,
   "metadata": {},
   "outputs": [],
   "source": [
    "import score_TiQi_using_sclite_on_all_recordings_together\n",
    "score_TiQi_using_sclite_on_all_recordings_together.diagram"
   ]
  },
  {
   "cell_type": "code",
   "execution_count": null,
   "metadata": {},
   "outputs": [],
   "source": []
  }
 ],
 "metadata": {
  "kernelspec": {
   "display_name": "openasr",
   "language": "python",
   "name": "openasr"
  },
  "language_info": {
   "codemirror_mode": {
    "name": "ipython",
    "version": 3
   },
   "file_extension": ".py",
   "mimetype": "text/x-python",
   "name": "python",
   "nbconvert_exporter": "python",
   "pygments_lexer": "ipython3",
   "version": "3.8.5"
  }
 },
 "nbformat": 4,
 "nbformat_minor": 4
}
