{
 "cells": [
  {
   "cell_type": "code",
   "execution_count": 1,
   "metadata": {
    "scrolled": false
   },
   "outputs": [
    {
     "data": {
      "text/html": [
       "<style>.container { width:100% !important; }</style>"
      ],
      "text/plain": [
       "<IPython.core.display.HTML object>"
      ]
     },
     "metadata": {},
     "output_type": "display_data"
    },
    {
     "name": "stderr",
     "output_type": "stream",
     "text": [
      "/home/catskills/anaconda3/envs/nemo/lib/python3.7/site-packages/torchtext/data/field.py:150: UserWarning: Field class will be retired in the 0.8.0 release and moved to torchtext.legacy. Please see 0.7.0 release notes for further information.\n",
      "  warnings.warn('{} class will be retired in the 0.8.0 release and moved to torchtext.legacy. Please see 0.7.0 release notes for further information.'.format(self.__class__.__name__), UserWarning)\n"
     ]
    },
    {
     "name": "stdout",
     "output_type": "stream",
     "text": [
      "The model has 4,281,440 trainable parameters\n",
      "NOTE: Reloaded trained model save/new_afterburner/afterburner_302.pt\n"
     ]
    },
    {
     "name": "stderr",
     "output_type": "stream",
     "text": [
      "/home/catskills/anaconda3/envs/nemo/lib/python3.7/site-packages/torchtext/data/example.py:68: UserWarning: Example class will be retired in the 0.8.0 release and moved to torchtext.legacy. Please see 0.7.0 release notes for further information.\n",
      "  warnings.warn('Example class will be retired in the 0.8.0 release and moved to torchtext.legacy. Please see 0.7.0 release notes for further information.', UserWarning)\n",
      "/home/catskills/anaconda3/envs/nemo/lib/python3.7/site-packages/torchtext/data/example.py:78: UserWarning: Example class will be retired in the 0.8.0 release and moved to torchtext.legacy. Please see 0.7.0 release notes for further information.\n",
      "  warnings.warn('Example class will be retired in the 0.8.0 release and moved to torchtext.legacy. Please see 0.7.0 release notes for further information.', UserWarning)\n"
     ]
    },
    {
     "name": "stdout",
     "output_type": "stream",
     "text": [
      "1656 batches / epoch\n"
     ]
    },
    {
     "name": "stderr",
     "output_type": "stream",
     "text": [
      "/home/catskills/anaconda3/envs/nemo/lib/python3.7/site-packages/torchtext/data/iterator.py:48: UserWarning: Iterator class will be retired in the 0.8.0 release and moved to torchtext.legacy. Please see 0.7.0 release notes for further information.\n",
      "  warnings.warn('{} class will be retired in the 0.8.0 release and moved to torchtext.legacy. Please see 0.7.0 release notes for further information.'.format(self.__class__.__name__), UserWarning)\n"
     ]
    },
    {
     "data": {
      "application/javascript": [
       "/* Put everything inside the global mpl namespace */\n",
       "/* global mpl */\n",
       "window.mpl = {};\n",
       "\n",
       "mpl.get_websocket_type = function () {\n",
       "    if (typeof WebSocket !== 'undefined') {\n",
       "        return WebSocket;\n",
       "    } else if (typeof MozWebSocket !== 'undefined') {\n",
       "        return MozWebSocket;\n",
       "    } else {\n",
       "        alert(\n",
       "            'Your browser does not have WebSocket support. ' +\n",
       "                'Please try Chrome, Safari or Firefox ≥ 6. ' +\n",
       "                'Firefox 4 and 5 are also supported but you ' +\n",
       "                'have to enable WebSockets in about:config.'\n",
       "        );\n",
       "    }\n",
       "};\n",
       "\n",
       "mpl.figure = function (figure_id, websocket, ondownload, parent_element) {\n",
       "    this.id = figure_id;\n",
       "\n",
       "    this.ws = websocket;\n",
       "\n",
       "    this.supports_binary = this.ws.binaryType !== undefined;\n",
       "\n",
       "    if (!this.supports_binary) {\n",
       "        var warnings = document.getElementById('mpl-warnings');\n",
       "        if (warnings) {\n",
       "            warnings.style.display = 'block';\n",
       "            warnings.textContent =\n",
       "                'This browser does not support binary websocket messages. ' +\n",
       "                'Performance may be slow.';\n",
       "        }\n",
       "    }\n",
       "\n",
       "    this.imageObj = new Image();\n",
       "\n",
       "    this.context = undefined;\n",
       "    this.message = undefined;\n",
       "    this.canvas = undefined;\n",
       "    this.rubberband_canvas = undefined;\n",
       "    this.rubberband_context = undefined;\n",
       "    this.format_dropdown = undefined;\n",
       "\n",
       "    this.image_mode = 'full';\n",
       "\n",
       "    this.root = document.createElement('div');\n",
       "    this.root.setAttribute('style', 'display: inline-block');\n",
       "    this._root_extra_style(this.root);\n",
       "\n",
       "    parent_element.appendChild(this.root);\n",
       "\n",
       "    this._init_header(this);\n",
       "    this._init_canvas(this);\n",
       "    this._init_toolbar(this);\n",
       "\n",
       "    var fig = this;\n",
       "\n",
       "    this.waiting = false;\n",
       "\n",
       "    this.ws.onopen = function () {\n",
       "        fig.send_message('supports_binary', { value: fig.supports_binary });\n",
       "        fig.send_message('send_image_mode', {});\n",
       "        if (fig.ratio !== 1) {\n",
       "            fig.send_message('set_dpi_ratio', { dpi_ratio: fig.ratio });\n",
       "        }\n",
       "        fig.send_message('refresh', {});\n",
       "    };\n",
       "\n",
       "    this.imageObj.onload = function () {\n",
       "        if (fig.image_mode === 'full') {\n",
       "            // Full images could contain transparency (where diff images\n",
       "            // almost always do), so we need to clear the canvas so that\n",
       "            // there is no ghosting.\n",
       "            fig.context.clearRect(0, 0, fig.canvas.width, fig.canvas.height);\n",
       "        }\n",
       "        fig.context.drawImage(fig.imageObj, 0, 0);\n",
       "    };\n",
       "\n",
       "    this.imageObj.onunload = function () {\n",
       "        fig.ws.close();\n",
       "    };\n",
       "\n",
       "    this.ws.onmessage = this._make_on_message_function(this);\n",
       "\n",
       "    this.ondownload = ondownload;\n",
       "};\n",
       "\n",
       "mpl.figure.prototype._init_header = function () {\n",
       "    var titlebar = document.createElement('div');\n",
       "    titlebar.classList =\n",
       "        'ui-dialog-titlebar ui-widget-header ui-corner-all ui-helper-clearfix';\n",
       "    var titletext = document.createElement('div');\n",
       "    titletext.classList = 'ui-dialog-title';\n",
       "    titletext.setAttribute(\n",
       "        'style',\n",
       "        'width: 100%; text-align: center; padding: 3px;'\n",
       "    );\n",
       "    titlebar.appendChild(titletext);\n",
       "    this.root.appendChild(titlebar);\n",
       "    this.header = titletext;\n",
       "};\n",
       "\n",
       "mpl.figure.prototype._canvas_extra_style = function (_canvas_div) {};\n",
       "\n",
       "mpl.figure.prototype._root_extra_style = function (_canvas_div) {};\n",
       "\n",
       "mpl.figure.prototype._init_canvas = function () {\n",
       "    var fig = this;\n",
       "\n",
       "    var canvas_div = (this.canvas_div = document.createElement('div'));\n",
       "    canvas_div.setAttribute(\n",
       "        'style',\n",
       "        'border: 1px solid #ddd;' +\n",
       "            'box-sizing: content-box;' +\n",
       "            'clear: both;' +\n",
       "            'min-height: 1px;' +\n",
       "            'min-width: 1px;' +\n",
       "            'outline: 0;' +\n",
       "            'overflow: hidden;' +\n",
       "            'position: relative;' +\n",
       "            'resize: both;'\n",
       "    );\n",
       "\n",
       "    function on_keyboard_event_closure(name) {\n",
       "        return function (event) {\n",
       "            return fig.key_event(event, name);\n",
       "        };\n",
       "    }\n",
       "\n",
       "    canvas_div.addEventListener(\n",
       "        'keydown',\n",
       "        on_keyboard_event_closure('key_press')\n",
       "    );\n",
       "    canvas_div.addEventListener(\n",
       "        'keyup',\n",
       "        on_keyboard_event_closure('key_release')\n",
       "    );\n",
       "\n",
       "    this._canvas_extra_style(canvas_div);\n",
       "    this.root.appendChild(canvas_div);\n",
       "\n",
       "    var canvas = (this.canvas = document.createElement('canvas'));\n",
       "    canvas.classList.add('mpl-canvas');\n",
       "    canvas.setAttribute('style', 'box-sizing: content-box;');\n",
       "\n",
       "    this.context = canvas.getContext('2d');\n",
       "\n",
       "    var backingStore =\n",
       "        this.context.backingStorePixelRatio ||\n",
       "        this.context.webkitBackingStorePixelRatio ||\n",
       "        this.context.mozBackingStorePixelRatio ||\n",
       "        this.context.msBackingStorePixelRatio ||\n",
       "        this.context.oBackingStorePixelRatio ||\n",
       "        this.context.backingStorePixelRatio ||\n",
       "        1;\n",
       "\n",
       "    this.ratio = (window.devicePixelRatio || 1) / backingStore;\n",
       "    if (this.ratio !== 1) {\n",
       "        fig.send_message('set_dpi_ratio', { dpi_ratio: this.ratio });\n",
       "    }\n",
       "\n",
       "    var rubberband_canvas = (this.rubberband_canvas = document.createElement(\n",
       "        'canvas'\n",
       "    ));\n",
       "    rubberband_canvas.setAttribute(\n",
       "        'style',\n",
       "        'box-sizing: content-box; position: absolute; left: 0; top: 0; z-index: 1;'\n",
       "    );\n",
       "\n",
       "    var resizeObserver = new ResizeObserver(function (entries) {\n",
       "        var nentries = entries.length;\n",
       "        for (var i = 0; i < nentries; i++) {\n",
       "            var entry = entries[i];\n",
       "            var width, height;\n",
       "            if (entry.contentBoxSize) {\n",
       "                if (entry.contentBoxSize instanceof Array) {\n",
       "                    // Chrome 84 implements new version of spec.\n",
       "                    width = entry.contentBoxSize[0].inlineSize;\n",
       "                    height = entry.contentBoxSize[0].blockSize;\n",
       "                } else {\n",
       "                    // Firefox implements old version of spec.\n",
       "                    width = entry.contentBoxSize.inlineSize;\n",
       "                    height = entry.contentBoxSize.blockSize;\n",
       "                }\n",
       "            } else {\n",
       "                // Chrome <84 implements even older version of spec.\n",
       "                width = entry.contentRect.width;\n",
       "                height = entry.contentRect.height;\n",
       "            }\n",
       "\n",
       "            // Keep the size of the canvas and rubber band canvas in sync with\n",
       "            // the canvas container.\n",
       "            if (entry.devicePixelContentBoxSize) {\n",
       "                // Chrome 84 implements new version of spec.\n",
       "                canvas.setAttribute(\n",
       "                    'width',\n",
       "                    entry.devicePixelContentBoxSize[0].inlineSize\n",
       "                );\n",
       "                canvas.setAttribute(\n",
       "                    'height',\n",
       "                    entry.devicePixelContentBoxSize[0].blockSize\n",
       "                );\n",
       "            } else {\n",
       "                canvas.setAttribute('width', width * fig.ratio);\n",
       "                canvas.setAttribute('height', height * fig.ratio);\n",
       "            }\n",
       "            canvas.setAttribute(\n",
       "                'style',\n",
       "                'width: ' + width + 'px; height: ' + height + 'px;'\n",
       "            );\n",
       "\n",
       "            rubberband_canvas.setAttribute('width', width);\n",
       "            rubberband_canvas.setAttribute('height', height);\n",
       "\n",
       "            // And update the size in Python. We ignore the initial 0/0 size\n",
       "            // that occurs as the element is placed into the DOM, which should\n",
       "            // otherwise not happen due to the minimum size styling.\n",
       "            if (width != 0 && height != 0) {\n",
       "                fig.request_resize(width, height);\n",
       "            }\n",
       "        }\n",
       "    });\n",
       "    resizeObserver.observe(canvas_div);\n",
       "\n",
       "    function on_mouse_event_closure(name) {\n",
       "        return function (event) {\n",
       "            return fig.mouse_event(event, name);\n",
       "        };\n",
       "    }\n",
       "\n",
       "    rubberband_canvas.addEventListener(\n",
       "        'mousedown',\n",
       "        on_mouse_event_closure('button_press')\n",
       "    );\n",
       "    rubberband_canvas.addEventListener(\n",
       "        'mouseup',\n",
       "        on_mouse_event_closure('button_release')\n",
       "    );\n",
       "    // Throttle sequential mouse events to 1 every 20ms.\n",
       "    rubberband_canvas.addEventListener(\n",
       "        'mousemove',\n",
       "        on_mouse_event_closure('motion_notify')\n",
       "    );\n",
       "\n",
       "    rubberband_canvas.addEventListener(\n",
       "        'mouseenter',\n",
       "        on_mouse_event_closure('figure_enter')\n",
       "    );\n",
       "    rubberband_canvas.addEventListener(\n",
       "        'mouseleave',\n",
       "        on_mouse_event_closure('figure_leave')\n",
       "    );\n",
       "\n",
       "    canvas_div.addEventListener('wheel', function (event) {\n",
       "        if (event.deltaY < 0) {\n",
       "            event.step = 1;\n",
       "        } else {\n",
       "            event.step = -1;\n",
       "        }\n",
       "        on_mouse_event_closure('scroll')(event);\n",
       "    });\n",
       "\n",
       "    canvas_div.appendChild(canvas);\n",
       "    canvas_div.appendChild(rubberband_canvas);\n",
       "\n",
       "    this.rubberband_context = rubberband_canvas.getContext('2d');\n",
       "    this.rubberband_context.strokeStyle = '#000000';\n",
       "\n",
       "    this._resize_canvas = function (width, height, forward) {\n",
       "        if (forward) {\n",
       "            canvas_div.style.width = width + 'px';\n",
       "            canvas_div.style.height = height + 'px';\n",
       "        }\n",
       "    };\n",
       "\n",
       "    // Disable right mouse context menu.\n",
       "    this.rubberband_canvas.addEventListener('contextmenu', function (_e) {\n",
       "        event.preventDefault();\n",
       "        return false;\n",
       "    });\n",
       "\n",
       "    function set_focus() {\n",
       "        canvas.focus();\n",
       "        canvas_div.focus();\n",
       "    }\n",
       "\n",
       "    window.setTimeout(set_focus, 100);\n",
       "};\n",
       "\n",
       "mpl.figure.prototype._init_toolbar = function () {\n",
       "    var fig = this;\n",
       "\n",
       "    var toolbar = document.createElement('div');\n",
       "    toolbar.classList = 'mpl-toolbar';\n",
       "    this.root.appendChild(toolbar);\n",
       "\n",
       "    function on_click_closure(name) {\n",
       "        return function (_event) {\n",
       "            return fig.toolbar_button_onclick(name);\n",
       "        };\n",
       "    }\n",
       "\n",
       "    function on_mouseover_closure(tooltip) {\n",
       "        return function (event) {\n",
       "            if (!event.currentTarget.disabled) {\n",
       "                return fig.toolbar_button_onmouseover(tooltip);\n",
       "            }\n",
       "        };\n",
       "    }\n",
       "\n",
       "    fig.buttons = {};\n",
       "    var buttonGroup = document.createElement('div');\n",
       "    buttonGroup.classList = 'mpl-button-group';\n",
       "    for (var toolbar_ind in mpl.toolbar_items) {\n",
       "        var name = mpl.toolbar_items[toolbar_ind][0];\n",
       "        var tooltip = mpl.toolbar_items[toolbar_ind][1];\n",
       "        var image = mpl.toolbar_items[toolbar_ind][2];\n",
       "        var method_name = mpl.toolbar_items[toolbar_ind][3];\n",
       "\n",
       "        if (!name) {\n",
       "            /* Instead of a spacer, we start a new button group. */\n",
       "            if (buttonGroup.hasChildNodes()) {\n",
       "                toolbar.appendChild(buttonGroup);\n",
       "            }\n",
       "            buttonGroup = document.createElement('div');\n",
       "            buttonGroup.classList = 'mpl-button-group';\n",
       "            continue;\n",
       "        }\n",
       "\n",
       "        var button = (fig.buttons[name] = document.createElement('button'));\n",
       "        button.classList = 'mpl-widget';\n",
       "        button.setAttribute('role', 'button');\n",
       "        button.setAttribute('aria-disabled', 'false');\n",
       "        button.addEventListener('click', on_click_closure(method_name));\n",
       "        button.addEventListener('mouseover', on_mouseover_closure(tooltip));\n",
       "\n",
       "        var icon_img = document.createElement('img');\n",
       "        icon_img.src = '_images/' + image + '.png';\n",
       "        icon_img.srcset = '_images/' + image + '_large.png 2x';\n",
       "        icon_img.alt = tooltip;\n",
       "        button.appendChild(icon_img);\n",
       "\n",
       "        buttonGroup.appendChild(button);\n",
       "    }\n",
       "\n",
       "    if (buttonGroup.hasChildNodes()) {\n",
       "        toolbar.appendChild(buttonGroup);\n",
       "    }\n",
       "\n",
       "    var fmt_picker = document.createElement('select');\n",
       "    fmt_picker.classList = 'mpl-widget';\n",
       "    toolbar.appendChild(fmt_picker);\n",
       "    this.format_dropdown = fmt_picker;\n",
       "\n",
       "    for (var ind in mpl.extensions) {\n",
       "        var fmt = mpl.extensions[ind];\n",
       "        var option = document.createElement('option');\n",
       "        option.selected = fmt === mpl.default_extension;\n",
       "        option.innerHTML = fmt;\n",
       "        fmt_picker.appendChild(option);\n",
       "    }\n",
       "\n",
       "    var status_bar = document.createElement('span');\n",
       "    status_bar.classList = 'mpl-message';\n",
       "    toolbar.appendChild(status_bar);\n",
       "    this.message = status_bar;\n",
       "};\n",
       "\n",
       "mpl.figure.prototype.request_resize = function (x_pixels, y_pixels) {\n",
       "    // Request matplotlib to resize the figure. Matplotlib will then trigger a resize in the client,\n",
       "    // which will in turn request a refresh of the image.\n",
       "    this.send_message('resize', { width: x_pixels, height: y_pixels });\n",
       "};\n",
       "\n",
       "mpl.figure.prototype.send_message = function (type, properties) {\n",
       "    properties['type'] = type;\n",
       "    properties['figure_id'] = this.id;\n",
       "    this.ws.send(JSON.stringify(properties));\n",
       "};\n",
       "\n",
       "mpl.figure.prototype.send_draw_message = function () {\n",
       "    if (!this.waiting) {\n",
       "        this.waiting = true;\n",
       "        this.ws.send(JSON.stringify({ type: 'draw', figure_id: this.id }));\n",
       "    }\n",
       "};\n",
       "\n",
       "mpl.figure.prototype.handle_save = function (fig, _msg) {\n",
       "    var format_dropdown = fig.format_dropdown;\n",
       "    var format = format_dropdown.options[format_dropdown.selectedIndex].value;\n",
       "    fig.ondownload(fig, format);\n",
       "};\n",
       "\n",
       "mpl.figure.prototype.handle_resize = function (fig, msg) {\n",
       "    var size = msg['size'];\n",
       "    if (size[0] !== fig.canvas.width || size[1] !== fig.canvas.height) {\n",
       "        fig._resize_canvas(size[0], size[1], msg['forward']);\n",
       "        fig.send_message('refresh', {});\n",
       "    }\n",
       "};\n",
       "\n",
       "mpl.figure.prototype.handle_rubberband = function (fig, msg) {\n",
       "    var x0 = msg['x0'] / fig.ratio;\n",
       "    var y0 = (fig.canvas.height - msg['y0']) / fig.ratio;\n",
       "    var x1 = msg['x1'] / fig.ratio;\n",
       "    var y1 = (fig.canvas.height - msg['y1']) / fig.ratio;\n",
       "    x0 = Math.floor(x0) + 0.5;\n",
       "    y0 = Math.floor(y0) + 0.5;\n",
       "    x1 = Math.floor(x1) + 0.5;\n",
       "    y1 = Math.floor(y1) + 0.5;\n",
       "    var min_x = Math.min(x0, x1);\n",
       "    var min_y = Math.min(y0, y1);\n",
       "    var width = Math.abs(x1 - x0);\n",
       "    var height = Math.abs(y1 - y0);\n",
       "\n",
       "    fig.rubberband_context.clearRect(\n",
       "        0,\n",
       "        0,\n",
       "        fig.canvas.width / fig.ratio,\n",
       "        fig.canvas.height / fig.ratio\n",
       "    );\n",
       "\n",
       "    fig.rubberband_context.strokeRect(min_x, min_y, width, height);\n",
       "};\n",
       "\n",
       "mpl.figure.prototype.handle_figure_label = function (fig, msg) {\n",
       "    // Updates the figure title.\n",
       "    fig.header.textContent = msg['label'];\n",
       "};\n",
       "\n",
       "mpl.figure.prototype.handle_cursor = function (fig, msg) {\n",
       "    var cursor = msg['cursor'];\n",
       "    switch (cursor) {\n",
       "        case 0:\n",
       "            cursor = 'pointer';\n",
       "            break;\n",
       "        case 1:\n",
       "            cursor = 'default';\n",
       "            break;\n",
       "        case 2:\n",
       "            cursor = 'crosshair';\n",
       "            break;\n",
       "        case 3:\n",
       "            cursor = 'move';\n",
       "            break;\n",
       "    }\n",
       "    fig.rubberband_canvas.style.cursor = cursor;\n",
       "};\n",
       "\n",
       "mpl.figure.prototype.handle_message = function (fig, msg) {\n",
       "    fig.message.textContent = msg['message'];\n",
       "};\n",
       "\n",
       "mpl.figure.prototype.handle_draw = function (fig, _msg) {\n",
       "    // Request the server to send over a new figure.\n",
       "    fig.send_draw_message();\n",
       "};\n",
       "\n",
       "mpl.figure.prototype.handle_image_mode = function (fig, msg) {\n",
       "    fig.image_mode = msg['mode'];\n",
       "};\n",
       "\n",
       "mpl.figure.prototype.handle_history_buttons = function (fig, msg) {\n",
       "    for (var key in msg) {\n",
       "        if (!(key in fig.buttons)) {\n",
       "            continue;\n",
       "        }\n",
       "        fig.buttons[key].disabled = !msg[key];\n",
       "        fig.buttons[key].setAttribute('aria-disabled', !msg[key]);\n",
       "    }\n",
       "};\n",
       "\n",
       "mpl.figure.prototype.handle_navigate_mode = function (fig, msg) {\n",
       "    if (msg['mode'] === 'PAN') {\n",
       "        fig.buttons['Pan'].classList.add('active');\n",
       "        fig.buttons['Zoom'].classList.remove('active');\n",
       "    } else if (msg['mode'] === 'ZOOM') {\n",
       "        fig.buttons['Pan'].classList.remove('active');\n",
       "        fig.buttons['Zoom'].classList.add('active');\n",
       "    } else {\n",
       "        fig.buttons['Pan'].classList.remove('active');\n",
       "        fig.buttons['Zoom'].classList.remove('active');\n",
       "    }\n",
       "};\n",
       "\n",
       "mpl.figure.prototype.updated_canvas_event = function () {\n",
       "    // Called whenever the canvas gets updated.\n",
       "    this.send_message('ack', {});\n",
       "};\n",
       "\n",
       "// A function to construct a web socket function for onmessage handling.\n",
       "// Called in the figure constructor.\n",
       "mpl.figure.prototype._make_on_message_function = function (fig) {\n",
       "    return function socket_on_message(evt) {\n",
       "        if (evt.data instanceof Blob) {\n",
       "            /* FIXME: We get \"Resource interpreted as Image but\n",
       "             * transferred with MIME type text/plain:\" errors on\n",
       "             * Chrome.  But how to set the MIME type?  It doesn't seem\n",
       "             * to be part of the websocket stream */\n",
       "            evt.data.type = 'image/png';\n",
       "\n",
       "            /* Free the memory for the previous frames */\n",
       "            if (fig.imageObj.src) {\n",
       "                (window.URL || window.webkitURL).revokeObjectURL(\n",
       "                    fig.imageObj.src\n",
       "                );\n",
       "            }\n",
       "\n",
       "            fig.imageObj.src = (window.URL || window.webkitURL).createObjectURL(\n",
       "                evt.data\n",
       "            );\n",
       "            fig.updated_canvas_event();\n",
       "            fig.waiting = false;\n",
       "            return;\n",
       "        } else if (\n",
       "            typeof evt.data === 'string' &&\n",
       "            evt.data.slice(0, 21) === 'data:image/png;base64'\n",
       "        ) {\n",
       "            fig.imageObj.src = evt.data;\n",
       "            fig.updated_canvas_event();\n",
       "            fig.waiting = false;\n",
       "            return;\n",
       "        }\n",
       "\n",
       "        var msg = JSON.parse(evt.data);\n",
       "        var msg_type = msg['type'];\n",
       "\n",
       "        // Call the  \"handle_{type}\" callback, which takes\n",
       "        // the figure and JSON message as its only arguments.\n",
       "        try {\n",
       "            var callback = fig['handle_' + msg_type];\n",
       "        } catch (e) {\n",
       "            console.log(\n",
       "                \"No handler for the '\" + msg_type + \"' message type: \",\n",
       "                msg\n",
       "            );\n",
       "            return;\n",
       "        }\n",
       "\n",
       "        if (callback) {\n",
       "            try {\n",
       "                // console.log(\"Handling '\" + msg_type + \"' message: \", msg);\n",
       "                callback(fig, msg);\n",
       "            } catch (e) {\n",
       "                console.log(\n",
       "                    \"Exception inside the 'handler_\" + msg_type + \"' callback:\",\n",
       "                    e,\n",
       "                    e.stack,\n",
       "                    msg\n",
       "                );\n",
       "            }\n",
       "        }\n",
       "    };\n",
       "};\n",
       "\n",
       "// from http://stackoverflow.com/questions/1114465/getting-mouse-location-in-canvas\n",
       "mpl.findpos = function (e) {\n",
       "    //this section is from http://www.quirksmode.org/js/events_properties.html\n",
       "    var targ;\n",
       "    if (!e) {\n",
       "        e = window.event;\n",
       "    }\n",
       "    if (e.target) {\n",
       "        targ = e.target;\n",
       "    } else if (e.srcElement) {\n",
       "        targ = e.srcElement;\n",
       "    }\n",
       "    if (targ.nodeType === 3) {\n",
       "        // defeat Safari bug\n",
       "        targ = targ.parentNode;\n",
       "    }\n",
       "\n",
       "    // pageX,Y are the mouse positions relative to the document\n",
       "    var boundingRect = targ.getBoundingClientRect();\n",
       "    var x = e.pageX - (boundingRect.left + document.body.scrollLeft);\n",
       "    var y = e.pageY - (boundingRect.top + document.body.scrollTop);\n",
       "\n",
       "    return { x: x, y: y };\n",
       "};\n",
       "\n",
       "/*\n",
       " * return a copy of an object with only non-object keys\n",
       " * we need this to avoid circular references\n",
       " * http://stackoverflow.com/a/24161582/3208463\n",
       " */\n",
       "function simpleKeys(original) {\n",
       "    return Object.keys(original).reduce(function (obj, key) {\n",
       "        if (typeof original[key] !== 'object') {\n",
       "            obj[key] = original[key];\n",
       "        }\n",
       "        return obj;\n",
       "    }, {});\n",
       "}\n",
       "\n",
       "mpl.figure.prototype.mouse_event = function (event, name) {\n",
       "    var canvas_pos = mpl.findpos(event);\n",
       "\n",
       "    if (name === 'button_press') {\n",
       "        this.canvas.focus();\n",
       "        this.canvas_div.focus();\n",
       "    }\n",
       "\n",
       "    var x = canvas_pos.x * this.ratio;\n",
       "    var y = canvas_pos.y * this.ratio;\n",
       "\n",
       "    this.send_message(name, {\n",
       "        x: x,\n",
       "        y: y,\n",
       "        button: event.button,\n",
       "        step: event.step,\n",
       "        guiEvent: simpleKeys(event),\n",
       "    });\n",
       "\n",
       "    /* This prevents the web browser from automatically changing to\n",
       "     * the text insertion cursor when the button is pressed.  We want\n",
       "     * to control all of the cursor setting manually through the\n",
       "     * 'cursor' event from matplotlib */\n",
       "    event.preventDefault();\n",
       "    return false;\n",
       "};\n",
       "\n",
       "mpl.figure.prototype._key_event_extra = function (_event, _name) {\n",
       "    // Handle any extra behaviour associated with a key event\n",
       "};\n",
       "\n",
       "mpl.figure.prototype.key_event = function (event, name) {\n",
       "    // Prevent repeat events\n",
       "    if (name === 'key_press') {\n",
       "        if (event.which === this._key) {\n",
       "            return;\n",
       "        } else {\n",
       "            this._key = event.which;\n",
       "        }\n",
       "    }\n",
       "    if (name === 'key_release') {\n",
       "        this._key = null;\n",
       "    }\n",
       "\n",
       "    var value = '';\n",
       "    if (event.ctrlKey && event.which !== 17) {\n",
       "        value += 'ctrl+';\n",
       "    }\n",
       "    if (event.altKey && event.which !== 18) {\n",
       "        value += 'alt+';\n",
       "    }\n",
       "    if (event.shiftKey && event.which !== 16) {\n",
       "        value += 'shift+';\n",
       "    }\n",
       "\n",
       "    value += 'k';\n",
       "    value += event.which.toString();\n",
       "\n",
       "    this._key_event_extra(event, name);\n",
       "\n",
       "    this.send_message(name, { key: value, guiEvent: simpleKeys(event) });\n",
       "    return false;\n",
       "};\n",
       "\n",
       "mpl.figure.prototype.toolbar_button_onclick = function (name) {\n",
       "    if (name === 'download') {\n",
       "        this.handle_save(this, null);\n",
       "    } else {\n",
       "        this.send_message('toolbar_button', { name: name });\n",
       "    }\n",
       "};\n",
       "\n",
       "mpl.figure.prototype.toolbar_button_onmouseover = function (tooltip) {\n",
       "    this.message.textContent = tooltip;\n",
       "};\n",
       "mpl.toolbar_items = [[\"Home\", \"Reset original view\", \"fa fa-home icon-home\", \"home\"], [\"Back\", \"Back to previous view\", \"fa fa-arrow-left icon-arrow-left\", \"back\"], [\"Forward\", \"Forward to next view\", \"fa fa-arrow-right icon-arrow-right\", \"forward\"], [\"\", \"\", \"\", \"\"], [\"Pan\", \"Left button pans, Right button zooms\\nx/y fixes axis, CTRL fixes aspect\", \"fa fa-arrows icon-move\", \"pan\"], [\"Zoom\", \"Zoom to rectangle\\nx/y fixes axis, CTRL fixes aspect\", \"fa fa-square-o icon-check-empty\", \"zoom\"], [\"\", \"\", \"\", \"\"], [\"Download\", \"Download plot\", \"fa fa-floppy-o icon-save\", \"download\"]];\n",
       "\n",
       "mpl.extensions = [\"eps\", \"jpeg\", \"pdf\", \"png\", \"ps\", \"raw\", \"svg\", \"tif\"];\n",
       "\n",
       "mpl.default_extension = \"png\";/* global mpl */\n",
       "\n",
       "var comm_websocket_adapter = function (comm) {\n",
       "    // Create a \"websocket\"-like object which calls the given IPython comm\n",
       "    // object with the appropriate methods. Currently this is a non binary\n",
       "    // socket, so there is still some room for performance tuning.\n",
       "    var ws = {};\n",
       "\n",
       "    ws.close = function () {\n",
       "        comm.close();\n",
       "    };\n",
       "    ws.send = function (m) {\n",
       "        //console.log('sending', m);\n",
       "        comm.send(m);\n",
       "    };\n",
       "    // Register the callback with on_msg.\n",
       "    comm.on_msg(function (msg) {\n",
       "        //console.log('receiving', msg['content']['data'], msg);\n",
       "        // Pass the mpl event to the overridden (by mpl) onmessage function.\n",
       "        ws.onmessage(msg['content']['data']);\n",
       "    });\n",
       "    return ws;\n",
       "};\n",
       "\n",
       "mpl.mpl_figure_comm = function (comm, msg) {\n",
       "    // This is the function which gets called when the mpl process\n",
       "    // starts-up an IPython Comm through the \"matplotlib\" channel.\n",
       "\n",
       "    var id = msg.content.data.id;\n",
       "    // Get hold of the div created by the display call when the Comm\n",
       "    // socket was opened in Python.\n",
       "    var element = document.getElementById(id);\n",
       "    var ws_proxy = comm_websocket_adapter(comm);\n",
       "\n",
       "    function ondownload(figure, _format) {\n",
       "        window.open(figure.canvas.toDataURL());\n",
       "    }\n",
       "\n",
       "    var fig = new mpl.figure(id, ws_proxy, ondownload, element);\n",
       "\n",
       "    // Call onopen now - mpl needs it, as it is assuming we've passed it a real\n",
       "    // web socket which is closed, not our websocket->open comm proxy.\n",
       "    ws_proxy.onopen();\n",
       "\n",
       "    fig.parent_element = element;\n",
       "    fig.cell_info = mpl.find_output_cell(\"<div id='\" + id + \"'></div>\");\n",
       "    if (!fig.cell_info) {\n",
       "        console.error('Failed to find cell for figure', id, fig);\n",
       "        return;\n",
       "    }\n",
       "    fig.cell_info[0].output_area.element.one(\n",
       "        'cleared',\n",
       "        { fig: fig },\n",
       "        fig._remove_fig_handler\n",
       "    );\n",
       "};\n",
       "\n",
       "mpl.figure.prototype.handle_close = function (fig, msg) {\n",
       "    var width = fig.canvas.width / fig.ratio;\n",
       "    fig.cell_info[0].output_area.element.off(\n",
       "        'cleared',\n",
       "        fig._remove_fig_handler\n",
       "    );\n",
       "\n",
       "    // Update the output cell to use the data from the current canvas.\n",
       "    fig.push_to_output();\n",
       "    var dataURL = fig.canvas.toDataURL();\n",
       "    // Re-enable the keyboard manager in IPython - without this line, in FF,\n",
       "    // the notebook keyboard shortcuts fail.\n",
       "    IPython.keyboard_manager.enable();\n",
       "    fig.parent_element.innerHTML =\n",
       "        '<img src=\"' + dataURL + '\" width=\"' + width + '\">';\n",
       "    fig.close_ws(fig, msg);\n",
       "};\n",
       "\n",
       "mpl.figure.prototype.close_ws = function (fig, msg) {\n",
       "    fig.send_message('closing', msg);\n",
       "    // fig.ws.close()\n",
       "};\n",
       "\n",
       "mpl.figure.prototype.push_to_output = function (_remove_interactive) {\n",
       "    // Turn the data on the canvas into data in the output cell.\n",
       "    var width = this.canvas.width / this.ratio;\n",
       "    var dataURL = this.canvas.toDataURL();\n",
       "    this.cell_info[1]['text/html'] =\n",
       "        '<img src=\"' + dataURL + '\" width=\"' + width + '\">';\n",
       "};\n",
       "\n",
       "mpl.figure.prototype.updated_canvas_event = function () {\n",
       "    // Tell IPython that the notebook contents must change.\n",
       "    IPython.notebook.set_dirty(true);\n",
       "    this.send_message('ack', {});\n",
       "    var fig = this;\n",
       "    // Wait a second, then push the new image to the DOM so\n",
       "    // that it is saved nicely (might be nice to debounce this).\n",
       "    setTimeout(function () {\n",
       "        fig.push_to_output();\n",
       "    }, 1000);\n",
       "};\n",
       "\n",
       "mpl.figure.prototype._init_toolbar = function () {\n",
       "    var fig = this;\n",
       "\n",
       "    var toolbar = document.createElement('div');\n",
       "    toolbar.classList = 'btn-toolbar';\n",
       "    this.root.appendChild(toolbar);\n",
       "\n",
       "    function on_click_closure(name) {\n",
       "        return function (_event) {\n",
       "            return fig.toolbar_button_onclick(name);\n",
       "        };\n",
       "    }\n",
       "\n",
       "    function on_mouseover_closure(tooltip) {\n",
       "        return function (event) {\n",
       "            if (!event.currentTarget.disabled) {\n",
       "                return fig.toolbar_button_onmouseover(tooltip);\n",
       "            }\n",
       "        };\n",
       "    }\n",
       "\n",
       "    fig.buttons = {};\n",
       "    var buttonGroup = document.createElement('div');\n",
       "    buttonGroup.classList = 'btn-group';\n",
       "    var button;\n",
       "    for (var toolbar_ind in mpl.toolbar_items) {\n",
       "        var name = mpl.toolbar_items[toolbar_ind][0];\n",
       "        var tooltip = mpl.toolbar_items[toolbar_ind][1];\n",
       "        var image = mpl.toolbar_items[toolbar_ind][2];\n",
       "        var method_name = mpl.toolbar_items[toolbar_ind][3];\n",
       "\n",
       "        if (!name) {\n",
       "            /* Instead of a spacer, we start a new button group. */\n",
       "            if (buttonGroup.hasChildNodes()) {\n",
       "                toolbar.appendChild(buttonGroup);\n",
       "            }\n",
       "            buttonGroup = document.createElement('div');\n",
       "            buttonGroup.classList = 'btn-group';\n",
       "            continue;\n",
       "        }\n",
       "\n",
       "        button = fig.buttons[name] = document.createElement('button');\n",
       "        button.classList = 'btn btn-default';\n",
       "        button.href = '#';\n",
       "        button.title = name;\n",
       "        button.innerHTML = '<i class=\"fa ' + image + ' fa-lg\"></i>';\n",
       "        button.addEventListener('click', on_click_closure(method_name));\n",
       "        button.addEventListener('mouseover', on_mouseover_closure(tooltip));\n",
       "        buttonGroup.appendChild(button);\n",
       "    }\n",
       "\n",
       "    if (buttonGroup.hasChildNodes()) {\n",
       "        toolbar.appendChild(buttonGroup);\n",
       "    }\n",
       "\n",
       "    // Add the status bar.\n",
       "    var status_bar = document.createElement('span');\n",
       "    status_bar.classList = 'mpl-message pull-right';\n",
       "    toolbar.appendChild(status_bar);\n",
       "    this.message = status_bar;\n",
       "\n",
       "    // Add the close button to the window.\n",
       "    var buttongrp = document.createElement('div');\n",
       "    buttongrp.classList = 'btn-group inline pull-right';\n",
       "    button = document.createElement('button');\n",
       "    button.classList = 'btn btn-mini btn-primary';\n",
       "    button.href = '#';\n",
       "    button.title = 'Stop Interaction';\n",
       "    button.innerHTML = '<i class=\"fa fa-power-off icon-remove icon-large\"></i>';\n",
       "    button.addEventListener('click', function (_evt) {\n",
       "        fig.handle_close(fig, {});\n",
       "    });\n",
       "    button.addEventListener(\n",
       "        'mouseover',\n",
       "        on_mouseover_closure('Stop Interaction')\n",
       "    );\n",
       "    buttongrp.appendChild(button);\n",
       "    var titlebar = this.root.querySelector('.ui-dialog-titlebar');\n",
       "    titlebar.insertBefore(buttongrp, titlebar.firstChild);\n",
       "};\n",
       "\n",
       "mpl.figure.prototype._remove_fig_handler = function (event) {\n",
       "    var fig = event.data.fig;\n",
       "    fig.close_ws(fig, {});\n",
       "};\n",
       "\n",
       "mpl.figure.prototype._root_extra_style = function (el) {\n",
       "    el.style.boxSizing = 'content-box'; // override notebook setting of border-box.\n",
       "};\n",
       "\n",
       "mpl.figure.prototype._canvas_extra_style = function (el) {\n",
       "    // this is important to make the div 'focusable\n",
       "    el.setAttribute('tabindex', 0);\n",
       "    // reach out to IPython and tell the keyboard manager to turn it's self\n",
       "    // off when our div gets focus\n",
       "\n",
       "    // location in version 3\n",
       "    if (IPython.notebook.keyboard_manager) {\n",
       "        IPython.notebook.keyboard_manager.register_events(el);\n",
       "    } else {\n",
       "        // location in version 2\n",
       "        IPython.keyboard_manager.register_events(el);\n",
       "    }\n",
       "};\n",
       "\n",
       "mpl.figure.prototype._key_event_extra = function (event, _name) {\n",
       "    var manager = IPython.notebook.keyboard_manager;\n",
       "    if (!manager) {\n",
       "        manager = IPython.keyboard_manager;\n",
       "    }\n",
       "\n",
       "    // Check for shift+enter\n",
       "    if (event.shiftKey && event.which === 13) {\n",
       "        this.canvas_div.blur();\n",
       "        // select the cell after this one\n",
       "        var index = IPython.notebook.find_cell_index(this.cell_info[0]);\n",
       "        IPython.notebook.select(index + 1);\n",
       "    }\n",
       "};\n",
       "\n",
       "mpl.figure.prototype.handle_save = function (fig, _msg) {\n",
       "    fig.ondownload(fig, null);\n",
       "};\n",
       "\n",
       "mpl.find_output_cell = function (html_output) {\n",
       "    // Return the cell and output element which can be found *uniquely* in the notebook.\n",
       "    // Note - this is a bit hacky, but it is done because the \"notebook_saving.Notebook\"\n",
       "    // IPython event is triggered only after the cells have been serialised, which for\n",
       "    // our purposes (turning an active figure into a static one), is too late.\n",
       "    var cells = IPython.notebook.get_cells();\n",
       "    var ncells = cells.length;\n",
       "    for (var i = 0; i < ncells; i++) {\n",
       "        var cell = cells[i];\n",
       "        if (cell.cell_type === 'code') {\n",
       "            for (var j = 0; j < cell.output_area.outputs.length; j++) {\n",
       "                var data = cell.output_area.outputs[j];\n",
       "                if (data.data) {\n",
       "                    // IPython >= 3 moved mimebundle to data attribute of output\n",
       "                    data = data.data;\n",
       "                }\n",
       "                if (data['text/html'] === html_output) {\n",
       "                    return [cell, data, j];\n",
       "                }\n",
       "            }\n",
       "        }\n",
       "    }\n",
       "};\n",
       "\n",
       "// Register the function which deals with the matplotlib target/channel.\n",
       "// The kernel may be null if the page has been refreshed.\n",
       "if (IPython.notebook.kernel !== null) {\n",
       "    IPython.notebook.kernel.comm_manager.register_target(\n",
       "        'matplotlib',\n",
       "        mpl.mpl_figure_comm\n",
       "    );\n",
       "}\n"
      ],
      "text/plain": [
       "<IPython.core.display.Javascript object>"
      ]
     },
     "metadata": {},
     "output_type": "display_data"
    },
    {
     "data": {
      "text/html": [
       "<img src=\"data:image/png;base64,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\" width=\"640\">"
      ],
      "text/plain": [
       "<IPython.core.display.HTML object>"
      ]
     },
     "metadata": {},
     "output_type": "display_data"
    },
    {
     "data": {
      "application/vnd.jupyter.widget-view+json": {
       "model_id": "512e8a8f95e7446dafe132ef91aae0b3",
       "version_major": 2,
       "version_minor": 0
      },
      "text/plain": [
       "HBox(children=(HTML(value=''), FloatProgress(value=0.0, max=1000.0), HTML(value='')))"
      ]
     },
     "metadata": {},
     "output_type": "display_data"
    },
    {
     "data": {
      "application/vnd.jupyter.widget-view+json": {
       "model_id": "d6de60ffae444f9c9c4f28210cb656e8",
       "version_major": 2,
       "version_minor": 0
      },
      "text/plain": [
       "HBox(children=(HTML(value=''), FloatProgress(value=0.0, max=1656.0), HTML(value='')))"
      ]
     },
     "metadata": {},
     "output_type": "display_data"
    },
    {
     "name": "stderr",
     "output_type": "stream",
     "text": [
      "/home/catskills/anaconda3/envs/nemo/lib/python3.7/site-packages/torchtext/data/batch.py:23: UserWarning: Batch class will be retired in the 0.8.0 release and moved to torchtext.legacy. Please see 0.7.0 release notes for further information.\n",
      "  warnings.warn('{} class will be retired in the 0.8.0 release and moved to torchtext.legacy. Please see 0.7.0 release notes for further information.'.format(self.__class__.__name__), UserWarning)\n"
     ]
    },
    {
     "name": "stdout",
     "output_type": "stream",
     "text": [
      "\n"
     ]
    },
    {
     "data": {
      "application/vnd.jupyter.widget-view+json": {
       "model_id": "5b78c1bf3412450cb87b295e8f13a841",
       "version_major": 2,
       "version_minor": 0
      },
      "text/plain": [
       "HBox(children=(HTML(value=''), FloatProgress(value=0.0, max=1656.0), HTML(value='')))"
      ]
     },
     "metadata": {},
     "output_type": "display_data"
    },
    {
     "name": "stdout",
     "output_type": "stream",
     "text": [
      "\n"
     ]
    },
    {
     "data": {
      "application/vnd.jupyter.widget-view+json": {
       "model_id": "acef383fbf974ba69ae3e68d6217f131",
       "version_major": 2,
       "version_minor": 0
      },
      "text/plain": [
       "HBox(children=(HTML(value=''), FloatProgress(value=0.0, max=1656.0), HTML(value='')))"
      ]
     },
     "metadata": {},
     "output_type": "display_data"
    },
    {
     "name": "stdout",
     "output_type": "stream",
     "text": [
      "\n"
     ]
    },
    {
     "data": {
      "application/vnd.jupyter.widget-view+json": {
       "model_id": "1e366ca5be4e49469793779f083bca5c",
       "version_major": 2,
       "version_minor": 0
      },
      "text/plain": [
       "HBox(children=(HTML(value=''), FloatProgress(value=0.0, max=1656.0), HTML(value='')))"
      ]
     },
     "metadata": {},
     "output_type": "display_data"
    },
    {
     "name": "stdout",
     "output_type": "stream",
     "text": [
      "\n"
     ]
    },
    {
     "data": {
      "application/vnd.jupyter.widget-view+json": {
       "model_id": "e40a17cfb56c4a0d8e7794d8942767a9",
       "version_major": 2,
       "version_minor": 0
      },
      "text/plain": [
       "HBox(children=(HTML(value=''), FloatProgress(value=0.0, max=1656.0), HTML(value='')))"
      ]
     },
     "metadata": {},
     "output_type": "display_data"
    },
    {
     "name": "stdout",
     "output_type": "stream",
     "text": [
      "\n"
     ]
    },
    {
     "data": {
      "application/vnd.jupyter.widget-view+json": {
       "model_id": "7916de43d86545f9af06ea05d6854521",
       "version_major": 2,
       "version_minor": 0
      },
      "text/plain": [
       "HBox(children=(HTML(value=''), FloatProgress(value=0.0, max=1656.0), HTML(value='')))"
      ]
     },
     "metadata": {},
     "output_type": "display_data"
    },
    {
     "name": "stdout",
     "output_type": "stream",
     "text": [
      "\n"
     ]
    },
    {
     "data": {
      "application/vnd.jupyter.widget-view+json": {
       "model_id": "1d329bcac7084ba0872f6aa3323f2403",
       "version_major": 2,
       "version_minor": 0
      },
      "text/plain": [
       "HBox(children=(HTML(value=''), FloatProgress(value=0.0, max=1656.0), HTML(value='')))"
      ]
     },
     "metadata": {},
     "output_type": "display_data"
    },
    {
     "name": "stdout",
     "output_type": "stream",
     "text": [
      "\n"
     ]
    },
    {
     "data": {
      "application/vnd.jupyter.widget-view+json": {
       "model_id": "a533dec2582f43c480796f7ab4e776be",
       "version_major": 2,
       "version_minor": 0
      },
      "text/plain": [
       "HBox(children=(HTML(value=''), FloatProgress(value=0.0, max=1656.0), HTML(value='')))"
      ]
     },
     "metadata": {},
     "output_type": "display_data"
    },
    {
     "name": "stdout",
     "output_type": "stream",
     "text": [
      "\n"
     ]
    },
    {
     "data": {
      "application/vnd.jupyter.widget-view+json": {
       "model_id": "adae49d5bf3c4ef8bb3614b8ad03e784",
       "version_major": 2,
       "version_minor": 0
      },
      "text/plain": [
       "HBox(children=(HTML(value=''), FloatProgress(value=0.0, max=1656.0), HTML(value='')))"
      ]
     },
     "metadata": {},
     "output_type": "display_data"
    },
    {
     "name": "stdout",
     "output_type": "stream",
     "text": [
      "\n"
     ]
    },
    {
     "data": {
      "application/vnd.jupyter.widget-view+json": {
       "model_id": "e81aa86158d440268a241a949c1319d5",
       "version_major": 2,
       "version_minor": 0
      },
      "text/plain": [
       "HBox(children=(HTML(value=''), FloatProgress(value=0.0, max=1656.0), HTML(value='')))"
      ]
     },
     "metadata": {},
     "output_type": "display_data"
    },
    {
     "name": "stdout",
     "output_type": "stream",
     "text": [
      "\n"
     ]
    },
    {
     "data": {
      "application/vnd.jupyter.widget-view+json": {
       "model_id": "f5f8a69bda134791b6cb8f7b09839668",
       "version_major": 2,
       "version_minor": 0
      },
      "text/plain": [
       "HBox(children=(HTML(value=''), FloatProgress(value=0.0, max=1656.0), HTML(value='')))"
      ]
     },
     "metadata": {},
     "output_type": "display_data"
    },
    {
     "name": "stdout",
     "output_type": "stream",
     "text": [
      "\n"
     ]
    },
    {
     "data": {
      "application/vnd.jupyter.widget-view+json": {
       "model_id": "deb2510b017641ba8d795a9fd3bd2fa8",
       "version_major": 2,
       "version_minor": 0
      },
      "text/plain": [
       "HBox(children=(HTML(value=''), FloatProgress(value=0.0, max=1656.0), HTML(value='')))"
      ]
     },
     "metadata": {},
     "output_type": "display_data"
    },
    {
     "name": "stdout",
     "output_type": "stream",
     "text": [
      "\n"
     ]
    },
    {
     "data": {
      "application/vnd.jupyter.widget-view+json": {
       "model_id": "38ff49ff7cb147eebb63320f236fa649",
       "version_major": 2,
       "version_minor": 0
      },
      "text/plain": [
       "HBox(children=(HTML(value=''), FloatProgress(value=0.0, max=1656.0), HTML(value='')))"
      ]
     },
     "metadata": {},
     "output_type": "display_data"
    },
    {
     "name": "stdout",
     "output_type": "stream",
     "text": [
      "\n"
     ]
    },
    {
     "data": {
      "application/vnd.jupyter.widget-view+json": {
       "model_id": "ddb6f740c61c4a3aafbea7595b5a6b03",
       "version_major": 2,
       "version_minor": 0
      },
      "text/plain": [
       "HBox(children=(HTML(value=''), FloatProgress(value=0.0, max=1656.0), HTML(value='')))"
      ]
     },
     "metadata": {},
     "output_type": "display_data"
    },
    {
     "name": "stdout",
     "output_type": "stream",
     "text": [
      "\n"
     ]
    },
    {
     "data": {
      "application/vnd.jupyter.widget-view+json": {
       "model_id": "7dc80f14768d4420aa28dc79363ec85f",
       "version_major": 2,
       "version_minor": 0
      },
      "text/plain": [
       "HBox(children=(HTML(value=''), FloatProgress(value=0.0, max=1656.0), HTML(value='')))"
      ]
     },
     "metadata": {},
     "output_type": "display_data"
    },
    {
     "name": "stdout",
     "output_type": "stream",
     "text": [
      "\n"
     ]
    },
    {
     "data": {
      "application/vnd.jupyter.widget-view+json": {
       "model_id": "3cda1d3b711f4542a672dfb875fe1a4a",
       "version_major": 2,
       "version_minor": 0
      },
      "text/plain": [
       "HBox(children=(HTML(value=''), FloatProgress(value=0.0, max=1656.0), HTML(value='')))"
      ]
     },
     "metadata": {},
     "output_type": "display_data"
    },
    {
     "name": "stdout",
     "output_type": "stream",
     "text": [
      "\n"
     ]
    },
    {
     "data": {
      "application/vnd.jupyter.widget-view+json": {
       "model_id": "8c7133fa56b94d9582737bff3e777b6d",
       "version_major": 2,
       "version_minor": 0
      },
      "text/plain": [
       "HBox(children=(HTML(value=''), FloatProgress(value=0.0, max=1656.0), HTML(value='')))"
      ]
     },
     "metadata": {},
     "output_type": "display_data"
    },
    {
     "name": "stdout",
     "output_type": "stream",
     "text": [
      "\n"
     ]
    },
    {
     "data": {
      "application/vnd.jupyter.widget-view+json": {
       "model_id": "2224c855dc3f4145869a880ae6193489",
       "version_major": 2,
       "version_minor": 0
      },
      "text/plain": [
       "HBox(children=(HTML(value=''), FloatProgress(value=0.0, max=1656.0), HTML(value='')))"
      ]
     },
     "metadata": {},
     "output_type": "display_data"
    },
    {
     "name": "stdout",
     "output_type": "stream",
     "text": [
      "\n"
     ]
    },
    {
     "data": {
      "application/vnd.jupyter.widget-view+json": {
       "model_id": "2079fb7943624f03adf0c2a93cd1e3d0",
       "version_major": 2,
       "version_minor": 0
      },
      "text/plain": [
       "HBox(children=(HTML(value=''), FloatProgress(value=0.0, max=1656.0), HTML(value='')))"
      ]
     },
     "metadata": {},
     "output_type": "display_data"
    },
    {
     "name": "stdout",
     "output_type": "stream",
     "text": [
      "\n"
     ]
    },
    {
     "data": {
      "application/vnd.jupyter.widget-view+json": {
       "model_id": "c69fc61e5ca04d21b0c6f307f30d4f72",
       "version_major": 2,
       "version_minor": 0
      },
      "text/plain": [
       "HBox(children=(HTML(value=''), FloatProgress(value=0.0, max=1656.0), HTML(value='')))"
      ]
     },
     "metadata": {},
     "output_type": "display_data"
    },
    {
     "name": "stdout",
     "output_type": "stream",
     "text": [
      "\n"
     ]
    },
    {
     "data": {
      "application/vnd.jupyter.widget-view+json": {
       "model_id": "502cac248e2e495a985ecb0584aeabad",
       "version_major": 2,
       "version_minor": 0
      },
      "text/plain": [
       "HBox(children=(HTML(value=''), FloatProgress(value=0.0, max=1656.0), HTML(value='')))"
      ]
     },
     "metadata": {},
     "output_type": "display_data"
    },
    {
     "name": "stdout",
     "output_type": "stream",
     "text": [
      "\n"
     ]
    },
    {
     "data": {
      "application/vnd.jupyter.widget-view+json": {
       "model_id": "efe787077dcd4cb3a0b85192cd113bc9",
       "version_major": 2,
       "version_minor": 0
      },
      "text/plain": [
       "HBox(children=(HTML(value=''), FloatProgress(value=0.0, max=1656.0), HTML(value='')))"
      ]
     },
     "metadata": {},
     "output_type": "display_data"
    },
    {
     "name": "stdout",
     "output_type": "stream",
     "text": [
      "\n"
     ]
    },
    {
     "data": {
      "application/vnd.jupyter.widget-view+json": {
       "model_id": "c7df869e14bb455082862cdaee18d536",
       "version_major": 2,
       "version_minor": 0
      },
      "text/plain": [
       "HBox(children=(HTML(value=''), FloatProgress(value=0.0, max=1656.0), HTML(value='')))"
      ]
     },
     "metadata": {},
     "output_type": "display_data"
    },
    {
     "name": "stdout",
     "output_type": "stream",
     "text": [
      "\n"
     ]
    },
    {
     "data": {
      "application/vnd.jupyter.widget-view+json": {
       "model_id": "b88df23c695e420d8a052059da4c7322",
       "version_major": 2,
       "version_minor": 0
      },
      "text/plain": [
       "HBox(children=(HTML(value=''), FloatProgress(value=0.0, max=1656.0), HTML(value='')))"
      ]
     },
     "metadata": {},
     "output_type": "display_data"
    },
    {
     "name": "stdout",
     "output_type": "stream",
     "text": [
      "\n"
     ]
    },
    {
     "data": {
      "application/vnd.jupyter.widget-view+json": {
       "model_id": "66273d8f8c89445b90ca870a77456aef",
       "version_major": 2,
       "version_minor": 0
      },
      "text/plain": [
       "HBox(children=(HTML(value=''), FloatProgress(value=0.0, max=1656.0), HTML(value='')))"
      ]
     },
     "metadata": {},
     "output_type": "display_data"
    },
    {
     "name": "stdout",
     "output_type": "stream",
     "text": [
      "\n"
     ]
    },
    {
     "data": {
      "application/vnd.jupyter.widget-view+json": {
       "model_id": "3be8f16673874b90ae4d4650abdef78d",
       "version_major": 2,
       "version_minor": 0
      },
      "text/plain": [
       "HBox(children=(HTML(value=''), FloatProgress(value=0.0, max=1656.0), HTML(value='')))"
      ]
     },
     "metadata": {},
     "output_type": "display_data"
    },
    {
     "name": "stdout",
     "output_type": "stream",
     "text": [
      "\n"
     ]
    },
    {
     "data": {
      "application/vnd.jupyter.widget-view+json": {
       "model_id": "847c7f47e45a435eb7a1a498c39f9d21",
       "version_major": 2,
       "version_minor": 0
      },
      "text/plain": [
       "HBox(children=(HTML(value=''), FloatProgress(value=0.0, max=1656.0), HTML(value='')))"
      ]
     },
     "metadata": {},
     "output_type": "display_data"
    },
    {
     "name": "stdout",
     "output_type": "stream",
     "text": [
      "\n"
     ]
    },
    {
     "data": {
      "application/vnd.jupyter.widget-view+json": {
       "model_id": "4e32a8be8f0b43acba2007f961e4e837",
       "version_major": 2,
       "version_minor": 0
      },
      "text/plain": [
       "HBox(children=(HTML(value=''), FloatProgress(value=0.0, max=1656.0), HTML(value='')))"
      ]
     },
     "metadata": {},
     "output_type": "display_data"
    },
    {
     "name": "stdout",
     "output_type": "stream",
     "text": [
      "\n"
     ]
    },
    {
     "data": {
      "application/vnd.jupyter.widget-view+json": {
       "model_id": "433a2f08bf0d42969a18c19b17b8baa6",
       "version_major": 2,
       "version_minor": 0
      },
      "text/plain": [
       "HBox(children=(HTML(value=''), FloatProgress(value=0.0, max=1656.0), HTML(value='')))"
      ]
     },
     "metadata": {},
     "output_type": "display_data"
    },
    {
     "name": "stdout",
     "output_type": "stream",
     "text": [
      "\n"
     ]
    },
    {
     "data": {
      "application/vnd.jupyter.widget-view+json": {
       "model_id": "39411eee9a2f4b0b8d3169892de7e352",
       "version_major": 2,
       "version_minor": 0
      },
      "text/plain": [
       "HBox(children=(HTML(value=''), FloatProgress(value=0.0, max=1656.0), HTML(value='')))"
      ]
     },
     "metadata": {},
     "output_type": "display_data"
    },
    {
     "name": "stdout",
     "output_type": "stream",
     "text": [
      "\n"
     ]
    },
    {
     "data": {
      "application/vnd.jupyter.widget-view+json": {
       "model_id": "fb993259661846aa8d29e0e840791560",
       "version_major": 2,
       "version_minor": 0
      },
      "text/plain": [
       "HBox(children=(HTML(value=''), FloatProgress(value=0.0, max=1656.0), HTML(value='')))"
      ]
     },
     "metadata": {},
     "output_type": "display_data"
    },
    {
     "name": "stdout",
     "output_type": "stream",
     "text": [
      "\n"
     ]
    },
    {
     "data": {
      "application/vnd.jupyter.widget-view+json": {
       "model_id": "723dcc4bf23a4a9ab94cf96d0dd40430",
       "version_major": 2,
       "version_minor": 0
      },
      "text/plain": [
       "HBox(children=(HTML(value=''), FloatProgress(value=0.0, max=1656.0), HTML(value='')))"
      ]
     },
     "metadata": {},
     "output_type": "display_data"
    },
    {
     "name": "stdout",
     "output_type": "stream",
     "text": [
      "\n"
     ]
    },
    {
     "data": {
      "application/vnd.jupyter.widget-view+json": {
       "model_id": "c15880a8be814ff48519ca1c9f40242a",
       "version_major": 2,
       "version_minor": 0
      },
      "text/plain": [
       "HBox(children=(HTML(value=''), FloatProgress(value=0.0, max=1656.0), HTML(value='')))"
      ]
     },
     "metadata": {},
     "output_type": "display_data"
    },
    {
     "name": "stdout",
     "output_type": "stream",
     "text": [
      "\n"
     ]
    },
    {
     "data": {
      "application/vnd.jupyter.widget-view+json": {
       "model_id": "0cb64a226e7a4348b0df8c48d652294f",
       "version_major": 2,
       "version_minor": 0
      },
      "text/plain": [
       "HBox(children=(HTML(value=''), FloatProgress(value=0.0, max=1656.0), HTML(value='')))"
      ]
     },
     "metadata": {},
     "output_type": "display_data"
    },
    {
     "name": "stdout",
     "output_type": "stream",
     "text": [
      "\n"
     ]
    },
    {
     "data": {
      "application/vnd.jupyter.widget-view+json": {
       "model_id": "a09398e9a8694cb691b1b17d97d7d420",
       "version_major": 2,
       "version_minor": 0
      },
      "text/plain": [
       "HBox(children=(HTML(value=''), FloatProgress(value=0.0, max=1656.0), HTML(value='')))"
      ]
     },
     "metadata": {},
     "output_type": "display_data"
    },
    {
     "name": "stdout",
     "output_type": "stream",
     "text": [
      "\n"
     ]
    },
    {
     "data": {
      "application/vnd.jupyter.widget-view+json": {
       "model_id": "70c058dce24844f09b958580ec935769",
       "version_major": 2,
       "version_minor": 0
      },
      "text/plain": [
       "HBox(children=(HTML(value=''), FloatProgress(value=0.0, max=1656.0), HTML(value='')))"
      ]
     },
     "metadata": {},
     "output_type": "display_data"
    },
    {
     "name": "stdout",
     "output_type": "stream",
     "text": [
      "\n"
     ]
    },
    {
     "data": {
      "application/vnd.jupyter.widget-view+json": {
       "model_id": "11e04f6cc7ab4af09596abda12cc21a7",
       "version_major": 2,
       "version_minor": 0
      },
      "text/plain": [
       "HBox(children=(HTML(value=''), FloatProgress(value=0.0, max=1656.0), HTML(value='')))"
      ]
     },
     "metadata": {},
     "output_type": "display_data"
    },
    {
     "name": "stdout",
     "output_type": "stream",
     "text": [
      "\n"
     ]
    },
    {
     "data": {
      "application/vnd.jupyter.widget-view+json": {
       "model_id": "78d3d2e94b0d47a89e3d52fd1e84cf11",
       "version_major": 2,
       "version_minor": 0
      },
      "text/plain": [
       "HBox(children=(HTML(value=''), FloatProgress(value=0.0, max=1656.0), HTML(value='')))"
      ]
     },
     "metadata": {},
     "output_type": "display_data"
    },
    {
     "name": "stdout",
     "output_type": "stream",
     "text": [
      "\n"
     ]
    },
    {
     "data": {
      "application/vnd.jupyter.widget-view+json": {
       "model_id": "eafc86c2efc9477b8559785b1f2e2099",
       "version_major": 2,
       "version_minor": 0
      },
      "text/plain": [
       "HBox(children=(HTML(value=''), FloatProgress(value=0.0, max=1656.0), HTML(value='')))"
      ]
     },
     "metadata": {},
     "output_type": "display_data"
    },
    {
     "name": "stdout",
     "output_type": "stream",
     "text": [
      "\n"
     ]
    },
    {
     "data": {
      "application/vnd.jupyter.widget-view+json": {
       "model_id": "cfd5302a3b4942cabb802f5c15373c1b",
       "version_major": 2,
       "version_minor": 0
      },
      "text/plain": [
       "HBox(children=(HTML(value=''), FloatProgress(value=0.0, max=1656.0), HTML(value='')))"
      ]
     },
     "metadata": {},
     "output_type": "display_data"
    },
    {
     "name": "stdout",
     "output_type": "stream",
     "text": [
      "\n"
     ]
    },
    {
     "data": {
      "application/vnd.jupyter.widget-view+json": {
       "model_id": "c2957e38c43a46cdb98ff440e3a955d3",
       "version_major": 2,
       "version_minor": 0
      },
      "text/plain": [
       "HBox(children=(HTML(value=''), FloatProgress(value=0.0, max=1656.0), HTML(value='')))"
      ]
     },
     "metadata": {},
     "output_type": "display_data"
    },
    {
     "name": "stdout",
     "output_type": "stream",
     "text": [
      "\n"
     ]
    },
    {
     "data": {
      "application/vnd.jupyter.widget-view+json": {
       "model_id": "036e485902ae44b184e83c6587059c21",
       "version_major": 2,
       "version_minor": 0
      },
      "text/plain": [
       "HBox(children=(HTML(value=''), FloatProgress(value=0.0, max=1656.0), HTML(value='')))"
      ]
     },
     "metadata": {},
     "output_type": "display_data"
    },
    {
     "name": "stdout",
     "output_type": "stream",
     "text": [
      "\n"
     ]
    },
    {
     "data": {
      "application/vnd.jupyter.widget-view+json": {
       "model_id": "6027704e52a843018647f9ba94ba1f09",
       "version_major": 2,
       "version_minor": 0
      },
      "text/plain": [
       "HBox(children=(HTML(value=''), FloatProgress(value=0.0, max=1656.0), HTML(value='')))"
      ]
     },
     "metadata": {},
     "output_type": "display_data"
    },
    {
     "name": "stdout",
     "output_type": "stream",
     "text": [
      "\n"
     ]
    },
    {
     "data": {
      "application/vnd.jupyter.widget-view+json": {
       "model_id": "80bb3b3d36de4e3f83aa508764ecf860",
       "version_major": 2,
       "version_minor": 0
      },
      "text/plain": [
       "HBox(children=(HTML(value=''), FloatProgress(value=0.0, max=1656.0), HTML(value='')))"
      ]
     },
     "metadata": {},
     "output_type": "display_data"
    },
    {
     "name": "stdout",
     "output_type": "stream",
     "text": [
      "\n"
     ]
    },
    {
     "data": {
      "application/vnd.jupyter.widget-view+json": {
       "model_id": "51496364fcef4e0bbee01fc28199f684",
       "version_major": 2,
       "version_minor": 0
      },
      "text/plain": [
       "HBox(children=(HTML(value=''), FloatProgress(value=0.0, max=1656.0), HTML(value='')))"
      ]
     },
     "metadata": {},
     "output_type": "display_data"
    },
    {
     "name": "stdout",
     "output_type": "stream",
     "text": [
      "\n"
     ]
    },
    {
     "data": {
      "application/vnd.jupyter.widget-view+json": {
       "model_id": "416ccb9f31034968bd180253009f49d3",
       "version_major": 2,
       "version_minor": 0
      },
      "text/plain": [
       "HBox(children=(HTML(value=''), FloatProgress(value=0.0, max=1656.0), HTML(value='')))"
      ]
     },
     "metadata": {},
     "output_type": "display_data"
    },
    {
     "name": "stdout",
     "output_type": "stream",
     "text": [
      "\n"
     ]
    },
    {
     "data": {
      "application/vnd.jupyter.widget-view+json": {
       "model_id": "4b9e61670e794eeca7cb6fc51cc8f750",
       "version_major": 2,
       "version_minor": 0
      },
      "text/plain": [
       "HBox(children=(HTML(value=''), FloatProgress(value=0.0, max=1656.0), HTML(value='')))"
      ]
     },
     "metadata": {},
     "output_type": "display_data"
    },
    {
     "name": "stdout",
     "output_type": "stream",
     "text": [
      "\n"
     ]
    },
    {
     "data": {
      "application/vnd.jupyter.widget-view+json": {
       "model_id": "d44e3a35f5114abdb6f864dc3c95fdd2",
       "version_major": 2,
       "version_minor": 0
      },
      "text/plain": [
       "HBox(children=(HTML(value=''), FloatProgress(value=0.0, max=1656.0), HTML(value='')))"
      ]
     },
     "metadata": {},
     "output_type": "display_data"
    },
    {
     "name": "stdout",
     "output_type": "stream",
     "text": [
      "\n"
     ]
    },
    {
     "data": {
      "application/vnd.jupyter.widget-view+json": {
       "model_id": "8813cf7d807046a98499bf218e80d74e",
       "version_major": 2,
       "version_minor": 0
      },
      "text/plain": [
       "HBox(children=(HTML(value=''), FloatProgress(value=0.0, max=1656.0), HTML(value='')))"
      ]
     },
     "metadata": {},
     "output_type": "display_data"
    },
    {
     "name": "stdout",
     "output_type": "stream",
     "text": [
      "\n"
     ]
    },
    {
     "data": {
      "application/vnd.jupyter.widget-view+json": {
       "model_id": "6652f6a9f18146af82a463d4219727b6",
       "version_major": 2,
       "version_minor": 0
      },
      "text/plain": [
       "HBox(children=(HTML(value=''), FloatProgress(value=0.0, max=1656.0), HTML(value='')))"
      ]
     },
     "metadata": {},
     "output_type": "display_data"
    },
    {
     "name": "stdout",
     "output_type": "stream",
     "text": [
      "\n"
     ]
    },
    {
     "data": {
      "application/vnd.jupyter.widget-view+json": {
       "model_id": "7e5fb983e7de42ceb553b17f63c879e3",
       "version_major": 2,
       "version_minor": 0
      },
      "text/plain": [
       "HBox(children=(HTML(value=''), FloatProgress(value=0.0, max=1656.0), HTML(value='')))"
      ]
     },
     "metadata": {},
     "output_type": "display_data"
    },
    {
     "name": "stdout",
     "output_type": "stream",
     "text": [
      "\n"
     ]
    },
    {
     "data": {
      "application/vnd.jupyter.widget-view+json": {
       "model_id": "b27839973b0349acb20fa191b6835270",
       "version_major": 2,
       "version_minor": 0
      },
      "text/plain": [
       "HBox(children=(HTML(value=''), FloatProgress(value=0.0, max=1656.0), HTML(value='')))"
      ]
     },
     "metadata": {},
     "output_type": "display_data"
    },
    {
     "name": "stdout",
     "output_type": "stream",
     "text": [
      "\n"
     ]
    },
    {
     "data": {
      "application/vnd.jupyter.widget-view+json": {
       "model_id": "83fad563a9034b2390246f0ce67ff6e7",
       "version_major": 2,
       "version_minor": 0
      },
      "text/plain": [
       "HBox(children=(HTML(value=''), FloatProgress(value=0.0, max=1656.0), HTML(value='')))"
      ]
     },
     "metadata": {},
     "output_type": "display_data"
    },
    {
     "name": "stdout",
     "output_type": "stream",
     "text": [
      "\n"
     ]
    },
    {
     "data": {
      "application/vnd.jupyter.widget-view+json": {
       "model_id": "8346430081cd4f6faca0356343a07dce",
       "version_major": 2,
       "version_minor": 0
      },
      "text/plain": [
       "HBox(children=(HTML(value=''), FloatProgress(value=0.0, max=1656.0), HTML(value='')))"
      ]
     },
     "metadata": {},
     "output_type": "display_data"
    },
    {
     "name": "stdout",
     "output_type": "stream",
     "text": [
      "\n"
     ]
    },
    {
     "data": {
      "application/vnd.jupyter.widget-view+json": {
       "model_id": "ea2fc7c742aa4432b13735815cb6a82c",
       "version_major": 2,
       "version_minor": 0
      },
      "text/plain": [
       "HBox(children=(HTML(value=''), FloatProgress(value=0.0, max=1656.0), HTML(value='')))"
      ]
     },
     "metadata": {},
     "output_type": "display_data"
    },
    {
     "name": "stdout",
     "output_type": "stream",
     "text": [
      "\n"
     ]
    },
    {
     "data": {
      "application/vnd.jupyter.widget-view+json": {
       "model_id": "59025b4c8ed940c8b4e91247ca65f576",
       "version_major": 2,
       "version_minor": 0
      },
      "text/plain": [
       "HBox(children=(HTML(value=''), FloatProgress(value=0.0, max=1656.0), HTML(value='')))"
      ]
     },
     "metadata": {},
     "output_type": "display_data"
    },
    {
     "name": "stdout",
     "output_type": "stream",
     "text": [
      "\n"
     ]
    },
    {
     "data": {
      "application/vnd.jupyter.widget-view+json": {
       "model_id": "a4bec715bf324e7da8beeecb8562b547",
       "version_major": 2,
       "version_minor": 0
      },
      "text/plain": [
       "HBox(children=(HTML(value=''), FloatProgress(value=0.0, max=1656.0), HTML(value='')))"
      ]
     },
     "metadata": {},
     "output_type": "display_data"
    },
    {
     "name": "stdout",
     "output_type": "stream",
     "text": [
      "\n"
     ]
    },
    {
     "data": {
      "application/vnd.jupyter.widget-view+json": {
       "model_id": "6225fc5cdddd445780d87cd479f49026",
       "version_major": 2,
       "version_minor": 0
      },
      "text/plain": [
       "HBox(children=(HTML(value=''), FloatProgress(value=0.0, max=1656.0), HTML(value='')))"
      ]
     },
     "metadata": {},
     "output_type": "display_data"
    },
    {
     "name": "stdout",
     "output_type": "stream",
     "text": [
      "\n"
     ]
    },
    {
     "data": {
      "application/vnd.jupyter.widget-view+json": {
       "model_id": "113b06f0cb3f42c9b5cf6864db3252ba",
       "version_major": 2,
       "version_minor": 0
      },
      "text/plain": [
       "HBox(children=(HTML(value=''), FloatProgress(value=0.0, max=1656.0), HTML(value='')))"
      ]
     },
     "metadata": {},
     "output_type": "display_data"
    },
    {
     "name": "stdout",
     "output_type": "stream",
     "text": [
      "\n"
     ]
    },
    {
     "data": {
      "application/vnd.jupyter.widget-view+json": {
       "model_id": "096b93fdc3b34995baf15b032030bdb1",
       "version_major": 2,
       "version_minor": 0
      },
      "text/plain": [
       "HBox(children=(HTML(value=''), FloatProgress(value=0.0, max=1656.0), HTML(value='')))"
      ]
     },
     "metadata": {},
     "output_type": "display_data"
    },
    {
     "name": "stdout",
     "output_type": "stream",
     "text": [
      "\n"
     ]
    },
    {
     "data": {
      "application/vnd.jupyter.widget-view+json": {
       "model_id": "2acd546914ce42ad8c8f35ce1a2ce5aa",
       "version_major": 2,
       "version_minor": 0
      },
      "text/plain": [
       "HBox(children=(HTML(value=''), FloatProgress(value=0.0, max=1656.0), HTML(value='')))"
      ]
     },
     "metadata": {},
     "output_type": "display_data"
    },
    {
     "name": "stdout",
     "output_type": "stream",
     "text": [
      "\n"
     ]
    },
    {
     "data": {
      "application/vnd.jupyter.widget-view+json": {
       "model_id": "d5df2988dcb04f2d8f51d0dc057178b3",
       "version_major": 2,
       "version_minor": 0
      },
      "text/plain": [
       "HBox(children=(HTML(value=''), FloatProgress(value=0.0, max=1656.0), HTML(value='')))"
      ]
     },
     "metadata": {},
     "output_type": "display_data"
    },
    {
     "name": "stdout",
     "output_type": "stream",
     "text": [
      "\n"
     ]
    },
    {
     "data": {
      "application/vnd.jupyter.widget-view+json": {
       "model_id": "ee47914a072d4f2ea8f96adb97fa8441",
       "version_major": 2,
       "version_minor": 0
      },
      "text/plain": [
       "HBox(children=(HTML(value=''), FloatProgress(value=0.0, max=1656.0), HTML(value='')))"
      ]
     },
     "metadata": {},
     "output_type": "display_data"
    },
    {
     "name": "stdout",
     "output_type": "stream",
     "text": [
      "\n"
     ]
    },
    {
     "data": {
      "application/vnd.jupyter.widget-view+json": {
       "model_id": "a8ee669eebe54e2f81f4004eaa861aed",
       "version_major": 2,
       "version_minor": 0
      },
      "text/plain": [
       "HBox(children=(HTML(value=''), FloatProgress(value=0.0, max=1656.0), HTML(value='')))"
      ]
     },
     "metadata": {},
     "output_type": "display_data"
    },
    {
     "name": "stdout",
     "output_type": "stream",
     "text": [
      "\n"
     ]
    },
    {
     "data": {
      "application/vnd.jupyter.widget-view+json": {
       "model_id": "87af8aba1df44a0c92b8302363d7680d",
       "version_major": 2,
       "version_minor": 0
      },
      "text/plain": [
       "HBox(children=(HTML(value=''), FloatProgress(value=0.0, max=1656.0), HTML(value='')))"
      ]
     },
     "metadata": {},
     "output_type": "display_data"
    },
    {
     "name": "stdout",
     "output_type": "stream",
     "text": [
      "\n"
     ]
    },
    {
     "data": {
      "application/vnd.jupyter.widget-view+json": {
       "model_id": "2fbfedcd997b4f62bf9ecc5ff3a3a01d",
       "version_major": 2,
       "version_minor": 0
      },
      "text/plain": [
       "HBox(children=(HTML(value=''), FloatProgress(value=0.0, max=1656.0), HTML(value='')))"
      ]
     },
     "metadata": {},
     "output_type": "display_data"
    },
    {
     "name": "stdout",
     "output_type": "stream",
     "text": [
      "\n"
     ]
    },
    {
     "data": {
      "application/vnd.jupyter.widget-view+json": {
       "model_id": "96972cd17e034d10b05e571fcf5d550a",
       "version_major": 2,
       "version_minor": 0
      },
      "text/plain": [
       "HBox(children=(HTML(value=''), FloatProgress(value=0.0, max=1656.0), HTML(value='')))"
      ]
     },
     "metadata": {},
     "output_type": "display_data"
    },
    {
     "name": "stdout",
     "output_type": "stream",
     "text": [
      "\n"
     ]
    },
    {
     "data": {
      "application/vnd.jupyter.widget-view+json": {
       "model_id": "cae2fc8034a846a0a7e26da814675cb1",
       "version_major": 2,
       "version_minor": 0
      },
      "text/plain": [
       "HBox(children=(HTML(value=''), FloatProgress(value=0.0, max=1656.0), HTML(value='')))"
      ]
     },
     "metadata": {},
     "output_type": "display_data"
    },
    {
     "name": "stdout",
     "output_type": "stream",
     "text": [
      "\n"
     ]
    },
    {
     "data": {
      "application/vnd.jupyter.widget-view+json": {
       "model_id": "26abe5eeea364fd79b0f8029dbc92080",
       "version_major": 2,
       "version_minor": 0
      },
      "text/plain": [
       "HBox(children=(HTML(value=''), FloatProgress(value=0.0, max=1656.0), HTML(value='')))"
      ]
     },
     "metadata": {},
     "output_type": "display_data"
    },
    {
     "name": "stdout",
     "output_type": "stream",
     "text": [
      "\n"
     ]
    },
    {
     "data": {
      "application/vnd.jupyter.widget-view+json": {
       "model_id": "ceeccd2c593a456e99d703ae839c8929",
       "version_major": 2,
       "version_minor": 0
      },
      "text/plain": [
       "HBox(children=(HTML(value=''), FloatProgress(value=0.0, max=1656.0), HTML(value='')))"
      ]
     },
     "metadata": {},
     "output_type": "display_data"
    },
    {
     "name": "stdout",
     "output_type": "stream",
     "text": [
      "\n"
     ]
    },
    {
     "data": {
      "application/vnd.jupyter.widget-view+json": {
       "model_id": "a5da2f3b07e642478e27215f5999cf22",
       "version_major": 2,
       "version_minor": 0
      },
      "text/plain": [
       "HBox(children=(HTML(value=''), FloatProgress(value=0.0, max=1656.0), HTML(value='')))"
      ]
     },
     "metadata": {},
     "output_type": "display_data"
    },
    {
     "name": "stdout",
     "output_type": "stream",
     "text": [
      "\n"
     ]
    },
    {
     "data": {
      "application/vnd.jupyter.widget-view+json": {
       "model_id": "756a6bfd17c442e99af0ba11d4984c2e",
       "version_major": 2,
       "version_minor": 0
      },
      "text/plain": [
       "HBox(children=(HTML(value=''), FloatProgress(value=0.0, max=1656.0), HTML(value='')))"
      ]
     },
     "metadata": {},
     "output_type": "display_data"
    },
    {
     "name": "stdout",
     "output_type": "stream",
     "text": [
      "\n"
     ]
    },
    {
     "data": {
      "application/vnd.jupyter.widget-view+json": {
       "model_id": "535dfcd209fb407ba5c7a67a07d1e94e",
       "version_major": 2,
       "version_minor": 0
      },
      "text/plain": [
       "HBox(children=(HTML(value=''), FloatProgress(value=0.0, max=1656.0), HTML(value='')))"
      ]
     },
     "metadata": {},
     "output_type": "display_data"
    },
    {
     "name": "stdout",
     "output_type": "stream",
     "text": [
      "\n"
     ]
    },
    {
     "data": {
      "application/vnd.jupyter.widget-view+json": {
       "model_id": "eec2274cf8884e56b52f844aedf1b265",
       "version_major": 2,
       "version_minor": 0
      },
      "text/plain": [
       "HBox(children=(HTML(value=''), FloatProgress(value=0.0, max=1656.0), HTML(value='')))"
      ]
     },
     "metadata": {},
     "output_type": "display_data"
    },
    {
     "name": "stdout",
     "output_type": "stream",
     "text": [
      "\n"
     ]
    },
    {
     "data": {
      "application/vnd.jupyter.widget-view+json": {
       "model_id": "906df47d4f924ba59fedf218ed8c658b",
       "version_major": 2,
       "version_minor": 0
      },
      "text/plain": [
       "HBox(children=(HTML(value=''), FloatProgress(value=0.0, max=1656.0), HTML(value='')))"
      ]
     },
     "metadata": {},
     "output_type": "display_data"
    },
    {
     "name": "stdout",
     "output_type": "stream",
     "text": [
      "\n"
     ]
    },
    {
     "data": {
      "application/vnd.jupyter.widget-view+json": {
       "model_id": "22993dcc118946b9a61b392a57a22d74",
       "version_major": 2,
       "version_minor": 0
      },
      "text/plain": [
       "HBox(children=(HTML(value=''), FloatProgress(value=0.0, max=1656.0), HTML(value='')))"
      ]
     },
     "metadata": {},
     "output_type": "display_data"
    },
    {
     "name": "stdout",
     "output_type": "stream",
     "text": [
      "\n"
     ]
    },
    {
     "data": {
      "application/vnd.jupyter.widget-view+json": {
       "model_id": "33345391d7ed41278a65ce73cce7e32d",
       "version_major": 2,
       "version_minor": 0
      },
      "text/plain": [
       "HBox(children=(HTML(value=''), FloatProgress(value=0.0, max=1656.0), HTML(value='')))"
      ]
     },
     "metadata": {},
     "output_type": "display_data"
    },
    {
     "name": "stdout",
     "output_type": "stream",
     "text": [
      "\n"
     ]
    },
    {
     "data": {
      "application/vnd.jupyter.widget-view+json": {
       "model_id": "090ed9d912e947bc92a636fc4c01aab5",
       "version_major": 2,
       "version_minor": 0
      },
      "text/plain": [
       "HBox(children=(HTML(value=''), FloatProgress(value=0.0, max=1656.0), HTML(value='')))"
      ]
     },
     "metadata": {},
     "output_type": "display_data"
    },
    {
     "name": "stdout",
     "output_type": "stream",
     "text": [
      "\n"
     ]
    },
    {
     "data": {
      "application/vnd.jupyter.widget-view+json": {
       "model_id": "97c7bf71f2524486a65dc2b719daf9c6",
       "version_major": 2,
       "version_minor": 0
      },
      "text/plain": [
       "HBox(children=(HTML(value=''), FloatProgress(value=0.0, max=1656.0), HTML(value='')))"
      ]
     },
     "metadata": {},
     "output_type": "display_data"
    },
    {
     "name": "stdout",
     "output_type": "stream",
     "text": [
      "\n"
     ]
    },
    {
     "data": {
      "application/vnd.jupyter.widget-view+json": {
       "model_id": "992996f8a88b4c74ba617dc8f0b83f92",
       "version_major": 2,
       "version_minor": 0
      },
      "text/plain": [
       "HBox(children=(HTML(value=''), FloatProgress(value=0.0, max=1656.0), HTML(value='')))"
      ]
     },
     "metadata": {},
     "output_type": "display_data"
    },
    {
     "name": "stdout",
     "output_type": "stream",
     "text": [
      "\n"
     ]
    },
    {
     "data": {
      "application/vnd.jupyter.widget-view+json": {
       "model_id": "1512e9d5a16d4827843bdd6b189c6636",
       "version_major": 2,
       "version_minor": 0
      },
      "text/plain": [
       "HBox(children=(HTML(value=''), FloatProgress(value=0.0, max=1656.0), HTML(value='')))"
      ]
     },
     "metadata": {},
     "output_type": "display_data"
    },
    {
     "name": "stdout",
     "output_type": "stream",
     "text": [
      "\n"
     ]
    },
    {
     "data": {
      "application/vnd.jupyter.widget-view+json": {
       "model_id": "53f2445f234d491fae1a7855b86fbbec",
       "version_major": 2,
       "version_minor": 0
      },
      "text/plain": [
       "HBox(children=(HTML(value=''), FloatProgress(value=0.0, max=1656.0), HTML(value='')))"
      ]
     },
     "metadata": {},
     "output_type": "display_data"
    },
    {
     "name": "stdout",
     "output_type": "stream",
     "text": [
      "\n"
     ]
    },
    {
     "data": {
      "application/vnd.jupyter.widget-view+json": {
       "model_id": "65205bde2381462abe9c718283d5bab6",
       "version_major": 2,
       "version_minor": 0
      },
      "text/plain": [
       "HBox(children=(HTML(value=''), FloatProgress(value=0.0, max=1656.0), HTML(value='')))"
      ]
     },
     "metadata": {},
     "output_type": "display_data"
    },
    {
     "name": "stdout",
     "output_type": "stream",
     "text": [
      "\n"
     ]
    },
    {
     "data": {
      "application/vnd.jupyter.widget-view+json": {
       "model_id": "d623d331d8a941b483bd36f9629c2217",
       "version_major": 2,
       "version_minor": 0
      },
      "text/plain": [
       "HBox(children=(HTML(value=''), FloatProgress(value=0.0, max=1656.0), HTML(value='')))"
      ]
     },
     "metadata": {},
     "output_type": "display_data"
    },
    {
     "name": "stdout",
     "output_type": "stream",
     "text": [
      "\n"
     ]
    },
    {
     "data": {
      "application/vnd.jupyter.widget-view+json": {
       "model_id": "a117fe70a90548fda928efbfa25307d9",
       "version_major": 2,
       "version_minor": 0
      },
      "text/plain": [
       "HBox(children=(HTML(value=''), FloatProgress(value=0.0, max=1656.0), HTML(value='')))"
      ]
     },
     "metadata": {},
     "output_type": "display_data"
    },
    {
     "name": "stdout",
     "output_type": "stream",
     "text": [
      "\n"
     ]
    },
    {
     "data": {
      "application/vnd.jupyter.widget-view+json": {
       "model_id": "c1c53c4ae9e84c03a5362480955856a6",
       "version_major": 2,
       "version_minor": 0
      },
      "text/plain": [
       "HBox(children=(HTML(value=''), FloatProgress(value=0.0, max=1656.0), HTML(value='')))"
      ]
     },
     "metadata": {},
     "output_type": "display_data"
    },
    {
     "name": "stdout",
     "output_type": "stream",
     "text": [
      "\n"
     ]
    },
    {
     "data": {
      "application/vnd.jupyter.widget-view+json": {
       "model_id": "d23d10ecc80343cd8461dd543028e31f",
       "version_major": 2,
       "version_minor": 0
      },
      "text/plain": [
       "HBox(children=(HTML(value=''), FloatProgress(value=0.0, max=1656.0), HTML(value='')))"
      ]
     },
     "metadata": {},
     "output_type": "display_data"
    },
    {
     "name": "stdout",
     "output_type": "stream",
     "text": [
      "\n"
     ]
    },
    {
     "data": {
      "application/vnd.jupyter.widget-view+json": {
       "model_id": "6ebaa412ecd34a368a548794a372914e",
       "version_major": 2,
       "version_minor": 0
      },
      "text/plain": [
       "HBox(children=(HTML(value=''), FloatProgress(value=0.0, max=1656.0), HTML(value='')))"
      ]
     },
     "metadata": {},
     "output_type": "display_data"
    },
    {
     "name": "stdout",
     "output_type": "stream",
     "text": [
      "\n"
     ]
    },
    {
     "data": {
      "application/vnd.jupyter.widget-view+json": {
       "model_id": "8438cbaa8067424292776000caa62a78",
       "version_major": 2,
       "version_minor": 0
      },
      "text/plain": [
       "HBox(children=(HTML(value=''), FloatProgress(value=0.0, max=1656.0), HTML(value='')))"
      ]
     },
     "metadata": {},
     "output_type": "display_data"
    },
    {
     "name": "stdout",
     "output_type": "stream",
     "text": [
      "\n"
     ]
    },
    {
     "data": {
      "application/vnd.jupyter.widget-view+json": {
       "model_id": "78f74b38068545138350a818347bd705",
       "version_major": 2,
       "version_minor": 0
      },
      "text/plain": [
       "HBox(children=(HTML(value=''), FloatProgress(value=0.0, max=1656.0), HTML(value='')))"
      ]
     },
     "metadata": {},
     "output_type": "display_data"
    },
    {
     "name": "stdout",
     "output_type": "stream",
     "text": [
      "\n"
     ]
    },
    {
     "data": {
      "application/vnd.jupyter.widget-view+json": {
       "model_id": "0eb887be3ba74edd98df7af5e8a8be09",
       "version_major": 2,
       "version_minor": 0
      },
      "text/plain": [
       "HBox(children=(HTML(value=''), FloatProgress(value=0.0, max=1656.0), HTML(value='')))"
      ]
     },
     "metadata": {},
     "output_type": "display_data"
    },
    {
     "name": "stdout",
     "output_type": "stream",
     "text": [
      "\n"
     ]
    },
    {
     "data": {
      "application/vnd.jupyter.widget-view+json": {
       "model_id": "08bb1b7bb9694a0795e533edabd88034",
       "version_major": 2,
       "version_minor": 0
      },
      "text/plain": [
       "HBox(children=(HTML(value=''), FloatProgress(value=0.0, max=1656.0), HTML(value='')))"
      ]
     },
     "metadata": {},
     "output_type": "display_data"
    },
    {
     "name": "stdout",
     "output_type": "stream",
     "text": [
      "\n"
     ]
    },
    {
     "data": {
      "application/vnd.jupyter.widget-view+json": {
       "model_id": "0e3e0e1d4f6340b38a267af2c9129491",
       "version_major": 2,
       "version_minor": 0
      },
      "text/plain": [
       "HBox(children=(HTML(value=''), FloatProgress(value=0.0, max=1656.0), HTML(value='')))"
      ]
     },
     "metadata": {},
     "output_type": "display_data"
    },
    {
     "name": "stdout",
     "output_type": "stream",
     "text": [
      "\n"
     ]
    },
    {
     "data": {
      "application/vnd.jupyter.widget-view+json": {
       "model_id": "0afa5211183d4cc59bbf80b4838052b2",
       "version_major": 2,
       "version_minor": 0
      },
      "text/plain": [
       "HBox(children=(HTML(value=''), FloatProgress(value=0.0, max=1656.0), HTML(value='')))"
      ]
     },
     "metadata": {},
     "output_type": "display_data"
    },
    {
     "name": "stdout",
     "output_type": "stream",
     "text": [
      "\n"
     ]
    },
    {
     "data": {
      "application/vnd.jupyter.widget-view+json": {
       "model_id": "f8fc4cda979a4abb855ea8f92864698e",
       "version_major": 2,
       "version_minor": 0
      },
      "text/plain": [
       "HBox(children=(HTML(value=''), FloatProgress(value=0.0, max=1656.0), HTML(value='')))"
      ]
     },
     "metadata": {},
     "output_type": "display_data"
    },
    {
     "name": "stdout",
     "output_type": "stream",
     "text": [
      "\n"
     ]
    },
    {
     "data": {
      "application/vnd.jupyter.widget-view+json": {
       "model_id": "a3dd10d333524c2785adda21c1c2484e",
       "version_major": 2,
       "version_minor": 0
      },
      "text/plain": [
       "HBox(children=(HTML(value=''), FloatProgress(value=0.0, max=1656.0), HTML(value='')))"
      ]
     },
     "metadata": {},
     "output_type": "display_data"
    },
    {
     "name": "stdout",
     "output_type": "stream",
     "text": [
      "\n"
     ]
    },
    {
     "data": {
      "application/vnd.jupyter.widget-view+json": {
       "model_id": "16296bf899af4cfc86f852cb701e76f5",
       "version_major": 2,
       "version_minor": 0
      },
      "text/plain": [
       "HBox(children=(HTML(value=''), FloatProgress(value=0.0, max=1656.0), HTML(value='')))"
      ]
     },
     "metadata": {},
     "output_type": "display_data"
    },
    {
     "name": "stdout",
     "output_type": "stream",
     "text": [
      "\n"
     ]
    },
    {
     "data": {
      "application/vnd.jupyter.widget-view+json": {
       "model_id": "558bbfb06136406185fd2285c211a9c1",
       "version_major": 2,
       "version_minor": 0
      },
      "text/plain": [
       "HBox(children=(HTML(value=''), FloatProgress(value=0.0, max=1656.0), HTML(value='')))"
      ]
     },
     "metadata": {},
     "output_type": "display_data"
    },
    {
     "name": "stdout",
     "output_type": "stream",
     "text": [
      "\n"
     ]
    },
    {
     "data": {
      "application/vnd.jupyter.widget-view+json": {
       "model_id": "72f1ce76a43e4eff8e55366f9594801f",
       "version_major": 2,
       "version_minor": 0
      },
      "text/plain": [
       "HBox(children=(HTML(value=''), FloatProgress(value=0.0, max=1656.0), HTML(value='')))"
      ]
     },
     "metadata": {},
     "output_type": "display_data"
    },
    {
     "name": "stdout",
     "output_type": "stream",
     "text": [
      "\n"
     ]
    },
    {
     "data": {
      "application/vnd.jupyter.widget-view+json": {
       "model_id": "b53da91be4e54e2e9ce38a1c1fb375f1",
       "version_major": 2,
       "version_minor": 0
      },
      "text/plain": [
       "HBox(children=(HTML(value=''), FloatProgress(value=0.0, max=1656.0), HTML(value='')))"
      ]
     },
     "metadata": {},
     "output_type": "display_data"
    },
    {
     "name": "stdout",
     "output_type": "stream",
     "text": [
      "\n"
     ]
    },
    {
     "data": {
      "application/vnd.jupyter.widget-view+json": {
       "model_id": "defbf48d2f334d5dae63e91412f7332b",
       "version_major": 2,
       "version_minor": 0
      },
      "text/plain": [
       "HBox(children=(HTML(value=''), FloatProgress(value=0.0, max=1656.0), HTML(value='')))"
      ]
     },
     "metadata": {},
     "output_type": "display_data"
    },
    {
     "name": "stdout",
     "output_type": "stream",
     "text": [
      "\n"
     ]
    },
    {
     "data": {
      "application/vnd.jupyter.widget-view+json": {
       "model_id": "3c90c43b030547ccad3471c5f5ce28dc",
       "version_major": 2,
       "version_minor": 0
      },
      "text/plain": [
       "HBox(children=(HTML(value=''), FloatProgress(value=0.0, max=1656.0), HTML(value='')))"
      ]
     },
     "metadata": {},
     "output_type": "display_data"
    },
    {
     "name": "stdout",
     "output_type": "stream",
     "text": [
      "\n"
     ]
    },
    {
     "data": {
      "application/vnd.jupyter.widget-view+json": {
       "model_id": "c1f7797be79e4e4a981267b243deb2b3",
       "version_major": 2,
       "version_minor": 0
      },
      "text/plain": [
       "HBox(children=(HTML(value=''), FloatProgress(value=0.0, max=1656.0), HTML(value='')))"
      ]
     },
     "metadata": {},
     "output_type": "display_data"
    },
    {
     "name": "stdout",
     "output_type": "stream",
     "text": [
      "\n"
     ]
    },
    {
     "data": {
      "application/vnd.jupyter.widget-view+json": {
       "model_id": "6a00fe460c1143e1addc6d31627b029d",
       "version_major": 2,
       "version_minor": 0
      },
      "text/plain": [
       "HBox(children=(HTML(value=''), FloatProgress(value=0.0, max=1656.0), HTML(value='')))"
      ]
     },
     "metadata": {},
     "output_type": "display_data"
    },
    {
     "name": "stdout",
     "output_type": "stream",
     "text": [
      "\n"
     ]
    },
    {
     "data": {
      "application/vnd.jupyter.widget-view+json": {
       "model_id": "2709ab6b65d7436d8d7e412d2244e186",
       "version_major": 2,
       "version_minor": 0
      },
      "text/plain": [
       "HBox(children=(HTML(value=''), FloatProgress(value=0.0, max=1656.0), HTML(value='')))"
      ]
     },
     "metadata": {},
     "output_type": "display_data"
    },
    {
     "name": "stdout",
     "output_type": "stream",
     "text": [
      "\n"
     ]
    },
    {
     "data": {
      "application/vnd.jupyter.widget-view+json": {
       "model_id": "7d244ac0815f4e5eaa752e1703439b27",
       "version_major": 2,
       "version_minor": 0
      },
      "text/plain": [
       "HBox(children=(HTML(value=''), FloatProgress(value=0.0, max=1656.0), HTML(value='')))"
      ]
     },
     "metadata": {},
     "output_type": "display_data"
    },
    {
     "name": "stdout",
     "output_type": "stream",
     "text": [
      "\n"
     ]
    },
    {
     "data": {
      "application/vnd.jupyter.widget-view+json": {
       "model_id": "e3e5834b49c54389a61f554b620480e0",
       "version_major": 2,
       "version_minor": 0
      },
      "text/plain": [
       "HBox(children=(HTML(value=''), FloatProgress(value=0.0, max=1656.0), HTML(value='')))"
      ]
     },
     "metadata": {},
     "output_type": "display_data"
    },
    {
     "name": "stdout",
     "output_type": "stream",
     "text": [
      "\n"
     ]
    },
    {
     "data": {
      "application/vnd.jupyter.widget-view+json": {
       "model_id": "e1b6bd375b5e4a4ab4f008c5e13610da",
       "version_major": 2,
       "version_minor": 0
      },
      "text/plain": [
       "HBox(children=(HTML(value=''), FloatProgress(value=0.0, max=1656.0), HTML(value='')))"
      ]
     },
     "metadata": {},
     "output_type": "display_data"
    },
    {
     "name": "stdout",
     "output_type": "stream",
     "text": [
      "\n"
     ]
    },
    {
     "data": {
      "application/vnd.jupyter.widget-view+json": {
       "model_id": "5002a76db89a433eabbea1dd1d7c7e64",
       "version_major": 2,
       "version_minor": 0
      },
      "text/plain": [
       "HBox(children=(HTML(value=''), FloatProgress(value=0.0, max=1656.0), HTML(value='')))"
      ]
     },
     "metadata": {},
     "output_type": "display_data"
    },
    {
     "name": "stdout",
     "output_type": "stream",
     "text": [
      "\n"
     ]
    },
    {
     "data": {
      "application/vnd.jupyter.widget-view+json": {
       "model_id": "69971f11ccdd4686b2dadcdb29000c15",
       "version_major": 2,
       "version_minor": 0
      },
      "text/plain": [
       "HBox(children=(HTML(value=''), FloatProgress(value=0.0, max=1656.0), HTML(value='')))"
      ]
     },
     "metadata": {},
     "output_type": "display_data"
    },
    {
     "name": "stdout",
     "output_type": "stream",
     "text": [
      "\n"
     ]
    },
    {
     "data": {
      "application/vnd.jupyter.widget-view+json": {
       "model_id": "05b94cf6695742a6a06a4a8a7b4793c7",
       "version_major": 2,
       "version_minor": 0
      },
      "text/plain": [
       "HBox(children=(HTML(value=''), FloatProgress(value=0.0, max=1656.0), HTML(value='')))"
      ]
     },
     "metadata": {},
     "output_type": "display_data"
    },
    {
     "name": "stdout",
     "output_type": "stream",
     "text": [
      "\n"
     ]
    },
    {
     "data": {
      "application/vnd.jupyter.widget-view+json": {
       "model_id": "9f2da46b34e84d888bbc3c0a378bdd57",
       "version_major": 2,
       "version_minor": 0
      },
      "text/plain": [
       "HBox(children=(HTML(value=''), FloatProgress(value=0.0, max=1656.0), HTML(value='')))"
      ]
     },
     "metadata": {},
     "output_type": "display_data"
    },
    {
     "name": "stdout",
     "output_type": "stream",
     "text": [
      "\n"
     ]
    },
    {
     "data": {
      "application/vnd.jupyter.widget-view+json": {
       "model_id": "c786e9d1f024497da8b9621d555903a3",
       "version_major": 2,
       "version_minor": 0
      },
      "text/plain": [
       "HBox(children=(HTML(value=''), FloatProgress(value=0.0, max=1656.0), HTML(value='')))"
      ]
     },
     "metadata": {},
     "output_type": "display_data"
    },
    {
     "name": "stdout",
     "output_type": "stream",
     "text": [
      "\n"
     ]
    },
    {
     "data": {
      "application/vnd.jupyter.widget-view+json": {
       "model_id": "6c1e4983aba147b19cb6515ba969ce0f",
       "version_major": 2,
       "version_minor": 0
      },
      "text/plain": [
       "HBox(children=(HTML(value=''), FloatProgress(value=0.0, max=1656.0), HTML(value='')))"
      ]
     },
     "metadata": {},
     "output_type": "display_data"
    },
    {
     "name": "stdout",
     "output_type": "stream",
     "text": [
      "\n"
     ]
    },
    {
     "data": {
      "application/vnd.jupyter.widget-view+json": {
       "model_id": "a26473d396ec4c2ab9de74a294fbfbda",
       "version_major": 2,
       "version_minor": 0
      },
      "text/plain": [
       "HBox(children=(HTML(value=''), FloatProgress(value=0.0, max=1656.0), HTML(value='')))"
      ]
     },
     "metadata": {},
     "output_type": "display_data"
    },
    {
     "name": "stdout",
     "output_type": "stream",
     "text": [
      "\n"
     ]
    },
    {
     "data": {
      "application/vnd.jupyter.widget-view+json": {
       "model_id": "1d5eeb5ab1234f24afeba5bff8a6fe93",
       "version_major": 2,
       "version_minor": 0
      },
      "text/plain": [
       "HBox(children=(HTML(value=''), FloatProgress(value=0.0, max=1656.0), HTML(value='')))"
      ]
     },
     "metadata": {},
     "output_type": "display_data"
    },
    {
     "name": "stdout",
     "output_type": "stream",
     "text": [
      "\n"
     ]
    },
    {
     "data": {
      "application/vnd.jupyter.widget-view+json": {
       "model_id": "469d821f435f4660855b40a1cde415d2",
       "version_major": 2,
       "version_minor": 0
      },
      "text/plain": [
       "HBox(children=(HTML(value=''), FloatProgress(value=0.0, max=1656.0), HTML(value='')))"
      ]
     },
     "metadata": {},
     "output_type": "display_data"
    },
    {
     "name": "stdout",
     "output_type": "stream",
     "text": [
      "\n"
     ]
    },
    {
     "data": {
      "application/vnd.jupyter.widget-view+json": {
       "model_id": "061485b18b164e7a8412d3907ef402f1",
       "version_major": 2,
       "version_minor": 0
      },
      "text/plain": [
       "HBox(children=(HTML(value=''), FloatProgress(value=0.0, max=1656.0), HTML(value='')))"
      ]
     },
     "metadata": {},
     "output_type": "display_data"
    },
    {
     "name": "stdout",
     "output_type": "stream",
     "text": [
      "\n"
     ]
    },
    {
     "data": {
      "application/vnd.jupyter.widget-view+json": {
       "model_id": "6a7d1f9c272c46c5ae6819b085cafa35",
       "version_major": 2,
       "version_minor": 0
      },
      "text/plain": [
       "HBox(children=(HTML(value=''), FloatProgress(value=0.0, max=1656.0), HTML(value='')))"
      ]
     },
     "metadata": {},
     "output_type": "display_data"
    },
    {
     "name": "stdout",
     "output_type": "stream",
     "text": [
      "\n"
     ]
    },
    {
     "data": {
      "application/vnd.jupyter.widget-view+json": {
       "model_id": "4e8bc31d921041a8a68294e9a1646327",
       "version_major": 2,
       "version_minor": 0
      },
      "text/plain": [
       "HBox(children=(HTML(value=''), FloatProgress(value=0.0, max=1656.0), HTML(value='')))"
      ]
     },
     "metadata": {},
     "output_type": "display_data"
    },
    {
     "name": "stdout",
     "output_type": "stream",
     "text": [
      "\n"
     ]
    },
    {
     "data": {
      "application/vnd.jupyter.widget-view+json": {
       "model_id": "8d75c5c6c5fb41ba97de7b91f2dc67bd",
       "version_major": 2,
       "version_minor": 0
      },
      "text/plain": [
       "HBox(children=(HTML(value=''), FloatProgress(value=0.0, max=1656.0), HTML(value='')))"
      ]
     },
     "metadata": {},
     "output_type": "display_data"
    },
    {
     "name": "stdout",
     "output_type": "stream",
     "text": [
      "\n"
     ]
    },
    {
     "data": {
      "application/vnd.jupyter.widget-view+json": {
       "model_id": "8c661ed1e7d744d78d7c265f2389ff53",
       "version_major": 2,
       "version_minor": 0
      },
      "text/plain": [
       "HBox(children=(HTML(value=''), FloatProgress(value=0.0, max=1656.0), HTML(value='')))"
      ]
     },
     "metadata": {},
     "output_type": "display_data"
    },
    {
     "name": "stdout",
     "output_type": "stream",
     "text": [
      "\n"
     ]
    },
    {
     "data": {
      "application/vnd.jupyter.widget-view+json": {
       "model_id": "99eecc05cd394043a0b439cf2bc3bf04",
       "version_major": 2,
       "version_minor": 0
      },
      "text/plain": [
       "HBox(children=(HTML(value=''), FloatProgress(value=0.0, max=1656.0), HTML(value='')))"
      ]
     },
     "metadata": {},
     "output_type": "display_data"
    },
    {
     "name": "stdout",
     "output_type": "stream",
     "text": [
      "\n"
     ]
    },
    {
     "data": {
      "application/vnd.jupyter.widget-view+json": {
       "model_id": "f04b409068674ab8a1384f3e77189814",
       "version_major": 2,
       "version_minor": 0
      },
      "text/plain": [
       "HBox(children=(HTML(value=''), FloatProgress(value=0.0, max=1656.0), HTML(value='')))"
      ]
     },
     "metadata": {},
     "output_type": "display_data"
    },
    {
     "name": "stdout",
     "output_type": "stream",
     "text": [
      "\n"
     ]
    },
    {
     "data": {
      "application/vnd.jupyter.widget-view+json": {
       "model_id": "bdf05574f4f1461fb08cd18b5940f18d",
       "version_major": 2,
       "version_minor": 0
      },
      "text/plain": [
       "HBox(children=(HTML(value=''), FloatProgress(value=0.0, max=1656.0), HTML(value='')))"
      ]
     },
     "metadata": {},
     "output_type": "display_data"
    },
    {
     "name": "stdout",
     "output_type": "stream",
     "text": [
      "\n"
     ]
    },
    {
     "data": {
      "application/vnd.jupyter.widget-view+json": {
       "model_id": "f10e2d3e4cde4c548984916e947fbebc",
       "version_major": 2,
       "version_minor": 0
      },
      "text/plain": [
       "HBox(children=(HTML(value=''), FloatProgress(value=0.0, max=1656.0), HTML(value='')))"
      ]
     },
     "metadata": {},
     "output_type": "display_data"
    },
    {
     "name": "stdout",
     "output_type": "stream",
     "text": [
      "\n"
     ]
    },
    {
     "data": {
      "application/vnd.jupyter.widget-view+json": {
       "model_id": "cb626a820a5f422592d655a221136143",
       "version_major": 2,
       "version_minor": 0
      },
      "text/plain": [
       "HBox(children=(HTML(value=''), FloatProgress(value=0.0, max=1656.0), HTML(value='')))"
      ]
     },
     "metadata": {},
     "output_type": "display_data"
    },
    {
     "name": "stdout",
     "output_type": "stream",
     "text": [
      "\n"
     ]
    },
    {
     "data": {
      "application/vnd.jupyter.widget-view+json": {
       "model_id": "541753b739b8469ca44408b2934cca04",
       "version_major": 2,
       "version_minor": 0
      },
      "text/plain": [
       "HBox(children=(HTML(value=''), FloatProgress(value=0.0, max=1656.0), HTML(value='')))"
      ]
     },
     "metadata": {},
     "output_type": "display_data"
    },
    {
     "name": "stdout",
     "output_type": "stream",
     "text": [
      "\n"
     ]
    },
    {
     "data": {
      "application/vnd.jupyter.widget-view+json": {
       "model_id": "91bec1432716455aaaf8c90a38da4843",
       "version_major": 2,
       "version_minor": 0
      },
      "text/plain": [
       "HBox(children=(HTML(value=''), FloatProgress(value=0.0, max=1656.0), HTML(value='')))"
      ]
     },
     "metadata": {},
     "output_type": "display_data"
    },
    {
     "name": "stdout",
     "output_type": "stream",
     "text": [
      "\n"
     ]
    },
    {
     "data": {
      "application/vnd.jupyter.widget-view+json": {
       "model_id": "53a87cbf74ff4fa7a6470ef6a6e1dd85",
       "version_major": 2,
       "version_minor": 0
      },
      "text/plain": [
       "HBox(children=(HTML(value=''), FloatProgress(value=0.0, max=1656.0), HTML(value='')))"
      ]
     },
     "metadata": {},
     "output_type": "display_data"
    },
    {
     "name": "stdout",
     "output_type": "stream",
     "text": [
      "\n"
     ]
    },
    {
     "data": {
      "application/vnd.jupyter.widget-view+json": {
       "model_id": "c9cfb784e5dd47158e6050bfeaaef53f",
       "version_major": 2,
       "version_minor": 0
      },
      "text/plain": [
       "HBox(children=(HTML(value=''), FloatProgress(value=0.0, max=1656.0), HTML(value='')))"
      ]
     },
     "metadata": {},
     "output_type": "display_data"
    },
    {
     "name": "stdout",
     "output_type": "stream",
     "text": [
      "\n"
     ]
    },
    {
     "data": {
      "application/vnd.jupyter.widget-view+json": {
       "model_id": "9275bdd8b62846e7a52966e772727ce3",
       "version_major": 2,
       "version_minor": 0
      },
      "text/plain": [
       "HBox(children=(HTML(value=''), FloatProgress(value=0.0, max=1656.0), HTML(value='')))"
      ]
     },
     "metadata": {},
     "output_type": "display_data"
    },
    {
     "name": "stdout",
     "output_type": "stream",
     "text": [
      "\n"
     ]
    },
    {
     "data": {
      "application/vnd.jupyter.widget-view+json": {
       "model_id": "1801704c9f1f440aa07b170bd4719a79",
       "version_major": 2,
       "version_minor": 0
      },
      "text/plain": [
       "HBox(children=(HTML(value=''), FloatProgress(value=0.0, max=1656.0), HTML(value='')))"
      ]
     },
     "metadata": {},
     "output_type": "display_data"
    },
    {
     "name": "stdout",
     "output_type": "stream",
     "text": [
      "\n"
     ]
    },
    {
     "data": {
      "application/vnd.jupyter.widget-view+json": {
       "model_id": "9fbbf34d6ca54707a169a38322f1a9a3",
       "version_major": 2,
       "version_minor": 0
      },
      "text/plain": [
       "HBox(children=(HTML(value=''), FloatProgress(value=0.0, max=1656.0), HTML(value='')))"
      ]
     },
     "metadata": {},
     "output_type": "display_data"
    },
    {
     "name": "stdout",
     "output_type": "stream",
     "text": [
      "\n"
     ]
    },
    {
     "data": {
      "application/vnd.jupyter.widget-view+json": {
       "model_id": "84b1659a1d9c446db5635ccf285381e2",
       "version_major": 2,
       "version_minor": 0
      },
      "text/plain": [
       "HBox(children=(HTML(value=''), FloatProgress(value=0.0, max=1656.0), HTML(value='')))"
      ]
     },
     "metadata": {},
     "output_type": "display_data"
    },
    {
     "name": "stdout",
     "output_type": "stream",
     "text": [
      "\n"
     ]
    },
    {
     "data": {
      "application/vnd.jupyter.widget-view+json": {
       "model_id": "0ada83bb4b654d5a958597a94aabf4d6",
       "version_major": 2,
       "version_minor": 0
      },
      "text/plain": [
       "HBox(children=(HTML(value=''), FloatProgress(value=0.0, max=1656.0), HTML(value='')))"
      ]
     },
     "metadata": {},
     "output_type": "display_data"
    },
    {
     "name": "stdout",
     "output_type": "stream",
     "text": [
      "\n"
     ]
    },
    {
     "data": {
      "application/vnd.jupyter.widget-view+json": {
       "model_id": "f7c6ce3aa1c046daa88821f416d7322c",
       "version_major": 2,
       "version_minor": 0
      },
      "text/plain": [
       "HBox(children=(HTML(value=''), FloatProgress(value=0.0, max=1656.0), HTML(value='')))"
      ]
     },
     "metadata": {},
     "output_type": "display_data"
    },
    {
     "name": "stdout",
     "output_type": "stream",
     "text": [
      "\n"
     ]
    },
    {
     "data": {
      "application/vnd.jupyter.widget-view+json": {
       "model_id": "55dde912ad7542c1a61ae9535de5722d",
       "version_major": 2,
       "version_minor": 0
      },
      "text/plain": [
       "HBox(children=(HTML(value=''), FloatProgress(value=0.0, max=1656.0), HTML(value='')))"
      ]
     },
     "metadata": {},
     "output_type": "display_data"
    },
    {
     "name": "stdout",
     "output_type": "stream",
     "text": [
      "\n"
     ]
    },
    {
     "data": {
      "application/vnd.jupyter.widget-view+json": {
       "model_id": "da876a1be2b64b4bba0dc0a6ab73209b",
       "version_major": 2,
       "version_minor": 0
      },
      "text/plain": [
       "HBox(children=(HTML(value=''), FloatProgress(value=0.0, max=1656.0), HTML(value='')))"
      ]
     },
     "metadata": {},
     "output_type": "display_data"
    },
    {
     "name": "stdout",
     "output_type": "stream",
     "text": [
      "\n"
     ]
    },
    {
     "data": {
      "application/vnd.jupyter.widget-view+json": {
       "model_id": "b66f0aa29ff0497c95396260b368320a",
       "version_major": 2,
       "version_minor": 0
      },
      "text/plain": [
       "HBox(children=(HTML(value=''), FloatProgress(value=0.0, max=1656.0), HTML(value='')))"
      ]
     },
     "metadata": {},
     "output_type": "display_data"
    },
    {
     "name": "stdout",
     "output_type": "stream",
     "text": [
      "\n"
     ]
    },
    {
     "data": {
      "application/vnd.jupyter.widget-view+json": {
       "model_id": "808a4d43eecd45c7914ae3bb15da8522",
       "version_major": 2,
       "version_minor": 0
      },
      "text/plain": [
       "HBox(children=(HTML(value=''), FloatProgress(value=0.0, max=1656.0), HTML(value='')))"
      ]
     },
     "metadata": {},
     "output_type": "display_data"
    },
    {
     "name": "stdout",
     "output_type": "stream",
     "text": [
      "\n"
     ]
    },
    {
     "data": {
      "application/vnd.jupyter.widget-view+json": {
       "model_id": "90988146b8234100b10496f248b4fa59",
       "version_major": 2,
       "version_minor": 0
      },
      "text/plain": [
       "HBox(children=(HTML(value=''), FloatProgress(value=0.0, max=1656.0), HTML(value='')))"
      ]
     },
     "metadata": {},
     "output_type": "display_data"
    },
    {
     "name": "stdout",
     "output_type": "stream",
     "text": [
      "\n"
     ]
    },
    {
     "data": {
      "application/vnd.jupyter.widget-view+json": {
       "model_id": "aea58f85904146fa9867d04aa8649547",
       "version_major": 2,
       "version_minor": 0
      },
      "text/plain": [
       "HBox(children=(HTML(value=''), FloatProgress(value=0.0, max=1656.0), HTML(value='')))"
      ]
     },
     "metadata": {},
     "output_type": "display_data"
    },
    {
     "name": "stdout",
     "output_type": "stream",
     "text": [
      "\n"
     ]
    },
    {
     "data": {
      "application/vnd.jupyter.widget-view+json": {
       "model_id": "9f46cb60f1ef431c93e6840853ea90be",
       "version_major": 2,
       "version_minor": 0
      },
      "text/plain": [
       "HBox(children=(HTML(value=''), FloatProgress(value=0.0, max=1656.0), HTML(value='')))"
      ]
     },
     "metadata": {},
     "output_type": "display_data"
    },
    {
     "name": "stdout",
     "output_type": "stream",
     "text": [
      "\n"
     ]
    },
    {
     "data": {
      "application/vnd.jupyter.widget-view+json": {
       "model_id": "e1497c91f4aa4bab94dd6e65dee26663",
       "version_major": 2,
       "version_minor": 0
      },
      "text/plain": [
       "HBox(children=(HTML(value=''), FloatProgress(value=0.0, max=1656.0), HTML(value='')))"
      ]
     },
     "metadata": {},
     "output_type": "display_data"
    },
    {
     "name": "stdout",
     "output_type": "stream",
     "text": [
      "\n"
     ]
    },
    {
     "data": {
      "application/vnd.jupyter.widget-view+json": {
       "model_id": "45182077236c44dfbe44d5f424f7de63",
       "version_major": 2,
       "version_minor": 0
      },
      "text/plain": [
       "HBox(children=(HTML(value=''), FloatProgress(value=0.0, max=1656.0), HTML(value='')))"
      ]
     },
     "metadata": {},
     "output_type": "display_data"
    },
    {
     "name": "stdout",
     "output_type": "stream",
     "text": [
      "\n"
     ]
    },
    {
     "data": {
      "application/vnd.jupyter.widget-view+json": {
       "model_id": "effec25649074485a00c81a2e86dd10d",
       "version_major": 2,
       "version_minor": 0
      },
      "text/plain": [
       "HBox(children=(HTML(value=''), FloatProgress(value=0.0, max=1656.0), HTML(value='')))"
      ]
     },
     "metadata": {},
     "output_type": "display_data"
    },
    {
     "name": "stdout",
     "output_type": "stream",
     "text": [
      "\n"
     ]
    },
    {
     "data": {
      "application/vnd.jupyter.widget-view+json": {
       "model_id": "40cf97eb9e27451691846b5afec2a24f",
       "version_major": 2,
       "version_minor": 0
      },
      "text/plain": [
       "HBox(children=(HTML(value=''), FloatProgress(value=0.0, max=1656.0), HTML(value='')))"
      ]
     },
     "metadata": {},
     "output_type": "display_data"
    },
    {
     "name": "stdout",
     "output_type": "stream",
     "text": [
      "\n"
     ]
    },
    {
     "data": {
      "application/vnd.jupyter.widget-view+json": {
       "model_id": "2922f64746e74b45bf94c859e909a82d",
       "version_major": 2,
       "version_minor": 0
      },
      "text/plain": [
       "HBox(children=(HTML(value=''), FloatProgress(value=0.0, max=1656.0), HTML(value='')))"
      ]
     },
     "metadata": {},
     "output_type": "display_data"
    },
    {
     "name": "stdout",
     "output_type": "stream",
     "text": [
      "\n"
     ]
    },
    {
     "data": {
      "application/vnd.jupyter.widget-view+json": {
       "model_id": "904446e9bd594bc4ab987ba61fa5e8aa",
       "version_major": 2,
       "version_minor": 0
      },
      "text/plain": [
       "HBox(children=(HTML(value=''), FloatProgress(value=0.0, max=1656.0), HTML(value='')))"
      ]
     },
     "metadata": {},
     "output_type": "display_data"
    },
    {
     "name": "stdout",
     "output_type": "stream",
     "text": [
      "\n"
     ]
    },
    {
     "data": {
      "application/vnd.jupyter.widget-view+json": {
       "model_id": "ca17773789da44bf8892c6d7b19aabc7",
       "version_major": 2,
       "version_minor": 0
      },
      "text/plain": [
       "HBox(children=(HTML(value=''), FloatProgress(value=0.0, max=1656.0), HTML(value='')))"
      ]
     },
     "metadata": {},
     "output_type": "display_data"
    },
    {
     "name": "stdout",
     "output_type": "stream",
     "text": [
      "\n"
     ]
    },
    {
     "data": {
      "application/vnd.jupyter.widget-view+json": {
       "model_id": "7fa527cd6f23488eb1e1d8f6c75baa16",
       "version_major": 2,
       "version_minor": 0
      },
      "text/plain": [
       "HBox(children=(HTML(value=''), FloatProgress(value=0.0, max=1656.0), HTML(value='')))"
      ]
     },
     "metadata": {},
     "output_type": "display_data"
    },
    {
     "name": "stdout",
     "output_type": "stream",
     "text": [
      "\n"
     ]
    },
    {
     "data": {
      "application/vnd.jupyter.widget-view+json": {
       "model_id": "08b91654b831409880de6d1bdbcda925",
       "version_major": 2,
       "version_minor": 0
      },
      "text/plain": [
       "HBox(children=(HTML(value=''), FloatProgress(value=0.0, max=1656.0), HTML(value='')))"
      ]
     },
     "metadata": {},
     "output_type": "display_data"
    },
    {
     "name": "stdout",
     "output_type": "stream",
     "text": [
      "\n"
     ]
    },
    {
     "data": {
      "application/vnd.jupyter.widget-view+json": {
       "model_id": "81ddfb7172d542c9b197d5a47f438420",
       "version_major": 2,
       "version_minor": 0
      },
      "text/plain": [
       "HBox(children=(HTML(value=''), FloatProgress(value=0.0, max=1656.0), HTML(value='')))"
      ]
     },
     "metadata": {},
     "output_type": "display_data"
    },
    {
     "name": "stdout",
     "output_type": "stream",
     "text": [
      "\n"
     ]
    },
    {
     "data": {
      "application/vnd.jupyter.widget-view+json": {
       "model_id": "044cb27dbc0848a9b0e5450bfaf455ee",
       "version_major": 2,
       "version_minor": 0
      },
      "text/plain": [
       "HBox(children=(HTML(value=''), FloatProgress(value=0.0, max=1656.0), HTML(value='')))"
      ]
     },
     "metadata": {},
     "output_type": "display_data"
    },
    {
     "name": "stdout",
     "output_type": "stream",
     "text": [
      "\n"
     ]
    },
    {
     "data": {
      "application/vnd.jupyter.widget-view+json": {
       "model_id": "c0ac7a83eb6f4c9f838de16f02f302a0",
       "version_major": 2,
       "version_minor": 0
      },
      "text/plain": [
       "HBox(children=(HTML(value=''), FloatProgress(value=0.0, max=1656.0), HTML(value='')))"
      ]
     },
     "metadata": {},
     "output_type": "display_data"
    },
    {
     "name": "stdout",
     "output_type": "stream",
     "text": [
      "\n"
     ]
    },
    {
     "data": {
      "application/vnd.jupyter.widget-view+json": {
       "model_id": "5d5d2d772b7f4bbdab35812a26ba4fac",
       "version_major": 2,
       "version_minor": 0
      },
      "text/plain": [
       "HBox(children=(HTML(value=''), FloatProgress(value=0.0, max=1656.0), HTML(value='')))"
      ]
     },
     "metadata": {},
     "output_type": "display_data"
    },
    {
     "name": "stdout",
     "output_type": "stream",
     "text": [
      "\n"
     ]
    },
    {
     "data": {
      "application/vnd.jupyter.widget-view+json": {
       "model_id": "a3c2883039a340d7b8a1f844d710e234",
       "version_major": 2,
       "version_minor": 0
      },
      "text/plain": [
       "HBox(children=(HTML(value=''), FloatProgress(value=0.0, max=1656.0), HTML(value='')))"
      ]
     },
     "metadata": {},
     "output_type": "display_data"
    },
    {
     "name": "stdout",
     "output_type": "stream",
     "text": [
      "\n"
     ]
    },
    {
     "data": {
      "application/vnd.jupyter.widget-view+json": {
       "model_id": "5f5501a9919a4c13bdbd115989344f5e",
       "version_major": 2,
       "version_minor": 0
      },
      "text/plain": [
       "HBox(children=(HTML(value=''), FloatProgress(value=0.0, max=1656.0), HTML(value='')))"
      ]
     },
     "metadata": {},
     "output_type": "display_data"
    },
    {
     "name": "stdout",
     "output_type": "stream",
     "text": [
      "\n"
     ]
    },
    {
     "data": {
      "application/vnd.jupyter.widget-view+json": {
       "model_id": "427c0e02e3e444dcbac1f1689b51f815",
       "version_major": 2,
       "version_minor": 0
      },
      "text/plain": [
       "HBox(children=(HTML(value=''), FloatProgress(value=0.0, max=1656.0), HTML(value='')))"
      ]
     },
     "metadata": {},
     "output_type": "display_data"
    },
    {
     "name": "stdout",
     "output_type": "stream",
     "text": [
      "\n"
     ]
    },
    {
     "data": {
      "application/vnd.jupyter.widget-view+json": {
       "model_id": "dd2386f40b7c4bc58af2fe687133ad56",
       "version_major": 2,
       "version_minor": 0
      },
      "text/plain": [
       "HBox(children=(HTML(value=''), FloatProgress(value=0.0, max=1656.0), HTML(value='')))"
      ]
     },
     "metadata": {},
     "output_type": "display_data"
    },
    {
     "name": "stdout",
     "output_type": "stream",
     "text": [
      "\n"
     ]
    },
    {
     "data": {
      "application/vnd.jupyter.widget-view+json": {
       "model_id": "2b2a624505124313a76c63cb9d4a49d2",
       "version_major": 2,
       "version_minor": 0
      },
      "text/plain": [
       "HBox(children=(HTML(value=''), FloatProgress(value=0.0, max=1656.0), HTML(value='')))"
      ]
     },
     "metadata": {},
     "output_type": "display_data"
    },
    {
     "name": "stdout",
     "output_type": "stream",
     "text": [
      "\n"
     ]
    },
    {
     "data": {
      "application/vnd.jupyter.widget-view+json": {
       "model_id": "4a94b20fa8e44c1ba3d286fac0fdba59",
       "version_major": 2,
       "version_minor": 0
      },
      "text/plain": [
       "HBox(children=(HTML(value=''), FloatProgress(value=0.0, max=1656.0), HTML(value='')))"
      ]
     },
     "metadata": {},
     "output_type": "display_data"
    },
    {
     "name": "stdout",
     "output_type": "stream",
     "text": [
      "\n"
     ]
    },
    {
     "data": {
      "application/vnd.jupyter.widget-view+json": {
       "model_id": "1a11aec8532740309f467e463e4620bf",
       "version_major": 2,
       "version_minor": 0
      },
      "text/plain": [
       "HBox(children=(HTML(value=''), FloatProgress(value=0.0, max=1656.0), HTML(value='')))"
      ]
     },
     "metadata": {},
     "output_type": "display_data"
    },
    {
     "name": "stdout",
     "output_type": "stream",
     "text": [
      "\n"
     ]
    },
    {
     "data": {
      "application/vnd.jupyter.widget-view+json": {
       "model_id": "0c93abec273a4605af6817200244deeb",
       "version_major": 2,
       "version_minor": 0
      },
      "text/plain": [
       "HBox(children=(HTML(value=''), FloatProgress(value=0.0, max=1656.0), HTML(value='')))"
      ]
     },
     "metadata": {},
     "output_type": "display_data"
    },
    {
     "name": "stdout",
     "output_type": "stream",
     "text": [
      "\n"
     ]
    },
    {
     "data": {
      "application/vnd.jupyter.widget-view+json": {
       "model_id": "9c9d518d985047bd9dfed3b36b28a7fb",
       "version_major": 2,
       "version_minor": 0
      },
      "text/plain": [
       "HBox(children=(HTML(value=''), FloatProgress(value=0.0, max=1656.0), HTML(value='')))"
      ]
     },
     "metadata": {},
     "output_type": "display_data"
    },
    {
     "name": "stdout",
     "output_type": "stream",
     "text": [
      "\n"
     ]
    },
    {
     "data": {
      "application/vnd.jupyter.widget-view+json": {
       "model_id": "f4dd24a6eefa43f1867b381bbd92f7ff",
       "version_major": 2,
       "version_minor": 0
      },
      "text/plain": [
       "HBox(children=(HTML(value=''), FloatProgress(value=0.0, max=1656.0), HTML(value='')))"
      ]
     },
     "metadata": {},
     "output_type": "display_data"
    },
    {
     "name": "stdout",
     "output_type": "stream",
     "text": [
      "\n"
     ]
    },
    {
     "data": {
      "application/vnd.jupyter.widget-view+json": {
       "model_id": "28ea77a3f19b4f45824a0d260780a28f",
       "version_major": 2,
       "version_minor": 0
      },
      "text/plain": [
       "HBox(children=(HTML(value=''), FloatProgress(value=0.0, max=1656.0), HTML(value='')))"
      ]
     },
     "metadata": {},
     "output_type": "display_data"
    },
    {
     "name": "stdout",
     "output_type": "stream",
     "text": [
      "\n"
     ]
    },
    {
     "data": {
      "application/vnd.jupyter.widget-view+json": {
       "model_id": "51a96999ce12451a9f9e8d29b7a1b77e",
       "version_major": 2,
       "version_minor": 0
      },
      "text/plain": [
       "HBox(children=(HTML(value=''), FloatProgress(value=0.0, max=1656.0), HTML(value='')))"
      ]
     },
     "metadata": {},
     "output_type": "display_data"
    },
    {
     "name": "stdout",
     "output_type": "stream",
     "text": [
      "\n"
     ]
    },
    {
     "data": {
      "application/vnd.jupyter.widget-view+json": {
       "model_id": "129a2b16ce00430a8da05bcfffc65d7e",
       "version_major": 2,
       "version_minor": 0
      },
      "text/plain": [
       "HBox(children=(HTML(value=''), FloatProgress(value=0.0, max=1656.0), HTML(value='')))"
      ]
     },
     "metadata": {},
     "output_type": "display_data"
    },
    {
     "name": "stdout",
     "output_type": "stream",
     "text": [
      "\n"
     ]
    },
    {
     "data": {
      "application/vnd.jupyter.widget-view+json": {
       "model_id": "dc4aacfc9c5d43a8a40736cc3c584493",
       "version_major": 2,
       "version_minor": 0
      },
      "text/plain": [
       "HBox(children=(HTML(value=''), FloatProgress(value=0.0, max=1656.0), HTML(value='')))"
      ]
     },
     "metadata": {},
     "output_type": "display_data"
    },
    {
     "name": "stdout",
     "output_type": "stream",
     "text": [
      "\n"
     ]
    },
    {
     "data": {
      "application/vnd.jupyter.widget-view+json": {
       "model_id": "1014fc32fa8848fdb66ae487c7b614d1",
       "version_major": 2,
       "version_minor": 0
      },
      "text/plain": [
       "HBox(children=(HTML(value=''), FloatProgress(value=0.0, max=1656.0), HTML(value='')))"
      ]
     },
     "metadata": {},
     "output_type": "display_data"
    },
    {
     "name": "stdout",
     "output_type": "stream",
     "text": [
      "\n"
     ]
    },
    {
     "data": {
      "application/vnd.jupyter.widget-view+json": {
       "model_id": "b87925a79c7243f7a244ee38cc113ec4",
       "version_major": 2,
       "version_minor": 0
      },
      "text/plain": [
       "HBox(children=(HTML(value=''), FloatProgress(value=0.0, max=1656.0), HTML(value='')))"
      ]
     },
     "metadata": {},
     "output_type": "display_data"
    },
    {
     "name": "stdout",
     "output_type": "stream",
     "text": [
      "\n"
     ]
    },
    {
     "data": {
      "application/vnd.jupyter.widget-view+json": {
       "model_id": "c0ba26fffc2c420bac72b9456e2289b8",
       "version_major": 2,
       "version_minor": 0
      },
      "text/plain": [
       "HBox(children=(HTML(value=''), FloatProgress(value=0.0, max=1656.0), HTML(value='')))"
      ]
     },
     "metadata": {},
     "output_type": "display_data"
    },
    {
     "name": "stdout",
     "output_type": "stream",
     "text": [
      "\n"
     ]
    },
    {
     "data": {
      "application/vnd.jupyter.widget-view+json": {
       "model_id": "5cd16da314fc47bb9d1707ab42f39b4d",
       "version_major": 2,
       "version_minor": 0
      },
      "text/plain": [
       "HBox(children=(HTML(value=''), FloatProgress(value=0.0, max=1656.0), HTML(value='')))"
      ]
     },
     "metadata": {},
     "output_type": "display_data"
    },
    {
     "name": "stdout",
     "output_type": "stream",
     "text": [
      "\n"
     ]
    },
    {
     "data": {
      "application/vnd.jupyter.widget-view+json": {
       "model_id": "3968bd395d314791a4edbfe607988046",
       "version_major": 2,
       "version_minor": 0
      },
      "text/plain": [
       "HBox(children=(HTML(value=''), FloatProgress(value=0.0, max=1656.0), HTML(value='')))"
      ]
     },
     "metadata": {},
     "output_type": "display_data"
    },
    {
     "name": "stdout",
     "output_type": "stream",
     "text": [
      "\n"
     ]
    },
    {
     "data": {
      "application/vnd.jupyter.widget-view+json": {
       "model_id": "2a5e1aa2b3794f81ba8971f01819ceb6",
       "version_major": 2,
       "version_minor": 0
      },
      "text/plain": [
       "HBox(children=(HTML(value=''), FloatProgress(value=0.0, max=1656.0), HTML(value='')))"
      ]
     },
     "metadata": {},
     "output_type": "display_data"
    },
    {
     "name": "stdout",
     "output_type": "stream",
     "text": [
      "\n"
     ]
    },
    {
     "data": {
      "application/vnd.jupyter.widget-view+json": {
       "model_id": "41572ca89bce422398e5aa21942f1ed7",
       "version_major": 2,
       "version_minor": 0
      },
      "text/plain": [
       "HBox(children=(HTML(value=''), FloatProgress(value=0.0, max=1656.0), HTML(value='')))"
      ]
     },
     "metadata": {},
     "output_type": "display_data"
    },
    {
     "name": "stdout",
     "output_type": "stream",
     "text": [
      "\n"
     ]
    },
    {
     "data": {
      "application/vnd.jupyter.widget-view+json": {
       "model_id": "d7f91e86c1bb459bb9ab312f808a76e7",
       "version_major": 2,
       "version_minor": 0
      },
      "text/plain": [
       "HBox(children=(HTML(value=''), FloatProgress(value=0.0, max=1656.0), HTML(value='')))"
      ]
     },
     "metadata": {},
     "output_type": "display_data"
    },
    {
     "name": "stdout",
     "output_type": "stream",
     "text": [
      "\n"
     ]
    },
    {
     "data": {
      "application/vnd.jupyter.widget-view+json": {
       "model_id": "4ec7675f397c4c48b4c226653c02672b",
       "version_major": 2,
       "version_minor": 0
      },
      "text/plain": [
       "HBox(children=(HTML(value=''), FloatProgress(value=0.0, max=1656.0), HTML(value='')))"
      ]
     },
     "metadata": {},
     "output_type": "display_data"
    },
    {
     "name": "stdout",
     "output_type": "stream",
     "text": [
      "\n"
     ]
    },
    {
     "data": {
      "application/vnd.jupyter.widget-view+json": {
       "model_id": "0aaed770b3e14f16a83c6e8e6f3eafdc",
       "version_major": 2,
       "version_minor": 0
      },
      "text/plain": [
       "HBox(children=(HTML(value=''), FloatProgress(value=0.0, max=1656.0), HTML(value='')))"
      ]
     },
     "metadata": {},
     "output_type": "display_data"
    },
    {
     "name": "stdout",
     "output_type": "stream",
     "text": [
      "\n"
     ]
    },
    {
     "data": {
      "application/vnd.jupyter.widget-view+json": {
       "model_id": "5e8e2d6dedfc4ddd9e73c0b51420545c",
       "version_major": 2,
       "version_minor": 0
      },
      "text/plain": [
       "HBox(children=(HTML(value=''), FloatProgress(value=0.0, max=1656.0), HTML(value='')))"
      ]
     },
     "metadata": {},
     "output_type": "display_data"
    },
    {
     "name": "stdout",
     "output_type": "stream",
     "text": [
      "\n"
     ]
    },
    {
     "data": {
      "application/vnd.jupyter.widget-view+json": {
       "model_id": "3e7a1b21e3ea468697f21d078b682833",
       "version_major": 2,
       "version_minor": 0
      },
      "text/plain": [
       "HBox(children=(HTML(value=''), FloatProgress(value=0.0, max=1656.0), HTML(value='')))"
      ]
     },
     "metadata": {},
     "output_type": "display_data"
    },
    {
     "name": "stdout",
     "output_type": "stream",
     "text": [
      "\n"
     ]
    },
    {
     "data": {
      "application/vnd.jupyter.widget-view+json": {
       "model_id": "b7c99285cc764c4aaebcdf2883d89aaa",
       "version_major": 2,
       "version_minor": 0
      },
      "text/plain": [
       "HBox(children=(HTML(value=''), FloatProgress(value=0.0, max=1656.0), HTML(value='')))"
      ]
     },
     "metadata": {},
     "output_type": "display_data"
    },
    {
     "name": "stdout",
     "output_type": "stream",
     "text": [
      "\n"
     ]
    },
    {
     "data": {
      "application/vnd.jupyter.widget-view+json": {
       "model_id": "765b0395493d4ef1bd1d4226944cda4c",
       "version_major": 2,
       "version_minor": 0
      },
      "text/plain": [
       "HBox(children=(HTML(value=''), FloatProgress(value=0.0, max=1656.0), HTML(value='')))"
      ]
     },
     "metadata": {},
     "output_type": "display_data"
    },
    {
     "name": "stdout",
     "output_type": "stream",
     "text": [
      "\n"
     ]
    },
    {
     "data": {
      "application/vnd.jupyter.widget-view+json": {
       "model_id": "074fd71b27014733b500a7ab6acd0ae8",
       "version_major": 2,
       "version_minor": 0
      },
      "text/plain": [
       "HBox(children=(HTML(value=''), FloatProgress(value=0.0, max=1656.0), HTML(value='')))"
      ]
     },
     "metadata": {},
     "output_type": "display_data"
    },
    {
     "name": "stdout",
     "output_type": "stream",
     "text": [
      "\n"
     ]
    },
    {
     "data": {
      "application/vnd.jupyter.widget-view+json": {
       "model_id": "b419cf56ad294ca589c9ae8d0426be51",
       "version_major": 2,
       "version_minor": 0
      },
      "text/plain": [
       "HBox(children=(HTML(value=''), FloatProgress(value=0.0, max=1656.0), HTML(value='')))"
      ]
     },
     "metadata": {},
     "output_type": "display_data"
    },
    {
     "name": "stdout",
     "output_type": "stream",
     "text": [
      "\n"
     ]
    },
    {
     "data": {
      "application/vnd.jupyter.widget-view+json": {
       "model_id": "f27451810d3c4fffa449130c4e242899",
       "version_major": 2,
       "version_minor": 0
      },
      "text/plain": [
       "HBox(children=(HTML(value=''), FloatProgress(value=0.0, max=1656.0), HTML(value='')))"
      ]
     },
     "metadata": {},
     "output_type": "display_data"
    },
    {
     "name": "stdout",
     "output_type": "stream",
     "text": [
      "\n"
     ]
    },
    {
     "data": {
      "application/vnd.jupyter.widget-view+json": {
       "model_id": "eae97924e68a40bfa4ee127dd5fe4f4a",
       "version_major": 2,
       "version_minor": 0
      },
      "text/plain": [
       "HBox(children=(HTML(value=''), FloatProgress(value=0.0, max=1656.0), HTML(value='')))"
      ]
     },
     "metadata": {},
     "output_type": "display_data"
    },
    {
     "name": "stdout",
     "output_type": "stream",
     "text": [
      "\n"
     ]
    },
    {
     "data": {
      "application/vnd.jupyter.widget-view+json": {
       "model_id": "fbf8400717a844b3aaf42978f61cf83e",
       "version_major": 2,
       "version_minor": 0
      },
      "text/plain": [
       "HBox(children=(HTML(value=''), FloatProgress(value=0.0, max=1656.0), HTML(value='')))"
      ]
     },
     "metadata": {},
     "output_type": "display_data"
    },
    {
     "name": "stdout",
     "output_type": "stream",
     "text": [
      "\n"
     ]
    },
    {
     "data": {
      "application/vnd.jupyter.widget-view+json": {
       "model_id": "f6e138a1fe3549ba8a590a803638dd55",
       "version_major": 2,
       "version_minor": 0
      },
      "text/plain": [
       "HBox(children=(HTML(value=''), FloatProgress(value=0.0, max=1656.0), HTML(value='')))"
      ]
     },
     "metadata": {},
     "output_type": "display_data"
    },
    {
     "name": "stdout",
     "output_type": "stream",
     "text": [
      "\n"
     ]
    },
    {
     "data": {
      "application/vnd.jupyter.widget-view+json": {
       "model_id": "94196e266daa477cb6741c8e03bde8d5",
       "version_major": 2,
       "version_minor": 0
      },
      "text/plain": [
       "HBox(children=(HTML(value=''), FloatProgress(value=0.0, max=1656.0), HTML(value='')))"
      ]
     },
     "metadata": {},
     "output_type": "display_data"
    },
    {
     "name": "stdout",
     "output_type": "stream",
     "text": [
      "\n"
     ]
    },
    {
     "data": {
      "application/vnd.jupyter.widget-view+json": {
       "model_id": "774c0f36ccab4ae1ad4d36c387e5a56f",
       "version_major": 2,
       "version_minor": 0
      },
      "text/plain": [
       "HBox(children=(HTML(value=''), FloatProgress(value=0.0, max=1656.0), HTML(value='')))"
      ]
     },
     "metadata": {},
     "output_type": "display_data"
    },
    {
     "name": "stdout",
     "output_type": "stream",
     "text": [
      "\n"
     ]
    },
    {
     "data": {
      "application/vnd.jupyter.widget-view+json": {
       "model_id": "a7a6b8563682406e95c102339714b40a",
       "version_major": 2,
       "version_minor": 0
      },
      "text/plain": [
       "HBox(children=(HTML(value=''), FloatProgress(value=0.0, max=1656.0), HTML(value='')))"
      ]
     },
     "metadata": {},
     "output_type": "display_data"
    },
    {
     "name": "stdout",
     "output_type": "stream",
     "text": [
      "\n"
     ]
    },
    {
     "data": {
      "application/vnd.jupyter.widget-view+json": {
       "model_id": "bf1ef7b682de4cfa8beafc0cab7bbbf1",
       "version_major": 2,
       "version_minor": 0
      },
      "text/plain": [
       "HBox(children=(HTML(value=''), FloatProgress(value=0.0, max=1656.0), HTML(value='')))"
      ]
     },
     "metadata": {},
     "output_type": "display_data"
    },
    {
     "name": "stdout",
     "output_type": "stream",
     "text": [
      "\n"
     ]
    },
    {
     "data": {
      "application/vnd.jupyter.widget-view+json": {
       "model_id": "57dd68e5b464403e997b8abdfe4f054e",
       "version_major": 2,
       "version_minor": 0
      },
      "text/plain": [
       "HBox(children=(HTML(value=''), FloatProgress(value=0.0, max=1656.0), HTML(value='')))"
      ]
     },
     "metadata": {},
     "output_type": "display_data"
    },
    {
     "name": "stdout",
     "output_type": "stream",
     "text": [
      "\n"
     ]
    },
    {
     "data": {
      "application/vnd.jupyter.widget-view+json": {
       "model_id": "58552f7e67f14d6c97eb80b95a3c5947",
       "version_major": 2,
       "version_minor": 0
      },
      "text/plain": [
       "HBox(children=(HTML(value=''), FloatProgress(value=0.0, max=1656.0), HTML(value='')))"
      ]
     },
     "metadata": {},
     "output_type": "display_data"
    },
    {
     "name": "stdout",
     "output_type": "stream",
     "text": [
      "\n"
     ]
    },
    {
     "data": {
      "application/vnd.jupyter.widget-view+json": {
       "model_id": "8f9edb88057e435189822f3c7403bc15",
       "version_major": 2,
       "version_minor": 0
      },
      "text/plain": [
       "HBox(children=(HTML(value=''), FloatProgress(value=0.0, max=1656.0), HTML(value='')))"
      ]
     },
     "metadata": {},
     "output_type": "display_data"
    },
    {
     "name": "stdout",
     "output_type": "stream",
     "text": [
      "\n"
     ]
    },
    {
     "data": {
      "application/vnd.jupyter.widget-view+json": {
       "model_id": "04b2c5700d424e1890f7543c59812224",
       "version_major": 2,
       "version_minor": 0
      },
      "text/plain": [
       "HBox(children=(HTML(value=''), FloatProgress(value=0.0, max=1656.0), HTML(value='')))"
      ]
     },
     "metadata": {},
     "output_type": "display_data"
    },
    {
     "name": "stdout",
     "output_type": "stream",
     "text": [
      "\n"
     ]
    },
    {
     "data": {
      "application/vnd.jupyter.widget-view+json": {
       "model_id": "537c9dca5b3c427db70c2a9e6771a670",
       "version_major": 2,
       "version_minor": 0
      },
      "text/plain": [
       "HBox(children=(HTML(value=''), FloatProgress(value=0.0, max=1656.0), HTML(value='')))"
      ]
     },
     "metadata": {},
     "output_type": "display_data"
    },
    {
     "name": "stdout",
     "output_type": "stream",
     "text": [
      "\n"
     ]
    },
    {
     "data": {
      "application/vnd.jupyter.widget-view+json": {
       "model_id": "8d6ee50269cb4d5aa7f80f86c96bee7a",
       "version_major": 2,
       "version_minor": 0
      },
      "text/plain": [
       "HBox(children=(HTML(value=''), FloatProgress(value=0.0, max=1656.0), HTML(value='')))"
      ]
     },
     "metadata": {},
     "output_type": "display_data"
    },
    {
     "name": "stdout",
     "output_type": "stream",
     "text": [
      "\n"
     ]
    },
    {
     "data": {
      "application/vnd.jupyter.widget-view+json": {
       "model_id": "3ed8a8030c3d452786130cca84d03d23",
       "version_major": 2,
       "version_minor": 0
      },
      "text/plain": [
       "HBox(children=(HTML(value=''), FloatProgress(value=0.0, max=1656.0), HTML(value='')))"
      ]
     },
     "metadata": {},
     "output_type": "display_data"
    },
    {
     "name": "stdout",
     "output_type": "stream",
     "text": [
      "\n"
     ]
    },
    {
     "data": {
      "application/vnd.jupyter.widget-view+json": {
       "model_id": "007138d6b8d04227afd83af8b5782b36",
       "version_major": 2,
       "version_minor": 0
      },
      "text/plain": [
       "HBox(children=(HTML(value=''), FloatProgress(value=0.0, max=1656.0), HTML(value='')))"
      ]
     },
     "metadata": {},
     "output_type": "display_data"
    },
    {
     "name": "stdout",
     "output_type": "stream",
     "text": [
      "\n"
     ]
    },
    {
     "data": {
      "application/vnd.jupyter.widget-view+json": {
       "model_id": "c4cf466ab77849b586e24d22a447a35e",
       "version_major": 2,
       "version_minor": 0
      },
      "text/plain": [
       "HBox(children=(HTML(value=''), FloatProgress(value=0.0, max=1656.0), HTML(value='')))"
      ]
     },
     "metadata": {},
     "output_type": "display_data"
    },
    {
     "name": "stdout",
     "output_type": "stream",
     "text": [
      "\n"
     ]
    },
    {
     "data": {
      "application/vnd.jupyter.widget-view+json": {
       "model_id": "60a893750493478fbe20577ed758a014",
       "version_major": 2,
       "version_minor": 0
      },
      "text/plain": [
       "HBox(children=(HTML(value=''), FloatProgress(value=0.0, max=1656.0), HTML(value='')))"
      ]
     },
     "metadata": {},
     "output_type": "display_data"
    },
    {
     "name": "stdout",
     "output_type": "stream",
     "text": [
      "\n"
     ]
    },
    {
     "data": {
      "application/vnd.jupyter.widget-view+json": {
       "model_id": "be8b91cf2e52467e8a035f3e35367f8a",
       "version_major": 2,
       "version_minor": 0
      },
      "text/plain": [
       "HBox(children=(HTML(value=''), FloatProgress(value=0.0, max=1656.0), HTML(value='')))"
      ]
     },
     "metadata": {},
     "output_type": "display_data"
    },
    {
     "name": "stdout",
     "output_type": "stream",
     "text": [
      "\n"
     ]
    },
    {
     "data": {
      "application/vnd.jupyter.widget-view+json": {
       "model_id": "76ce143014174f5da3c45df82bf9067d",
       "version_major": 2,
       "version_minor": 0
      },
      "text/plain": [
       "HBox(children=(HTML(value=''), FloatProgress(value=0.0, max=1656.0), HTML(value='')))"
      ]
     },
     "metadata": {},
     "output_type": "display_data"
    },
    {
     "name": "stdout",
     "output_type": "stream",
     "text": [
      "\n"
     ]
    },
    {
     "data": {
      "application/vnd.jupyter.widget-view+json": {
       "model_id": "1a8ae19f05d14381b0b9728f1752ff15",
       "version_major": 2,
       "version_minor": 0
      },
      "text/plain": [
       "HBox(children=(HTML(value=''), FloatProgress(value=0.0, max=1656.0), HTML(value='')))"
      ]
     },
     "metadata": {},
     "output_type": "display_data"
    },
    {
     "name": "stdout",
     "output_type": "stream",
     "text": [
      "\n"
     ]
    },
    {
     "data": {
      "application/vnd.jupyter.widget-view+json": {
       "model_id": "55d42c327e494f9e8f8088201329ca1d",
       "version_major": 2,
       "version_minor": 0
      },
      "text/plain": [
       "HBox(children=(HTML(value=''), FloatProgress(value=0.0, max=1656.0), HTML(value='')))"
      ]
     },
     "metadata": {},
     "output_type": "display_data"
    },
    {
     "name": "stdout",
     "output_type": "stream",
     "text": [
      "\n"
     ]
    },
    {
     "data": {
      "application/vnd.jupyter.widget-view+json": {
       "model_id": "177533f34588437594615a6f0383ef9f",
       "version_major": 2,
       "version_minor": 0
      },
      "text/plain": [
       "HBox(children=(HTML(value=''), FloatProgress(value=0.0, max=1656.0), HTML(value='')))"
      ]
     },
     "metadata": {},
     "output_type": "display_data"
    },
    {
     "name": "stdout",
     "output_type": "stream",
     "text": [
      "\n"
     ]
    },
    {
     "data": {
      "application/vnd.jupyter.widget-view+json": {
       "model_id": "6450939af5ad4a09a8b9e4409addf626",
       "version_major": 2,
       "version_minor": 0
      },
      "text/plain": [
       "HBox(children=(HTML(value=''), FloatProgress(value=0.0, max=1656.0), HTML(value='')))"
      ]
     },
     "metadata": {},
     "output_type": "display_data"
    },
    {
     "name": "stdout",
     "output_type": "stream",
     "text": [
      "\n"
     ]
    },
    {
     "data": {
      "application/vnd.jupyter.widget-view+json": {
       "model_id": "6f1fefec0a1e4aac83fd787597de625d",
       "version_major": 2,
       "version_minor": 0
      },
      "text/plain": [
       "HBox(children=(HTML(value=''), FloatProgress(value=0.0, max=1656.0), HTML(value='')))"
      ]
     },
     "metadata": {},
     "output_type": "display_data"
    },
    {
     "name": "stdout",
     "output_type": "stream",
     "text": [
      "\n"
     ]
    },
    {
     "data": {
      "application/vnd.jupyter.widget-view+json": {
       "model_id": "ca1c259ec9624577a48223bf495d2f5c",
       "version_major": 2,
       "version_minor": 0
      },
      "text/plain": [
       "HBox(children=(HTML(value=''), FloatProgress(value=0.0, max=1656.0), HTML(value='')))"
      ]
     },
     "metadata": {},
     "output_type": "display_data"
    },
    {
     "name": "stdout",
     "output_type": "stream",
     "text": [
      "\n"
     ]
    },
    {
     "data": {
      "application/vnd.jupyter.widget-view+json": {
       "model_id": "cb6eda8edb8b4f8e95657cba717db3e7",
       "version_major": 2,
       "version_minor": 0
      },
      "text/plain": [
       "HBox(children=(HTML(value=''), FloatProgress(value=0.0, max=1656.0), HTML(value='')))"
      ]
     },
     "metadata": {},
     "output_type": "display_data"
    },
    {
     "name": "stdout",
     "output_type": "stream",
     "text": [
      "\n"
     ]
    },
    {
     "data": {
      "application/vnd.jupyter.widget-view+json": {
       "model_id": "bf9fc42a99684cad8ee5ab0680c7db2d",
       "version_major": 2,
       "version_minor": 0
      },
      "text/plain": [
       "HBox(children=(HTML(value=''), FloatProgress(value=0.0, max=1656.0), HTML(value='')))"
      ]
     },
     "metadata": {},
     "output_type": "display_data"
    },
    {
     "name": "stdout",
     "output_type": "stream",
     "text": [
      "\n"
     ]
    },
    {
     "data": {
      "application/vnd.jupyter.widget-view+json": {
       "model_id": "ff0cdd44653a459785cf0013332e9fdb",
       "version_major": 2,
       "version_minor": 0
      },
      "text/plain": [
       "HBox(children=(HTML(value=''), FloatProgress(value=0.0, max=1656.0), HTML(value='')))"
      ]
     },
     "metadata": {},
     "output_type": "display_data"
    },
    {
     "name": "stdout",
     "output_type": "stream",
     "text": [
      "\n"
     ]
    },
    {
     "data": {
      "application/vnd.jupyter.widget-view+json": {
       "model_id": "d28aeeb91ab74969a61c4f16d277adf3",
       "version_major": 2,
       "version_minor": 0
      },
      "text/plain": [
       "HBox(children=(HTML(value=''), FloatProgress(value=0.0, max=1656.0), HTML(value='')))"
      ]
     },
     "metadata": {},
     "output_type": "display_data"
    },
    {
     "name": "stdout",
     "output_type": "stream",
     "text": [
      "\n"
     ]
    },
    {
     "data": {
      "application/vnd.jupyter.widget-view+json": {
       "model_id": "3d73d1e0329442498225940ae04c10bc",
       "version_major": 2,
       "version_minor": 0
      },
      "text/plain": [
       "HBox(children=(HTML(value=''), FloatProgress(value=0.0, max=1656.0), HTML(value='')))"
      ]
     },
     "metadata": {},
     "output_type": "display_data"
    },
    {
     "name": "stdout",
     "output_type": "stream",
     "text": [
      "\n"
     ]
    },
    {
     "data": {
      "application/vnd.jupyter.widget-view+json": {
       "model_id": "d1643468da294c59abdda220298bc1d1",
       "version_major": 2,
       "version_minor": 0
      },
      "text/plain": [
       "HBox(children=(HTML(value=''), FloatProgress(value=0.0, max=1656.0), HTML(value='')))"
      ]
     },
     "metadata": {},
     "output_type": "display_data"
    },
    {
     "name": "stdout",
     "output_type": "stream",
     "text": [
      "\n"
     ]
    },
    {
     "data": {
      "application/vnd.jupyter.widget-view+json": {
       "model_id": "e0beba036e474e82bb099c40d5f5ce77",
       "version_major": 2,
       "version_minor": 0
      },
      "text/plain": [
       "HBox(children=(HTML(value=''), FloatProgress(value=0.0, max=1656.0), HTML(value='')))"
      ]
     },
     "metadata": {},
     "output_type": "display_data"
    },
    {
     "name": "stdout",
     "output_type": "stream",
     "text": [
      "\n"
     ]
    },
    {
     "data": {
      "application/vnd.jupyter.widget-view+json": {
       "model_id": "9350e8ba3bd94b489c1fec5a4121b67e",
       "version_major": 2,
       "version_minor": 0
      },
      "text/plain": [
       "HBox(children=(HTML(value=''), FloatProgress(value=0.0, max=1656.0), HTML(value='')))"
      ]
     },
     "metadata": {},
     "output_type": "display_data"
    },
    {
     "name": "stdout",
     "output_type": "stream",
     "text": [
      "\n"
     ]
    },
    {
     "data": {
      "application/vnd.jupyter.widget-view+json": {
       "model_id": "372ba399ac314b7d8af9bf4ef17d8081",
       "version_major": 2,
       "version_minor": 0
      },
      "text/plain": [
       "HBox(children=(HTML(value=''), FloatProgress(value=0.0, max=1656.0), HTML(value='')))"
      ]
     },
     "metadata": {},
     "output_type": "display_data"
    },
    {
     "name": "stdout",
     "output_type": "stream",
     "text": [
      "\n"
     ]
    },
    {
     "data": {
      "application/vnd.jupyter.widget-view+json": {
       "model_id": "908b8857db764d56b129644d8ea30bf5",
       "version_major": 2,
       "version_minor": 0
      },
      "text/plain": [
       "HBox(children=(HTML(value=''), FloatProgress(value=0.0, max=1656.0), HTML(value='')))"
      ]
     },
     "metadata": {},
     "output_type": "display_data"
    },
    {
     "name": "stdout",
     "output_type": "stream",
     "text": [
      "\n"
     ]
    },
    {
     "data": {
      "application/vnd.jupyter.widget-view+json": {
       "model_id": "aa9dfe293aa84577b4dcb1ef95f923c9",
       "version_major": 2,
       "version_minor": 0
      },
      "text/plain": [
       "HBox(children=(HTML(value=''), FloatProgress(value=0.0, max=1656.0), HTML(value='')))"
      ]
     },
     "metadata": {},
     "output_type": "display_data"
    },
    {
     "name": "stdout",
     "output_type": "stream",
     "text": [
      "\n"
     ]
    },
    {
     "data": {
      "application/vnd.jupyter.widget-view+json": {
       "model_id": "8f5a33c1477a43fcb59ee585cb9f5098",
       "version_major": 2,
       "version_minor": 0
      },
      "text/plain": [
       "HBox(children=(HTML(value=''), FloatProgress(value=0.0, max=1656.0), HTML(value='')))"
      ]
     },
     "metadata": {},
     "output_type": "display_data"
    },
    {
     "name": "stdout",
     "output_type": "stream",
     "text": [
      "\n"
     ]
    },
    {
     "data": {
      "application/vnd.jupyter.widget-view+json": {
       "model_id": "f4be4af60bef4c8782129fe0e900bc94",
       "version_major": 2,
       "version_minor": 0
      },
      "text/plain": [
       "HBox(children=(HTML(value=''), FloatProgress(value=0.0, max=1656.0), HTML(value='')))"
      ]
     },
     "metadata": {},
     "output_type": "display_data"
    },
    {
     "name": "stdout",
     "output_type": "stream",
     "text": [
      "\n"
     ]
    },
    {
     "data": {
      "application/vnd.jupyter.widget-view+json": {
       "model_id": "66db6ceb540b42808c0a8126d966c3a6",
       "version_major": 2,
       "version_minor": 0
      },
      "text/plain": [
       "HBox(children=(HTML(value=''), FloatProgress(value=0.0, max=1656.0), HTML(value='')))"
      ]
     },
     "metadata": {},
     "output_type": "display_data"
    },
    {
     "name": "stdout",
     "output_type": "stream",
     "text": [
      "\n"
     ]
    },
    {
     "data": {
      "application/vnd.jupyter.widget-view+json": {
       "model_id": "987af90cd9db4ed4832a39fa1019da7c",
       "version_major": 2,
       "version_minor": 0
      },
      "text/plain": [
       "HBox(children=(HTML(value=''), FloatProgress(value=0.0, max=1656.0), HTML(value='')))"
      ]
     },
     "metadata": {},
     "output_type": "display_data"
    },
    {
     "name": "stdout",
     "output_type": "stream",
     "text": [
      "\n"
     ]
    },
    {
     "data": {
      "application/vnd.jupyter.widget-view+json": {
       "model_id": "76bbf05f6d4541ea82c536b31db0291c",
       "version_major": 2,
       "version_minor": 0
      },
      "text/plain": [
       "HBox(children=(HTML(value=''), FloatProgress(value=0.0, max=1656.0), HTML(value='')))"
      ]
     },
     "metadata": {},
     "output_type": "display_data"
    },
    {
     "name": "stdout",
     "output_type": "stream",
     "text": [
      "\n"
     ]
    },
    {
     "data": {
      "application/vnd.jupyter.widget-view+json": {
       "model_id": "ec610d37877f4822917f916f6e975aae",
       "version_major": 2,
       "version_minor": 0
      },
      "text/plain": [
       "HBox(children=(HTML(value=''), FloatProgress(value=0.0, max=1656.0), HTML(value='')))"
      ]
     },
     "metadata": {},
     "output_type": "display_data"
    },
    {
     "name": "stdout",
     "output_type": "stream",
     "text": [
      "\n"
     ]
    },
    {
     "data": {
      "application/vnd.jupyter.widget-view+json": {
       "model_id": "64cf83ef568a42ee97e51daf5787f768",
       "version_major": 2,
       "version_minor": 0
      },
      "text/plain": [
       "HBox(children=(HTML(value=''), FloatProgress(value=0.0, max=1656.0), HTML(value='')))"
      ]
     },
     "metadata": {},
     "output_type": "display_data"
    },
    {
     "name": "stdout",
     "output_type": "stream",
     "text": [
      "\n"
     ]
    },
    {
     "data": {
      "application/vnd.jupyter.widget-view+json": {
       "model_id": "221571845cd94aeba44c3d917102a6eb",
       "version_major": 2,
       "version_minor": 0
      },
      "text/plain": [
       "HBox(children=(HTML(value=''), FloatProgress(value=0.0, max=1656.0), HTML(value='')))"
      ]
     },
     "metadata": {},
     "output_type": "display_data"
    },
    {
     "name": "stdout",
     "output_type": "stream",
     "text": [
      "\n"
     ]
    },
    {
     "data": {
      "application/vnd.jupyter.widget-view+json": {
       "model_id": "76f8f434c5fe400787193afd8a0bef27",
       "version_major": 2,
       "version_minor": 0
      },
      "text/plain": [
       "HBox(children=(HTML(value=''), FloatProgress(value=0.0, max=1656.0), HTML(value='')))"
      ]
     },
     "metadata": {},
     "output_type": "display_data"
    },
    {
     "name": "stdout",
     "output_type": "stream",
     "text": [
      "\n"
     ]
    },
    {
     "data": {
      "application/vnd.jupyter.widget-view+json": {
       "model_id": "72c14c8d5c03474982b5503246300e79",
       "version_major": 2,
       "version_minor": 0
      },
      "text/plain": [
       "HBox(children=(HTML(value=''), FloatProgress(value=0.0, max=1656.0), HTML(value='')))"
      ]
     },
     "metadata": {},
     "output_type": "display_data"
    },
    {
     "name": "stdout",
     "output_type": "stream",
     "text": [
      "\n"
     ]
    },
    {
     "data": {
      "application/vnd.jupyter.widget-view+json": {
       "model_id": "dd6385d5e53e4a8699dc2346b1727514",
       "version_major": 2,
       "version_minor": 0
      },
      "text/plain": [
       "HBox(children=(HTML(value=''), FloatProgress(value=0.0, max=1656.0), HTML(value='')))"
      ]
     },
     "metadata": {},
     "output_type": "display_data"
    },
    {
     "name": "stdout",
     "output_type": "stream",
     "text": [
      "\n"
     ]
    },
    {
     "data": {
      "application/vnd.jupyter.widget-view+json": {
       "model_id": "8ebaae3cf20b43f4a44a1241996868b3",
       "version_major": 2,
       "version_minor": 0
      },
      "text/plain": [
       "HBox(children=(HTML(value=''), FloatProgress(value=0.0, max=1656.0), HTML(value='')))"
      ]
     },
     "metadata": {},
     "output_type": "display_data"
    },
    {
     "name": "stdout",
     "output_type": "stream",
     "text": [
      "\n"
     ]
    },
    {
     "data": {
      "application/vnd.jupyter.widget-view+json": {
       "model_id": "eaf6ddccd0124cc080a1e50fc29267b0",
       "version_major": 2,
       "version_minor": 0
      },
      "text/plain": [
       "HBox(children=(HTML(value=''), FloatProgress(value=0.0, max=1656.0), HTML(value='')))"
      ]
     },
     "metadata": {},
     "output_type": "display_data"
    },
    {
     "name": "stdout",
     "output_type": "stream",
     "text": [
      "\n"
     ]
    },
    {
     "data": {
      "application/vnd.jupyter.widget-view+json": {
       "model_id": "887c486f713140a8b332368a12f1e869",
       "version_major": 2,
       "version_minor": 0
      },
      "text/plain": [
       "HBox(children=(HTML(value=''), FloatProgress(value=0.0, max=1656.0), HTML(value='')))"
      ]
     },
     "metadata": {},
     "output_type": "display_data"
    },
    {
     "name": "stdout",
     "output_type": "stream",
     "text": [
      "\n"
     ]
    },
    {
     "data": {
      "application/vnd.jupyter.widget-view+json": {
       "model_id": "ffd609cd0c94473cb2210dea266e2270",
       "version_major": 2,
       "version_minor": 0
      },
      "text/plain": [
       "HBox(children=(HTML(value=''), FloatProgress(value=0.0, max=1656.0), HTML(value='')))"
      ]
     },
     "metadata": {},
     "output_type": "display_data"
    },
    {
     "name": "stdout",
     "output_type": "stream",
     "text": [
      "\n"
     ]
    },
    {
     "data": {
      "application/vnd.jupyter.widget-view+json": {
       "model_id": "a5caf3f972c34e50bb429ba58812d828",
       "version_major": 2,
       "version_minor": 0
      },
      "text/plain": [
       "HBox(children=(HTML(value=''), FloatProgress(value=0.0, max=1656.0), HTML(value='')))"
      ]
     },
     "metadata": {},
     "output_type": "display_data"
    },
    {
     "name": "stdout",
     "output_type": "stream",
     "text": [
      "\n"
     ]
    },
    {
     "data": {
      "application/vnd.jupyter.widget-view+json": {
       "model_id": "8dd018dd335644c3a7213b450497454f",
       "version_major": 2,
       "version_minor": 0
      },
      "text/plain": [
       "HBox(children=(HTML(value=''), FloatProgress(value=0.0, max=1656.0), HTML(value='')))"
      ]
     },
     "metadata": {},
     "output_type": "display_data"
    },
    {
     "name": "stdout",
     "output_type": "stream",
     "text": [
      "\n"
     ]
    },
    {
     "data": {
      "application/vnd.jupyter.widget-view+json": {
       "model_id": "c92a0e207b884b76aa7665ef658fb85d",
       "version_major": 2,
       "version_minor": 0
      },
      "text/plain": [
       "HBox(children=(HTML(value=''), FloatProgress(value=0.0, max=1656.0), HTML(value='')))"
      ]
     },
     "metadata": {},
     "output_type": "display_data"
    },
    {
     "name": "stdout",
     "output_type": "stream",
     "text": [
      "\n"
     ]
    },
    {
     "data": {
      "application/vnd.jupyter.widget-view+json": {
       "model_id": "3d2328772b1e4dbea32c31ff2ccbc455",
       "version_major": 2,
       "version_minor": 0
      },
      "text/plain": [
       "HBox(children=(HTML(value=''), FloatProgress(value=0.0, max=1656.0), HTML(value='')))"
      ]
     },
     "metadata": {},
     "output_type": "display_data"
    },
    {
     "name": "stdout",
     "output_type": "stream",
     "text": [
      "\n"
     ]
    },
    {
     "data": {
      "application/vnd.jupyter.widget-view+json": {
       "model_id": "728af790806a4924a329b5a21625116f",
       "version_major": 2,
       "version_minor": 0
      },
      "text/plain": [
       "HBox(children=(HTML(value=''), FloatProgress(value=0.0, max=1656.0), HTML(value='')))"
      ]
     },
     "metadata": {},
     "output_type": "display_data"
    },
    {
     "name": "stdout",
     "output_type": "stream",
     "text": [
      "\n"
     ]
    },
    {
     "data": {
      "application/vnd.jupyter.widget-view+json": {
       "model_id": "320e618b062345fea66f1a2737c4d5d0",
       "version_major": 2,
       "version_minor": 0
      },
      "text/plain": [
       "HBox(children=(HTML(value=''), FloatProgress(value=0.0, max=1656.0), HTML(value='')))"
      ]
     },
     "metadata": {},
     "output_type": "display_data"
    },
    {
     "name": "stdout",
     "output_type": "stream",
     "text": [
      "\n"
     ]
    },
    {
     "data": {
      "application/vnd.jupyter.widget-view+json": {
       "model_id": "e48b449a7e9d4f7d9f5acc10df7f29c3",
       "version_major": 2,
       "version_minor": 0
      },
      "text/plain": [
       "HBox(children=(HTML(value=''), FloatProgress(value=0.0, max=1656.0), HTML(value='')))"
      ]
     },
     "metadata": {},
     "output_type": "display_data"
    },
    {
     "name": "stdout",
     "output_type": "stream",
     "text": [
      "\n"
     ]
    },
    {
     "data": {
      "application/vnd.jupyter.widget-view+json": {
       "model_id": "75e3c21b6f864fb886c0da08f2923c2d",
       "version_major": 2,
       "version_minor": 0
      },
      "text/plain": [
       "HBox(children=(HTML(value=''), FloatProgress(value=0.0, max=1656.0), HTML(value='')))"
      ]
     },
     "metadata": {},
     "output_type": "display_data"
    },
    {
     "name": "stdout",
     "output_type": "stream",
     "text": [
      "\n"
     ]
    },
    {
     "data": {
      "application/vnd.jupyter.widget-view+json": {
       "model_id": "56f174621d0e4888b72296da0de99ba9",
       "version_major": 2,
       "version_minor": 0
      },
      "text/plain": [
       "HBox(children=(HTML(value=''), FloatProgress(value=0.0, max=1656.0), HTML(value='')))"
      ]
     },
     "metadata": {},
     "output_type": "display_data"
    },
    {
     "name": "stdout",
     "output_type": "stream",
     "text": [
      "\n"
     ]
    },
    {
     "data": {
      "application/vnd.jupyter.widget-view+json": {
       "model_id": "df3f204791864fc6ae6aa4a2f9ca4770",
       "version_major": 2,
       "version_minor": 0
      },
      "text/plain": [
       "HBox(children=(HTML(value=''), FloatProgress(value=0.0, max=1656.0), HTML(value='')))"
      ]
     },
     "metadata": {},
     "output_type": "display_data"
    },
    {
     "name": "stdout",
     "output_type": "stream",
     "text": [
      "\n"
     ]
    },
    {
     "data": {
      "application/vnd.jupyter.widget-view+json": {
       "model_id": "9442bb8ad6c94bbaac855b76bba16105",
       "version_major": 2,
       "version_minor": 0
      },
      "text/plain": [
       "HBox(children=(HTML(value=''), FloatProgress(value=0.0, max=1656.0), HTML(value='')))"
      ]
     },
     "metadata": {},
     "output_type": "display_data"
    },
    {
     "name": "stdout",
     "output_type": "stream",
     "text": [
      "\n"
     ]
    },
    {
     "data": {
      "application/vnd.jupyter.widget-view+json": {
       "model_id": "574c56db5e7045db99bdfd71eca4d43b",
       "version_major": 2,
       "version_minor": 0
      },
      "text/plain": [
       "HBox(children=(HTML(value=''), FloatProgress(value=0.0, max=1656.0), HTML(value='')))"
      ]
     },
     "metadata": {},
     "output_type": "display_data"
    },
    {
     "name": "stdout",
     "output_type": "stream",
     "text": [
      "\n"
     ]
    },
    {
     "data": {
      "application/vnd.jupyter.widget-view+json": {
       "model_id": "713152db1f024ecdb42859cb753a18ed",
       "version_major": 2,
       "version_minor": 0
      },
      "text/plain": [
       "HBox(children=(HTML(value=''), FloatProgress(value=0.0, max=1656.0), HTML(value='')))"
      ]
     },
     "metadata": {},
     "output_type": "display_data"
    },
    {
     "name": "stdout",
     "output_type": "stream",
     "text": [
      "\n"
     ]
    },
    {
     "data": {
      "application/vnd.jupyter.widget-view+json": {
       "model_id": "b47a1e7021cb48e39c9419cb40cba04c",
       "version_major": 2,
       "version_minor": 0
      },
      "text/plain": [
       "HBox(children=(HTML(value=''), FloatProgress(value=0.0, max=1656.0), HTML(value='')))"
      ]
     },
     "metadata": {},
     "output_type": "display_data"
    },
    {
     "name": "stdout",
     "output_type": "stream",
     "text": [
      "\n"
     ]
    },
    {
     "data": {
      "application/vnd.jupyter.widget-view+json": {
       "model_id": "9e1e1af0a693450ba58d63b12bd4e7f9",
       "version_major": 2,
       "version_minor": 0
      },
      "text/plain": [
       "HBox(children=(HTML(value=''), FloatProgress(value=0.0, max=1656.0), HTML(value='')))"
      ]
     },
     "metadata": {},
     "output_type": "display_data"
    },
    {
     "name": "stdout",
     "output_type": "stream",
     "text": [
      "\n"
     ]
    },
    {
     "data": {
      "application/vnd.jupyter.widget-view+json": {
       "model_id": "ce9e047f7cd64997808829dcee98bf5b",
       "version_major": 2,
       "version_minor": 0
      },
      "text/plain": [
       "HBox(children=(HTML(value=''), FloatProgress(value=0.0, max=1656.0), HTML(value='')))"
      ]
     },
     "metadata": {},
     "output_type": "display_data"
    },
    {
     "name": "stdout",
     "output_type": "stream",
     "text": [
      "\n"
     ]
    },
    {
     "data": {
      "application/vnd.jupyter.widget-view+json": {
       "model_id": "65062894edef4f158f89f1c297d412e1",
       "version_major": 2,
       "version_minor": 0
      },
      "text/plain": [
       "HBox(children=(HTML(value=''), FloatProgress(value=0.0, max=1656.0), HTML(value='')))"
      ]
     },
     "metadata": {},
     "output_type": "display_data"
    },
    {
     "name": "stdout",
     "output_type": "stream",
     "text": [
      "\n"
     ]
    },
    {
     "data": {
      "application/vnd.jupyter.widget-view+json": {
       "model_id": "8511f69c4646498fbfe9c1f91b2c535a",
       "version_major": 2,
       "version_minor": 0
      },
      "text/plain": [
       "HBox(children=(HTML(value=''), FloatProgress(value=0.0, max=1656.0), HTML(value='')))"
      ]
     },
     "metadata": {},
     "output_type": "display_data"
    },
    {
     "name": "stdout",
     "output_type": "stream",
     "text": [
      "\n"
     ]
    },
    {
     "data": {
      "application/vnd.jupyter.widget-view+json": {
       "model_id": "cfb95c4da30d4994800e4d78b75778a7",
       "version_major": 2,
       "version_minor": 0
      },
      "text/plain": [
       "HBox(children=(HTML(value=''), FloatProgress(value=0.0, max=1656.0), HTML(value='')))"
      ]
     },
     "metadata": {},
     "output_type": "display_data"
    },
    {
     "name": "stdout",
     "output_type": "stream",
     "text": [
      "\n"
     ]
    },
    {
     "data": {
      "application/vnd.jupyter.widget-view+json": {
       "model_id": "75b19aff11de4c93863b6f5d9be25811",
       "version_major": 2,
       "version_minor": 0
      },
      "text/plain": [
       "HBox(children=(HTML(value=''), FloatProgress(value=0.0, max=1656.0), HTML(value='')))"
      ]
     },
     "metadata": {},
     "output_type": "display_data"
    },
    {
     "name": "stdout",
     "output_type": "stream",
     "text": [
      "\n"
     ]
    },
    {
     "data": {
      "application/vnd.jupyter.widget-view+json": {
       "model_id": "51122ec8a3cf4d2cb415c20ae0d678f0",
       "version_major": 2,
       "version_minor": 0
      },
      "text/plain": [
       "HBox(children=(HTML(value=''), FloatProgress(value=0.0, max=1656.0), HTML(value='')))"
      ]
     },
     "metadata": {},
     "output_type": "display_data"
    },
    {
     "name": "stdout",
     "output_type": "stream",
     "text": [
      "\n"
     ]
    },
    {
     "data": {
      "application/vnd.jupyter.widget-view+json": {
       "model_id": "4eba51fb4df3457a8658ecb417c77983",
       "version_major": 2,
       "version_minor": 0
      },
      "text/plain": [
       "HBox(children=(HTML(value=''), FloatProgress(value=0.0, max=1656.0), HTML(value='')))"
      ]
     },
     "metadata": {},
     "output_type": "display_data"
    },
    {
     "name": "stdout",
     "output_type": "stream",
     "text": [
      "\n"
     ]
    },
    {
     "data": {
      "application/vnd.jupyter.widget-view+json": {
       "model_id": "98cbd5c21b29455e8f25a35131c0b064",
       "version_major": 2,
       "version_minor": 0
      },
      "text/plain": [
       "HBox(children=(HTML(value=''), FloatProgress(value=0.0, max=1656.0), HTML(value='')))"
      ]
     },
     "metadata": {},
     "output_type": "display_data"
    },
    {
     "name": "stdout",
     "output_type": "stream",
     "text": [
      "\n"
     ]
    },
    {
     "data": {
      "application/vnd.jupyter.widget-view+json": {
       "model_id": "684b1dd8bdf945f6bae42f65198abbec",
       "version_major": 2,
       "version_minor": 0
      },
      "text/plain": [
       "HBox(children=(HTML(value=''), FloatProgress(value=0.0, max=1656.0), HTML(value='')))"
      ]
     },
     "metadata": {},
     "output_type": "display_data"
    },
    {
     "name": "stdout",
     "output_type": "stream",
     "text": [
      "\n"
     ]
    },
    {
     "data": {
      "application/vnd.jupyter.widget-view+json": {
       "model_id": "93ff4aa07d6547fe803489d850cce470",
       "version_major": 2,
       "version_minor": 0
      },
      "text/plain": [
       "HBox(children=(HTML(value=''), FloatProgress(value=0.0, max=1656.0), HTML(value='')))"
      ]
     },
     "metadata": {},
     "output_type": "display_data"
    },
    {
     "name": "stdout",
     "output_type": "stream",
     "text": [
      "\n"
     ]
    },
    {
     "data": {
      "application/vnd.jupyter.widget-view+json": {
       "model_id": "dbdb234f2fca460086acef981cf551ca",
       "version_major": 2,
       "version_minor": 0
      },
      "text/plain": [
       "HBox(children=(HTML(value=''), FloatProgress(value=0.0, max=1656.0), HTML(value='')))"
      ]
     },
     "metadata": {},
     "output_type": "display_data"
    },
    {
     "name": "stdout",
     "output_type": "stream",
     "text": [
      "\n"
     ]
    },
    {
     "data": {
      "application/vnd.jupyter.widget-view+json": {
       "model_id": "62d70b473d7f4489be8ed7ec603a616a",
       "version_major": 2,
       "version_minor": 0
      },
      "text/plain": [
       "HBox(children=(HTML(value=''), FloatProgress(value=0.0, max=1656.0), HTML(value='')))"
      ]
     },
     "metadata": {},
     "output_type": "display_data"
    },
    {
     "name": "stdout",
     "output_type": "stream",
     "text": [
      "\n"
     ]
    },
    {
     "data": {
      "application/vnd.jupyter.widget-view+json": {
       "model_id": "296eedb69d0c4f2fabf574919592085a",
       "version_major": 2,
       "version_minor": 0
      },
      "text/plain": [
       "HBox(children=(HTML(value=''), FloatProgress(value=0.0, max=1656.0), HTML(value='')))"
      ]
     },
     "metadata": {},
     "output_type": "display_data"
    },
    {
     "name": "stdout",
     "output_type": "stream",
     "text": [
      "\n"
     ]
    },
    {
     "data": {
      "application/vnd.jupyter.widget-view+json": {
       "model_id": "f265fd6114e543d19d5ca1c6aa7004fe",
       "version_major": 2,
       "version_minor": 0
      },
      "text/plain": [
       "HBox(children=(HTML(value=''), FloatProgress(value=0.0, max=1656.0), HTML(value='')))"
      ]
     },
     "metadata": {},
     "output_type": "display_data"
    },
    {
     "name": "stdout",
     "output_type": "stream",
     "text": [
      "\n"
     ]
    },
    {
     "data": {
      "application/vnd.jupyter.widget-view+json": {
       "model_id": "808bc894fb2c4f90b4204e5e061f5c16",
       "version_major": 2,
       "version_minor": 0
      },
      "text/plain": [
       "HBox(children=(HTML(value=''), FloatProgress(value=0.0, max=1656.0), HTML(value='')))"
      ]
     },
     "metadata": {},
     "output_type": "display_data"
    },
    {
     "name": "stdout",
     "output_type": "stream",
     "text": [
      "\n"
     ]
    },
    {
     "data": {
      "application/vnd.jupyter.widget-view+json": {
       "model_id": "05f7baa49051489983bda444e225c3b1",
       "version_major": 2,
       "version_minor": 0
      },
      "text/plain": [
       "HBox(children=(HTML(value=''), FloatProgress(value=0.0, max=1656.0), HTML(value='')))"
      ]
     },
     "metadata": {},
     "output_type": "display_data"
    },
    {
     "name": "stdout",
     "output_type": "stream",
     "text": [
      "\n"
     ]
    },
    {
     "data": {
      "application/vnd.jupyter.widget-view+json": {
       "model_id": "9fe738ead4d4460e8758a65511c9b68b",
       "version_major": 2,
       "version_minor": 0
      },
      "text/plain": [
       "HBox(children=(HTML(value=''), FloatProgress(value=0.0, max=1656.0), HTML(value='')))"
      ]
     },
     "metadata": {},
     "output_type": "display_data"
    },
    {
     "name": "stdout",
     "output_type": "stream",
     "text": [
      "\n"
     ]
    },
    {
     "data": {
      "application/vnd.jupyter.widget-view+json": {
       "model_id": "f333224a276e426b88b750f5d710e940",
       "version_major": 2,
       "version_minor": 0
      },
      "text/plain": [
       "HBox(children=(HTML(value=''), FloatProgress(value=0.0, max=1656.0), HTML(value='')))"
      ]
     },
     "metadata": {},
     "output_type": "display_data"
    },
    {
     "name": "stdout",
     "output_type": "stream",
     "text": [
      "\n"
     ]
    },
    {
     "data": {
      "application/vnd.jupyter.widget-view+json": {
       "model_id": "1c3f96e7f507421088b3675aefeedc7b",
       "version_major": 2,
       "version_minor": 0
      },
      "text/plain": [
       "HBox(children=(HTML(value=''), FloatProgress(value=0.0, max=1656.0), HTML(value='')))"
      ]
     },
     "metadata": {},
     "output_type": "display_data"
    },
    {
     "name": "stdout",
     "output_type": "stream",
     "text": [
      "\n"
     ]
    },
    {
     "data": {
      "application/vnd.jupyter.widget-view+json": {
       "model_id": "df8e8dbeb40b4af4befb86a4ee4cfd00",
       "version_major": 2,
       "version_minor": 0
      },
      "text/plain": [
       "HBox(children=(HTML(value=''), FloatProgress(value=0.0, max=1656.0), HTML(value='')))"
      ]
     },
     "metadata": {},
     "output_type": "display_data"
    },
    {
     "name": "stdout",
     "output_type": "stream",
     "text": [
      "\n"
     ]
    },
    {
     "data": {
      "application/vnd.jupyter.widget-view+json": {
       "model_id": "3f767c34c28c40d1a92bd750d9227d55",
       "version_major": 2,
       "version_minor": 0
      },
      "text/plain": [
       "HBox(children=(HTML(value=''), FloatProgress(value=0.0, max=1656.0), HTML(value='')))"
      ]
     },
     "metadata": {},
     "output_type": "display_data"
    },
    {
     "name": "stdout",
     "output_type": "stream",
     "text": [
      "\n"
     ]
    },
    {
     "data": {
      "application/vnd.jupyter.widget-view+json": {
       "model_id": "5835aa0ad7a34d109afa1c1864746263",
       "version_major": 2,
       "version_minor": 0
      },
      "text/plain": [
       "HBox(children=(HTML(value=''), FloatProgress(value=0.0, max=1656.0), HTML(value='')))"
      ]
     },
     "metadata": {},
     "output_type": "display_data"
    },
    {
     "name": "stdout",
     "output_type": "stream",
     "text": [
      "\n"
     ]
    },
    {
     "data": {
      "application/vnd.jupyter.widget-view+json": {
       "model_id": "0956efcbadfa4c91b2cf614dc2c5af9a",
       "version_major": 2,
       "version_minor": 0
      },
      "text/plain": [
       "HBox(children=(HTML(value=''), FloatProgress(value=0.0, max=1656.0), HTML(value='')))"
      ]
     },
     "metadata": {},
     "output_type": "display_data"
    },
    {
     "name": "stdout",
     "output_type": "stream",
     "text": [
      "\n"
     ]
    },
    {
     "data": {
      "application/vnd.jupyter.widget-view+json": {
       "model_id": "fa7a2ddf25214bac88f31edfc5ea671b",
       "version_major": 2,
       "version_minor": 0
      },
      "text/plain": [
       "HBox(children=(HTML(value=''), FloatProgress(value=0.0, max=1656.0), HTML(value='')))"
      ]
     },
     "metadata": {},
     "output_type": "display_data"
    },
    {
     "name": "stdout",
     "output_type": "stream",
     "text": [
      "\n"
     ]
    },
    {
     "data": {
      "application/vnd.jupyter.widget-view+json": {
       "model_id": "b89884a37dd54e799e0cd83cc8c55cca",
       "version_major": 2,
       "version_minor": 0
      },
      "text/plain": [
       "HBox(children=(HTML(value=''), FloatProgress(value=0.0, max=1656.0), HTML(value='')))"
      ]
     },
     "metadata": {},
     "output_type": "display_data"
    },
    {
     "name": "stdout",
     "output_type": "stream",
     "text": [
      "\n"
     ]
    },
    {
     "data": {
      "application/vnd.jupyter.widget-view+json": {
       "model_id": "2ef3aed3af6e4336b7fb24dc69ede426",
       "version_major": 2,
       "version_minor": 0
      },
      "text/plain": [
       "HBox(children=(HTML(value=''), FloatProgress(value=0.0, max=1656.0), HTML(value='')))"
      ]
     },
     "metadata": {},
     "output_type": "display_data"
    },
    {
     "name": "stdout",
     "output_type": "stream",
     "text": [
      "\n"
     ]
    },
    {
     "data": {
      "application/vnd.jupyter.widget-view+json": {
       "model_id": "aa0bb383d2b5430398b79fa2ece41bf2",
       "version_major": 2,
       "version_minor": 0
      },
      "text/plain": [
       "HBox(children=(HTML(value=''), FloatProgress(value=0.0, max=1656.0), HTML(value='')))"
      ]
     },
     "metadata": {},
     "output_type": "display_data"
    },
    {
     "name": "stdout",
     "output_type": "stream",
     "text": [
      "\n"
     ]
    },
    {
     "data": {
      "application/vnd.jupyter.widget-view+json": {
       "model_id": "00e64aafea0546bda5022fcb5bc1c81c",
       "version_major": 2,
       "version_minor": 0
      },
      "text/plain": [
       "HBox(children=(HTML(value=''), FloatProgress(value=0.0, max=1656.0), HTML(value='')))"
      ]
     },
     "metadata": {},
     "output_type": "display_data"
    },
    {
     "name": "stdout",
     "output_type": "stream",
     "text": [
      "\n"
     ]
    },
    {
     "data": {
      "application/vnd.jupyter.widget-view+json": {
       "model_id": "dd8db2d0114a457d93d4aea414527fb1",
       "version_major": 2,
       "version_minor": 0
      },
      "text/plain": [
       "HBox(children=(HTML(value=''), FloatProgress(value=0.0, max=1656.0), HTML(value='')))"
      ]
     },
     "metadata": {},
     "output_type": "display_data"
    },
    {
     "name": "stdout",
     "output_type": "stream",
     "text": [
      "\n"
     ]
    },
    {
     "data": {
      "application/vnd.jupyter.widget-view+json": {
       "model_id": "44291a6f8fa944969c7bc7ae8ec95224",
       "version_major": 2,
       "version_minor": 0
      },
      "text/plain": [
       "HBox(children=(HTML(value=''), FloatProgress(value=0.0, max=1656.0), HTML(value='')))"
      ]
     },
     "metadata": {},
     "output_type": "display_data"
    },
    {
     "name": "stdout",
     "output_type": "stream",
     "text": [
      "\n"
     ]
    },
    {
     "data": {
      "application/vnd.jupyter.widget-view+json": {
       "model_id": "52df82087d56476da0daa09530172168",
       "version_major": 2,
       "version_minor": 0
      },
      "text/plain": [
       "HBox(children=(HTML(value=''), FloatProgress(value=0.0, max=1656.0), HTML(value='')))"
      ]
     },
     "metadata": {},
     "output_type": "display_data"
    },
    {
     "name": "stdout",
     "output_type": "stream",
     "text": [
      "\n"
     ]
    },
    {
     "data": {
      "application/vnd.jupyter.widget-view+json": {
       "model_id": "3642dba300d047cbbcfa5a9ca0a843d2",
       "version_major": 2,
       "version_minor": 0
      },
      "text/plain": [
       "HBox(children=(HTML(value=''), FloatProgress(value=0.0, max=1656.0), HTML(value='')))"
      ]
     },
     "metadata": {},
     "output_type": "display_data"
    },
    {
     "name": "stdout",
     "output_type": "stream",
     "text": [
      "\n"
     ]
    },
    {
     "data": {
      "application/vnd.jupyter.widget-view+json": {
       "model_id": "85e108da4dcb4420ae4c4d508be6c8d2",
       "version_major": 2,
       "version_minor": 0
      },
      "text/plain": [
       "HBox(children=(HTML(value=''), FloatProgress(value=0.0, max=1656.0), HTML(value='')))"
      ]
     },
     "metadata": {},
     "output_type": "display_data"
    },
    {
     "name": "stdout",
     "output_type": "stream",
     "text": [
      "\n"
     ]
    },
    {
     "data": {
      "application/vnd.jupyter.widget-view+json": {
       "model_id": "21e022f7823944a6af8ce3f7aa9a421c",
       "version_major": 2,
       "version_minor": 0
      },
      "text/plain": [
       "HBox(children=(HTML(value=''), FloatProgress(value=0.0, max=1656.0), HTML(value='')))"
      ]
     },
     "metadata": {},
     "output_type": "display_data"
    },
    {
     "name": "stdout",
     "output_type": "stream",
     "text": [
      "\n"
     ]
    },
    {
     "data": {
      "application/vnd.jupyter.widget-view+json": {
       "model_id": "d1d2df12b1bd4126be73dccf4e1ca786",
       "version_major": 2,
       "version_minor": 0
      },
      "text/plain": [
       "HBox(children=(HTML(value=''), FloatProgress(value=0.0, max=1656.0), HTML(value='')))"
      ]
     },
     "metadata": {},
     "output_type": "display_data"
    },
    {
     "name": "stdout",
     "output_type": "stream",
     "text": [
      "\n"
     ]
    },
    {
     "data": {
      "application/vnd.jupyter.widget-view+json": {
       "model_id": "79a4eefc119c49359fa1e848a09ecd88",
       "version_major": 2,
       "version_minor": 0
      },
      "text/plain": [
       "HBox(children=(HTML(value=''), FloatProgress(value=0.0, max=1656.0), HTML(value='')))"
      ]
     },
     "metadata": {},
     "output_type": "display_data"
    },
    {
     "name": "stdout",
     "output_type": "stream",
     "text": [
      "\n",
      "\n"
     ]
    },
    {
     "ename": "KeyboardInterrupt",
     "evalue": "",
     "output_type": "error",
     "traceback": [
      "\u001b[0;31m---------------------------------------------------------------------------\u001b[0m",
      "\u001b[0;31mKeyboardInterrupt\u001b[0m                         Traceback (most recent call last)",
      "\u001b[0;32m<ipython-input-1-3b6fc6565a98>\u001b[0m in \u001b[0;36m<module>\u001b[0;34m\u001b[0m\n\u001b[1;32m     14\u001b[0m \u001b[0mepochs\u001b[0m \u001b[0;34m=\u001b[0m \u001b[0;36m1000\u001b[0m\u001b[0;34m\u001b[0m\u001b[0;34m\u001b[0m\u001b[0m\n\u001b[1;32m     15\u001b[0m \u001b[0mget_ipython\u001b[0m\u001b[0;34m(\u001b[0m\u001b[0;34m)\u001b[0m\u001b[0;34m.\u001b[0m\u001b[0mrun_line_magic\u001b[0m\u001b[0;34m(\u001b[0m\u001b[0;34m'matplotlib'\u001b[0m\u001b[0;34m,\u001b[0m \u001b[0;34m'notebook'\u001b[0m\u001b[0;34m)\u001b[0m\u001b[0;34m\u001b[0m\u001b[0;34m\u001b[0m\u001b[0m\n\u001b[0;32m---> 16\u001b[0;31m \u001b[0mafterburner_train\u001b[0m\u001b[0;34m(\u001b[0m\u001b[0mlanguage\u001b[0m\u001b[0;34m,\u001b[0m \u001b[0mphase\u001b[0m\u001b[0;34m,\u001b[0m \u001b[0mrelease\u001b[0m\u001b[0;34m,\u001b[0m \u001b[0mmodel_fn\u001b[0m\u001b[0;34m,\u001b[0m \u001b[0mnew_model_fn\u001b[0m\u001b[0;34m,\u001b[0m \u001b[0mepochs\u001b[0m\u001b[0;34m)\u001b[0m\u001b[0;34m\u001b[0m\u001b[0;34m\u001b[0m\u001b[0m\n\u001b[0m",
      "\u001b[0;32m~/Desktop/openasr20/afterburner_train.py\u001b[0m in \u001b[0;36mafterburner_train\u001b[0;34m(language, phase, release, model_fn, new_model_fn, epochs, batch_size)\u001b[0m\n\u001b[1;32m     29\u001b[0m             \u001b[0mtrg\u001b[0m \u001b[0;34m=\u001b[0m \u001b[0mbatch\u001b[0m\u001b[0;34m.\u001b[0m\u001b[0mtrg\u001b[0m\u001b[0;34m.\u001b[0m\u001b[0mto\u001b[0m\u001b[0;34m(\u001b[0m\u001b[0mdevice\u001b[0m\u001b[0;34m)\u001b[0m\u001b[0;34m\u001b[0m\u001b[0;34m\u001b[0m\u001b[0m\n\u001b[1;32m     30\u001b[0m             \u001b[0moptimizer\u001b[0m\u001b[0;34m.\u001b[0m\u001b[0mzero_grad\u001b[0m\u001b[0;34m(\u001b[0m\u001b[0;34m)\u001b[0m\u001b[0;34m\u001b[0m\u001b[0;34m\u001b[0m\u001b[0m\n\u001b[0;32m---> 31\u001b[0;31m             \u001b[0moutput\u001b[0m\u001b[0;34m,\u001b[0m \u001b[0m_\u001b[0m \u001b[0;34m=\u001b[0m \u001b[0mmodel\u001b[0m\u001b[0;34m(\u001b[0m\u001b[0msrc\u001b[0m\u001b[0;34m,\u001b[0m \u001b[0mtrg\u001b[0m\u001b[0;34m[\u001b[0m\u001b[0;34m:\u001b[0m\u001b[0;34m,\u001b[0m\u001b[0;34m:\u001b[0m\u001b[0;34m-\u001b[0m\u001b[0;36m1\u001b[0m\u001b[0;34m]\u001b[0m\u001b[0;34m)\u001b[0m\u001b[0;34m\u001b[0m\u001b[0;34m\u001b[0m\u001b[0m\n\u001b[0m\u001b[1;32m     32\u001b[0m             \u001b[0moutput_dim\u001b[0m \u001b[0;34m=\u001b[0m \u001b[0moutput\u001b[0m\u001b[0;34m.\u001b[0m\u001b[0mshape\u001b[0m\u001b[0;34m[\u001b[0m\u001b[0;34m-\u001b[0m\u001b[0;36m1\u001b[0m\u001b[0;34m]\u001b[0m\u001b[0;34m\u001b[0m\u001b[0;34m\u001b[0m\u001b[0m\n\u001b[1;32m     33\u001b[0m             \u001b[0moutput\u001b[0m \u001b[0;34m=\u001b[0m \u001b[0moutput\u001b[0m\u001b[0;34m.\u001b[0m\u001b[0mcontiguous\u001b[0m\u001b[0;34m(\u001b[0m\u001b[0;34m)\u001b[0m\u001b[0;34m.\u001b[0m\u001b[0mview\u001b[0m\u001b[0;34m(\u001b[0m\u001b[0;34m-\u001b[0m\u001b[0;36m1\u001b[0m\u001b[0;34m,\u001b[0m \u001b[0moutput_dim\u001b[0m\u001b[0;34m)\u001b[0m\u001b[0;34m\u001b[0m\u001b[0;34m\u001b[0m\u001b[0m\n",
      "\u001b[0;32m~/anaconda3/envs/nemo/lib/python3.7/site-packages/torch/nn/modules/module.py\u001b[0m in \u001b[0;36m_call_impl\u001b[0;34m(self, *input, **kwargs)\u001b[0m\n\u001b[1;32m    720\u001b[0m             \u001b[0mresult\u001b[0m \u001b[0;34m=\u001b[0m \u001b[0mself\u001b[0m\u001b[0;34m.\u001b[0m\u001b[0m_slow_forward\u001b[0m\u001b[0;34m(\u001b[0m\u001b[0;34m*\u001b[0m\u001b[0minput\u001b[0m\u001b[0;34m,\u001b[0m \u001b[0;34m**\u001b[0m\u001b[0mkwargs\u001b[0m\u001b[0;34m)\u001b[0m\u001b[0;34m\u001b[0m\u001b[0;34m\u001b[0m\u001b[0m\n\u001b[1;32m    721\u001b[0m         \u001b[0;32melse\u001b[0m\u001b[0;34m:\u001b[0m\u001b[0;34m\u001b[0m\u001b[0;34m\u001b[0m\u001b[0m\n\u001b[0;32m--> 722\u001b[0;31m             \u001b[0mresult\u001b[0m \u001b[0;34m=\u001b[0m \u001b[0mself\u001b[0m\u001b[0;34m.\u001b[0m\u001b[0mforward\u001b[0m\u001b[0;34m(\u001b[0m\u001b[0;34m*\u001b[0m\u001b[0minput\u001b[0m\u001b[0;34m,\u001b[0m \u001b[0;34m**\u001b[0m\u001b[0mkwargs\u001b[0m\u001b[0;34m)\u001b[0m\u001b[0;34m\u001b[0m\u001b[0;34m\u001b[0m\u001b[0m\n\u001b[0m\u001b[1;32m    723\u001b[0m         for hook in itertools.chain(\n\u001b[1;32m    724\u001b[0m                 \u001b[0m_global_forward_hooks\u001b[0m\u001b[0;34m.\u001b[0m\u001b[0mvalues\u001b[0m\u001b[0;34m(\u001b[0m\u001b[0;34m)\u001b[0m\u001b[0;34m,\u001b[0m\u001b[0;34m\u001b[0m\u001b[0;34m\u001b[0m\u001b[0m\n",
      "\u001b[0;32m~/Desktop/openasr20/seq_to_seq.py\u001b[0m in \u001b[0;36mforward\u001b[0;34m(self, src, trg)\u001b[0m\n\u001b[1;32m    334\u001b[0m         \u001b[0;31m#trg_mask = [batch size, 1, trg len, trg len]\u001b[0m\u001b[0;34m\u001b[0m\u001b[0;34m\u001b[0m\u001b[0;34m\u001b[0m\u001b[0m\n\u001b[1;32m    335\u001b[0m \u001b[0;34m\u001b[0m\u001b[0m\n\u001b[0;32m--> 336\u001b[0;31m         \u001b[0menc_src\u001b[0m \u001b[0;34m=\u001b[0m \u001b[0mself\u001b[0m\u001b[0;34m.\u001b[0m\u001b[0mencoder\u001b[0m\u001b[0;34m(\u001b[0m\u001b[0msrc\u001b[0m\u001b[0;34m,\u001b[0m \u001b[0msrc_mask\u001b[0m\u001b[0;34m)\u001b[0m\u001b[0;34m\u001b[0m\u001b[0;34m\u001b[0m\u001b[0m\n\u001b[0m\u001b[1;32m    337\u001b[0m \u001b[0;34m\u001b[0m\u001b[0m\n\u001b[1;32m    338\u001b[0m         \u001b[0;31m#enc_src = [batch size, src len, hid dim]\u001b[0m\u001b[0;34m\u001b[0m\u001b[0;34m\u001b[0m\u001b[0;34m\u001b[0m\u001b[0m\n",
      "\u001b[0;32m~/anaconda3/envs/nemo/lib/python3.7/site-packages/torch/nn/modules/module.py\u001b[0m in \u001b[0;36m_call_impl\u001b[0;34m(self, *input, **kwargs)\u001b[0m\n\u001b[1;32m    720\u001b[0m             \u001b[0mresult\u001b[0m \u001b[0;34m=\u001b[0m \u001b[0mself\u001b[0m\u001b[0;34m.\u001b[0m\u001b[0m_slow_forward\u001b[0m\u001b[0;34m(\u001b[0m\u001b[0;34m*\u001b[0m\u001b[0minput\u001b[0m\u001b[0;34m,\u001b[0m \u001b[0;34m**\u001b[0m\u001b[0mkwargs\u001b[0m\u001b[0;34m)\u001b[0m\u001b[0;34m\u001b[0m\u001b[0;34m\u001b[0m\u001b[0m\n\u001b[1;32m    721\u001b[0m         \u001b[0;32melse\u001b[0m\u001b[0;34m:\u001b[0m\u001b[0;34m\u001b[0m\u001b[0;34m\u001b[0m\u001b[0m\n\u001b[0;32m--> 722\u001b[0;31m             \u001b[0mresult\u001b[0m \u001b[0;34m=\u001b[0m \u001b[0mself\u001b[0m\u001b[0;34m.\u001b[0m\u001b[0mforward\u001b[0m\u001b[0;34m(\u001b[0m\u001b[0;34m*\u001b[0m\u001b[0minput\u001b[0m\u001b[0;34m,\u001b[0m \u001b[0;34m**\u001b[0m\u001b[0mkwargs\u001b[0m\u001b[0;34m)\u001b[0m\u001b[0;34m\u001b[0m\u001b[0;34m\u001b[0m\u001b[0m\n\u001b[0m\u001b[1;32m    723\u001b[0m         for hook in itertools.chain(\n\u001b[1;32m    724\u001b[0m                 \u001b[0m_global_forward_hooks\u001b[0m\u001b[0;34m.\u001b[0m\u001b[0mvalues\u001b[0m\u001b[0;34m(\u001b[0m\u001b[0;34m)\u001b[0m\u001b[0;34m,\u001b[0m\u001b[0;34m\u001b[0m\u001b[0;34m\u001b[0m\u001b[0m\n",
      "\u001b[0;32m~/Desktop/openasr20/seq_to_seq.py\u001b[0m in \u001b[0;36mforward\u001b[0;34m(self, src, src_mask)\u001b[0m\n\u001b[1;32m     38\u001b[0m         \u001b[0msrc\u001b[0m \u001b[0;34m=\u001b[0m \u001b[0mself\u001b[0m\u001b[0;34m.\u001b[0m\u001b[0mdropout\u001b[0m\u001b[0;34m(\u001b[0m\u001b[0;34m(\u001b[0m\u001b[0mself\u001b[0m\u001b[0;34m.\u001b[0m\u001b[0mtok_embedding\u001b[0m\u001b[0;34m(\u001b[0m\u001b[0msrc\u001b[0m\u001b[0;34m)\u001b[0m \u001b[0;34m*\u001b[0m \u001b[0mself\u001b[0m\u001b[0;34m.\u001b[0m\u001b[0mscale\u001b[0m\u001b[0;34m)\u001b[0m \u001b[0;34m+\u001b[0m \u001b[0mself\u001b[0m\u001b[0;34m.\u001b[0m\u001b[0mpos_embedding\u001b[0m\u001b[0;34m(\u001b[0m\u001b[0mpos\u001b[0m\u001b[0;34m)\u001b[0m\u001b[0;34m)\u001b[0m\u001b[0;34m\u001b[0m\u001b[0;34m\u001b[0m\u001b[0m\n\u001b[1;32m     39\u001b[0m         \u001b[0;32mfor\u001b[0m \u001b[0mlayer\u001b[0m \u001b[0;32min\u001b[0m \u001b[0mself\u001b[0m\u001b[0;34m.\u001b[0m\u001b[0mlayers\u001b[0m\u001b[0;34m:\u001b[0m\u001b[0;34m\u001b[0m\u001b[0;34m\u001b[0m\u001b[0m\n\u001b[0;32m---> 40\u001b[0;31m             \u001b[0msrc\u001b[0m \u001b[0;34m=\u001b[0m \u001b[0mlayer\u001b[0m\u001b[0;34m(\u001b[0m\u001b[0msrc\u001b[0m\u001b[0;34m,\u001b[0m \u001b[0msrc_mask\u001b[0m\u001b[0;34m)\u001b[0m\u001b[0;34m\u001b[0m\u001b[0;34m\u001b[0m\u001b[0m\n\u001b[0m\u001b[1;32m     41\u001b[0m         \u001b[0;32mreturn\u001b[0m \u001b[0msrc\u001b[0m\u001b[0;34m\u001b[0m\u001b[0;34m\u001b[0m\u001b[0m\n\u001b[1;32m     42\u001b[0m \u001b[0;34m\u001b[0m\u001b[0m\n",
      "\u001b[0;32m~/anaconda3/envs/nemo/lib/python3.7/site-packages/torch/nn/modules/module.py\u001b[0m in \u001b[0;36m_call_impl\u001b[0;34m(self, *input, **kwargs)\u001b[0m\n\u001b[1;32m    720\u001b[0m             \u001b[0mresult\u001b[0m \u001b[0;34m=\u001b[0m \u001b[0mself\u001b[0m\u001b[0;34m.\u001b[0m\u001b[0m_slow_forward\u001b[0m\u001b[0;34m(\u001b[0m\u001b[0;34m*\u001b[0m\u001b[0minput\u001b[0m\u001b[0;34m,\u001b[0m \u001b[0;34m**\u001b[0m\u001b[0mkwargs\u001b[0m\u001b[0;34m)\u001b[0m\u001b[0;34m\u001b[0m\u001b[0;34m\u001b[0m\u001b[0m\n\u001b[1;32m    721\u001b[0m         \u001b[0;32melse\u001b[0m\u001b[0;34m:\u001b[0m\u001b[0;34m\u001b[0m\u001b[0;34m\u001b[0m\u001b[0m\n\u001b[0;32m--> 722\u001b[0;31m             \u001b[0mresult\u001b[0m \u001b[0;34m=\u001b[0m \u001b[0mself\u001b[0m\u001b[0;34m.\u001b[0m\u001b[0mforward\u001b[0m\u001b[0;34m(\u001b[0m\u001b[0;34m*\u001b[0m\u001b[0minput\u001b[0m\u001b[0;34m,\u001b[0m \u001b[0;34m**\u001b[0m\u001b[0mkwargs\u001b[0m\u001b[0;34m)\u001b[0m\u001b[0;34m\u001b[0m\u001b[0;34m\u001b[0m\u001b[0m\n\u001b[0m\u001b[1;32m    723\u001b[0m         for hook in itertools.chain(\n\u001b[1;32m    724\u001b[0m                 \u001b[0m_global_forward_hooks\u001b[0m\u001b[0;34m.\u001b[0m\u001b[0mvalues\u001b[0m\u001b[0;34m(\u001b[0m\u001b[0;34m)\u001b[0m\u001b[0;34m,\u001b[0m\u001b[0;34m\u001b[0m\u001b[0;34m\u001b[0m\u001b[0m\n",
      "\u001b[0;32m~/Desktop/openasr20/seq_to_seq.py\u001b[0m in \u001b[0;36mforward\u001b[0;34m(self, src, src_mask)\u001b[0m\n\u001b[1;32m     60\u001b[0m     \u001b[0;32mdef\u001b[0m \u001b[0mforward\u001b[0m\u001b[0;34m(\u001b[0m\u001b[0mself\u001b[0m\u001b[0;34m,\u001b[0m \u001b[0msrc\u001b[0m\u001b[0;34m,\u001b[0m \u001b[0msrc_mask\u001b[0m\u001b[0;34m)\u001b[0m\u001b[0;34m:\u001b[0m\u001b[0;34m\u001b[0m\u001b[0;34m\u001b[0m\u001b[0m\n\u001b[1;32m     61\u001b[0m         \u001b[0;31m#self attention\u001b[0m\u001b[0;34m\u001b[0m\u001b[0;34m\u001b[0m\u001b[0;34m\u001b[0m\u001b[0m\n\u001b[0;32m---> 62\u001b[0;31m         \u001b[0m_src\u001b[0m\u001b[0;34m,\u001b[0m \u001b[0m_\u001b[0m \u001b[0;34m=\u001b[0m \u001b[0mself\u001b[0m\u001b[0;34m.\u001b[0m\u001b[0mself_attention\u001b[0m\u001b[0;34m(\u001b[0m\u001b[0msrc\u001b[0m\u001b[0;34m,\u001b[0m \u001b[0msrc\u001b[0m\u001b[0;34m,\u001b[0m \u001b[0msrc\u001b[0m\u001b[0;34m,\u001b[0m \u001b[0msrc_mask\u001b[0m\u001b[0;34m)\u001b[0m\u001b[0;34m\u001b[0m\u001b[0;34m\u001b[0m\u001b[0m\n\u001b[0m\u001b[1;32m     63\u001b[0m         \u001b[0;31m#dropout, residual connection and layer norm\u001b[0m\u001b[0;34m\u001b[0m\u001b[0;34m\u001b[0m\u001b[0;34m\u001b[0m\u001b[0m\n\u001b[1;32m     64\u001b[0m         \u001b[0msrc\u001b[0m \u001b[0;34m=\u001b[0m \u001b[0mself\u001b[0m\u001b[0;34m.\u001b[0m\u001b[0mself_attn_layer_norm\u001b[0m\u001b[0;34m(\u001b[0m\u001b[0msrc\u001b[0m \u001b[0;34m+\u001b[0m \u001b[0mself\u001b[0m\u001b[0;34m.\u001b[0m\u001b[0mdropout\u001b[0m\u001b[0;34m(\u001b[0m\u001b[0m_src\u001b[0m\u001b[0;34m)\u001b[0m\u001b[0;34m)\u001b[0m\u001b[0;34m\u001b[0m\u001b[0;34m\u001b[0m\u001b[0m\n",
      "\u001b[0;32m~/anaconda3/envs/nemo/lib/python3.7/site-packages/torch/nn/modules/module.py\u001b[0m in \u001b[0;36m_call_impl\u001b[0;34m(self, *input, **kwargs)\u001b[0m\n\u001b[1;32m    720\u001b[0m             \u001b[0mresult\u001b[0m \u001b[0;34m=\u001b[0m \u001b[0mself\u001b[0m\u001b[0;34m.\u001b[0m\u001b[0m_slow_forward\u001b[0m\u001b[0;34m(\u001b[0m\u001b[0;34m*\u001b[0m\u001b[0minput\u001b[0m\u001b[0;34m,\u001b[0m \u001b[0;34m**\u001b[0m\u001b[0mkwargs\u001b[0m\u001b[0;34m)\u001b[0m\u001b[0;34m\u001b[0m\u001b[0;34m\u001b[0m\u001b[0m\n\u001b[1;32m    721\u001b[0m         \u001b[0;32melse\u001b[0m\u001b[0;34m:\u001b[0m\u001b[0;34m\u001b[0m\u001b[0;34m\u001b[0m\u001b[0m\n\u001b[0;32m--> 722\u001b[0;31m             \u001b[0mresult\u001b[0m \u001b[0;34m=\u001b[0m \u001b[0mself\u001b[0m\u001b[0;34m.\u001b[0m\u001b[0mforward\u001b[0m\u001b[0;34m(\u001b[0m\u001b[0;34m*\u001b[0m\u001b[0minput\u001b[0m\u001b[0;34m,\u001b[0m \u001b[0;34m**\u001b[0m\u001b[0mkwargs\u001b[0m\u001b[0;34m)\u001b[0m\u001b[0;34m\u001b[0m\u001b[0;34m\u001b[0m\u001b[0m\n\u001b[0m\u001b[1;32m    723\u001b[0m         for hook in itertools.chain(\n\u001b[1;32m    724\u001b[0m                 \u001b[0m_global_forward_hooks\u001b[0m\u001b[0;34m.\u001b[0m\u001b[0mvalues\u001b[0m\u001b[0;34m(\u001b[0m\u001b[0;34m)\u001b[0m\u001b[0;34m,\u001b[0m\u001b[0;34m\u001b[0m\u001b[0;34m\u001b[0m\u001b[0m\n",
      "\u001b[0;32m~/Desktop/openasr20/seq_to_seq.py\u001b[0m in \u001b[0;36mforward\u001b[0;34m(self, query, key, value, mask)\u001b[0m\n\u001b[1;32m     97\u001b[0m         \u001b[0;31m#value = [batch size, value len, hid dim]\u001b[0m\u001b[0;34m\u001b[0m\u001b[0;34m\u001b[0m\u001b[0;34m\u001b[0m\u001b[0m\n\u001b[1;32m     98\u001b[0m \u001b[0;34m\u001b[0m\u001b[0m\n\u001b[0;32m---> 99\u001b[0;31m         \u001b[0mQ\u001b[0m \u001b[0;34m=\u001b[0m \u001b[0mself\u001b[0m\u001b[0;34m.\u001b[0m\u001b[0mfc_q\u001b[0m\u001b[0;34m(\u001b[0m\u001b[0mquery\u001b[0m\u001b[0;34m)\u001b[0m\u001b[0;34m\u001b[0m\u001b[0;34m\u001b[0m\u001b[0m\n\u001b[0m\u001b[1;32m    100\u001b[0m         \u001b[0mK\u001b[0m \u001b[0;34m=\u001b[0m \u001b[0mself\u001b[0m\u001b[0;34m.\u001b[0m\u001b[0mfc_k\u001b[0m\u001b[0;34m(\u001b[0m\u001b[0mkey\u001b[0m\u001b[0;34m)\u001b[0m\u001b[0;34m\u001b[0m\u001b[0;34m\u001b[0m\u001b[0m\n\u001b[1;32m    101\u001b[0m         \u001b[0mV\u001b[0m \u001b[0;34m=\u001b[0m \u001b[0mself\u001b[0m\u001b[0;34m.\u001b[0m\u001b[0mfc_v\u001b[0m\u001b[0;34m(\u001b[0m\u001b[0mvalue\u001b[0m\u001b[0;34m)\u001b[0m\u001b[0;34m\u001b[0m\u001b[0;34m\u001b[0m\u001b[0m\n",
      "\u001b[0;32m~/anaconda3/envs/nemo/lib/python3.7/site-packages/torch/nn/modules/module.py\u001b[0m in \u001b[0;36m_call_impl\u001b[0;34m(self, *input, **kwargs)\u001b[0m\n\u001b[1;32m    722\u001b[0m             \u001b[0mresult\u001b[0m \u001b[0;34m=\u001b[0m \u001b[0mself\u001b[0m\u001b[0;34m.\u001b[0m\u001b[0mforward\u001b[0m\u001b[0;34m(\u001b[0m\u001b[0;34m*\u001b[0m\u001b[0minput\u001b[0m\u001b[0;34m,\u001b[0m \u001b[0;34m**\u001b[0m\u001b[0mkwargs\u001b[0m\u001b[0;34m)\u001b[0m\u001b[0;34m\u001b[0m\u001b[0;34m\u001b[0m\u001b[0m\n\u001b[1;32m    723\u001b[0m         for hook in itertools.chain(\n\u001b[0;32m--> 724\u001b[0;31m                 \u001b[0m_global_forward_hooks\u001b[0m\u001b[0;34m.\u001b[0m\u001b[0mvalues\u001b[0m\u001b[0;34m(\u001b[0m\u001b[0;34m)\u001b[0m\u001b[0;34m,\u001b[0m\u001b[0;34m\u001b[0m\u001b[0;34m\u001b[0m\u001b[0m\n\u001b[0m\u001b[1;32m    725\u001b[0m                 self._forward_hooks.values()):\n\u001b[1;32m    726\u001b[0m             \u001b[0mhook_result\u001b[0m \u001b[0;34m=\u001b[0m \u001b[0mhook\u001b[0m\u001b[0;34m(\u001b[0m\u001b[0mself\u001b[0m\u001b[0;34m,\u001b[0m \u001b[0minput\u001b[0m\u001b[0;34m,\u001b[0m \u001b[0mresult\u001b[0m\u001b[0;34m)\u001b[0m\u001b[0;34m\u001b[0m\u001b[0;34m\u001b[0m\u001b[0m\n",
      "\u001b[0;31mKeyboardInterrupt\u001b[0m: "
     ]
    }
   ],
   "source": [
    "from IPython.core.display import display, HTML\n",
    "display(HTML(\"<style>.container { width:100% !important; }</style>\"))\n",
    "%load_ext autoreload\n",
    "%autoreload 2\n",
    "\n",
    "\n",
    "from afterburner_train import afterburner_train\n",
    "\n",
    "language='vietnamese'\n",
    "phase='build'\n",
    "release='400'\n",
    "model_fn='save/new_afterburner/afterburner_302.pt'\n",
    "new_model_fn='save/new_afterburner/afterburner_400.pt'\n",
    "epochs = 1000\n",
    "%matplotlib notebook\n",
    "afterburner_train(language, phase, release, model_fn, new_model_fn, epochs)"
   ]
  },
  {
   "cell_type": "code",
   "execution_count": null,
   "metadata": {},
   "outputs": [],
   "source": []
  }
 ],
 "metadata": {
  "kernelspec": {
   "display_name": "nemo",
   "language": "python",
   "name": "nemo"
  },
  "language_info": {
   "codemirror_mode": {
    "name": "ipython",
    "version": 3
   },
   "file_extension": ".py",
   "mimetype": "text/x-python",
   "name": "python",
   "nbconvert_exporter": "python",
   "pygments_lexer": "ipython3",
   "version": "3.7.9"
  }
 },
 "nbformat": 4,
 "nbformat_minor": 4
}
