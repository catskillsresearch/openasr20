{
 "cells": [
  {
   "cell_type": "markdown",
   "metadata": {},
   "source": [
    "# Low resource language model training and evaluation"
   ]
  },
  {
   "cell_type": "markdown",
   "metadata": {},
   "source": [
    "## Required packages"
   ]
  },
  {
   "cell_type": "code",
   "execution_count": 1,
   "metadata": {},
   "outputs": [
    {
     "data": {
      "text/html": [
       "<style>.container { width:100% !important; }</style>"
      ],
      "text/plain": [
       "<IPython.core.display.HTML object>"
      ]
     },
     "metadata": {},
     "output_type": "display_data"
    }
   ],
   "source": [
    "from IPython.core.display import display, HTML\n",
    "display(HTML(\"<style>.container { width:100% !important; }</style>\"))\n",
    "%load_ext autoreload\n",
    "%autoreload 2"
   ]
  },
  {
   "cell_type": "code",
   "execution_count": 2,
   "metadata": {},
   "outputs": [],
   "source": [
    "%matplotlib inline\n",
    "import matplotlib.pylab as plt"
   ]
  },
  {
   "cell_type": "code",
   "execution_count": 3,
   "metadata": {},
   "outputs": [],
   "source": [
    "from glob import glob\n",
    "import json, sys, os, librosa\n",
    "import numpy as np\n",
    "import pandas as pd\n",
    "from jiwer import wer\n",
    "from unidecode import unidecode\n",
    "from tqdm.notebook import tqdm"
   ]
  },
  {
   "cell_type": "code",
   "execution_count": 4,
   "metadata": {},
   "outputs": [],
   "source": [
    "sys.path.append('/home/catskills/Desktop/openasr20/end2end_asr_pytorch')\n",
    "os.environ['IN_JUPYTER']='True'\n",
    "os.environ['CUDA_VISIBLE_DEVICES']='0'"
   ]
  },
  {
   "cell_type": "markdown",
   "metadata": {},
   "source": [
    "## Configuration"
   ]
  },
  {
   "cell_type": "raw",
   "metadata": {},
   "source": [
    "from config import C\n",
    "os.system(f\"mkdir -p {C.model_dir}\");"
   ]
  },
  {
   "cell_type": "markdown",
   "metadata": {},
   "source": [
    "## Initial BUILD setup"
   ]
  },
  {
   "cell_type": "code",
   "execution_count": null,
   "metadata": {},
   "outputs": [],
   "source": [
    "os.system(f\"mkdir -p analysis/{language}\");"
   ]
  },
  {
   "cell_type": "code",
   "execution_count": null,
   "metadata": {
    "scrolled": true
   },
   "outputs": [],
   "source": [
    "from transcript_to_split_BUILD_wavs import transcript_to_split_BUILD_wavs\n",
    "if not os.path.exists(f'{C.stage}/openasr20_{C.language}/build/audio_split'):\n",
    "    transcript_to_split_BUILD_wavs(C)"
   ]
  },
  {
   "cell_type": "code",
   "execution_count": null,
   "metadata": {},
   "outputs": [],
   "source": [
    "C.stm_dir=f'{C.stage}/openasr20_{C.language}/build/transcription_stm'\n",
    "os.system(f'mkdir -p {C.stm_dir}')\n",
    "srcs = glob(f'{C.stage}/openasr20_{C.language}/build/transcription/*.txt')\n",
    "tasks = [(x,x.replace('.txt','.stm').replace('/transcription/','/transcription_stm/')) for x in srcs]\n",
    "for src,tgt in tqdm(tasks):\n",
    "    if not os.path.exists(tgt):\n",
    "        os.system(f\"python OpenASR_convert_reference_transcript.py -f {src} -o {C.stm_dir}\")"
   ]
  },
  {
   "cell_type": "code",
   "execution_count": null,
   "metadata": {},
   "outputs": [],
   "source": [
    "from transcript_to_grapheme_dictionary import transcript_to_grapheme_dictionary\n",
    "if not os.path.isfile(C.grapheme_dictionary_fn):\n",
    "    transcript_to_grapheme_dictionary(C)"
   ]
  },
  {
   "cell_type": "markdown",
   "metadata": {},
   "source": [
    "## BUILD advanced sample treatment: SD, NR, norm, trim"
   ]
  },
  {
   "cell_type": "code",
   "execution_count": null,
   "metadata": {
    "scrolled": false
   },
   "outputs": [],
   "source": [
    "from advanced_sample_treatment_for_BUILD import advanced_sample_treatment_for_BUILD\n",
    "advanced_sample_treatment_for_BUILD(C)"
   ]
  },
  {
   "cell_type": "markdown",
   "metadata": {},
   "source": [
    "## Training regime: first 10% audio length, first 20%....first 100%"
   ]
  },
  {
   "cell_type": "code",
   "execution_count": 15,
   "metadata": {},
   "outputs": [],
   "source": [
    "os.system(\"/bin/rm -rf runs\")\n",
    "os.system(\"python runtrainer.py\")"
   ]
  },
  {
   "cell_type": "markdown",
   "metadata": {},
   "source": [
    "## Afterburner training"
   ]
  },
  {
   "cell_type": "markdown",
   "metadata": {},
   "source": [
    "## Build 4K inference"
   ]
  },
  {
   "cell_type": "markdown",
   "metadata": {},
   "source": [
    "## Build afterburner inference"
   ]
  },
  {
   "cell_type": "markdown",
   "metadata": {},
   "source": [
    "## Build model validation"
   ]
  },
  {
   "cell_type": "code",
   "execution_count": null,
   "metadata": {},
   "outputs": [],
   "source": [
    "os.system(f\"\"\"python end2end_asr_pytorch/infer.py \\\n",
    "\t--continue-from save/{C.language}_end2end_asr_pytorch_drop0.1_cnn_batch12_4_vgg_layer4/best_model.th \\\n",
    "\t--test-manifest-list manifest.csv \\\n",
    "\t--batch-size {C.batch_size} --output analysis/{C.language}/TEST_BUILD.txt --cuda --verbose\"\"\")"
   ]
  },
  {
   "cell_type": "markdown",
   "metadata": {},
   "source": [
    "## SCLite scoring"
   ]
  },
  {
   "cell_type": "code",
   "execution_count": null,
   "metadata": {},
   "outputs": [],
   "source": [
    "C.translation_file=\"{C.recording} analysis/{C.language}/TEST_BUILD.txt\"\n",
    "package_BUILD_as_stm(C)"
   ]
  },
  {
   "cell_type": "code",
   "execution_count": null,
   "metadata": {},
   "outputs": [],
   "source": [
    "C.ref_file=\"\"\"analysis/{C.language}/build_reference/{recording}.stm\"\"\"\n",
    "C.hyp_file=\"\"\"analysis/{C.language}/build_inference/{C.recording}.ctm\"\"\"\n",
    "C.scoring=\"\"\"scoring\"\"\"\n",
    "os.system(\"\"\"mkdir -p scoring\"\"\")"
   ]
  },
  {
   "cell_type": "code",
   "execution_count": null,
   "metadata": {},
   "outputs": [],
   "source": [
    "cmd=\"\"\"SCTK/bin/sclite -r {C.ref_file} stm -h {C.hype_file} ctm -F -D -O {C.scoring} -o sum rsum pralign prf -e utf-8\"\"\""
   ]
  },
  {
   "cell_type": "markdown",
   "metadata": {},
   "source": [
    "## DEV basic preparation"
   ]
  },
  {
   "cell_type": "markdown",
   "metadata": {},
   "source": [
    "## DEV advanced preparation: SD, NR, norm, 4K, SD, NR, norm, max split, trim"
   ]
  },
  {
   "cell_type": "markdown",
   "metadata": {},
   "source": [
    "## DEV 4K infer"
   ]
  },
  {
   "cell_type": "markdown",
   "metadata": {},
   "source": [
    "## DEV Afterburner infer"
   ]
  },
  {
   "cell_type": "markdown",
   "metadata": {},
   "source": [
    "## NIST model test"
   ]
  },
  {
   "cell_type": "code",
   "execution_count": null,
   "metadata": {},
   "outputs": [],
   "source": [
    "from split_DEV_audio import split_DEV_audio\n",
    "split_DEV_audio(C)"
   ]
  },
  {
   "cell_type": "code",
   "execution_count": null,
   "metadata": {},
   "outputs": [],
   "source": [
    "from make_DEV_infer_csv import make_DEV_infer_csv\n",
    "make_DEV_infer_csv(C)"
   ]
  },
  {
   "cell_type": "code",
   "execution_count": null,
   "metadata": {},
   "outputs": [],
   "source": [
    "os.system(f\"\"\"python end2end_asr_pytorch/infer.py \\\n",
    "\t--continue-from save/{C.language}_end2end_asr_pytorch_drop0.1_cnn_batch12_4_vgg_layer4/best_model.th \\\n",
    "\t--test-manifest-list analysis/{C.language}/DEV_{C.language}_split.csv \\\n",
    "\t--batch-size {C.batch_size} \\\n",
    "\t--output analysis/{C.language}/RESULT_{C.language}.txt \\\n",
    "\t--cuda \\\n",
    "\t--verbose\"\"\")"
   ]
  },
  {
   "cell_type": "code",
   "execution_count": null,
   "metadata": {},
   "outputs": [],
   "source": [
    "from trim_repeats import trim_repeats\n",
    "trim_repeats(C,cfn,tfn)"
   ]
  },
  {
   "cell_type": "code",
   "execution_count": null,
   "metadata": {},
   "outputs": [],
   "source": [
    "from package_DEV import package_DEV\n",
    "package_DEV(C)"
   ]
  }
 ],
 "metadata": {
  "kernelspec": {
   "display_name": "openasr",
   "language": "python",
   "name": "openasr"
  },
  "language_info": {
   "codemirror_mode": {
    "name": "ipython",
    "version": 3
   },
   "file_extension": ".py",
   "mimetype": "text/x-python",
   "name": "python",
   "nbconvert_exporter": "python",
   "pygments_lexer": "ipython3",
   "version": "3.8.3"
  }
 },
 "nbformat": 4,
 "nbformat_minor": 4
}
