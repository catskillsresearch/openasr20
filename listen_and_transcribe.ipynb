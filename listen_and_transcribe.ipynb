{
 "cells": [
  {
   "cell_type": "code",
   "execution_count": null,
   "metadata": {},
   "outputs": [],
   "source": [
    "from IPython.core.display import display, HTML\n",
    "display(HTML(\"<style>.container { width:100% !important; }</style>\"))\n",
    "%load_ext autoreload\n",
    "%autoreload 2"
   ]
  },
  {
   "cell_type": "code",
   "execution_count": null,
   "metadata": {},
   "outputs": [],
   "source": [
    "import os, pickle\n",
    "from multiprocessing import Pool\n",
    "from Cfg import Cfg\n",
    "from load_pretrained_model import load_pretrained_model\n",
    "from RecordingCorpus import RecordingCorpus\n",
    "from listen_and_transcribe import listen_and_transcribe\n",
    "from tqdm.auto import tqdm\n",
    "\n",
    "language='vietnamese'\n",
    "phase='build'\n",
    "release='b30'\n",
    "max_duration=20\n",
    "C = Cfg('NIST', 16000, language, phase, release)\n",
    "model = load_pretrained_model(C, 0)\n",
    "with Pool(16) as pool:\n",
    "    recordings = RecordingCorpus(C, pool)\n",
    "\n",
    "tdir= f'transcriptions/{language}/{phase}/{release}'\n",
    "os.system(f'mkdir -p {tdir}')\n",
    "translations = []\n",
    "for artifact in recordings.artifacts:\n",
    "    key = artifact.key\n",
    "    (lng,tfn)=key\n",
    "    print(\"key\", key)\n",
    "    save_fn=f'{tdir}/transcription_{lng}_{tfn}.pkl'\n",
    "    if os.path.exists(save_fn):\n",
    "        print(\"finished\", key)\n",
    "        continue\n",
    "    audio = artifact.source.value\n",
    "    gold=artifact.gold()\n",
    "    transcript=listen_and_transcribe(C, model, max_duration, gold, audio)\n",
    "    translations.append((key, transcript))\n",
    "    with open(save_fn, 'wb') as f:\n",
    "        pickle.dump(transcript, f)\n",
    "    print('saved', save_fn)\n",
    "    print()"
   ]
  },
  {
   "cell_type": "code",
   "execution_count": null,
   "metadata": {},
   "outputs": [],
   "source": []
  }
 ],
 "metadata": {
  "kernelspec": {
   "display_name": "nemo",
   "language": "python",
   "name": "nemo"
  },
  "language_info": {
   "codemirror_mode": {
    "name": "ipython",
    "version": 3
   },
   "file_extension": ".py",
   "mimetype": "text/x-python",
   "name": "python",
   "nbconvert_exporter": "python",
   "pygments_lexer": "ipython3",
   "version": "3.7.9"
  }
 },
 "nbformat": 4,
 "nbformat_minor": 4
}
