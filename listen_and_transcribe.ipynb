{
 "cells": [
  {
   "cell_type": "code",
   "execution_count": null,
   "metadata": {},
   "outputs": [],
   "source": [
    "from IPython.core.display import display, HTML\n",
    "display(HTML(\"<style>.container { width:100% !important; }</style>\"))\n",
    "%load_ext autoreload\n",
    "%autoreload 2"
   ]
  },
  {
   "cell_type": "code",
   "execution_count": null,
   "metadata": {},
   "outputs": [],
   "source": [
    "from multiprocessing import Pool\n",
    "from Cfg import Cfg\n",
    "from load_pretrained_model import load_pretrained_model\n",
    "from RecordingCorpus import RecordingCorpus\n",
    "from listen_and_transcribe import listen_and_transcribe\n",
    "from tqdm.auto import tqdm"
   ]
  },
  {
   "cell_type": "code",
   "execution_count": null,
   "metadata": {},
   "outputs": [],
   "source": [
    "C = Cfg('NIST', 16000, 'vietnamese', 'build') \n",
    "with Pool(16) as pool:\n",
    "    recordings = RecordingCorpus(C, pool)\n",
    "artifacts=recordings.artifacts\n",
    "artifact=[x for x in artifacts if x.key[1]=='BABEL_BP_107_54621_20120421_132410_outLine'][0]\n",
    "model = load_pretrained_model(C, 0)\n",
    "max_duration=20"
   ]
  },
  {
   "cell_type": "code",
   "execution_count": null,
   "metadata": {},
   "outputs": [],
   "source": [
    "for artifact in tqdm(artifacts):\n",
    "    audio=artifact.source.value\n",
    "    gold=[x[3:] for x in artifact.target.value if len(x)==6]\n",
    "    gold=[(float(start), words) for start, finish, words in gold]   \n",
    "    artifact.transcriptions=listen_and_transcribe(C, model, max_duration, gold, audio)"
   ]
  }
 ],
 "metadata": {
  "kernelspec": {
   "display_name": "nemo",
   "language": "python",
   "name": "nemo"
  },
  "language_info": {
   "codemirror_mode": {
    "name": "ipython",
    "version": 3
   },
   "file_extension": ".py",
   "mimetype": "text/x-python",
   "name": "python",
   "nbconvert_exporter": "python",
   "pygments_lexer": "ipython3",
   "version": "3.7.9"
  }
 },
 "nbformat": 4,
 "nbformat_minor": 4
}
