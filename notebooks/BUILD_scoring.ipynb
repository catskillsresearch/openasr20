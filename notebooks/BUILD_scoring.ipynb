{
 "cells": [
  {
   "cell_type": "code",
   "execution_count": null,
   "metadata": {},
   "outputs": [],
   "source": [
    "from IPython.core.display import display, HTML\n",
    "display(HTML(\"<style>.container { width:100% !important; }</style>\"))\n",
    "%load_ext autoreload\n",
    "%autoreload 2"
   ]
  },
  {
   "cell_type": "code",
   "execution_count": 1,
   "metadata": {},
   "outputs": [],
   "source": [
    "import os\n",
    "from Cfg import Cfg\n",
    "from tqdm.auto import tqdm\n",
    "from glob import glob\n",
    "\n",
    "C = Cfg('NIST', 16000, 'amharic', 'build')\n",
    "splits=C.split_files()\n",
    "\n",
    "recordings=list(set(['_'.join(split['key'][0:7]) for split in splits]))\n",
    "\n",
    "runid='001'\n",
    "for recording in tqdm(recordings):\n",
    "    ref_file=f'NIST/openasr20_{C.language}/{C.phase}/transcription_stm/{recording}.stm'\n",
    "    ctm_file=f'ship/{C.language}/{runid}/{recording}.ctm'\n",
    "    cmd=f'./SCTK/bin/sclite -r {ref_file} stm -h {ctm_file} ctm -F -D -O scoring -o sum rsum pralign prf -e utf-8'\n",
    "    os.system(cmd)"
   ]
  },
  {
   "cell_type": "code",
   "execution_count": null,
   "metadata": {},
   "outputs": [],
   "source": []
  }
 ],
 "metadata": {
  "kernelspec": {
   "display_name": "nemo",
   "language": "python",
   "name": "nemo"
  },
  "language_info": {
   "codemirror_mode": {
    "name": "ipython",
    "version": 3
   },
   "file_extension": ".py",
   "mimetype": "text/x-python",
   "name": "python",
   "nbconvert_exporter": "python",
   "pygments_lexer": "ipython3",
   "version": "3.7.9"
  }
 },
 "nbformat": 4,
 "nbformat_minor": 4
}
