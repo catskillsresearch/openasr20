{
 "cells": [
  {
   "cell_type": "code",
   "execution_count": null,
   "metadata": {},
   "outputs": [],
   "source": [
    "from IPython.core.display import display, HTML\n",
    "display(HTML(\"<style>.container { width:100% !important; }</style>\"))"
   ]
  },
  {
   "cell_type": "code",
   "execution_count": null,
   "metadata": {},
   "outputs": [],
   "source": [
    "%load_ext autoreload\n",
    "%autoreload 2\n",
    "%matplotlib notebook"
   ]
  },
  {
   "cell_type": "code",
   "execution_count": null,
   "metadata": {},
   "outputs": [],
   "source": [
    "import matplotlib.pylab as plt\n",
    "import numpy as np\n",
    "import pickle, os, warnings, sys, random, logging, librosa, json, nemo\n",
    "import soundfile as sf\n",
    "from tqdm.auto import tqdm\n",
    "from ruamel.yaml import YAML\n",
    "import nemo.collections.asr as nemo_asr\n",
    "from omegaconf import DictConfig\n",
    "import pytorch_lightning as pl\n",
    "from Cfg import Cfg\n",
    "from RecordingCorpus import RecordingCorpus\n",
    "from multiprocessing import Pool\n",
    "from contextlib import closing\n",
    "\n",
    "warnings.filterwarnings(\"ignore\")\n",
    "logger = logging.getLogger()\n",
    "logger.setLevel(logging.INFO)"
   ]
  },
  {
   "cell_type": "code",
   "execution_count": null,
   "metadata": {},
   "outputs": [],
   "source": [
    "## "
   ]
  },
  {
   "cell_type": "markdown",
   "metadata": {},
   "source": [
    "## Train Phase 1: Start from scratch"
   ]
  },
  {
   "cell_type": "code",
   "execution_count": null,
   "metadata": {},
   "outputs": [],
   "source": [
    "C = Cfg('NIST', 8000, 'amharic') \n",
    "audio_split_dir=f'{C.build_dir}/audio_split'"
   ]
  },
  {
   "cell_type": "code",
   "execution_count": null,
   "metadata": {},
   "outputs": [],
   "source": [
    "!mkdir -p {audio_split_dir}"
   ]
  },
  {
   "cell_type": "code",
   "execution_count": null,
   "metadata": {},
   "outputs": [],
   "source": [
    "if 1:\n",
    "    if __name__ == '__main__':\n",
    "        with closing(Pool(16)) as pool:\n",
    "            recordings = RecordingCorpus(C, pool)\n",
    "\n",
    "    from SplitCorpus import SplitCorpus\n",
    "    splits=SplitCorpus.transcript_split(C, recordings)\n",
    "\n",
    "    random.shuffle(splits.artifacts)\n",
    "    n_samples=len(splits.artifacts)\n",
    "\n",
    "    n_train = int(0.8*n_samples)\n",
    "    samples=splits.artifacts\n",
    "    train_samples=samples[0:n_train]\n",
    "    test_samples=samples[n_train:]\n",
    "\n",
    "    for (case, S) in [('train', train_samples), ('test', test_samples)]:\n",
    "        manifest_fn=f'{C.build_dir}/{case}_manifest.json'\n",
    "        with open(manifest_fn, 'w', encoding='utf-8') as f_manifest:\n",
    "            for sample in tqdm(S):\n",
    "                (_,root,(start,end))=sample.key\n",
    "                audio = sample.source.value\n",
    "                duration = sample.source.n_seconds\n",
    "                transcript = sample.target.value\n",
    "                audio_path=f'{audio_split_dir}/{root}_{start}_{end}.wav'\n",
    "                sf.write(audio_path, audio, C.sample_rate)\n",
    "                metadata = {\n",
    "                        \"audio_filepath\": audio_path,\n",
    "                        \"duration\": duration,\n",
    "                        \"text\": transcript\n",
    "                    }\n",
    "                json.dump(metadata, f_manifest)\n",
    "                f_manifest.write('\\n')"
   ]
  },
  {
   "cell_type": "code",
   "execution_count": null,
   "metadata": {},
   "outputs": [],
   "source": [
    "model_save_dir='save/nemo_amharic'"
   ]
  },
  {
   "cell_type": "code",
   "execution_count": null,
   "metadata": {},
   "outputs": [],
   "source": [
    "!mkdir -p {model_save_dir}"
   ]
  },
  {
   "cell_type": "code",
   "execution_count": null,
   "metadata": {},
   "outputs": [],
   "source": [
    "!ls {model_save_dir}"
   ]
  },
  {
   "cell_type": "code",
   "execution_count": null,
   "metadata": {},
   "outputs": [],
   "source": [
    "from pytorch_lightning.callbacks import ModelCheckpoint\n",
    "\n",
    "checkpoint_callback = ModelCheckpoint(\n",
    "    filepath=model_save_dir+'/amharic_{epoch:02d}_loss_{current:.4f}_trainWER_{training_batch_wer:.4f}_valWER_{validation_wer:.4f}',\n",
    "    save_top_k=-1,\n",
    "    verbose=True,\n",
    "    monitor='loss',\n",
    "    mode='min',\n",
    "    period=1,\n",
    "    save_weights_only=True,\n",
    ")"
   ]
  },
  {
   "cell_type": "code",
   "execution_count": null,
   "metadata": {
    "scrolled": true
   },
   "outputs": [],
   "source": [
    "trainer = pl.Trainer(gpus=[0], max_epochs=1000, amp_level='O1', precision=16, checkpoint_callback=checkpoint_callback)"
   ]
  },
  {
   "cell_type": "code",
   "execution_count": null,
   "metadata": {},
   "outputs": [],
   "source": [
    "config_path = 'quartznet_15x5_amharic.yaml'\n",
    "yaml = YAML(typ='safe')\n",
    "with open(config_path) as f:\n",
    "    params = yaml.load(f)"
   ]
  },
  {
   "cell_type": "code",
   "execution_count": null,
   "metadata": {
    "id": "Cbf0fsMK09lk"
   },
   "outputs": [],
   "source": [
    "params['model']['train_ds']['manifest_filepath'] = f'{C.build_dir}/train_manifest.json'\n",
    "params['model']['validation_ds']['manifest_filepath'] = f'{C.build_dir}/test_manifest.json'\n",
    "params['model']['optim']['lr'] = 0.001"
   ]
  },
  {
   "cell_type": "code",
   "execution_count": null,
   "metadata": {},
   "outputs": [],
   "source": [
    "model = nemo_asr.models.EncDecCTCModel(cfg=DictConfig(params['model']), trainer=trainer)"
   ]
  },
  {
   "cell_type": "code",
   "execution_count": null,
   "metadata": {
    "scrolled": true
   },
   "outputs": [],
   "source": [
    "from load_recent import load_recent\n",
    "load_recent(C, model)"
   ]
  },
  {
   "cell_type": "code",
   "execution_count": null,
   "metadata": {},
   "outputs": [],
   "source": [
    "trainer.fit(model)"
   ]
  },
  {
   "cell_type": "markdown",
   "metadata": {},
   "source": [
    "## Train Phase 2: K-fold validation more or less"
   ]
  },
  {
   "cell_type": "code",
   "execution_count": null,
   "metadata": {},
   "outputs": [],
   "source": [
    "from reshuffle_samples import reshuffle_samples\n",
    "import nemo.collections.asr as nemo_asr\n",
    "from load_recent import load_recent\n",
    "from ruamel.yaml import YAML\n",
    "import pytorch_lightning as pl\n",
    "from Cfg import Cfg\n",
    "from omegaconf import DictConfig"
   ]
  },
  {
   "cell_type": "code",
   "execution_count": null,
   "metadata": {},
   "outputs": [],
   "source": [
    "C = Cfg('NIST', 8000, 'amharic') "
   ]
  },
  {
   "cell_type": "code",
   "execution_count": null,
   "metadata": {},
   "outputs": [],
   "source": [
    "model_save_dir='save/nemo_amharic'"
   ]
  },
  {
   "cell_type": "code",
   "execution_count": null,
   "metadata": {},
   "outputs": [],
   "source": [
    "config_path = 'quartznet_15x5_amharic.yaml'\n",
    "yaml = YAML(typ='safe')\n",
    "with open(config_path) as f:\n",
    "    params = yaml.load(f)\n",
    "params['model']['train_ds']['manifest_filepath'] = f'{C.build_dir}/train_manifest.json'\n",
    "params['model']['validation_ds']['manifest_filepath'] = f'{C.build_dir}/test_manifest.json'\n",
    "params['model']['optim']['lr'] = 0.001"
   ]
  },
  {
   "cell_type": "code",
   "execution_count": null,
   "metadata": {},
   "outputs": [],
   "source": [
    "class ModelCheckpointAtEpochEnd(pl.callbacks.ModelCheckpoint):\n",
    "    def on_epoch_end(self, trainer, pl_module):\n",
    "        metrics = trainer.callback_metrics\n",
    "        metrics['epoch'] = trainer.current_epoch\n",
    "        trainer.checkpoint_callback.on_validation_end(trainer, pl_module)"
   ]
  },
  {
   "cell_type": "code",
   "execution_count": null,
   "metadata": {},
   "outputs": [],
   "source": [
    "import os\n",
    "pid=os.getpid()"
   ]
  },
  {
   "cell_type": "code",
   "execution_count": null,
   "metadata": {},
   "outputs": [],
   "source": [
    "import datetime\n",
    "dt=datetime.datetime.now().strftime(\"%Y%m%d_%H%M%S\")"
   ]
  },
  {
   "cell_type": "code",
   "execution_count": null,
   "metadata": {},
   "outputs": [],
   "source": [
    "checkpoint_callback = ModelCheckpointAtEpochEnd(\n",
    "    filepath=model_save_dir+'/amharic_'+f'{dt}_{pid}'+'_{epoch:02d}',\n",
    "    verbose=True,\n",
    "    save_top_k=-1,\n",
    "    save_weights_only=False,\n",
    "    period=1)"
   ]
  },
  {
   "cell_type": "code",
   "execution_count": null,
   "metadata": {},
   "outputs": [],
   "source": [
    "trainer = pl.Trainer(gpus=[0], max_epochs=20, amp_level='O1', precision=16, checkpoint_callback=checkpoint_callback)"
   ]
  },
  {
   "cell_type": "code",
   "execution_count": null,
   "metadata": {},
   "outputs": [],
   "source": [
    "while True:\n",
    "    reshuffle_samples(C)\n",
    "    model = nemo_asr.models.EncDecCTCModel(cfg=DictConfig(params['model']), trainer=trainer)\n",
    "    load_recent(C, model)\n",
    "    trainer.fit(model)"
   ]
  },
  {
   "cell_type": "code",
   "execution_count": null,
   "metadata": {},
   "outputs": [],
   "source": []
  }
 ],
 "metadata": {
  "accelerator": "GPU",
  "colab": {
   "collapsed_sections": [],
   "name": "ASR_with_NeMo.ipynb",
   "provenance": [],
   "toc_visible": true
  },
  "kernelspec": {
   "display_name": "nemo",
   "language": "python",
   "name": "nemo"
  },
  "language_info": {
   "codemirror_mode": {
    "name": "ipython",
    "version": 3
   },
   "file_extension": ".py",
   "mimetype": "text/x-python",
   "name": "python",
   "nbconvert_exporter": "python",
   "pygments_lexer": "ipython3",
   "version": "3.7.9"
  },
  "pycharm": {
   "stem_cell": {
    "cell_type": "raw",
    "metadata": {
     "collapsed": false
    },
    "source": []
   }
  }
 },
 "nbformat": 4,
 "nbformat_minor": 1
}
