{
 "cells": [
  {
   "cell_type": "markdown",
   "metadata": {},
   "source": [
    "# Audio energy and normalize audio"
   ]
  },
  {
   "cell_type": "code",
   "execution_count": 1,
   "metadata": {},
   "outputs": [
    {
     "data": {
      "text/html": [
       "<style>.container { width:100% !important; }</style>"
      ],
      "text/plain": [
       "<IPython.core.display.HTML object>"
      ]
     },
     "metadata": {},
     "output_type": "display_data"
    }
   ],
   "source": [
    "from IPython.core.display import display, HTML\n",
    "display(HTML(\"<style>.container { width:100% !important; }</style>\"))"
   ]
  },
  {
   "cell_type": "code",
   "execution_count": 2,
   "metadata": {},
   "outputs": [],
   "source": [
    "import sys\n",
    "sys.path.append('/home/catskills/Desktop/openasr20/end2end_asr_pytorch')"
   ]
  },
  {
   "cell_type": "code",
   "execution_count": 4,
   "metadata": {},
   "outputs": [],
   "source": [
    "%matplotlib inline\n",
    "import matplotlib.pylab as plt"
   ]
  },
  {
   "cell_type": "code",
   "execution_count": 9,
   "metadata": {},
   "outputs": [],
   "source": [
    "import numpy as np\n",
    "from glob import glob\n",
    "from tqdm import tqdm\n",
    "import os"
   ]
  },
  {
   "cell_type": "code",
   "execution_count": 6,
   "metadata": {},
   "outputs": [],
   "source": [
    "language='amharic'"
   ]
  },
  {
   "cell_type": "code",
   "execution_count": 13,
   "metadata": {},
   "outputs": [],
   "source": [
    "clip_fns=glob(f'NIST/openasr20_{language}/build/audio_split/*')"
   ]
  },
  {
   "cell_type": "code",
   "execution_count": 11,
   "metadata": {},
   "outputs": [
    {
     "data": {
      "text/plain": [
       "9842"
      ]
     },
     "execution_count": 11,
     "metadata": {},
     "output_type": "execute_result"
    }
   ],
   "source": [
    "len(clips)"
   ]
  },
  {
   "cell_type": "code",
   "execution_count": 14,
   "metadata": {},
   "outputs": [],
   "source": [
    "import librosa\n",
    "sample_rate=8000"
   ]
  },
  {
   "cell_type": "code",
   "execution_count": 17,
   "metadata": {},
   "outputs": [
    {
     "name": "stderr",
     "output_type": "stream",
     "text": [
      "100%|██████████| 9842/9842 [00:01<00:00, 6863.95it/s]\n"
     ]
    }
   ],
   "source": [
    "clips=[(fn, librosa.load(fn, sr=sample_rate)[0]) for fn in tqdm(clip_fns)]"
   ]
  },
  {
   "cell_type": "code",
   "execution_count": 19,
   "metadata": {},
   "outputs": [],
   "source": [
    "import pyloudnorm as pyln"
   ]
  },
  {
   "cell_type": "code",
   "execution_count": 51,
   "metadata": {},
   "outputs": [],
   "source": [
    "meter = pyln.Meter(sample_rate, block_size=0.100)"
   ]
  },
  {
   "cell_type": "code",
   "execution_count": 52,
   "metadata": {},
   "outputs": [
    {
     "name": "stderr",
     "output_type": "stream",
     "text": [
      "100%|██████████| 9842/9842 [00:30<00:00, 322.32it/s]\n"
     ]
    }
   ],
   "source": [
    "loudnesses=[]\n",
    "problems=[]\n",
    "for fn, waveform in tqdm(clips):\n",
    "    try:\n",
    "        loudnesses.append((fn, meter.integrated_loudness(waveform)))\n",
    "    except:\n",
    "        problems.append((fn, waveform))"
   ]
  },
  {
   "cell_type": "code",
   "execution_count": 53,
   "metadata": {},
   "outputs": [
    {
     "data": {
      "text/plain": [
       "0"
      ]
     },
     "execution_count": 53,
     "metadata": {},
     "output_type": "execute_result"
    }
   ],
   "source": [
    "len(problems)"
   ]
  },
  {
   "cell_type": "code",
   "execution_count": 54,
   "metadata": {},
   "outputs": [],
   "source": [
    "%matplotlib inline\n",
    "from matplotlib.pylab import *"
   ]
  },
  {
   "cell_type": "code",
   "execution_count": 57,
   "metadata": {},
   "outputs": [
    {
     "data": {
      "image/png": "[encoded data removed]",
      "text/plain": [
       "<Figure size 432x288 with 1 Axes>"
      ]
     },
     "metadata": {
      "needs_background": "light"
     },
     "output_type": "display_data"
    }
   ],
   "source": [
    "plt.hist([y for x,y in loudnesses],bins=100);"
   ]
  },
  {
   "cell_type": "code",
   "execution_count": 60,
   "metadata": {},
   "outputs": [
    {
     "data": {
      "text/plain": [
       "-17.454496613636074"
      ]
     },
     "execution_count": 60,
     "metadata": {},
     "output_type": "execute_result"
    }
   ],
   "source": [
    "target_loudness=np.median(sorted([y for x,y in loudnesses]))\n",
    "target_loudness"
   ]
  },
  {
   "cell_type": "code",
   "execution_count": 76,
   "metadata": {},
   "outputs": [],
   "source": [
    "target_loudness=-18"
   ]
  },
  {
   "cell_type": "code",
   "execution_count": 68,
   "metadata": {},
   "outputs": [
    {
     "data": {
      "text/plain": [
       "('NIST/openasr20_amharic/build/audio_split/BABEL_OP3_307_97588_20140415_223241_outLine_033_187.335_188.615.wav',\n",
       " array([ 0.00219727, -0.01098633, -0.02392578, ..., -0.00073242,\n",
       "        -0.00024414,  0.00024414], dtype=float32))"
      ]
     },
     "execution_count": 68,
     "metadata": {},
     "output_type": "execute_result"
    }
   ],
   "source": [
    "clips[0]"
   ]
  },
  {
   "cell_type": "code",
   "execution_count": 86,
   "metadata": {},
   "outputs": [],
   "source": [
    "clip_loudnesses=list(sorted([(z,x,y) for (x,y), (w,z) in zip(clips, loudnesses)]))"
   ]
  },
  {
   "cell_type": "code",
   "execution_count": 88,
   "metadata": {},
   "outputs": [],
   "source": [
    "from IPython.display import Audio"
   ]
  },
  {
   "cell_type": "code",
   "execution_count": 103,
   "metadata": {},
   "outputs": [
    {
     "data": {
      "text/plain": [
       "-5.616052747188402"
      ]
     },
     "execution_count": 103,
     "metadata": {},
     "output_type": "execute_result"
    }
   ],
   "source": [
    "(loudness, fn, waveform, ) = clip_loudnesses[-1]\n",
    "loudness"
   ]
  },
  {
   "cell_type": "code",
   "execution_count": 104,
   "metadata": {},
   "outputs": [
    {
     "data": {
      "text/html": [
       "\n",
       "                <audio  controls=\"controls\" >\n",
       "                    <source src=\"data:audio/wav;base64,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\" type=\"audio/wav\" />\n",
       "                    Your browser does not support the audio element.\n",
       "                </audio>\n",
       "              "
      ],
      "text/plain": [
       "<IPython.lib.display.Audio object>"
      ]
     },
     "execution_count": 104,
     "metadata": {},
     "output_type": "execute_result"
    }
   ],
   "source": [
    "Audio(waveform,rate=sample_rate)"
   ]
  },
  {
   "cell_type": "code",
   "execution_count": 105,
   "metadata": {},
   "outputs": [],
   "source": [
    "loudness_normalized_audio = pyln.normalize.loudness(waveform, loudness, target_loudness)"
   ]
  },
  {
   "cell_type": "code",
   "execution_count": 106,
   "metadata": {
    "scrolled": true
   },
   "outputs": [
    {
     "data": {
      "text/html": [
       "\n",
       "                <audio  controls=\"controls\" >\n",
       "                    <source src=\"data:audio/wav;base64,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\" type=\"audio/wav\" />\n",
       "                    Your browser does not support the audio element.\n",
       "                </audio>\n",
       "              "
      ],
      "text/plain": [
       "<IPython.lib.display.Audio object>"
      ]
     },
     "execution_count": 106,
     "metadata": {},
     "output_type": "execute_result"
    }
   ],
   "source": [
    "Audio(loudness_normalized_audio,rate=sample_rate)"
   ]
  },
  {
   "cell_type": "code",
   "execution_count": 107,
   "metadata": {},
   "outputs": [
    {
     "data": {
      "text/plain": [
       "-17.999999817602866"
      ]
     },
     "execution_count": 107,
     "metadata": {},
     "output_type": "execute_result"
    }
   ],
   "source": [
    "meter.integrated_loudness(loudness_normalized_audio)"
   ]
  },
  {
   "cell_type": "code",
   "execution_count": 108,
   "metadata": {},
   "outputs": [
    {
     "data": {
      "text/plain": [
       "-5.616052747188402"
      ]
     },
     "execution_count": 108,
     "metadata": {},
     "output_type": "execute_result"
    }
   ],
   "source": [
    "meter.integrated_loudness(waveform)"
   ]
  },
  {
   "cell_type": "code",
   "execution_count": 109,
   "metadata": {},
   "outputs": [],
   "source": [
    "normal_dir=f'NIST/openasr20_{language}/build/audio_split_normalized_to_18db'"
   ]
  },
  {
   "cell_type": "code",
   "execution_count": 110,
   "metadata": {},
   "outputs": [],
   "source": [
    "os.mkdir(normal_dir)"
   ]
  },
  {
   "cell_type": "code",
   "execution_count": 112,
   "metadata": {},
   "outputs": [],
   "source": [
    "import soundfile as sf"
   ]
  },
  {
   "cell_type": "code",
   "execution_count": 113,
   "metadata": {},
   "outputs": [
    {
     "name": "stderr",
     "output_type": "stream",
     "text": [
      "  0%|          | 0/9842 [00:00<?, ?it/s]/home/catskills/anaconda3/envs/openasr/lib/python3.8/site-packages/pyloudnorm/normalize.py:62: UserWarning: Possible clipped samples in output.\n",
      "  warnings.warn(\"Possible clipped samples in output.\")\n",
      "100%|██████████| 9842/9842 [00:25<00:00, 387.15it/s]\n"
     ]
    }
   ],
   "source": [
    "for loudness, fn, waveform in tqdm(clip_loudnesses):\n",
    "    loudness_normalized_audio = pyln.normalize.loudness(waveform, loudness, target_loudness)\n",
    "    audio_file=fn.replace('/audio_split/', '/audio_split_normalized_to_18db/')\n",
    "    sf.write(audio_file, loudness_normalized_audio, sample_rate)"
   ]
  },
  {
   "cell_type": "code",
   "execution_count": 114,
   "metadata": {},
   "outputs": [
    {
     "data": {
      "text/plain": [
       "(-47.58463940723355,\n",
       " 'NIST/openasr20_amharic/build/audio_split/BABEL_OP3_307_90417_20140822_224049_outLine_000_0.000_1.295.wav',\n",
       " array([-0.00024414,  0.00024414,  0.00024414, ...,  0.00073242,\n",
       "         0.00073242,  0.00073242], dtype=float32))"
      ]
     },
     "execution_count": 114,
     "metadata": {},
     "output_type": "execute_result"
    }
   ],
   "source": [
    "clip_loudnesses[0]"
   ]
  },
  {
   "cell_type": "code",
   "execution_count": 115,
   "metadata": {},
   "outputs": [
    {
     "data": {
      "text/plain": [
       "(-5.616052747188402,\n",
       " 'NIST/openasr20_amharic/build/audio_split/BABEL_OP3_307_26602_20140702_235542_outLine_065_400.185_400.905.wav',\n",
       " array([ 0.00073242,  0.00024414, -0.00024414, ...,  0.0012207 ,\n",
       "         0.00561523,  0.0065918 ], dtype=float32))"
      ]
     },
     "execution_count": 115,
     "metadata": {},
     "output_type": "execute_result"
    }
   ],
   "source": [
    "clip_loudnesses[-1]"
   ]
  },
  {
   "cell_type": "code",
   "execution_count": null,
   "metadata": {},
   "outputs": [],
   "source": []
  }
 ],
 "metadata": {
  "kernelspec": {
   "display_name": "openasr",
   "language": "python",
   "name": "openasr"
  },
  "language_info": {
   "codemirror_mode": {
    "name": "ipython",
    "version": 3
   },
   "file_extension": ".py",
   "mimetype": "text/x-python",
   "name": "python",
   "nbconvert_exporter": "python",
   "pygments_lexer": "ipython3",
   "version": "3.8.3"
  }
 },
 "nbformat": 4,
 "nbformat_minor": 4
}
