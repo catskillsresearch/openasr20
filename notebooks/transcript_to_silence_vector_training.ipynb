{
 "cells": [
  {
   "cell_type": "markdown",
   "metadata": {},
   "source": [
    "# Transcript to silence vector"
   ]
  },
  {
   "cell_type": "code",
   "execution_count": 1,
   "metadata": {},
   "outputs": [
    {
     "data": {
      "text/html": [
       "<style>.container { width:100% !important; }</style>"
      ],
      "text/plain": [
       "<IPython.core.display.HTML object>"
      ]
     },
     "metadata": {},
     "output_type": "display_data"
    }
   ],
   "source": [
    "from IPython.core.display import display, HTML\n",
    "display(HTML(\"<style>.container { width:100% !important; }</style>\"))"
   ]
  },
  {
   "cell_type": "code",
   "execution_count": 2,
   "metadata": {},
   "outputs": [],
   "source": [
    "%load_ext autoreload\n",
    "%autoreload 2\n",
    "%matplotlib inline"
   ]
  },
  {
   "cell_type": "code",
   "execution_count": 3,
   "metadata": {},
   "outputs": [],
   "source": [
    "from glob import glob\n",
    "import os\n",
    "from matplotlib.pylab import *\n",
    "import librosa\n",
    "import torch\n",
    "from epoch_time import epoch_time\n",
    "from tqdm.notebook import tqdm\n",
    "from OpenASR_convert_reference_transcript import txt_to_stm\n",
    "import pandas as pd\n",
    "import numpy as np\n",
    "from padarray import padarray\n",
    "from to_samples import to_samples\n",
    "from torch.utils.data import TensorDataset, DataLoader\n",
    "import audioread\n",
    "import random\n",
    "import soundfile as sf"
   ]
  },
  {
   "cell_type": "code",
   "execution_count": 4,
   "metadata": {},
   "outputs": [],
   "source": [
    "stage='NIST'\n",
    "sample_rate=8000\n",
    "window = sample_rate\n",
    "H=window"
   ]
  },
  {
   "cell_type": "code",
   "execution_count": 5,
   "metadata": {},
   "outputs": [
    {
     "data": {
      "text/plain": [
       "122"
      ]
     },
     "execution_count": 5,
     "metadata": {},
     "output_type": "execute_result"
    }
   ],
   "source": [
    "transcripts = list(sorted(glob(f'{stage}/*/build/transcription/*.txt')))\n",
    "len(transcripts)"
   ]
  },
  {
   "cell_type": "code",
   "execution_count": 6,
   "metadata": {},
   "outputs": [],
   "source": [
    "audio_files=[x.replace('/transcription/', '/audio/').replace('.txt','.wav') for x in transcripts]"
   ]
  },
  {
   "cell_type": "code",
   "execution_count": 7,
   "metadata": {},
   "outputs": [],
   "source": [
    "X_samples=[]\n",
    "Y_samples=[]"
   ]
  },
  {
   "cell_type": "code",
   "execution_count": 8,
   "metadata": {
    "scrolled": false
   },
   "outputs": [
    {
     "data": {
      "application/vnd.jupyter.widget-view+json": {
       "model_id": "53504c99850c4cf0bc02e799dcbc296c",
       "version_major": 2,
       "version_minor": 0
      },
      "text/plain": [
       "HBox(children=(FloatProgress(value=0.0, max=122.0), HTML(value='')))"
      ]
     },
     "metadata": {},
     "output_type": "display_data"
    },
    {
     "name": "stdout",
     "output_type": "stream",
     "text": [
      "\n"
     ]
    }
   ],
   "source": [
    "for transcript_file in tqdm(transcripts):\n",
    "    audio_file = transcript_file.replace('/transcription/', '/audio/').replace('.txt','.wav')\n",
    "    if not os.path.exists(audio_file):\n",
    "        print('missing', audio_file)\n",
    "        continue\n",
    "    file = \"_\".join(os.path.basename(transcript_file).split(\"_\")[:-1])\n",
    "    channel = os.path.basename(transcript_file).split(\"_\")[-1].split(\".\")[-2]\n",
    "    transcript_df = pd.read_csv(transcript_file, sep = \"\\n\", header = None, names = [\"content\"])\n",
    "    result = txt_to_stm(transcript_df, file, channel)\n",
    "    silences=[(float(x[-2]), float(x[-1])) for x in result if len(x)==5]\n",
    "    x_np,sr=librosa.load(audio_file, sr=sample_rate)\n",
    "    with audioread.audio_open(audio_file) as f:\n",
    "        sr = f.samplerate\n",
    "    if sr != sample_rate:\n",
    "        print('RESIZING', sr, audio_file)\n",
    "        sf.write(audio_file, x_np, sample_rate)\n",
    "    recording_length=x_np.shape[0]\n",
    "    silence_segments=[(int(a*sample_rate), int(b*sample_rate)) for (a,b) in silences]\n",
    "    y_np=np.zeros(recording_length,dtype=x_np.dtype)\n",
    "    for lower, upper in silence_segments:\n",
    "        y_np[lower:upper]=1\n",
    "    pad_length=(x_np.size + (H-(x_np.size % H)))\n",
    "    x_samples_np=to_samples(x_np, window, 600)\n",
    "    y_samples_np=to_samples(y_np, window, 600)\n",
    "    X_samples.extend(x_samples_np)\n",
    "    Y_samples.extend(y_samples_np)"
   ]
  },
  {
   "cell_type": "code",
   "execution_count": 9,
   "metadata": {},
   "outputs": [
    {
     "data": {
      "text/plain": [
       "73194"
      ]
     },
     "execution_count": 9,
     "metadata": {},
     "output_type": "execute_result"
    }
   ],
   "source": [
    "len(Y_samples)"
   ]
  },
  {
   "cell_type": "code",
   "execution_count": 10,
   "metadata": {},
   "outputs": [
    {
     "data": {
      "text/plain": [
       "73194"
      ]
     },
     "execution_count": 10,
     "metadata": {},
     "output_type": "execute_result"
    }
   ],
   "source": [
    "len(list(zip(X_samples, Y_samples)))"
   ]
  },
  {
   "cell_type": "code",
   "execution_count": 11,
   "metadata": {},
   "outputs": [],
   "source": [
    "XY_samples=[(x,y) for x,y in zip(X_samples, Y_samples)]\n",
    "random.shuffle(XY_samples)"
   ]
  },
  {
   "cell_type": "code",
   "execution_count": 12,
   "metadata": {},
   "outputs": [
    {
     "data": {
      "text/plain": [
       "73194"
      ]
     },
     "execution_count": 12,
     "metadata": {},
     "output_type": "execute_result"
    }
   ],
   "source": [
    "X_samples = [x for x,y in XY_samples]\n",
    "Y_samples = [y for x,y in XY_samples]\n",
    "len(X_samples)"
   ]
  },
  {
   "cell_type": "code",
   "execution_count": 13,
   "metadata": {},
   "outputs": [
    {
     "data": {
      "text/plain": [
       "device(type='cuda')"
      ]
     },
     "execution_count": 13,
     "metadata": {},
     "output_type": "execute_result"
    }
   ],
   "source": [
    "device = torch.device('cuda' if torch.cuda.is_available() else 'cpu')\n",
    "device"
   ]
  },
  {
   "cell_type": "code",
   "execution_count": 14,
   "metadata": {},
   "outputs": [],
   "source": [
    "fudge=100000"
   ]
  },
  {
   "cell_type": "code",
   "execution_count": 15,
   "metadata": {},
   "outputs": [],
   "source": [
    "tensor_x = torch.Tensor(X_samples[0:fudge]).to(device)"
   ]
  },
  {
   "cell_type": "code",
   "execution_count": 16,
   "metadata": {},
   "outputs": [],
   "source": [
    "tensor_y = torch.Tensor(Y_samples[0:fudge]).to(device)"
   ]
  },
  {
   "cell_type": "code",
   "execution_count": 17,
   "metadata": {},
   "outputs": [],
   "source": [
    "full_dataset = TensorDataset(tensor_x,tensor_y) "
   ]
  },
  {
   "cell_type": "code",
   "execution_count": 18,
   "metadata": {},
   "outputs": [
    {
     "data": {
      "text/plain": [
       "torch.Size([73194, 8000])"
      ]
     },
     "execution_count": 18,
     "metadata": {},
     "output_type": "execute_result"
    }
   ],
   "source": [
    "tensor_y.shape"
   ]
  },
  {
   "cell_type": "code",
   "execution_count": 19,
   "metadata": {},
   "outputs": [
    {
     "data": {
      "text/plain": [
       "(8000, 8000, 8000)"
      ]
     },
     "execution_count": 19,
     "metadata": {},
     "output_type": "execute_result"
    }
   ],
   "source": [
    "D_in,D_out=window,window\n",
    "D_in,H,D_out"
   ]
  },
  {
   "cell_type": "code",
   "execution_count": 20,
   "metadata": {},
   "outputs": [],
   "source": [
    "model = torch.nn.Sequential(\n",
    "    torch.nn.Linear(D_in, H),\n",
    "    torch.nn.ReLU(),\n",
    "    torch.nn.Linear(H, D_out),\n",
    "    torch.nn.ReLU()\n",
    ").cuda()"
   ]
  },
  {
   "cell_type": "code",
   "execution_count": 21,
   "metadata": {},
   "outputs": [],
   "source": [
    "model_fn='silence_detector.pt'\n",
    "if 1:\n",
    "    model.load_state_dict(torch.load(model_fn))\n",
    "else:\n",
    "    w1_np = np.random.randn(D_in, H)\n",
    "    w2_np = np.random.randn(H, D_out)\n",
    "    w1 = torch.randn((D_in, H), device=device, dtype=dtype)\n",
    "    w2 = torch.randn((H, D_out), device=device, dtype=dtype)"
   ]
  },
  {
   "cell_type": "code",
   "execution_count": 22,
   "metadata": {},
   "outputs": [],
   "source": [
    "best_loss = float('inf')\n",
    "learning_rate =.0001\n",
    "criterion = torch.nn.MSELoss(reduction='sum')"
   ]
  },
  {
   "cell_type": "code",
   "execution_count": 23,
   "metadata": {},
   "outputs": [],
   "source": [
    "def trainer(device, model, iterator, optimizer, criterion, clip=1):\n",
    "    model.train()\n",
    "    epoch_loss = 0\n",
    "    for i, batch in enumerate(iterator):\n",
    "        x=batch[0]\n",
    "        y=batch[1]\n",
    "        optimizer.zero_grad()\n",
    "        y_pred=model(x)\n",
    "        loss = criterion(y_pred, y)\n",
    "        loss.backward()\n",
    "        torch.nn.utils.clip_grad_norm_(model.parameters(), clip)\n",
    "        optimizer.step()\n",
    "        epoch_loss += loss.item()\n",
    "        \n",
    "    return epoch_loss / len(iterator)"
   ]
  },
  {
   "cell_type": "code",
   "execution_count": 24,
   "metadata": {},
   "outputs": [],
   "source": [
    "def evaluator(device, model, iterator, criterion):\n",
    "    model.eval()\n",
    "    epoch_loss = 0\n",
    "    with torch.no_grad():\n",
    "        for i, batch in enumerate(iterator):\n",
    "            x=batch[0]\n",
    "            y=batch[1]\n",
    "            y_pred=model(x)\n",
    "            loss = criterion(y_pred, y)\n",
    "            epoch_loss += loss.item()\n",
    "    return epoch_loss / len(iterator)"
   ]
  },
  {
   "cell_type": "code",
   "execution_count": 25,
   "metadata": {},
   "outputs": [],
   "source": [
    "best_valid_loss = float('inf')"
   ]
  },
  {
   "cell_type": "code",
   "execution_count": 26,
   "metadata": {},
   "outputs": [],
   "source": [
    "learning_rate=0.00002"
   ]
  },
  {
   "cell_type": "code",
   "execution_count": 27,
   "metadata": {},
   "outputs": [],
   "source": [
    "epochs=10000\n",
    "optimizer = torch.optim.Adam(model.parameters(), lr = learning_rate)"
   ]
  },
  {
   "cell_type": "code",
   "execution_count": 28,
   "metadata": {},
   "outputs": [
    {
     "name": "stdout",
     "output_type": "stream",
     "text": [
      "Epoch: 01 | Time: 0m 16s Train Loss: 137514.291 Val. Loss: 137327.232\n",
      "saved silence_detector.pt\n",
      "\n",
      "Epoch: 02 | Time: 0m 16s Train Loss: 119823.062 Val. Loss: 117262.320\n",
      "saved silence_detector.pt\n",
      "\n",
      "Epoch: 03 | Time: 0m 16s Train Loss: 113188.154 Val. Loss: 109194.153\n",
      "saved silence_detector.pt\n",
      "\n",
      "Epoch: 04 | Time: 0m 16s Train Loss: 109251.670 Val. Loss: 105593.346\n",
      "saved silence_detector.pt\n",
      "\n",
      "Epoch: 05 | Time: 0m 16s Train Loss: 106310.432 Val. Loss: 104586.261\n",
      "saved silence_detector.pt\n",
      "\n",
      "Epoch: 06 | Time: 0m 16s Train Loss: 104178.904 Val. Loss: 103161.118\n",
      "saved silence_detector.pt\n",
      "\n",
      "Epoch: 07 | Time: 0m 16s Train Loss: 102574.435 Val. Loss: 101129.233\n",
      "saved silence_detector.pt\n",
      "\n",
      "Epoch: 08 | Time: 0m 16s Train Loss: 100894.892 Val. Loss: 100034.608\n",
      "saved silence_detector.pt\n",
      "\n",
      "Epoch: 09 | Time: 0m 16s Train Loss: 99604.185 Val. Loss: 98198.332\n",
      "saved silence_detector.pt\n",
      "\n",
      "Epoch: 10 | Time: 0m 16s Train Loss: 98279.587 Val. Loss: 96855.700\n",
      "saved silence_detector.pt\n",
      "\n",
      "Epoch: 11 | Time: 0m 17s Train Loss: 96877.851 Val. Loss: 96398.778\n",
      "saved silence_detector.pt\n",
      "\n",
      "Epoch: 12 | Time: 0m 17s Train Loss: 94877.188 Val. Loss: 98625.274\n",
      "Epoch: 13 | Time: 0m 16s Train Loss: 94964.452 Val. Loss: 93038.982\n",
      "saved silence_detector.pt\n",
      "\n",
      "Epoch: 14 | Time: 0m 16s Train Loss: 94284.486 Val. Loss: 90929.922\n",
      "saved silence_detector.pt\n",
      "\n",
      "Epoch: 15 | Time: 0m 16s Train Loss: 92653.516 Val. Loss: 93074.225\n",
      "Epoch: 16 | Time: 0m 16s Train Loss: 91950.388 Val. Loss: 91571.619\n",
      "Epoch: 17 | Time: 0m 16s Train Loss: 91352.409 Val. Loss: 89970.362\n",
      "saved silence_detector.pt\n",
      "\n",
      "Epoch: 18 | Time: 0m 16s Train Loss: 90875.587 Val. Loss: 88311.553\n",
      "saved silence_detector.pt\n",
      "\n",
      "Epoch: 19 | Time: 0m 16s Train Loss: 90412.559 Val. Loss: 86436.147\n",
      "saved silence_detector.pt\n",
      "\n",
      "Epoch: 20 | Time: 0m 16s Train Loss: 88473.767 Val. Loss: 90672.497\n",
      "Epoch: 21 | Time: 0m 16s Train Loss: 87828.545 Val. Loss: 89994.594\n",
      "Epoch: 22 | Time: 0m 16s Train Loss: 87532.255 Val. Loss: 88089.701\n",
      "Epoch: 23 | Time: 0m 16s Train Loss: 87311.745 Val. Loss: 86128.182\n",
      "saved silence_detector.pt\n",
      "\n",
      "Epoch: 24 | Time: 0m 16s Train Loss: 85906.720 Val. Loss: 88725.841\n",
      "Epoch: 25 | Time: 0m 16s Train Loss: 86877.998 Val. Loss: 82263.065\n",
      "saved silence_detector.pt\n",
      "\n",
      "Epoch: 26 | Time: 0m 16s Train Loss: 86093.250 Val. Loss: 82923.558\n",
      "Epoch: 27 | Time: 0m 16s Train Loss: 85265.857 Val. Loss: 83814.632\n",
      "Epoch: 28 | Time: 0m 16s Train Loss: 84841.969 Val. Loss: 82960.481\n",
      "Epoch: 29 | Time: 0m 16s Train Loss: 83848.273 Val. Loss: 84677.193\n",
      "Epoch: 30 | Time: 0m 16s Train Loss: 83980.698 Val. Loss: 82527.507\n",
      "Epoch: 31 | Time: 0m 16s Train Loss: 83098.808 Val. Loss: 83556.162\n",
      "Epoch: 32 | Time: 0m 16s Train Loss: 83199.908 Val. Loss: 81052.667\n",
      "saved silence_detector.pt\n",
      "\n",
      "Epoch: 33 | Time: 0m 16s Train Loss: 82134.297 Val. Loss: 83205.165\n",
      "Epoch: 34 | Time: 0m 16s Train Loss: 81505.758 Val. Loss: 84273.980\n",
      "Epoch: 35 | Time: 0m 16s Train Loss: 81214.674 Val. Loss: 83337.503\n",
      "Epoch: 36 | Time: 0m 16s Train Loss: 81589.942 Val. Loss: 80121.326\n",
      "saved silence_detector.pt\n",
      "\n",
      "Epoch: 37 | Time: 0m 16s Train Loss: 80629.757 Val. Loss: 81883.848\n",
      "Epoch: 38 | Time: 0m 16s Train Loss: 80480.735 Val. Loss: 80945.378\n",
      "Epoch: 39 | Time: 0m 16s Train Loss: 79799.803 Val. Loss: 82138.614\n",
      "Epoch: 40 | Time: 0m 16s Train Loss: 80378.793 Val. Loss: 78324.597\n",
      "saved silence_detector.pt\n",
      "\n",
      "Epoch: 41 | Time: 0m 16s Train Loss: 79870.981 Val. Loss: 78460.771\n",
      "Epoch: 42 | Time: 0m 16s Train Loss: 79155.905 Val. Loss: 80003.514\n",
      "Epoch: 43 | Time: 0m 16s Train Loss: 78639.319 Val. Loss: 80269.139\n",
      "Epoch: 44 | Time: 0m 16s Train Loss: 78679.997 Val. Loss: 79001.360\n",
      "Epoch: 45 | Time: 0m 16s Train Loss: 78730.622 Val. Loss: 77461.960\n",
      "saved silence_detector.pt\n",
      "\n",
      "Epoch: 46 | Time: 0m 16s Train Loss: 78157.278 Val. Loss: 78872.871\n",
      "Epoch: 47 | Time: 0m 16s Train Loss: 77536.090 Val. Loss: 80156.133\n",
      "Epoch: 48 | Time: 0m 16s Train Loss: 78011.327 Val. Loss: 76691.288\n",
      "saved silence_detector.pt\n",
      "\n",
      "Epoch: 49 | Time: 0m 16s Train Loss: 77790.626 Val. Loss: 75822.191\n",
      "saved silence_detector.pt\n",
      "\n",
      "Epoch: 50 | Time: 0m 16s Train Loss: 77640.190 Val. Loss: 75449.913\n",
      "saved silence_detector.pt\n",
      "\n",
      "Epoch: 51 | Time: 0m 16s Train Loss: 77498.761 Val. Loss: 75086.255\n",
      "saved silence_detector.pt\n",
      "\n",
      "Epoch: 52 | Time: 0m 16s Train Loss: 76834.058 Val. Loss: 76043.688\n",
      "Epoch: 53 | Time: 0m 16s Train Loss: 76732.615 Val. Loss: 76034.421\n",
      "Epoch: 54 | Time: 0m 16s Train Loss: 76029.653 Val. Loss: 77518.047\n",
      "Epoch: 55 | Time: 0m 16s Train Loss: 76174.603 Val. Loss: 76068.110\n",
      "Epoch: 56 | Time: 0m 16s Train Loss: 76127.300 Val. Loss: 74974.876\n",
      "saved silence_detector.pt\n",
      "\n",
      "Epoch: 57 | Time: 0m 16s Train Loss: 75932.117 Val. Loss: 74986.279\n",
      "Epoch: 58 | Time: 0m 16s Train Loss: 75286.591 Val. Loss: 76360.954\n",
      "Epoch: 59 | Time: 0m 16s Train Loss: 75580.366 Val. Loss: 74209.644\n",
      "saved silence_detector.pt\n",
      "\n",
      "Epoch: 60 | Time: 0m 16s Train Loss: 75045.878 Val. Loss: 75665.873\n",
      "Epoch: 61 | Time: 0m 16s Train Loss: 75157.899 Val. Loss: 74092.427\n",
      "saved silence_detector.pt\n",
      "\n",
      "Epoch: 62 | Time: 0m 16s Train Loss: 74033.177 Val. Loss: 77828.311\n",
      "Epoch: 63 | Time: 0m 16s Train Loss: 75553.665 Val. Loss: 70920.321\n",
      "saved silence_detector.pt\n",
      "\n",
      "Epoch: 64 | Time: 0m 16s Train Loss: 74505.720 Val. Loss: 74192.058\n",
      "Epoch: 65 | Time: 0m 16s Train Loss: 74349.317 Val. Loss: 74062.235\n",
      "Epoch: 66 | Time: 0m 16s Train Loss: 74113.244 Val. Loss: 74288.376\n",
      "Epoch: 67 | Time: 0m 16s Train Loss: 74053.387 Val. Loss: 74065.445\n",
      "Epoch: 68 | Time: 0m 16s Train Loss: 73862.447 Val. Loss: 73747.742\n",
      "Epoch: 69 | Time: 0m 16s Train Loss: 73775.531 Val. Loss: 73255.029\n",
      "Epoch: 70 | Time: 0m 16s Train Loss: 73572.248 Val. Loss: 73693.770\n",
      "Epoch: 71 | Time: 0m 16s Train Loss: 73625.283 Val. Loss: 73157.466\n",
      "Epoch: 72 | Time: 0m 16s Train Loss: 73011.865 Val. Loss: 75279.869\n",
      "Epoch: 73 | Time: 0m 16s Train Loss: 74220.862 Val. Loss: 69352.946\n",
      "saved silence_detector.pt\n",
      "\n",
      "Epoch: 74 | Time: 0m 16s Train Loss: 73391.016 Val. Loss: 71753.557\n",
      "Epoch: 75 | Time: 0m 16s Train Loss: 72756.236 Val. Loss: 73321.409\n",
      "Epoch: 76 | Time: 0m 16s Train Loss: 72862.125 Val. Loss: 72616.057\n",
      "Epoch: 77 | Time: 0m 16s Train Loss: 72634.299 Val. Loss: 73334.209\n",
      "Epoch: 78 | Time: 0m 16s Train Loss: 72306.213 Val. Loss: 73397.059\n",
      "Epoch: 79 | Time: 0m 16s Train Loss: 72965.486 Val. Loss: 69972.736\n",
      "Epoch: 80 | Time: 0m 16s Train Loss: 72197.320 Val. Loss: 72980.904\n",
      "Epoch: 81 | Time: 0m 16s Train Loss: 72225.256 Val. Loss: 72129.400\n",
      "Epoch: 82 | Time: 0m 16s Train Loss: 71950.317 Val. Loss: 72532.616\n",
      "Epoch: 83 | Time: 0m 16s Train Loss: 72155.657 Val. Loss: 71190.034\n",
      "Epoch: 84 | Time: 0m 16s Train Loss: 71917.637 Val. Loss: 72036.814\n",
      "Epoch: 85 | Time: 0m 16s Train Loss: 72074.945 Val. Loss: 70498.185\n",
      "Epoch: 86 | Time: 0m 16s Train Loss: 72377.857 Val. Loss: 68904.792\n",
      "saved silence_detector.pt\n",
      "\n",
      "Epoch: 87 | Time: 0m 16s Train Loss: 72022.537 Val. Loss: 70044.759\n",
      "Epoch: 88 | Time: 0m 16s Train Loss: 71314.453 Val. Loss: 71660.446\n",
      "Epoch: 89 | Time: 0m 16s Train Loss: 71484.857 Val. Loss: 70859.678\n",
      "Epoch: 90 | Time: 0m 16s Train Loss: 71643.078 Val. Loss: 69734.038\n",
      "Epoch: 91 | Time: 0m 16s Train Loss: 71165.268 Val. Loss: 71255.107\n",
      "Epoch: 92 | Time: 0m 16s Train Loss: 70836.617 Val. Loss: 72326.240\n",
      "Epoch: 93 | Time: 0m 16s Train Loss: 71567.828 Val. Loss: 69169.254\n",
      "Epoch: 94 | Time: 0m 16s Train Loss: 70934.316 Val. Loss: 71190.587\n",
      "Epoch: 95 | Time: 0m 16s Train Loss: 71239.857 Val. Loss: 69278.015\n",
      "Epoch: 96 | Time: 0m 16s Train Loss: 71046.452 Val. Loss: 69704.331\n",
      "Epoch: 97 | Time: 0m 16s Train Loss: 70688.695 Val. Loss: 70788.714\n",
      "Epoch: 98 | Time: 0m 16s Train Loss: 70474.936 Val. Loss: 71491.745\n",
      "Epoch: 99 | Time: 0m 16s Train Loss: 70175.927 Val. Loss: 72654.333\n",
      "Epoch: 100 | Time: 0m 16s Train Loss: 70312.163 Val. Loss: 71153.280\n",
      "Epoch: 101 | Time: 0m 16s Train Loss: 70796.264 Val. Loss: 68590.616\n",
      "saved silence_detector.pt\n",
      "\n",
      "Epoch: 102 | Time: 0m 16s Train Loss: 70508.900 Val. Loss: 69528.775\n",
      "Epoch: 103 | Time: 0m 16s Train Loss: 70450.752 Val. Loss: 69713.560\n",
      "Epoch: 104 | Time: 0m 16s Train Loss: 69200.083 Val. Loss: 74016.175\n",
      "Epoch: 105 | Time: 0m 16s Train Loss: 70012.213 Val. Loss: 70010.856\n",
      "Epoch: 106 | Time: 0m 16s Train Loss: 70086.835 Val. Loss: 70158.244\n",
      "Epoch: 107 | Time: 0m 16s Train Loss: 70293.586 Val. Loss: 68906.577\n",
      "Epoch: 108 | Time: 0m 16s Train Loss: 69578.127 Val. Loss: 71165.322\n"
     ]
    },
    {
     "name": "stdout",
     "output_type": "stream",
     "text": [
      "Epoch: 109 | Time: 0m 16s Train Loss: 69881.173 Val. Loss: 69816.685\n",
      "Epoch: 110 | Time: 0m 16s Train Loss: 69719.382 Val. Loss: 69618.190\n",
      "Epoch: 111 | Time: 0m 16s Train Loss: 69675.542 Val. Loss: 69907.061\n",
      "Epoch: 112 | Time: 0m 16s Train Loss: 69578.549 Val. Loss: 69754.138\n",
      "Epoch: 113 | Time: 0m 16s Train Loss: 70038.253 Val. Loss: 67813.900\n",
      "saved silence_detector.pt\n",
      "\n",
      "Epoch: 114 | Time: 0m 16s Train Loss: 69706.309 Val. Loss: 69123.550\n",
      "Epoch: 115 | Time: 0m 16s Train Loss: 69771.320 Val. Loss: 67792.239\n",
      "saved silence_detector.pt\n",
      "\n",
      "Epoch: 116 | Time: 0m 16s Train Loss: 69461.552 Val. Loss: 68979.210\n",
      "Epoch: 117 | Time: 0m 16s Train Loss: 69460.363 Val. Loss: 69230.619\n",
      "Epoch: 118 | Time: 0m 16s Train Loss: 68788.706 Val. Loss: 71498.116\n",
      "Epoch: 119 | Time: 0m 16s Train Loss: 68773.596 Val. Loss: 71296.506\n",
      "Epoch: 120 | Time: 0m 16s Train Loss: 69269.708 Val. Loss: 69082.192\n",
      "Epoch: 121 | Time: 0m 16s Train Loss: 69202.962 Val. Loss: 69109.997\n",
      "Epoch: 122 | Time: 0m 16s Train Loss: 69602.699 Val. Loss: 67179.360\n",
      "saved silence_detector.pt\n",
      "\n",
      "Epoch: 123 | Time: 0m 16s Train Loss: 68946.302 Val. Loss: 69012.119\n",
      "Epoch: 124 | Time: 0m 16s Train Loss: 69237.824 Val. Loss: 67858.778\n",
      "Epoch: 125 | Time: 0m 16s Train Loss: 69408.739 Val. Loss: 67051.025\n",
      "saved silence_detector.pt\n",
      "\n",
      "Epoch: 126 | Time: 0m 16s Train Loss: 68409.472 Val. Loss: 70587.225\n",
      "Epoch: 127 | Time: 0m 16s Train Loss: 68715.825 Val. Loss: 70165.147\n",
      "Epoch: 128 | Time: 0m 16s Train Loss: 69029.438 Val. Loss: 68058.860\n",
      "Epoch: 129 | Time: 0m 16s Train Loss: 68312.294 Val. Loss: 70205.115\n",
      "Epoch: 130 | Time: 0m 16s Train Loss: 68419.791 Val. Loss: 69985.963\n",
      "Epoch: 131 | Time: 0m 16s Train Loss: 68801.030 Val. Loss: 68435.090\n",
      "Epoch: 132 | Time: 0m 16s Train Loss: 69165.485 Val. Loss: 66163.468\n",
      "saved silence_detector.pt\n",
      "\n",
      "Epoch: 133 | Time: 0m 16s Train Loss: 69234.606 Val. Loss: 65556.912\n",
      "saved silence_detector.pt\n",
      "\n",
      "Epoch: 134 | Time: 0m 16s Train Loss: 68374.286 Val. Loss: 68759.822\n",
      "Epoch: 135 | Time: 0m 16s Train Loss: 68121.538 Val. Loss: 70100.655\n",
      "Epoch: 136 | Time: 0m 16s Train Loss: 68246.732 Val. Loss: 69506.574\n",
      "Epoch: 137 | Time: 0m 16s Train Loss: 68704.410 Val. Loss: 67546.119\n",
      "Epoch: 138 | Time: 0m 16s Train Loss: 68216.541 Val. Loss: 69286.618\n",
      "Epoch: 139 | Time: 0m 16s Train Loss: 68627.822 Val. Loss: 67415.840\n",
      "Epoch: 140 | Time: 0m 16s Train Loss: 68023.551 Val. Loss: 68190.720\n",
      "Epoch: 141 | Time: 0m 16s Train Loss: 68041.840 Val. Loss: 69268.213\n",
      "Epoch: 142 | Time: 0m 16s Train Loss: 67920.921 Val. Loss: 69588.990\n",
      "Epoch: 143 | Time: 0m 16s Train Loss: 68737.143 Val. Loss: 66510.952\n",
      "Epoch: 144 | Time: 0m 16s Train Loss: 68446.007 Val. Loss: 67001.011\n",
      "Epoch: 145 | Time: 0m 16s Train Loss: 68571.021 Val. Loss: 66495.021\n",
      "Epoch: 146 | Time: 0m 16s Train Loss: 68147.427 Val. Loss: 67384.360\n",
      "Epoch: 147 | Time: 0m 16s Train Loss: 68165.130 Val. Loss: 67477.217\n",
      "Epoch: 148 | Time: 0m 16s Train Loss: 67728.335 Val. Loss: 69474.533\n",
      "Epoch: 149 | Time: 0m 16s Train Loss: 67713.195 Val. Loss: 69091.282\n",
      "Epoch: 150 | Time: 0m 16s Train Loss: 68611.643 Val. Loss: 65568.589\n",
      "Epoch: 151 | Time: 0m 16s Train Loss: 67582.146 Val. Loss: 69209.889\n",
      "Epoch: 152 | Time: 0m 16s Train Loss: 68596.938 Val. Loss: 65396.274\n",
      "saved silence_detector.pt\n",
      "\n",
      "Epoch: 153 | Time: 0m 16s Train Loss: 67669.617 Val. Loss: 68076.348\n",
      "Epoch: 154 | Time: 0m 16s Train Loss: 67563.713 Val. Loss: 68457.567\n",
      "Epoch: 155 | Time: 0m 16s Train Loss: 67767.715 Val. Loss: 67032.502\n",
      "Epoch: 156 | Time: 0m 16s Train Loss: 67597.253 Val. Loss: 68262.211\n",
      "Epoch: 157 | Time: 0m 16s Train Loss: 67968.774 Val. Loss: 66118.434\n",
      "Epoch: 158 | Time: 0m 16s Train Loss: 67137.441 Val. Loss: 69677.829\n",
      "Epoch: 159 | Time: 0m 16s Train Loss: 67538.831 Val. Loss: 67148.159\n",
      "Epoch: 160 | Time: 0m 16s Train Loss: 67915.308 Val. Loss: 65672.643\n",
      "Epoch: 161 | Time: 0m 16s Train Loss: 67792.875 Val. Loss: 66428.170\n",
      "Epoch: 162 | Time: 0m 16s Train Loss: 68305.770 Val. Loss: 63569.896\n",
      "saved silence_detector.pt\n",
      "\n",
      "Epoch: 163 | Time: 0m 16s Train Loss: 66782.160 Val. Loss: 68900.721\n",
      "Epoch: 164 | Time: 0m 16s Train Loss: 67721.467 Val. Loss: 65617.068\n",
      "Epoch: 165 | Time: 0m 16s Train Loss: 67250.968 Val. Loss: 68240.972\n",
      "Epoch: 166 | Time: 0m 16s Train Loss: 68026.261 Val. Loss: 64694.013\n",
      "Epoch: 167 | Time: 0m 16s Train Loss: 67189.452 Val. Loss: 67178.910\n",
      "Epoch: 168 | Time: 0m 16s Train Loss: 67587.577 Val. Loss: 65771.423\n",
      "Epoch: 169 | Time: 0m 16s Train Loss: 67349.809 Val. Loss: 66786.782\n",
      "Epoch: 170 | Time: 0m 16s Train Loss: 67090.553 Val. Loss: 67315.135\n",
      "Epoch: 171 | Time: 0m 16s Train Loss: 67219.185 Val. Loss: 66089.803\n",
      "Epoch: 172 | Time: 0m 16s Train Loss: 67403.739 Val. Loss: 66649.284\n",
      "Epoch: 173 | Time: 0m 16s Train Loss: 67286.903 Val. Loss: 66627.224\n",
      "Epoch: 174 | Time: 0m 16s Train Loss: 67200.071 Val. Loss: 66177.107\n",
      "Epoch: 175 | Time: 0m 16s Train Loss: 67249.816 Val. Loss: 65958.767\n",
      "Epoch: 176 | Time: 0m 16s Train Loss: 66603.858 Val. Loss: 68455.485\n",
      "Epoch: 177 | Time: 0m 16s Train Loss: 67349.596 Val. Loss: 65327.879\n",
      "Epoch: 178 | Time: 0m 16s Train Loss: 67840.135 Val. Loss: 64119.635\n",
      "Epoch: 179 | Time: 0m 16s Train Loss: 66880.887 Val. Loss: 66835.718\n",
      "Epoch: 180 | Time: 0m 16s Train Loss: 66352.908 Val. Loss: 69004.420\n",
      "Epoch: 181 | Time: 0m 16s Train Loss: 67491.313 Val. Loss: 64844.849\n",
      "Epoch: 182 | Time: 0m 16s Train Loss: 66758.803 Val. Loss: 66778.244\n",
      "Epoch: 183 | Time: 0m 16s Train Loss: 67479.900 Val. Loss: 63951.347\n",
      "Epoch: 184 | Time: 0m 16s Train Loss: 65935.339 Val. Loss: 69744.910\n",
      "Epoch: 185 | Time: 0m 16s Train Loss: 66874.841 Val. Loss: 66076.795\n",
      "Epoch: 186 | Time: 0m 16s Train Loss: 66362.610 Val. Loss: 68311.134\n",
      "Epoch: 187 | Time: 0m 16s Train Loss: 66798.555 Val. Loss: 66120.244\n",
      "Epoch: 188 | Time: 0m 16s Train Loss: 66112.461 Val. Loss: 68290.466\n",
      "Epoch: 189 | Time: 0m 16s Train Loss: 66660.736 Val. Loss: 66535.675\n",
      "Epoch: 190 | Time: 0m 16s Train Loss: 66351.726 Val. Loss: 66888.609\n",
      "Epoch: 191 | Time: 0m 16s Train Loss: 66501.012 Val. Loss: 66935.100\n",
      "Epoch: 192 | Time: 0m 16s Train Loss: 66112.921 Val. Loss: 68517.935\n",
      "Epoch: 193 | Time: 0m 16s Train Loss: 66259.520 Val. Loss: 67421.934\n",
      "Epoch: 194 | Time: 0m 16s Train Loss: 66481.506 Val. Loss: 66163.044\n",
      "Epoch: 195 | Time: 0m 16s Train Loss: 66809.140 Val. Loss: 65335.967\n",
      "Epoch: 196 | Time: 0m 16s Train Loss: 66834.214 Val. Loss: 64285.375\n",
      "Epoch: 197 | Time: 0m 16s Train Loss: 66606.785 Val. Loss: 65465.437\n",
      "Epoch: 198 | Time: 0m 16s Train Loss: 66016.935 Val. Loss: 67546.755\n",
      "Epoch: 199 | Time: 0m 16s Train Loss: 66542.107 Val. Loss: 64996.808\n",
      "Epoch: 200 | Time: 0m 16s Train Loss: 66801.098 Val. Loss: 65091.071\n",
      "Epoch: 201 | Time: 0m 16s Train Loss: 66910.773 Val. Loss: 63711.982\n",
      "Epoch: 202 | Time: 0m 16s Train Loss: 66182.318 Val. Loss: 66625.991\n"
     ]
    },
    {
     "ename": "KeyboardInterrupt",
     "evalue": "",
     "output_type": "error",
     "traceback": [
      "\u001b[0;31m---------------------------------------------------------------------------\u001b[0m",
      "\u001b[0;31mKeyboardInterrupt\u001b[0m                         Traceback (most recent call last)",
      "\u001b[0;32m<ipython-input-28-4b2e822aa11a>\u001b[0m in \u001b[0;36m<module>\u001b[0;34m\u001b[0m\n\u001b[1;32m     16\u001b[0m     \u001b[0mstart_time\u001b[0m \u001b[0;34m=\u001b[0m \u001b[0mtime\u001b[0m\u001b[0;34m.\u001b[0m\u001b[0mtime\u001b[0m\u001b[0;34m(\u001b[0m\u001b[0;34m)\u001b[0m\u001b[0;34m\u001b[0m\u001b[0;34m\u001b[0m\u001b[0m\n\u001b[1;32m     17\u001b[0m \u001b[0;34m\u001b[0m\u001b[0m\n\u001b[0;32m---> 18\u001b[0;31m     \u001b[0mtrain_loss\u001b[0m \u001b[0;34m=\u001b[0m \u001b[0mtrainer\u001b[0m\u001b[0;34m(\u001b[0m\u001b[0mdevice\u001b[0m\u001b[0;34m,\u001b[0m \u001b[0mmodel\u001b[0m\u001b[0;34m,\u001b[0m \u001b[0mtrain_iterator\u001b[0m\u001b[0;34m,\u001b[0m \u001b[0moptimizer\u001b[0m\u001b[0;34m,\u001b[0m \u001b[0mcriterion\u001b[0m\u001b[0;34m)\u001b[0m\u001b[0;34m\u001b[0m\u001b[0;34m\u001b[0m\u001b[0m\n\u001b[0m\u001b[1;32m     19\u001b[0m     \u001b[0mvalid_loss\u001b[0m \u001b[0;34m=\u001b[0m \u001b[0mevaluator\u001b[0m\u001b[0;34m(\u001b[0m\u001b[0mdevice\u001b[0m\u001b[0;34m,\u001b[0m \u001b[0mmodel\u001b[0m\u001b[0;34m,\u001b[0m \u001b[0mvalid_iterator\u001b[0m\u001b[0;34m,\u001b[0m \u001b[0mcriterion\u001b[0m\u001b[0;34m)\u001b[0m\u001b[0;34m\u001b[0m\u001b[0;34m\u001b[0m\u001b[0m\n\u001b[1;32m     20\u001b[0m     \u001b[0merror_nn\u001b[0m\u001b[0;34m.\u001b[0m\u001b[0mappend\u001b[0m\u001b[0;34m(\u001b[0m\u001b[0mtrain_loss\u001b[0m\u001b[0;34m)\u001b[0m\u001b[0;34m\u001b[0m\u001b[0;34m\u001b[0m\u001b[0m\n",
      "\u001b[0;32m<ipython-input-23-902d0e26b709>\u001b[0m in \u001b[0;36mtrainer\u001b[0;34m(device, model, iterator, optimizer, criterion, clip)\u001b[0m\n\u001b[1;32m     11\u001b[0m         \u001b[0mtorch\u001b[0m\u001b[0;34m.\u001b[0m\u001b[0mnn\u001b[0m\u001b[0;34m.\u001b[0m\u001b[0mutils\u001b[0m\u001b[0;34m.\u001b[0m\u001b[0mclip_grad_norm_\u001b[0m\u001b[0;34m(\u001b[0m\u001b[0mmodel\u001b[0m\u001b[0;34m.\u001b[0m\u001b[0mparameters\u001b[0m\u001b[0;34m(\u001b[0m\u001b[0;34m)\u001b[0m\u001b[0;34m,\u001b[0m \u001b[0mclip\u001b[0m\u001b[0;34m)\u001b[0m\u001b[0;34m\u001b[0m\u001b[0;34m\u001b[0m\u001b[0m\n\u001b[1;32m     12\u001b[0m         \u001b[0moptimizer\u001b[0m\u001b[0;34m.\u001b[0m\u001b[0mstep\u001b[0m\u001b[0;34m(\u001b[0m\u001b[0;34m)\u001b[0m\u001b[0;34m\u001b[0m\u001b[0;34m\u001b[0m\u001b[0m\n\u001b[0;32m---> 13\u001b[0;31m         \u001b[0mepoch_loss\u001b[0m \u001b[0;34m+=\u001b[0m \u001b[0mloss\u001b[0m\u001b[0;34m.\u001b[0m\u001b[0mitem\u001b[0m\u001b[0;34m(\u001b[0m\u001b[0;34m)\u001b[0m\u001b[0;34m\u001b[0m\u001b[0;34m\u001b[0m\u001b[0m\n\u001b[0m\u001b[1;32m     14\u001b[0m \u001b[0;34m\u001b[0m\u001b[0m\n\u001b[1;32m     15\u001b[0m     \u001b[0;32mreturn\u001b[0m \u001b[0mepoch_loss\u001b[0m \u001b[0;34m/\u001b[0m \u001b[0mlen\u001b[0m\u001b[0;34m(\u001b[0m\u001b[0miterator\u001b[0m\u001b[0;34m)\u001b[0m\u001b[0;34m\u001b[0m\u001b[0;34m\u001b[0m\u001b[0m\n",
      "\u001b[0;31mKeyboardInterrupt\u001b[0m: "
     ]
    }
   ],
   "source": [
    "error_nn=[]\n",
    "n_passes_not_saved = 0\n",
    "\n",
    "for epoch in range(epochs):\n",
    "\n",
    "    start_time = time.time()\n",
    "    \n",
    "    train_size = int(0.8 * len(full_dataset))\n",
    "    test_size = len(full_dataset) - train_size\n",
    "    train_dataset, test_dataset = torch.utils.data.random_split(full_dataset, [train_size, test_size])\n",
    "    train_iterator = torch.utils.data.DataLoader(train_dataset, \n",
    "                                                 batch_size=128, shuffle=False, num_workers=0)\n",
    "    valid_iterator = torch.utils.data.DataLoader(test_dataset,\n",
    "                                                 batch_size=128, shuffle=False, num_workers=0)\n",
    "    \n",
    "    start_time = time.time()\n",
    "    \n",
    "    train_loss = trainer(device, model, train_iterator, optimizer, criterion)\n",
    "    valid_loss = evaluator(device, model, valid_iterator, criterion)\n",
    "    error_nn.append(train_loss)\n",
    "    \n",
    "    end_time = time.time()\n",
    "    epoch_mins, epoch_secs = epoch_time(start_time, end_time)\n",
    "    \n",
    "    print(f'Epoch: {epoch+1:02} | Time: {epoch_mins}m {epoch_secs}s Train Loss: {train_loss:.3f} Val. Loss: {valid_loss:.3f}')\n",
    "    \n",
    "    if valid_loss < best_valid_loss:\n",
    "        best_valid_loss = valid_loss\n",
    "        torch.save(model.state_dict(), model_fn)\n",
    "        print('saved', model_fn)\n",
    "        print()\n",
    "        n_passes_not_saved = 0\n",
    "    else:\n",
    "        n_passes_not_saved += 1\n",
    "    \n",
    "    if n_passes_not_saved > 50:\n",
    "        for g in optimizer.param_groups:\n",
    "            g['lr'] *= 0.998\n",
    "        print(f\"learning rate is now {g['lr']:.8f}\")\n",
    "        n_passes_not_saved = 0"
   ]
  },
  {
   "cell_type": "code",
   "execution_count": 29,
   "metadata": {},
   "outputs": [
    {
     "data": {
      "text/plain": [
       "[<matplotlib.lines.Line2D at 0x7faf14362a30>]"
      ]
     },
     "execution_count": 29,
     "metadata": {},
     "output_type": "execute_result"
    },
    {
     "data": {
      "image/png": "[encoded data removed]",
      "text/plain": [
       "<Figure size 432x288 with 1 Axes>"
      ]
     },
     "metadata": {
      "needs_background": "light"
     },
     "output_type": "display_data"
    }
   ],
   "source": [
    "plot(error_nn)"
   ]
  },
  {
   "cell_type": "code",
   "execution_count": 30,
   "metadata": {},
   "outputs": [],
   "source": [
    "torch.save(model.state_dict(), model_fn)"
   ]
  },
  {
   "cell_type": "code",
   "execution_count": null,
   "metadata": {},
   "outputs": [],
   "source": []
  }
 ],
 "metadata": {
  "kernelspec": {
   "display_name": "openasr",
   "language": "python",
   "name": "openasr"
  },
  "language_info": {
   "codemirror_mode": {
    "name": "ipython",
    "version": 3
   },
   "file_extension": ".py",
   "mimetype": "text/x-python",
   "name": "python",
   "nbconvert_exporter": "python",
   "pygments_lexer": "ipython3",
   "version": "3.8.5"
  }
 },
 "nbformat": 4,
 "nbformat_minor": 4
}
