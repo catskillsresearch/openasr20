{
 "cells": [
  {
   "cell_type": "code",
   "execution_count": 1,
   "metadata": {},
   "outputs": [
    {
     "data": {
      "text/html": [
       "<style>.container { width:100% !important; }</style>"
      ],
      "text/plain": [
       "<IPython.core.display.HTML object>"
      ]
     },
     "metadata": {},
     "output_type": "display_data"
    }
   ],
   "source": [
    "from IPython.core.display import display, HTML\n",
    "display(HTML(\"<style>.container { width:100% !important; }</style>\"))"
   ]
  },
  {
   "cell_type": "code",
   "execution_count": 2,
   "metadata": {},
   "outputs": [],
   "source": [
    "from glob import glob\n",
    "import os, json\n",
    "import soundfile as sf\n",
    "\n",
    "from Disturb import Disturb\n",
    "\n",
    "language='vietnamese'\n",
    "sample_rate=16000\n",
    "disturb=Disturb(sample_rate)\n",
    "augment_dir=f'NIST/openasr20_{language}/build/audio_augment'\n",
    "os.system(f'mkdir -p {augment_dir}')\n",
    "audio_fns=glob(f'NIST/openasr20_{language}/build/audio_split/*.wav')\n",
    "manifest=[]\n",
    "trans_fns=[audio_fn.replace('.wav','.txt').replace('audio_', 'transcription_') for audio_fn in audio_fns]\n",
    "for (audio_fn, trans_fn) in zip(audio_fns, trans_fns):\n",
    "    sample_segment = segment.AudioSegment.from_file(audio_fn, target_sr=sample_rate)\n",
    "    duration=sample_segment.samples.shape[0]/sample_rate\n",
    "    with open(trans_fn, 'r', encoding='utf-8') as f: gold = f.read()\n",
    "    manifest.append({\"audio_filepath\": audio_fn, \"duration\": duration, \"text\": gold})\n",
    "    for i in range(10):\n",
    "        disturbed=disturb(sample_segment)\n",
    "        dist_duration=disturbed.samples.shape[0]/sample_rate\n",
    "        dist_audio_fn=audio_fn.replace('audio_split', 'audio_augment').replace('.wav', f'_{i+1:02d}.wav')\n",
    "        sf.write(dist_audio_fn, disturbed.samples, sample_rate)\n",
    "        manifest.append({\"audio_filepath\": dist_audio_fn, \"duration\": dist_duration, \"text\": gold})\n",
    "\n",
    "manifest_fn=f'NIST/openasr20_{language}/build/all_manifest.json'\n",
    "with open(manifest_fn, 'w', encoding='utf-8') as f_manifest:\n",
    "    for metadata in manifest:\n",
    "        json.dump(metadata, f_manifest)\n",
    "        f_manifest.write('\\n')\n",
    "print('saved', manifest_fn)"
   ]
  },
  {
   "cell_type": "code",
   "execution_count": null,
   "metadata": {},
   "outputs": [],
   "source": []
  }
 ],
 "metadata": {
  "accelerator": "GPU",
  "colab": {
   "collapsed_sections": [],
   "name": "05_Online_Noise_Augmentation.ipynb",
   "provenance": [],
   "toc_visible": true
  },
  "kernelspec": {
   "display_name": "Python 3",
   "language": "python",
   "name": "python3"
  },
  "language_info": {
   "codemirror_mode": {
    "name": "ipython",
    "version": 3
   },
   "file_extension": ".py",
   "mimetype": "text/x-python",
   "name": "python",
   "nbconvert_exporter": "python",
   "pygments_lexer": "ipython3",
   "version": "3.7.9"
  }
 },
 "nbformat": 4,
 "nbformat_minor": 4
}
