{
 "cells": [
  {
   "cell_type": "code",
   "execution_count": 1,
   "metadata": {},
   "outputs": [
    {
     "data": {
      "text/html": [
       "<style>.container { width:100% !important; }</style>"
      ],
      "text/plain": [
       "<IPython.core.display.HTML object>"
      ]
     },
     "metadata": {},
     "output_type": "display_data"
    }
   ],
   "source": [
    "from IPython.core.display import display, HTML\n",
    "display(HTML(\"<style>.container { width:100% !important; }</style>\"))\n",
    "%load_ext autoreload\n",
    "%autoreload 2"
   ]
  },
  {
   "cell_type": "code",
   "execution_count": 2,
   "metadata": {},
   "outputs": [],
   "source": [
    "%matplotlib inline\n",
    "import matplotlib.pylab as plt"
   ]
  },
  {
   "cell_type": "code",
   "execution_count": 3,
   "metadata": {},
   "outputs": [],
   "source": [
    "from glob import glob\n",
    "import json, sys, os, librosa\n",
    "import numpy as np\n",
    "import pandas as pd\n",
    "from tqdm.notebook import tqdm"
   ]
  },
  {
   "cell_type": "code",
   "execution_count": 50,
   "metadata": {},
   "outputs": [],
   "source": [
    "from config import C\n",
    "C.language='amharic'\n",
    "C.extension='_gradscaler'\n",
    "C.batch_size=12\n",
    "C.save_every = 5\n",
    "C.start_from = 241\n",
    "C.update()"
   ]
  },
  {
   "cell_type": "code",
   "execution_count": 6,
   "metadata": {},
   "outputs": [],
   "source": [
    "files=glob(f'{C.nr_dir}/*')\n",
    "n_samples=len(files)\n",
    "samples=list(sorted([(librosa.load(audio_file, sr=C.sample_rate)[0].shape[0], audio_file) for audio_file in files]))"
   ]
  },
  {
   "cell_type": "code",
   "execution_count": 7,
   "metadata": {},
   "outputs": [
    {
     "data": {
      "text/plain": [
       "[(897,\n",
       "  'NIST/openasr20_amharic/build/audio_split_8000/BABEL_OP3_307_25767_20140403_234644_inLine_055_423.635_424.045.wav'),\n",
       " (932,\n",
       "  'NIST/openasr20_amharic/build/audio_split_8000/BABEL_OP3_307_71263_20140602_180728_inLine_048_331.265_331.655.wav')]"
      ]
     },
     "execution_count": 7,
     "metadata": {},
     "output_type": "execute_result"
    }
   ],
   "source": [
    "samples[0:2]"
   ]
  },
  {
   "cell_type": "code",
   "execution_count": 32,
   "metadata": {},
   "outputs": [
    {
     "data": {
      "text/plain": [
       "<matplotlib.collections.PathCollection at 0x7f1a19160190>"
      ]
     },
     "execution_count": 32,
     "metadata": {},
     "output_type": "execute_result"
    },
    {
     "data": {
      "image/png": "[encoded data removed]",
      "text/plain": [
       "<Figure size 720x288 with 1 Axes>"
      ]
     },
     "metadata": {
      "needs_background": "light"
     },
     "output_type": "display_data"
    }
   ],
   "source": [
    "plt.figure(figsize=(10,4))\n",
    "plt.plot([x[0]/C.sample_rate for x in samples]);\n",
    "plt.ylabel('seconds')\n",
    "plt.xlabel('sample index')\n",
    "plt.scatter([4842],[samples[4841][0]/C.sample_rate], color='red')"
   ]
  },
  {
   "cell_type": "code",
   "execution_count": 33,
   "metadata": {},
   "outputs": [
    {
     "data": {
      "text/plain": [
       "17530"
      ]
     },
     "execution_count": 33,
     "metadata": {},
     "output_type": "execute_result"
    }
   ],
   "source": [
    "max_trained_phrase_length_in_samples=samples[4841][0]\n",
    "max_trained_phrase_length_in_samples"
   ]
  },
  {
   "cell_type": "code",
   "execution_count": 38,
   "metadata": {},
   "outputs": [],
   "source": [
    "with open(f'{C.analysis_dir}/max_trained_phrase_length_in_samples.json', 'w') as f:\n",
    "    json.dump(max_trained_phrase_length_in_samples, f)"
   ]
  },
  {
   "cell_type": "code",
   "execution_count": 45,
   "metadata": {},
   "outputs": [
    {
     "data": {
      "text/plain": [
       "{'stage': 'NIST',\n",
       " 'sample_rate': 8000,\n",
       " 'batch_size': 12,\n",
       " 'n_epochs': 3,\n",
       " 'save_every': 5,\n",
       " 'extension': '_gradscaler',\n",
       " 'language': 'amharic',\n",
       " 'start_from': 241,\n",
       " 'model_name': 'amharic_8000_end2end_asr_pytorch_drop0.1_cnn_batch12_4_vgg_layer4_gradscaler',\n",
       " 'model_dir': 'save/amharic_8000_end2end_asr_pytorch_drop0.1_cnn_batch12_4_vgg_layer4_gradscaler',\n",
       " 'best_model': 'save/amharic_8000_end2end_asr_pytorch_drop0.1_cnn_batch12_4_vgg_layer4_gradscaler/best_model.th',\n",
       " 'analysis_dir': 'analysis/amharic',\n",
       " 'grapheme_dictionary_fn': 'analysis/amharic/amharic_characters.json',\n",
       " 'build_dir': 'NIST/openasr20_amharic/build',\n",
       " 'split_dir': 'NIST/openasr20_amharic/build/audio_split',\n",
       " 'nr_dir': 'NIST/openasr20_amharic/build/audio_split_8000',\n",
       " 'stm_dir': 'NIST/openasr20_amharic/build/transcription_stm',\n",
       " 'max_trained_samples_fn': 'analysis/amharic/max_trained_phrase_length_in_samples.json'}"
      ]
     },
     "execution_count": 45,
     "metadata": {},
     "output_type": "execute_result"
    }
   ],
   "source": [
    "vars(C)"
   ]
  },
  {
   "cell_type": "code",
   "execution_count": 47,
   "metadata": {},
   "outputs": [
    {
     "data": {
      "text/plain": [
       "17530"
      ]
     },
     "execution_count": 47,
     "metadata": {},
     "output_type": "execute_result"
    }
   ],
   "source": [
    "with open(C.max_trained_samples_fn,'r') as f: \n",
    "    foo=json.load(f)\n",
    "foo"
   ]
  },
  {
   "cell_type": "code",
   "execution_count": 53,
   "metadata": {},
   "outputs": [
    {
     "data": {
      "text/plain": [
       "17530"
      ]
     },
     "execution_count": 53,
     "metadata": {},
     "output_type": "execute_result"
    }
   ],
   "source": [
    "C.max_trained_sample()"
   ]
  },
  {
   "cell_type": "code",
   "execution_count": null,
   "metadata": {},
   "outputs": [],
   "source": []
  }
 ],
 "metadata": {
  "kernelspec": {
   "display_name": "openasr",
   "language": "python",
   "name": "openasr"
  },
  "language_info": {
   "codemirror_mode": {
    "name": "ipython",
    "version": 3
   },
   "file_extension": ".py",
   "mimetype": "text/x-python",
   "name": "python",
   "nbconvert_exporter": "python",
   "pygments_lexer": "ipython3",
   "version": "3.8.3"
  }
 },
 "nbformat": 4,
 "nbformat_minor": 4
}
