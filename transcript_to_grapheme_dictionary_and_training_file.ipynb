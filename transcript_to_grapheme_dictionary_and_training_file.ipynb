{
 "cells": [
  {
   "cell_type": "markdown",
   "metadata": {},
   "source": [
    "# Transcript to grapheme dictionary and training file"
   ]
  },
  {
   "cell_type": "code",
   "execution_count": 1,
   "metadata": {},
   "outputs": [
    {
     "data": {
      "text/html": [
       "<style>.container { width:100% !important; }</style>"
      ],
      "text/plain": [
       "<IPython.core.display.HTML object>"
      ]
     },
     "metadata": {},
     "output_type": "display_data"
    }
   ],
   "source": [
    "from IPython.core.display import display, HTML\n",
    "display(HTML(\"<style>.container { width:100% !important; }</style>\"))"
   ]
  },
  {
   "cell_type": "code",
   "execution_count": 2,
   "metadata": {},
   "outputs": [],
   "source": [
    "%load_ext autoreload\n",
    "%autoreload 2\n",
    "%matplotlib inline"
   ]
  },
  {
   "cell_type": "code",
   "execution_count": 4,
   "metadata": {},
   "outputs": [],
   "source": [
    "from glob import glob\n",
    "import os\n",
    "from matplotlib.pylab import *\n",
    "import librosa\n",
    "import torch\n",
    "from epoch_time import epoch_time\n",
    "from tqdm.notebook import tqdm\n",
    "from txt_to_stm import txt_to_stm\n",
    "import pandas as pd\n",
    "import numpy as np\n",
    "from padarray import padarray\n",
    "from to_samples import to_samples\n",
    "from torch.utils.data import TensorDataset, DataLoader\n",
    "import audioread\n",
    "import random\n",
    "import soundfile as sf\n",
    "from pathlib import Path"
   ]
  },
  {
   "cell_type": "code",
   "execution_count": 5,
   "metadata": {},
   "outputs": [
    {
     "data": {
      "text/plain": [
       "'/home/catskills/Desktop/openasr20'"
      ]
     },
     "execution_count": 5,
     "metadata": {},
     "output_type": "execute_result"
    }
   ],
   "source": [
    "os.getcwd()"
   ]
  },
  {
   "cell_type": "code",
   "execution_count": 6,
   "metadata": {},
   "outputs": [],
   "source": [
    "stage='NIST'\n",
    "sample_rate=8000\n",
    "window = sample_rate\n",
    "H=window"
   ]
  },
  {
   "cell_type": "markdown",
   "metadata": {},
   "source": [
    "## Grapheme dictionary"
   ]
  },
  {
   "cell_type": "code",
   "execution_count": 6,
   "metadata": {},
   "outputs": [
    {
     "data": {
      "text/plain": [
       "122"
      ]
     },
     "execution_count": 6,
     "metadata": {},
     "output_type": "execute_result"
    }
   ],
   "source": [
    "transcripts = list(sorted(glob(f'{stage}/*/build/transcription/*.txt')))\n",
    "len(transcripts)"
   ]
  },
  {
   "cell_type": "code",
   "execution_count": 14,
   "metadata": {},
   "outputs": [],
   "source": [
    "T=[]\n",
    "for transcript_file in transcripts:\n",
    "    file = \"_\".join(os.path.basename(transcript_file).split(\"_\")[:-1])\n",
    "    channel = os.path.basename(transcript_file).split(\"_\")[-1].split(\".\")[-2]\n",
    "    transcript_df = pd.read_csv(transcript_file, sep = \"\\n\", header = None, names = [\"content\"])\n",
    "    result = [x[-1] for x in txt_to_stm(transcript_df, file, channel) if len(x)==6]\n",
    "    T.append(''.join(result))"
   ]
  },
  {
   "cell_type": "code",
   "execution_count": 20,
   "metadata": {},
   "outputs": [],
   "source": [
    "vocab=list(set(''.join(T)))"
   ]
  },
  {
   "cell_type": "code",
   "execution_count": 21,
   "metadata": {},
   "outputs": [],
   "source": [
    "import json\n",
    "with open('amharic_characters.json','w') as f:\n",
    "    json.dump(vocab, f)"
   ]
  },
  {
   "cell_type": "markdown",
   "metadata": {},
   "source": [
    "## Training file"
   ]
  },
  {
   "cell_type": "code",
   "execution_count": 7,
   "metadata": {},
   "outputs": [
    {
     "data": {
      "text/plain": [
       "10777"
      ]
     },
     "execution_count": 7,
     "metadata": {},
     "output_type": "execute_result"
    }
   ],
   "source": [
    "chunks = list(sorted(glob(f'{stage}/*/build/transcription_split/*.txt')))\n",
    "len(chunks)"
   ]
  },
  {
   "cell_type": "code",
   "execution_count": 14,
   "metadata": {},
   "outputs": [],
   "source": [
    "L=[]\n",
    "for text in chunks:\n",
    "    text=chunks[0]\n",
    "    audio=chunk.replace('transcription','audio').replace('txt', 'wav')\n",
    "    L.append(f'{audio},{text}')"
   ]
  },
  {
   "cell_type": "code",
   "execution_count": 15,
   "metadata": {},
   "outputs": [],
   "source": [
    "L='\\n'.join(L)"
   ]
  },
  {
   "cell_type": "code",
   "execution_count": 20,
   "metadata": {},
   "outputs": [],
   "source": [
    "man_fn='amharic_manifest.csv'\n",
    "with open(man_fn,'w') as f:\n",
    "    f.write(L)"
   ]
  }
 ],
 "metadata": {
  "kernelspec": {
   "display_name": "openasr",
   "language": "python",
   "name": "openasr"
  },
  "language_info": {
   "codemirror_mode": {
    "name": "ipython",
    "version": 3
   },
   "file_extension": ".py",
   "mimetype": "text/x-python",
   "name": "python",
   "nbconvert_exporter": "python",
   "pygments_lexer": "ipython3",
   "version": "3.8.3"
  }
 },
 "nbformat": 4,
 "nbformat_minor": 4
}
