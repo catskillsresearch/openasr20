{
 "cells": [
  {
   "cell_type": "code",
   "execution_count": 1,
   "metadata": {},
   "outputs": [],
   "source": [
    "from glob import glob\n",
    "import os\n",
    "import pandas as pd"
   ]
  },
  {
   "cell_type": "code",
   "execution_count": 35,
   "metadata": {},
   "outputs": [],
   "source": [
    "keys = glob('*.txt')"
   ]
  },
  {
   "cell_type": "code",
   "execution_count": 36,
   "metadata": {},
   "outputs": [
    {
     "name": "stdout",
     "output_type": "stream",
     "text": [
      "openssl enc -d -md sha256 -aes-256-cbc -pass pass:yPZ+FoRmlgT3ymyhBIzVpQ/wzufehLy8VGMZKr5hplo= -in openasr20_pashto_build_v1.0.tgz.openssl -out openasr20_pashto_build_v1.0.tgz\n",
      "tar xvfz openasr20_pashto_build_v1.0.tgz\n",
      "openssl enc -d -md sha256 -aes-256-cbc -pass pass:JY3M9k1+G4sRjYXk+y6utiGSCbOLEasSYnHS8dH4Xr4= -in openasr20_pashto_dev_v1.0.tgz.openssl -out openasr20_pashto_dev_v1.0.tgz\n",
      "tar xvfz openasr20_pashto_dev_v1.0.tgz\n",
      "openssl enc -d -md sha256 -aes-256-cbc -pass pass:GU0Qii7XBa3vZ8njn8zQ3dXu8VpeOSvJRvNmJqlRhbI= -in openasr20_amharic_build_v1.0.tgz.openssl -out openasr20_amharic_build_v1.0.tgz\n",
      "tar xvfz openasr20_amharic_build_v1.0.tgz\n",
      "openssl enc -d -md sha256 -aes-256-cbc -pass pass:VSLhFiaEGqHtrVQKyziVv8n/qm4TCuWbI2FBQ4EMi0U= -in openasr20_amharic_dev_v1.0.tgz.openssl -out openasr20_amharic_dev_v1.0.tgz\n",
      "tar xvfz openasr20_amharic_dev_v1.0.tgz\n",
      "openssl enc -d -md sha256 -aes-256-cbc -pass pass:oxyo8bI9n5qJZ8r7OSjMaaiaHziGuO6LtdSep/TAxQg= -in openasr20_cantonese_build_v1.0.tgz.openssl -out openasr20_cantonese_build_v1.0.tgz\n",
      "tar xvfz openasr20_cantonese_build_v1.0.tgz\n",
      "openssl enc -d -md sha256 -aes-256-cbc -pass pass:/heZAzyd6zlSTvjubpX9J/opasU+QLkPEkQV9wdOUHg= -in openasr20_cantonese_dev_v1.0.tgz.openssl -out openasr20_cantonese_dev_v1.0.tgz\n",
      "tar xvfz openasr20_cantonese_dev_v1.0.tgz\n",
      "openssl enc -d -md sha256 -aes-256-cbc -pass pass:p/hHkTCqRerc51K+JqWPHBR+UwL9EBZ6AA54IvxqetE= -in openasr20_guarani_build_v1.0.tgz.openssl -out openasr20_guarani_build_v1.0.tgz\n",
      "tar xvfz openasr20_guarani_build_v1.0.tgz\n",
      "openssl enc -d -md sha256 -aes-256-cbc -pass pass:dPOeOhFp91x1aLLALQVQGIomIj2qlFQWiSZQVQbu3+4= -in openasr20_guarani_dev_v1.0.tgz.openssl -out openasr20_guarani_dev_v1.0.tgz\n",
      "tar xvfz openasr20_guarani_dev_v1.0.tgz\n",
      "openssl enc -d -md sha256 -aes-256-cbc -pass pass:oVgi/4BqVv0RWlAfQc2t78dCfgmSmi2l3OiReh+lwjU= -in openasr20_javanese_build_v1.0.tgz.openssl -out openasr20_javanese_build_v1.0.tgz\n",
      "tar xvfz openasr20_javanese_build_v1.0.tgz\n",
      "openssl enc -d -md sha256 -aes-256-cbc -pass pass:4S2W7dRwQmIWQ8JWeA9/iKPG70dpJbS978gxv3hMC9U= -in openasr20_javanese_dev_v1.0.tgz.openssl -out openasr20_javanese_dev_v1.0.tgz\n",
      "tar xvfz openasr20_javanese_dev_v1.0.tgz\n",
      "openssl enc -d -md sha256 -aes-256-cbc -pass pass:mj9p2gj03ctSSAOlTZasg8IXaG9xmGFVpfc6ZLpWkAQ= -in openasr20_kurmanji-kurdish_build_v1.0.tgz.openssl -out openasr20_kurmanji-kurdish_build_v1.0.tgz\n",
      "tar xvfz openasr20_kurmanji-kurdish_build_v1.0.tgz\n",
      "openssl enc -d -md sha256 -aes-256-cbc -pass pass:YcjAUvP6Q1f4WKNyEHtRyicBc9L7INaG3C9qlBdC4L0= -in openasr20_kurmanji-kurdish_dev_v1.0.tgz.openssl -out openasr20_kurmanji-kurdish_dev_v1.0.tgz\n",
      "tar xvfz openasr20_kurmanji-kurdish_dev_v1.0.tgz\n",
      "openssl enc -d -md sha256 -aes-256-cbc -pass pass:5jdDEKY0uUZpbyftJ4lLPOBJmzmOTbDa2iZmDDDretk= -in openasr20_mongolian_build_v1.0.tgz.openssl -out openasr20_mongolian_build_v1.0.tgz\n",
      "tar xvfz openasr20_mongolian_build_v1.0.tgz\n",
      "openssl enc -d -md sha256 -aes-256-cbc -pass pass:+g/s+MBN/ORlvlHh7ftmibgPJHubaXCULj+N+dtrAOE= -in openasr20_mongolian_dev_v1.0.tgz.openssl -out openasr20_mongolian_dev_v1.0.tgz\n",
      "tar xvfz openasr20_mongolian_dev_v1.0.tgz\n",
      "openssl enc -d -md sha256 -aes-256-cbc -pass pass:ZuhPyt7dfMYNo/iSwBoea/O0jFc60Vk+C1iEMOAk7sM= -in openasr20_somali_build_v1.0.tgz.openssl -out openasr20_somali_build_v1.0.tgz\n",
      "tar xvfz openasr20_somali_build_v1.0.tgz\n",
      "openssl enc -d -md sha256 -aes-256-cbc -pass pass:7QTKynVY7GOJ6xJtSzIx30uxneML+nJ6kmSrO8EaGbY= -in openasr20_somali_dev_v1.0.tgz.openssl -out openasr20_somali_dev_v1.0.tgz\n",
      "tar xvfz openasr20_somali_dev_v1.0.tgz\n",
      "openssl enc -d -md sha256 -aes-256-cbc -pass pass:FoHFTarTJJDu2rsghm8W7d6Zj6cQFeBNBCicTLpNjGk= -in openasr20_tamil_build_v1.0.tgz.openssl -out openasr20_tamil_build_v1.0.tgz\n",
      "tar xvfz openasr20_tamil_build_v1.0.tgz\n",
      "openssl enc -d -md sha256 -aes-256-cbc -pass pass:e6BoIJrg4rjupb8TJKswRaGHj/1bSFimzgWyRA+R3KU= -in openasr20_tamil_dev_v1.0.tgz.openssl -out openasr20_tamil_dev_v1.0.tgz\n",
      "tar xvfz openasr20_tamil_dev_v1.0.tgz\n",
      "openssl enc -d -md sha256 -aes-256-cbc -pass pass:NbZml34J7zqnhhat06Os9ISzXmyOTeH3r09Ebup37og= -in openasr20_vietnamese_build_v1.0.tgz.openssl -out openasr20_vietnamese_build_v1.0.tgz\n",
      "tar xvfz openasr20_vietnamese_build_v1.0.tgz\n",
      "openssl enc -d -md sha256 -aes-256-cbc -pass pass:svqEkMEXqLy6X2MWyuH6ldaIQbHKOphwAsA5Je+SwLM= -in openasr20_vietnamese_dev_v1.0.tgz.openssl -out openasr20_vietnamese_dev_v1.0.tgz\n",
      "tar xvfz openasr20_vietnamese_dev_v1.0.tgz\n"
     ]
    }
   ],
   "source": [
    "for key in keys:\n",
    "    KEYS = pd.read_csv(key,sep=\"\\t\")\n",
    "    for fn, decryption_key in KEYS[['filename', 'decryption_key']].values:\n",
    "        decr=fn[0:-8]\n",
    "        c1=f\"openssl enc -d -md sha256 -aes-256-cbc -pass pass:{decryption_key} -in {fn} -out {decr}\"\n",
    "        print(c1)\n",
    "        os.system(c1)\n",
    "        c2=f\"tar xvfz {decr}\"\n",
    "        print(c2)\n",
    "        os.system(c2)"
   ]
  }
 ],
 "metadata": {
  "kernelspec": {
   "display_name": "openasr",
   "language": "python",
   "name": "openasr"
  },
  "language_info": {
   "codemirror_mode": {
    "name": "ipython",
    "version": 3
   },
   "file_extension": ".py",
   "mimetype": "text/x-python",
   "name": "python",
   "nbconvert_exporter": "python",
   "pygments_lexer": "ipython3",
   "version": "3.8.3"
  }
 },
 "nbformat": 4,
 "nbformat_minor": 4
}
